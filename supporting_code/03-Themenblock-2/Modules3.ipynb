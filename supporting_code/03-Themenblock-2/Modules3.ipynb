{
 "cells": [
  {
   "cell_type": "markdown",
   "id": "cd654239-c9e9-4715-b4de-df26689e06ba",
   "metadata": {},
   "source": [
    "# Beispiel 3 - Module"
   ]
  },
  {
   "cell_type": "code",
   "execution_count": 1,
   "id": "f526a396-f6b5-4dce-884f-b2d0e25661a9",
   "metadata": {},
   "outputs": [
    {
     "data": {
      "text/plain": [
       ":log"
      ]
     },
     "execution_count": 1,
     "metadata": {},
     "output_type": "execute_result"
    }
   ],
   "source": [
    "module ClassLogger\n",
    "\n",
    "  def log(msg)\n",
    "    \"[#{self.class}] #{msg}\"\n",
    "  end\n",
    "\n",
    "end\n",
    "\n",
    "class User\n",
    "\n",
    "  include ClassLogger\n",
    "\n",
    "  def log(msg)\n",
    "    \"[#{Time.now.to_f.to_s}] #{super(msg)}\"\n",
    "  end\n",
    "\n",
    "end\n",
    "\n",
    "class Company\n",
    "\n",
    "  prepend ClassLogger\n",
    "\n",
    "  def log(msg)\n",
    "    \"[#{Time.now.to_f.to_s}] #{super(msg)}\"\n",
    "  end\n",
    "\n",
    "end"
   ]
  },
  {
   "cell_type": "code",
   "execution_count": 2,
   "id": "2c17dc2b-de4c-4ee1-bf85-05a56f2aa752",
   "metadata": {},
   "outputs": [
    {
     "name": "stdout",
     "output_type": "stream",
     "text": [
      "[1642262872.4084074] [#<Class:0x0000561cda138c40>::User] hi\n",
      "[#<Class:0x0000561cda138c40>::Company] hi\n",
      "\n",
      "Vorfahren User:\n",
      "#<Class:0x0000561cda138c40>::User\n",
      "#<Class:0x0000561cda138c40>::ClassLogger\n",
      "Object\n",
      "PP::ObjectMixin\n",
      "JSON::Ext::Generator::GeneratorMethods::Object\n",
      "Kernel\n",
      "BasicObject\n",
      "\n",
      "Vorfahren Company:\n",
      "#<Class:0x0000561cda138c40>::ClassLogger\n",
      "#<Class:0x0000561cda138c40>::Company\n",
      "Object\n",
      "PP::ObjectMixin\n",
      "JSON::Ext::Generator::GeneratorMethods::Object\n",
      "Kernel\n",
      "BasicObject\n"
     ]
    }
   ],
   "source": [
    "puts User.new.log(\"hi\")\n",
    "puts Company.new.log(\"hi\")\n",
    "\n",
    "puts \"\\nVorfahren User:\"\n",
    "puts User.ancestors\n",
    "\n",
    "puts \"\\nVorfahren Company:\"\n",
    "puts Company.ancestors\n",
    "\n",
    "# Company:\n",
    "# Die ClassLogger-Implementierung ruft nicht super auf, so dass die Kette dort endet,\n",
    "# weshalb wir nur diese bestimmte Ausgabe sehen.\n",
    "#\n",
    "# User:\n",
    "# Wenn User log aufruft, ruft es zuerst die User-Implementierung (das Zeit-Präfix) und dann super auf,\n",
    "# die dann die ClassLogger-Implementierung aufruft.\n",
    "# Deshalb sehen wir die String-Ausgabe mit der Zeit an erster und der Klasse an zweiter Stelle.\n",
    "#\n",
    "#\n",
    "# Zu Beginn haben wir gesagt, dass der Aufruf von include im Wesentlichen wie das Kopieren und Einfügen des Codes\n",
    "# in die Klasse ist. Das ist nicht ganz richtig. Wie wir sehen können,\n",
    "# wird der Code in die Klassenhierarchie in einer geordneten Weise eingefügt.\n",
    "# Das heißt, die Methoden werden der Klassenhierarchie nach der Klasse selbst hinzugefügt.\n",
    "#\n",
    "# prepend hingegen fügt der Klassenhierarchie vor der Klasse selbst hinzu."
   ]
  },
  {
   "cell_type": "code",
   "execution_count": null,
   "id": "06d117bc-6366-437b-9db4-65f45479ba03",
   "metadata": {},
   "outputs": [],
   "source": []
  }
 ],
 "metadata": {
  "kernelspec": {
   "display_name": "Ruby 3.0.2",
   "language": "ruby",
   "name": "ruby"
  },
  "language_info": {
   "file_extension": ".rb",
   "mimetype": "application/x-ruby",
   "name": "ruby",
   "version": "3.0.2"
  }
 },
 "nbformat": 4,
 "nbformat_minor": 5
}
