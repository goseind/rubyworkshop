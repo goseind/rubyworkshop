{
 "cells": [
  {
   "cell_type": "markdown",
   "id": "cd654239-c9e9-4715-b4de-df26689e06ba",
   "metadata": {},
   "source": [
    "# Beispiel 1 - Module"
   ]
  },
  {
   "cell_type": "code",
   "execution_count": 1,
   "id": "f526a396-f6b5-4dce-884f-b2d0e25661a9",
   "metadata": {},
   "outputs": [
    {
     "data": {
      "text/plain": [
       ":mailing_label"
      ]
     },
     "execution_count": 1,
     "metadata": {},
     "output_type": "execute_result"
    }
   ],
   "source": [
    "# Klasse User mit einer Addresse\n",
    "class User\n",
    "\n",
    "  attr_accessor :address_line1, :address_line2, :city, :state, :postal_code, :country\n",
    "\n",
    "  def mailing_label\n",
    "    label = []\n",
    "    label << address_line1\n",
    "    label << address_line2\n",
    "    label << \"#{city}, #{state} #{postal_code}\"\n",
    "    label << country\n",
    "    label.join(\"\\n\")\n",
    "  end\n",
    "\n",
    "end"
   ]
  },
  {
   "cell_type": "code",
   "execution_count": 2,
   "id": "9e9cd0ee-ea5f-47f6-803b-caafaa826667",
   "metadata": {},
   "outputs": [
    {
     "name": "stdout",
     "output_type": "stream",
     "text": [
      "123 Main Street\n",
      "987 Broadway\n",
      "123 Main Street\n",
      "48740\n",
      "987 Broadway\n",
      "48760\n"
     ]
    }
   ],
   "source": [
    "# Nehmen wir nun an, wir müssen unserer Anwendung das Konzept der Gebäude hinzufügen.\n",
    "# Gebäude sollten auch Adressen haben, die mit ihnen verbunden sind. Wir wollen uns nicht wiederholen,\n",
    "# aber dennoch sicherstellen, dass unsere Benutzerklasse und unsere Gebäudeklasse dieselbe Funktionalität haben.\n",
    "# Theoretisch könnten wir dies durch Vererbung erreichen, aber es macht keinen Sinn, die Klasse User und\n",
    "# die Klasse Building von einer Klasse Address abzuleiten, da sie keine \"Typen\" von Adressen sind.\n",
    "#\n",
    "# Stattdessen werden wir diese Funktionalität in ein Modul verpacken und es in beide Klassen einbauen.\n",
    "# Wie wir sehen können, werden Module mit dem Schlüsselwort module deklariert und mit dem\n",
    "# Schlüsselwort include in Klassen aufgenommen.\n",
    "# Die Definition von Methoden erfolgt auf ähnliche Weise wie innerhalb einer Klassendefinition.\n",
    "module Address\n",
    "\n",
    "  attr_accessor :address_line1, :address_line2, :city, :state, :postal_code, :country\n",
    "\n",
    "  def mailing_label\n",
    "    label = []\n",
    "    label << @address_line1\n",
    "    label << @address_line2\n",
    "    label << \"#{@city}, #{@state} #{@postal_code}\"\n",
    "    label << @country\n",
    "    label.join(\"\\n\")\n",
    "  end\n",
    "\n",
    "end\n",
    "\n",
    "class User\n",
    "\n",
    "  include Address\n",
    "\n",
    "end\n",
    "\n",
    "class Building\n",
    "\n",
    "  include Address\n",
    "\n",
    "end\n",
    "\n",
    "u = User.new\n",
    "b = Building.new\n",
    "u.address_line1 = \"123 Main Street\"\n",
    "b.address_line1 = \"987 Broadway\"\n",
    "puts u.address_line1\n",
    "puts b.address_line1\n",
    "\n",
    "puts u.instance_variable_get(\"@address_line1\")\n",
    "puts u.instance_variable_get(\"@address_line1\").object_id\n",
    "\n",
    "puts b.instance_variable_get(\"@address_line1\")\n",
    "puts b.instance_variable_get(\"@address_line1\").object_id\n",
    "\n",
    "# Es gibt einen wichtigen Punkt in der vorangegangenen Ausgabe.\n",
    "# Das Modul ist zwar derselbe Code und verweist im Wesentlichen auf eine Instanzvariable mit demselben Namen,\n",
    "# aber es handelt sich tatsächlich um eine völlig andere Objektinstanz.\n",
    "# Dies wird durch den Zugriff auf die Instanzvariable und die Ausgabe des Attributs object_id dieses Objekts deutlich.\n",
    "# Das object_id-Attribut eines jeden Objekts ist eine eindeutige ID, die von Ruby verwaltet wird.\n",
    "# Man kann sich das so vorstellen, dass Ruby den Modulcode kopiert und in die Klasse einfügt,\n",
    "# in die wir das Modul eingebunden haben.\n",
    "# Alle Variablen und der Code, die eingebunden werden, sind also in den verschiedenen Klassen,\n",
    "# in denen sie enthalten sind, getrennt."
   ]
  },
  {
   "cell_type": "code",
   "execution_count": null,
   "id": "32f0543e-6250-43eb-bd55-eae946ebbaf7",
   "metadata": {},
   "outputs": [],
   "source": []
  }
 ],
 "metadata": {
  "kernelspec": {
   "display_name": "Ruby 3.0.2",
   "language": "ruby",
   "name": "ruby"
  },
  "language_info": {
   "file_extension": ".rb",
   "mimetype": "application/x-ruby",
   "name": "ruby",
   "version": "3.0.2"
  }
 },
 "nbformat": 4,
 "nbformat_minor": 5
}
