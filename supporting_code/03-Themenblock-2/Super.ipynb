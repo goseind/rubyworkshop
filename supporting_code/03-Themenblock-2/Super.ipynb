{
 "cells": [
  {
   "cell_type": "markdown",
   "id": "8c20a6e7-0fc2-408f-9d35-147bdede30ce",
   "metadata": {},
   "source": [
    "# Beispiel - Super"
   ]
  },
  {
   "cell_type": "code",
   "execution_count": 1,
   "id": "47d15573-6671-4492-a940-62fa986bbe69",
   "metadata": {},
   "outputs": [
    {
     "name": "stdout",
     "output_type": "stream",
     "text": [
      "In Employee#initialize\n",
      "In User#initialize\n"
     ]
    },
    {
     "data": {
      "text/plain": [
       "#<#<Class:0x00005568e5dad240>::Employee:0x00005568e56032b0 @on_payroll=true, @name=\"Bob\", @address=\"1 Main street\">"
      ]
     },
     "execution_count": 1,
     "metadata": {},
     "output_type": "execute_result"
    }
   ],
   "source": [
    "# Möglichkeit 1 - Ohne Argumente\n",
    "# Argumente der aktuellen Methode werden implizit an die Version der Methode der Superklasse übergeben.\n",
    "# Bsp. zum debuggen:\n",
    "class User\n",
    "\n",
    "  attr_accessor :name, :address\n",
    "\n",
    "  def initialize(name, address)\n",
    "    puts \"In User#initialize\"\n",
    "    @name = name\n",
    "    @address = address\n",
    "  end\n",
    "\n",
    "end\n",
    "\n",
    "class Employee < User\n",
    "\n",
    "  attr_accessor :on_payroll\n",
    "\n",
    "  def initialize(name, address)\n",
    "    puts \"In Employee#initialize\"\n",
    "    @on_payroll = true\n",
    "    super\n",
    "  end\n",
    "\n",
    "end\n",
    "\n",
    "e = Employee.new(\"Bob\", \"1 Main street\")"
   ]
  },
  {
   "cell_type": "code",
   "execution_count": null,
   "id": "f42e332d-bf48-4b01-952b-326c15322b0f",
   "metadata": {},
   "outputs": [],
   "source": [
    "# Möglichkeit 2 - Mit Argumenten\n",
    "# Wenn die Argumente der Methode der Unterklasse nicht mit denen der Oberklasse übereinstimmen,\n",
    "# können Sie die Argumente explizit an die Oberklasse (und damit an die Initialisierungsmethode der Oberklasse) übergeben.\n",
    "# Manager ist eine Unterklasse von Employee, die ihrerseits eine Unterklasse von User ist.\n",
    "# Anschließend rufen wir super auf und übergeben einen expliziten Satz von Argumenten.\n",
    "# Dies geschieht normalerweise, wenn die Methodensignatur der Unterklasse eine andere Anzahl von Argumenten hat\n",
    "# als die Methodensignatur der Oberklasse:\n",
    "class Manager < Employee\n",
    "\n",
    "  attr_reader :department\n",
    "\n",
    "  def initialize(name, address, department)\n",
    "    @department = department\n",
    "    super(name, address)\n",
    "  end\n",
    "\n",
    "end\n",
    "\n",
    "m = Manager.new(\"Max\", \"2 Main Street\", \"Finance\")"
   ]
  },
  {
   "cell_type": "code",
   "execution_count": 4,
   "id": "ca575f87-db16-4c42-8fde-30b9b5224bf8",
   "metadata": {},
   "outputs": [
    {
     "name": "stdout",
     "output_type": "stream",
     "text": [
      "In User#initialize\n"
     ]
    },
    {
     "data": {
      "text/plain": [
       "#<#<Class:0x00005568e5dad240>::Employee:0x00005568e56a5948 @on_payroll=true, @name=\"Bob\", @address=\"125 Main Street\">"
      ]
     },
     "execution_count": 4,
     "metadata": {},
     "output_type": "execute_result"
    }
   ],
   "source": [
    "  # Möglichkeit 3 - Mit dem Splat-Operator\n",
    "  # Vorhin haben wir gesagt, dass beim Aufruf von super mit impliziten Argumenten die Signatur der Methode der Kindklasse\n",
    "  # mit der der Elternklasse übereinstimmen muss. Dies kann für eine Kindklasse etwas einschränkend oder umständlich sein,\n",
    "  # da sie immer die Signatur einer bestimmten Elternmethode kennen muss.\n",
    "  # Natürlich bietet Ruby mit dem so genannten \"naked splat operator\" eine Möglichkeit, dies zu umgehen.\n",
    "\n",
    "  # Hier enthält die Methodensignatur lediglich ein Sternchen (*), das auch als Splat-Operator bekannt ist.\n",
    "  # Wie wir im ersten Abschnitt gelernt haben, kann der Splat-Operator verwendet werden, um eine unterschiedliche Anzahl\n",
    "  # von Argumenten zu erfassen. Da wir die Variablen in der Methode der untergeordneten Klasse nicht benötigen,\n",
    "  # können wir sie als unbenannte Argumente erfassen, die automatisch an super übergeben werden.\n",
    "  class Employee < User\n",
    "\n",
    "    attr_accessor :on_payroll\n",
    "\n",
    "    def initialize(*)\n",
    "      @on_payroll = true\n",
    "      super\n",
    "    end\n",
    "\n",
    "  end\n",
    "\n",
    "#e2 = Employee.new(\"Bob\") #Fehler - wrong number of arguments (given 1, expected 2) (ArgumentError)\n",
    "e3 = Employee.new(\"Bob\", \"125 Main Street\")"
   ]
  }
 ],
 "metadata": {
  "kernelspec": {
   "display_name": "Ruby 3.0.2",
   "language": "ruby",
   "name": "ruby"
  },
  "language_info": {
   "file_extension": ".rb",
   "mimetype": "application/x-ruby",
   "name": "ruby",
   "version": "3.0.2"
  }
 },
 "nbformat": 4,
 "nbformat_minor": 5
}
