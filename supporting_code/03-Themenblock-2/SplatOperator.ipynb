{
 "cells": [
  {
   "cell_type": "markdown",
   "id": "274f40e5-611d-44af-90de-a8b40e841a6f",
   "metadata": {},
   "source": [
    "# Beispiel - SplatOperator"
   ]
  },
  {
   "cell_type": "code",
   "execution_count": 1,
   "id": "245a0e2a-2569-4f9e-beab-2599a8ffab52",
   "metadata": {},
   "outputs": [
    {
     "data": {
      "text/plain": [
       "#<#<Class:0x00005581922ba3b8>::Employee:0x0000558191b0a078 @on_payroll=true, @name=\"Mary\">"
      ]
     },
     "execution_count": 1,
     "metadata": {},
     "output_type": "execute_result"
    }
   ],
   "source": [
    "# Eine andere Möglichkeit, den nackten Splat-Operator zu verstehen, besteht darin, sich anzusehen, was passiert,\n",
    "# wenn man ihn nicht verwendet. Betrachten Sie die folgende Implementierung:\n",
    "class User\n",
    "\n",
    "  def initialize(name)\n",
    "    @name = name\n",
    "  end\n",
    "\n",
    "end\n",
    "\n",
    "class Employee < User\n",
    "\n",
    "  def initialize(name)\n",
    "    @on_payroll = true\n",
    "    super\n",
    "  end\n",
    "\n",
    "end\n",
    "\n",
    "Employee.new(\"Mary\")"
   ]
  },
  {
   "cell_type": "code",
   "execution_count": 2,
   "id": "1cc8201e-5423-4b6f-ab92-22d3c0cae1de",
   "metadata": {},
   "outputs": [
    {
     "ename": "ArgumentError",
     "evalue": "wrong number of arguments (given 1, expected 2)",
     "output_type": "error",
     "traceback": [
      "\u001b[31mArgumentError\u001b[0m: wrong number of arguments (given 1, expected 2)",
      "(irb):9:in `initialize'",
      "(irb):22:in `initialize'",
      "(irb):27:in `new'",
      "(irb):27:in `<top (required)>'"
     ]
    }
   ],
   "source": [
    "# Bis jetzt gibt es nichts Besonderes an dieser Implementierung. Die vorangegangene Verwendung ruft super ohne Argumente\n",
    "# auf und übergibt daher implizit das Argument name an die Initialisierungsmethode der Superklasse.\n",
    "\n",
    "# Stellen Sie sich jedoch vor, Sie arbeiten an einer großen Anwendung und es gibt viele Entwickler,\n",
    "# die ebenfalls an dieser Codebasis arbeiten. Ein anderer Entwickler möchte die Klasse User erweitern,\n",
    "# indem er einen Adresszugriffswert hinzufügt, wie folgt:\n",
    "\n",
    "class User\n",
    "\n",
    "  def initialize(name, address)\n",
    "    @name = name\n",
    "    @address = address\n",
    "  end\n",
    "\n",
    "end\n",
    "\n",
    "# Wenn wir nun eine Employee-Klasse mit der gleichen Implementierung wie zuvor instanziieren,\n",
    "# werden wir sehen, was passiert:\n",
    "class Employee < User\n",
    "\n",
    "  def initialize(name)\n",
    "    @on_payroll = true\n",
    "    super\n",
    "  end\n",
    "\n",
    "end\n",
    "\n",
    "Employee.new(\"Mary\")\n",
    "\n",
    "# Der Aufruf der Klasse Employee an super sendet dieselben Argumente an die Initialisierungsmethode der Klasse User\n",
    "# wie die Klasse Employee und übergibt daher nur ein Argument. Daher erhalten wir die vorstehende Fehlermeldung,\n",
    "# die uns mitteilt, dass wir die Argumente nicht korrekt übermitteln."
   ]
  },
  {
   "cell_type": "code",
   "execution_count": 3,
   "id": "867873dd-4502-4eac-a9d7-c53d58ff83bb",
   "metadata": {},
   "outputs": [
    {
     "data": {
      "text/plain": [
       "#<#<Class:0x00005581922ba3b8>::Employee:0x00005581919b3170 @on_payroll=true, @name=\"Mary\">"
      ]
     },
     "execution_count": 3,
     "metadata": {},
     "output_type": "execute_result"
    }
   ],
   "source": [
    "# Um dies zu beheben, könnten wir eine der folgenden Möglichkeiten nutzen:\n",
    "# 1. Aufruf von super mit expliziten Argumenten\n",
    "# 2. Verwendung des nackten Splat-Operators\n",
    "\n",
    "class User\n",
    "\n",
    "  def initialize(name)\n",
    "    @name = name\n",
    "  end\n",
    "\n",
    "end\n",
    "\n",
    "class Employee < User\n",
    "\n",
    "  def initialize(*)\n",
    "    @on_payroll = true\n",
    "    super\n",
    "  end\n",
    "end\n",
    "\n",
    "Employee.new(\"Mary\")"
   ]
  },
  {
   "cell_type": "code",
   "execution_count": null,
   "id": "ca13ce93-01f0-40c1-a181-a5fc12435b46",
   "metadata": {},
   "outputs": [],
   "source": []
  }
 ],
 "metadata": {
  "kernelspec": {
   "display_name": "Ruby 3.0.2",
   "language": "ruby",
   "name": "ruby"
  },
  "language_info": {
   "file_extension": ".rb",
   "mimetype": "application/x-ruby",
   "name": "ruby",
   "version": "3.0.2"
  }
 },
 "nbformat": 4,
 "nbformat_minor": 5
}
