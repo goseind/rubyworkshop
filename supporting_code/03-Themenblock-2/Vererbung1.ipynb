{
 "cells": [
  {
   "cell_type": "markdown",
   "id": "74a35b17-a796-475b-a1a2-7344bd8a1117",
   "metadata": {},
   "source": [
    "# Beispiel 1 - Vererbung"
   ]
  },
  {
   "cell_type": "code",
   "execution_count": 2,
   "id": "f4abdfe7-f0b8-46a8-bf83-09ac11a62069",
   "metadata": {},
   "outputs": [
    {
     "data": {
      "text/plain": [
       ":initialize"
      ]
     },
     "execution_count": 2,
     "metadata": {},
     "output_type": "execute_result"
    }
   ],
   "source": [
    "class User\n",
    "\n",
    "  @@roles = [\"Employee\", \"Manager\", \"Director\", \"Executive\"]\n",
    "  attr_reader :address\n",
    "\n",
    "  def self.roles\n",
    "    @@roles\n",
    "  end\n",
    "\n",
    "  def initialize(address)\n",
    "    @address = address\n",
    "  end\n",
    "end"
   ]
  },
  {
   "cell_type": "code",
   "execution_count": 3,
   "id": "a113c8a4-8beb-40ad-895a-bfbeadbef06c",
   "metadata": {},
   "outputs": [],
   "source": [
    "# Klassen Employee, Manager, Director und Executive werden User Klasse zugeordnet\n",
    "class Employee < User\n",
    "end\n",
    "\n",
    "class Manager < User\n",
    "end\n",
    "\n",
    "class Director < User\n",
    "end\n",
    "\n",
    "class Executive < User\n",
    "end"
   ]
  },
  {
   "cell_type": "code",
   "execution_count": 4,
   "id": "b404bfa9-d683-4078-951e-95ac27d7fa41",
   "metadata": {},
   "outputs": [
    {
     "name": "stdout",
     "output_type": "stream",
     "text": [
      "1 main street\n"
     ]
    }
   ],
   "source": [
    "# Employee Instanz erbt mehrere Dinge!\n",
    "# Methode initialize sowie die Instanzvariable @address wurden vererbt.\n",
    "# --> Jede Instanzmethode oder Variable, die Sie für eine übergeordnete Klasse definieren, ist in der Instanz verfügbar.\n",
    "e = Employee.new(\"1 main street\")\n",
    "puts e.address"
   ]
  }
 ],
 "metadata": {
  "kernelspec": {
   "display_name": "Ruby 3.0.2",
   "language": "ruby",
   "name": "ruby"
  },
  "language_info": {
   "file_extension": ".rb",
   "mimetype": "application/x-ruby",
   "name": "ruby",
   "version": "3.0.2"
  }
 },
 "nbformat": 4,
 "nbformat_minor": 5
}
