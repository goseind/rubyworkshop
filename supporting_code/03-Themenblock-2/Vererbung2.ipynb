{
 "cells": [
  {
   "cell_type": "markdown",
   "id": "6dcdfb63-8e1d-4247-92b4-11061dc9455f",
   "metadata": {
    "tags": []
   },
   "source": [
    "# Beispiel 1 - Vererbung"
   ]
  },
  {
   "cell_type": "code",
   "execution_count": 5,
   "id": "03f9f87c-4ab9-44bd-98fb-2397cc42277a",
   "metadata": {},
   "outputs": [
    {
     "name": "stdout",
     "output_type": "stream",
     "text": [
      "Bob Smith\n"
     ]
    }
   ],
   "source": [
    "class User\n",
    "\n",
    "  attr_accessor :first_name, :last_name, :address\n",
    "\n",
    "  def initialize(first_name, last_name, address)\n",
    "    @first_name = first_name\n",
    "    @last_name = last_name\n",
    "    @address = address\n",
    "  end\n",
    "\n",
    "  def label\n",
    "    \"#{first_name} #{last_name}\"\n",
    "  end\n",
    "\n",
    "end\n",
    "\n",
    "#Subklasse:\n",
    "class Employee < User\n",
    "end\n",
    "\n",
    "e = Employee.new(\"Bob\", \"Smith\", \"1 Main street\")\n",
    "puts e.label"
   ]
  },
  {
   "cell_type": "code",
   "execution_count": 7,
   "id": "0c20e33c-f2d8-446c-bccb-5c4ec8fbb553",
   "metadata": {},
   "outputs": [
    {
     "name": "stdout",
     "output_type": "stream",
     "text": [
      "Employee: Bob Smith\n"
     ]
    }
   ],
   "source": [
    "# Oft möchten Sie die Methode der Eltern aufrufen und in der Unterklasse anpassen.\n",
    "# Sie können dies tun, indem Sie das Schlüsselwort super aufrufen\n",
    "class Employee < User\n",
    "\n",
    "  def label\n",
    "    \"Employee: #{super}\"\n",
    "  end\n",
    "\n",
    "end\n",
    "\n",
    "puts e.label"
   ]
  },
  {
   "cell_type": "code",
   "execution_count": 8,
   "id": "e3ff673f-5829-401c-8f3c-0017607e0d77",
   "metadata": {},
   "outputs": [
    {
     "name": "stdout",
     "output_type": "stream",
     "text": [
      "Employee\n",
      "Manager\n",
      "Director\n",
      "Executive\n"
     ]
    }
   ],
   "source": [
    "# Wir können auch die Basisklassenmethoden von den Subklassen aus aufrufen!\n",
    "class User\n",
    "\n",
    "  def self.types\n",
    "    [\"Employee\", \"Manager\", \"Director\", \"Executive\"]\n",
    "  end\n",
    "\n",
    "end\n",
    "\n",
    "class Employee < User\n",
    "end\n",
    "\n",
    "puts Employee.types # [\"Employee\", \"Manager\", \"Director\", \"Executive\"]\n"
   ]
  },
  {
   "cell_type": "code",
   "execution_count": 9,
   "id": "0ad1b2ca-1048-4d4b-a2b6-ab153468e0d9",
   "metadata": {},
   "outputs": [
    {
     "name": "stdout",
     "output_type": "stream",
     "text": [
      "Bob\n",
      "Bob.S@example.com\n"
     ]
    }
   ],
   "source": [
    "# So wie Methoden vererbt werden, werden auch Variablen vererbt.\n",
    "# Die Vererbung von Variablen ist wichtig, da Daten in der Elternklasse initialisiert und von der Unterklasse darauf zugegriffen werden kann.\n",
    "# Darüber hinaus können Daten in der Unterklasse eingestellt oder geändert und von der übergeordneten Klasse darauf zugegriffen werden .\n",
    "class Employee < User\n",
    "\n",
    "  def employee_email\n",
    "    # first.last_name@example.com\n",
    "    \"#{@first_name}.#{@last_name[0]}@example.com\"\n",
    "  end\n",
    "\n",
    "end\n",
    "\n",
    "# Hier erstellen wir eine Konvention für Mitarbeiter-E-Mails basierend auf einem Vorname.Nachname- Muster.\n",
    "# Dies zeigt, dass wir Zugriff auf die Variablen haben, die in der Elternklasse erstellt wurden.\n",
    "# Wir können die Variablen in der untergeordneten Klasse auch wie folgt ändern:\n",
    "e = Employee.new(\"Bob\", \"Smith\", \"1 Main Street\")\n",
    "puts e.first_name = \"Bob\"\n",
    "puts e.employee_email"
   ]
  },
  {
   "cell_type": "code",
   "execution_count": 10,
   "id": "146ca095-5007-44b3-b036-c2c7b8b8f35d",
   "metadata": {},
   "outputs": [
    {
     "name": "stdout",
     "output_type": "stream",
     "text": [
      "Steve@example.com\n",
      "Employee: Steve Jobs\n"
     ]
    }
   ],
   "source": [
    "# Wir können zwei Schritte weiter gehen, indem wir unsere Unterklasse unterordnen und die Methode employee_email\n",
    "# vollständig überschreiben, um ihr Verhalten in der Unter-Unterklasse zu spezialisieren:\n",
    "class ExecutiveLeadership < Employee\n",
    "\n",
    "  def employee_email\n",
    "    \"#{@first_name}@example.com\"\n",
    "  end\n",
    "\n",
    "end\n",
    "\n",
    "e = ExecutiveLeadership.new(\"Steve\", \"Jobs\", \"1 Infinite Loop\")\n",
    "puts e.employee_email\n",
    "puts e.label\n",
    "# --> Hier haben wir einen speziellen Mitarbeitertyp namens ExecutiveLeadership erstellt, indem wir die Klasse Employee untergeordnet haben."
   ]
  }
 ],
 "metadata": {
  "kernelspec": {
   "display_name": "Ruby 3.0.2",
   "language": "ruby",
   "name": "ruby"
  },
  "language_info": {
   "file_extension": ".rb",
   "mimetype": "application/x-ruby",
   "name": "ruby",
   "version": "3.0.2"
  }
 },
 "nbformat": 4,
 "nbformat_minor": 5
}
