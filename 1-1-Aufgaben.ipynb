{
 "cells": [
  {
   "cell_type": "markdown",
   "metadata": {},
   "source": [
    "# 1-1-Aufgaben"
   ]
  },
  {
   "cell_type": "markdown",
   "metadata": {},
   "source": [
    "# Aufgabe 1"
   ]
  },
  {
   "cell_type": "markdown",
   "metadata": {},
   "source": [
    "Schreibe ein Ruby Programm, das von 3 bis 1 runterzählt und im Anschluss “Los geht's!” ausgibt:\n",
    "Tipp: Verwende downto-Methode\n",
    "\n",
    "Ausgabe: 321 Los geht's!"
   ]
  },
  {
   "cell_type": "code",
   "execution_count": null,
   "metadata": {},
   "outputs": [],
   "source": [
    "#Lösung\n",
    "3.downto"
   ]
  },
  {
   "cell_type": "markdown",
   "metadata": {},
   "source": [
    "# Aufgabe 2"
   ]
  },
  {
   "cell_type": "markdown",
   "metadata": {},
   "source": [
    "Verwende die each-Methode um die folgende Ausgabe zu erhalten:\n",
    "a -- b -- c --"
   ]
  },
  {
   "cell_type": "code",
   "execution_count": null,
   "metadata": {},
   "outputs": [],
   "source": [
    "#Array-Initialisierung\n",
    "a = [ \"a\", \"b\", \"c\" ]\n",
    "\n",
    "#Lösung:\n",
    "a.each "
   ]
  },
  {
   "cell_type": "code",
   "execution_count": null,
   "metadata": {},
   "outputs": [],
   "source": [
    "#Gleiche Aufgabe mit Range\n"
   ]
  },
  {
   "cell_type": "markdown",
   "metadata": {},
   "source": [
    "# Aufgabe 3"
   ]
  },
  {
   "cell_type": "markdown",
   "metadata": {},
   "source": [
    "Berechne die Summe aller Buchstaben (ASCII-Wert) deines Names. "
   ]
  },
  {
   "cell_type": "code",
   "execution_count": null,
   "metadata": {},
   "outputs": [],
   "source": [
    "#Lösung:\n"
   ]
  },
  {
   "cell_type": "markdown",
   "metadata": {},
   "source": [
    "# Aufgabe 4"
   ]
  },
  {
   "cell_type": "markdown",
   "metadata": {},
   "source": [
    "Erstelle ein Ruby Programm, das über ein Array oder Range mit Zahlen iteriert und die Werte in zwei Gruppen teilt: gerade und ungerade Zahlen.\n",
    "\n",
    "Tipp: Verwende group_by-Methode\n",
    "Ausgabe: {1=>[1, 3, 5], 0=>[2, 4]}"
   ]
  },
  {
   "cell_type": "code",
   "execution_count": null,
   "metadata": {},
   "outputs": [],
   "source": [
    "#Lösung:"
   ]
  },
  {
   "cell_type": "markdown",
   "metadata": {},
   "source": [
    "# Aufgabe 5"
   ]
  },
  {
   "cell_type": "markdown",
   "metadata": {},
   "source": [
    "Initialisiere einen Array mit Zahlen von 1 bis 20. Verwende die each-Methode um über Array zu iterieren und gebe jeden Wert aus.\n",
    "\n",
    "Die Ausgabe soll wie folgt aussehen:\n",
    "1234567891011121314151617181920"
   ]
  },
  {
   "cell_type": "code",
   "execution_count": null,
   "metadata": {},
   "outputs": [],
   "source": [
    "#a) Array-Initialisierung\n"
   ]
  },
  {
   "cell_type": "code",
   "execution_count": null,
   "metadata": {},
   "outputs": [],
   "source": [
    "#b) Ausgabe\n"
   ]
  },
  {
   "cell_type": "code",
   "execution_count": null,
   "metadata": {},
   "outputs": [],
   "source": [
    "#c) Füge die ersten Buchstaben deines Namens als ASCII-Wert in der letzten Stelle im Array ein\n"
   ]
  },
  {
   "cell_type": "code",
   "execution_count": null,
   "metadata": {},
   "outputs": [],
   "source": [
    "#d) Lösche das fünfte Element aus Array\n"
   ]
  },
  {
   "cell_type": "code",
   "execution_count": null,
   "metadata": {},
   "outputs": [],
   "source": [
    "#e) Füge mehrere Elemente am Anfang der Liste ein\n"
   ]
  },
  {
   "cell_type": "code",
   "execution_count": null,
   "metadata": {},
   "outputs": [],
   "source": [
    "#f) Gebe die Summe aller Zahlen des Arrays aus\n",
    "puts"
   ]
  },
  {
   "cell_type": "markdown",
   "metadata": {},
   "source": [
    "# Aufgabe 6"
   ]
  },
  {
   "cell_type": "markdown",
   "metadata": {},
   "source": [
    "Erstelle ein Array mit Zahlen von 1 bis 10. Berechne und speichere die Quadrate jeder Zahl in einem neuen Array.\n",
    "\n",
    "Das Ergebnis soll wie folgt aussehen:\n",
    "[1, 4, 9, 16, 25, 36, 49, 64, 81, 100]"
   ]
  },
  {
   "cell_type": "code",
   "execution_count": null,
   "metadata": {},
   "outputs": [],
   "source": [
    "#Lösung:"
   ]
  },
  {
   "cell_type": "markdown",
   "metadata": {},
   "source": [
    "# Aufgabe 7"
   ]
  },
  {
   "cell_type": "markdown",
   "metadata": {},
   "source": [
    "In der Aufgabe geht es um ein Hash.\n",
    "\n",
    "#Theorieteil:\n",
    "\n",
    "Ein Hash ist eine Sammlung von Objekten\n",
    "    - Definition jedes Objektes mit einem Schlüßelwort\n",
    "    - Mit dem Schlüßel werden die Objekten gesucht\n",
    "    - Es gibt keine garantierte Reihenfolge von Objekten\n",
    "\n",
    "#Initialisierung\n",
    "hs = {katze: \"Felix\", hund: \"Rex\"}\n",
    "\n",
    "#Iteration über ein Hash\n",
    "hs.each { |key, value| puts \"#{key} heißt #{value}\" }"
   ]
  },
  {
   "cell_type": "markdown",
   "metadata": {},
   "source": [
    "Aufgabestellung:\n",
    "\n",
    "Gruppiere die Elemente aus folgendem Hash (punkte) in zwei Gruppen: “Nicht bestanden” und “Bestanden”, wenn die Anzahl der Punkte größer als 30 ist. Verwende Ternär Operator ?\n",
    "\n",
    "Ausgabe: {\"Nicht bestanden\"=>[[\"Anna\", 30], [\"Tom\", 20]], \"Bestanden\"=>[[\"Stefan\", 60], [\"Maria\", 40]]}"
   ]
  },
  {
   "cell_type": "code",
   "execution_count": null,
   "metadata": {},
   "outputs": [],
   "source": [
    "#Lösung\n",
    "punkte = {\"Anna\" => 30, \"Stefan\" => 60, \"Maria\" => 40, \"Tom\" => 20}\n"
   ]
  }
 ],
 "metadata": {
  "kernelspec": {
   "display_name": "Ruby 2.6.8",
   "language": "ruby",
   "name": "ruby"
  },
  "language_info": {
   "file_extension": ".rb",
   "mimetype": "application/x-ruby",
   "name": "ruby",
   "version": "2.6.8"
  }
 },
 "nbformat": 4,
 "nbformat_minor": 4
}
