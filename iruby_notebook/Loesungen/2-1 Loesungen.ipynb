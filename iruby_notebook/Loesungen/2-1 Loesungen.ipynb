{
 "cells": [
  {
   "cell_type": "markdown",
   "metadata": {},
   "source": [
    "# Aufgabe 1 - Klassen & Methoden\n",
    "\n",
    "Erstellen Sie eine Klasse \"*Car*\" mit den Attributen Modell, PS und Farbe.\n",
    "\n",
    "Implementieren Sie innerhalb der Klasse \"*Car*\" die Methode \"*details*\", welche das Modell, die Farbe und die PS des Autos nach folgendem Schema in der Konsole ausgeben soll.\n",
    "\n",
    "> \"Bei dem Auto handelt es sich um einen *\\<model>* mit *\\<ps>* PS in der Farbe *\\<colour>*.\"\n",
    "\n",
    "Erstellen Sie zu diesem Zweck eine Instanz der Klasse Car und rufen Sie die Methode Details auf."
   ]
  },
  {
   "cell_type": "code",
   "execution_count": 1,
   "metadata": {},
   "outputs": [
    {
     "name": "stdout",
     "output_type": "stream",
     "text": [
      "Bei dem Auto handelt es sich um einen Audi A3 mit 105 PS in der Farbe Blau.\n",
      "\n"
     ]
    }
   ],
   "source": [
    "#Mögliche Lösung:\n",
    "class Car\n",
    "\n",
    "    #Get-Methoden\n",
    "    attr_reader :model, :ps, :colour\n",
    "    \n",
    "    #initialize Methode (=Konstruktor)\n",
    "    def initialize(model, ps, colour)\n",
    "        @model = model\n",
    "        @ps = ps\n",
    "        @colour = colour\n",
    "    end\n",
    "    \n",
    "    def details\n",
    "        puts \"Bei dem Auto handelt es sich um einen #{model} mit #{ps} PS in der Farbe #{colour}.\"\n",
    "    end\n",
    "end\n",
    "\n",
    "#Instanz der Klasse Car\n",
    "car1 = Car.new(\"Audi A3\", 105, \"Blau\")\n",
    "\n",
    "puts car1.details"
   ]
  },
  {
   "cell_type": "markdown",
   "metadata": {},
   "source": [
    "# Aufgabe 2 - Vererbung\n",
    "\n",
    "Erstellen Sie eine Klasse \"*Plant*\" und eine Klasse \"*Tree*\". \\\n",
    "\\\n",
    "Die Klasse Plant kann mit einem Namen initialisiert werden, der über eine get-Methode ausgelesen werden kann. \\\n",
    "Zusätzlich dazu besitzt die Klasse Plant eine Methode \"*naming*\", die den Namen der Instanz als String in folgender Form zurückgibt.\n",
    "> \"Die Pflanze trägt den Namen *\\<name>*.\"\n",
    "\n",
    "Die Klasse Tree erbt den Namen der Klasse Plant und besitzt zudem ein weiteres Attribut \"has_needles\", \\\n",
    "welches boolesch angeben soll, ob ein Baum Nadelblätter besitzt oder nicht. \\\n",
    "\\\n",
    "Erweitern Sie die Klasse Tree durch die Methode \"*grow*\", achten Sie dabei auf die Möglichkeit denselben Code auch in anderen Klassen zu verwenden, \\\n",
    "die gegebenenfalls unterschiedliche Elternklassen haben. Die Methode soll dabei die Höhe der Pflanze nach folgendem Schema berechnen und zurückgeben:\n",
    "> Höhe = Wachstumsrate_proJahr + Höhe \\\n",
    "> \\\n",
    "> Werte der Variablen:\n",
    "> - Wachstumsrate_proJahr = 1m\n",
    "> - Höhe = 0m\n",
    "\n",
    "Abschließend erstellen Sie bitte eine Instanz der Klasse Tree, geben dessen Namen mit der dafür vorgesehenen Methode naming aus und lassen ihn zweimal wachsen. Die Höhe des Baums geben Sie anschließend bitte in der Konsole aus."
   ]
  },
  {
   "cell_type": "code",
   "execution_count": 2,
   "metadata": {},
   "outputs": [
    {
     "name": "stdout",
     "output_type": "stream",
     "text": [
      "Die Pflanze trägt den Namen Tanne.\n",
      "Die Höhe des Baumes beträgt: 2m.\n"
     ]
    }
   ],
   "source": [
    "#Mögliche Lösung:\n",
    "\n",
    "#Modul Growable zur wiederverwendung der Methode grow innerhalb anderer Klassen\n",
    "module Growable\n",
    "    def grow\n",
    "        @height ||= 0\n",
    "        @growth_rate_pa ||= 1\n",
    "\n",
    "        @height += @growth_rate_pa\n",
    "        self\n",
    "    end\n",
    "end\n",
    "\n",
    "class Plant\n",
    "    #Get-Methode\n",
    "    attr_reader :name\n",
    "    \n",
    "    #initialize Methode (=Konstruktor)\n",
    "    def initialize(name)\n",
    "        @name = name\n",
    "    end\n",
    "    \n",
    "    def naming\n",
    "        puts \"Die Pflanze trägt den Namen #{name}.\"\n",
    "    end\n",
    "end\n",
    "\n",
    "#Tree erbt durch die Zuordnung \"<\" von der Klasse Plant\n",
    "class Tree < Plant\n",
    "    #Get-Methode\n",
    "    attr_reader :height\n",
    "    \n",
    "    #initialize Methode (=Konstruktor)\n",
    "    def initialize(name, has_needles)\n",
    "        super(name)\n",
    "        @has_needles = has_needles\n",
    "    end\n",
    "    \n",
    "    #Inkludierung des Moudls Growable zur Nutzung der grow-Methode\n",
    "    include Growable\n",
    "end\n",
    "\n",
    "#Instanz der Klasse Tree\n",
    "t1 = Tree.new(\"Tanne\", true)\n",
    "\n",
    "#Zugriff auf die Methode naming der Klasse Plant durch die Vererbung dieser an die Klasse Tree\n",
    "t1.naming\n",
    "\n",
    "#Zugriff auf die grow-Methode des Moduls Growable\n",
    "t1.grow\n",
    "t1.grow\n",
    "\n",
    "puts \"Die Höhe des Baumes beträgt: #{t1.height}m.\""
   ]
  },
  {
   "cell_type": "code",
   "execution_count": null,
   "metadata": {},
   "outputs": [],
   "source": []
  }
 ],
 "metadata": {
  "kernelspec": {
   "display_name": "Ruby 2.7.0",
   "language": "ruby",
   "name": "ruby"
  },
  "language_info": {
   "file_extension": ".rb",
   "mimetype": "application/x-ruby",
   "name": "ruby",
   "version": "2.7.0"
  }
 },
 "nbformat": 4,
 "nbformat_minor": 4
}
