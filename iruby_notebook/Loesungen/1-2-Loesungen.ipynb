{
 "cells": [
  {
   "cell_type": "markdown",
   "metadata": {},
   "source": [
    "# Themenblock 1 - Teil 2 - Lösungen"
   ]
  },
  {
   "cell_type": "markdown",
   "metadata": {},
   "source": [
    "## Mögliche Lösungen für Aufgabe X"
   ]
  },
  {
   "cell_type": "code",
   "execution_count": 1,
   "metadata": {},
   "outputs": [
    {
     "name": "stdout",
     "output_type": "stream",
     "text": [
      "Groß genug!\n",
      "Nicht groß genug.\n"
     ]
    }
   ],
   "source": [
    "groesse = 1.50 # m\n",
    "\n",
    "puts \"Nicht groß genug.\" unless groesse >= 1.5\n",
    "\n",
    "unless groesse >= 1.5 \n",
    "    puts \"Nicht groß genug.\"\n",
    "else\n",
    "    puts \"Groß genug!\"\n",
    "end"
   ]
  },
  {
   "cell_type": "markdown",
   "metadata": {},
   "source": [
    "### Lösung Aufgabe 1"
   ]
  },
  {
   "cell_type": "code",
   "execution_count": null,
   "metadata": {},
   "outputs": [],
   "source": [
    "def archive(filename, prefix)\n",
    "    prefix+filename\n",
    "end\n",
    "\n",
    "archive(\"dateiname\", \"archive_\")"
   ]
  },
  {
   "cell_type": "markdown",
   "metadata": {},
   "source": [
    "### Lösung Aufgabe 2"
   ]
  },
  {
   "cell_type": "code",
   "execution_count": null,
   "metadata": {},
   "outputs": [],
   "source": [
    "def charup(s, l)\n",
    "    while(s[\"#{l}\"])\n",
    "        s[\"#{l}\"] = \"#{l.upcase}\"\n",
    "    end\n",
    "    puts s\n",
    "end\n",
    "\n",
    "charup(\"Kaffee\", \"f\")"
   ]
  },
  {
   "cell_type": "markdown",
   "metadata": {},
   "source": [
    "### Lösung Aufgabe 3"
   ]
  },
  {
   "cell_type": "code",
   "execution_count": null,
   "metadata": {},
   "outputs": [],
   "source": [
    "# Öffnen einer einfachen txt Datei\n",
    "text = File.open('text.txt')\n",
    "\n",
    "# for-Schleife mit Enumerator und Ausgabe\n",
    "for zeile, zeilennr in text.each_line.with_index\n",
    "    print \"#{zeilennr+1}: #{zeile}\"\n",
    "end"
   ]
  },
  {
   "cell_type": "markdown",
   "metadata": {},
   "source": [
    "### Lösung Aufgabe 4"
   ]
  },
  {
   "cell_type": "code",
   "execution_count": null,
   "metadata": {},
   "outputs": [],
   "source": [
    "# Ein vollen/leeres String Array mit Farben\n",
    "col_full = %w(green blue yellow pink)\n",
    "col_empty = []\n",
    "\n",
    "#Funktion zum Transfer der Farben in ein neues Array\n",
    "def iterate_colors(colors)\n",
    "    # Your code here\n",
    "    unless colors.empty?\n",
    "      a = Array.new\n",
    "      colors.sort.each do # Auch mit \"collect\" möglich?\n",
    "          |c| a.push(c)\n",
    "      end.each { |c| puts c }\n",
    "    end\n",
    "  end\n",
    "\n",
    "# Funktion mit den beiden Arrays ausführen\n",
    "iterate_colors(col_full)\n",
    "iterate_colors(col_empty)"
   ]
  },
  {
   "cell_type": "markdown",
   "metadata": {},
   "source": [
    "### Lösung Aufgabe 5"
   ]
  },
  {
   "cell_type": "code",
   "execution_count": null,
   "metadata": {},
   "outputs": [],
   "source": [
    "def rm_prefix(s, pre)\n",
    "    s[pre, s.length()]\n",
    "end\n",
    "\n",
    "puts rm_prefix(\"Error message: Please restart your computer!\", 15)"
   ]
  }
 ],
 "metadata": {
  "kernelspec": {
   "display_name": "Ruby 2.7.0",
   "language": "ruby",
   "name": "ruby"
  },
  "language_info": {
   "file_extension": ".rb",
   "mimetype": "application/x-ruby",
   "name": "ruby",
   "version": "2.7.0"
  },
  "orig_nbformat": 4
 },
 "nbformat": 4,
 "nbformat_minor": 2
}
