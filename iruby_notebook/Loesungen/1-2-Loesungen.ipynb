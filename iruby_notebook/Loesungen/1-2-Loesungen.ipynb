{
 "cells": [
  {
   "cell_type": "markdown",
   "metadata": {},
   "source": [
    "# Themenblock 1 - Teil 2 - Lösungen"
   ]
  },
  {
   "cell_type": "markdown",
   "metadata": {},
   "source": [
    "## Mögliche Lösungen für Aufgabe 1"
   ]
  },
  {
   "cell_type": "code",
   "execution_count": null,
   "metadata": {},
   "outputs": [],
   "source": [
    "groesse = 1.50 # m\n",
    "\n",
    "puts \"Nicht groß genug.\" unless groesse >= 1.5\n",
    "\n",
    "unless groesse >= 1.5 \n",
    "    puts \"Nicht groß genug.\"\n",
    "else\n",
    "    puts \"Groß genug!\"\n",
    "end"
   ]
  },
  {
   "cell_type": "markdown",
   "metadata": {},
   "source": [
    "## Mögliche Lösungen für Aufgabe 2"
   ]
  },
  {
   "cell_type": "code",
   "execution_count": null,
   "metadata": {},
   "outputs": [],
   "source": [
    "x = \"Hallo\"\n",
    "\n",
    "puts case x\n",
    "    when String then \"String\"\n",
    "    when Numeric then \"Zahl\"\n",
    "    when TrueClass, FalseClass then \"Boolean\"\n",
    "    else \"Sonstiges\"\n",
    "    end"
   ]
  },
  {
   "cell_type": "markdown",
   "metadata": {},
   "source": [
    "## Mögliche Lösungen für Aufgabe 3"
   ]
  },
  {
   "cell_type": "code",
   "execution_count": null,
   "metadata": {},
   "outputs": [],
   "source": [
    "def archive(filename, prefix)\n",
    "    prefix+filename\n",
    "end\n",
    "\n",
    "archive(\"dateiname\", \"archive_\")"
   ]
  },
  {
   "cell_type": "markdown",
   "metadata": {},
   "source": [
    "## Mögliche Lösungen für Aufgabe 4"
   ]
  },
  {
   "cell_type": "code",
   "execution_count": null,
   "metadata": {},
   "outputs": [],
   "source": [
    "def charup(s, l)\n",
    "    while(s[\"#{l}\"])\n",
    "        s[\"#{l}\"] = \"#{l.upcase}\"\n",
    "    end\n",
    "    puts s\n",
    "end\n",
    "\n",
    "charup(\"Kaffee\", \"f\")"
   ]
  },
  {
   "cell_type": "markdown",
   "metadata": {},
   "source": [
    "## Mögliche Lösungen für Aufgabe 5"
   ]
  },
  {
   "cell_type": "code",
   "execution_count": null,
   "metadata": {},
   "outputs": [],
   "source": [
    "# Ein vollen/leeres String Array mit Farben\n",
    "col_full = %w(green blue yellow pink)\n",
    "col_empty = []\n",
    "\n",
    "#Funktion zum Transfer der Farben in ein neues Array\n",
    "def iterate_colors(colors)\n",
    "    # Your code here\n",
    "    unless colors.empty?\n",
    "      a = Array.new\n",
    "      colors.sort.each do # Auch mit \"collect\" möglich?\n",
    "          |c| a.push(c)\n",
    "      end.each { |c| puts c }\n",
    "    end\n",
    "  end\n",
    "\n",
    "# Funktion mit den beiden Arrays ausführen\n",
    "iterate_colors(col_full)\n",
    "iterate_colors(col_empty)"
   ]
  },
  {
   "cell_type": "markdown",
   "metadata": {},
   "source": [
    "## Mögliche Lösungen für Aufgabe 6"
   ]
  },
  {
   "cell_type": "code",
   "execution_count": null,
   "metadata": {},
   "outputs": [],
   "source": [
    "def mehrwertsteuer(netto_preis, ermaesigt)\n",
    "    brutto_preis = if ermaesigt == true\n",
    "                    netto_preis*1.07\n",
    "                   else\n",
    "                    netto_preis*1.19\n",
    "                   end\n",
    "end\n",
    "\n",
    "alias mwst mehrwertsteuer\n",
    "\n",
    "puts mwst(15.90, false)"
   ]
  },
  {
   "cell_type": "markdown",
   "metadata": {},
   "source": [
    "## Mögliche Lösungen für Aufgabe 7"
   ]
  },
  {
   "cell_type": "code",
   "execution_count": 43,
   "metadata": {},
   "outputs": [
    {
     "data": {
      "text/plain": [
       "[[8, \"Diamonds\"], [7, \"Clubs\"], [9, \"Hearts\"], [2, \"Diamonds\"], [8, \"Hearts\"], [3, \"Hearts\"], [9, \"Spades\"], [4, \"Spades\"], [12, \"Clubs\"], [4, \"Hearts\"], [13, \"Hearts\"], [1, \"Clubs\"], [3, \"Clubs\"], [7, \"Spades\"], [2, \"Hearts\"], [1, \"Diamonds\"], [10, \"Hearts\"], [12, \"Spades\"], [7, \"Hearts\"], [13, \"Spades\"], [12, \"Hearts\"], [11, \"Hearts\"], [10, \"Clubs\"], [5, \"Diamonds\"], [12, \"Diamonds\"], [3, \"Diamonds\"], [8, \"Spades\"], [5, \"Spades\"], [10, \"Diamonds\"], [6, \"Clubs\"], [11, \"Clubs\"], [2, \"Clubs\"], [6, \"Spades\"], [3, \"Spades\"], [4, \"Clubs\"], [9, \"Diamonds\"], [13, \"Diamonds\"], [2, \"Spades\"], [5, \"Clubs\"], [11, \"Spades\"], [6, \"Diamonds\"], [4, \"Diamonds\"], [11, \"Diamonds\"], [8, \"Clubs\"], [1, \"Hearts\"], [1, \"Spades\"], [7, \"Diamonds\"], [6, \"Hearts\"], [5, \"Hearts\"], [10, \"Spades\"], [13, \"Clubs\"], [9, \"Clubs\"]]"
      ]
     },
     "execution_count": 43,
     "metadata": {},
     "output_type": "execute_result"
    }
   ],
   "source": [
    "def generate_deck\n",
    "    cards = (1..13)\n",
    "    suits = [\"Diamonds\", \"Clubs\", \"Spades\", \"Hearts\"]\n",
    "    deck = []\n",
    "    suits.each do |suit|\n",
    "      cards.each do |card|\n",
    "        deck << [card, suit]\n",
    "      end\n",
    "    end\n",
    "    return deck\n",
    "  end\n",
    "\n",
    "#generate_deck\n",
    "\n",
    "def shuffle_deck(deck)\n",
    "    shuffled_deck = []\n",
    "    while(deck.length > 0) do\n",
    "      random_card_index = rand(deck.length)\n",
    "      shuffled_deck << deck.delete_at(random_card_index)\n",
    "    end\n",
    "    return shuffled_deck\n",
    "end\n",
    "\n",
    "shuffle_deck(generate_deck)"
   ]
  }
 ],
 "metadata": {
  "kernelspec": {
   "display_name": "Ruby 2.7.0",
   "language": "ruby",
   "name": "ruby"
  },
  "language_info": {
   "file_extension": ".rb",
   "mimetype": "application/x-ruby",
   "name": "ruby",
   "version": "2.7.0"
  },
  "orig_nbformat": 4
 },
 "nbformat": 4,
 "nbformat_minor": 2
}
