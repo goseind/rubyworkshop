{
 "cells": [
  {
   "cell_type": "markdown",
   "metadata": {},
   "source": [
    "# Themenblock 1 - Teil 2 - Lösungen"
   ]
  },
  {
   "cell_type": "markdown",
   "metadata": {},
   "source": [
    "## Lösung für Aufgabe 1"
   ]
  },
  {
   "cell_type": "code",
   "execution_count": 1,
   "metadata": {},
   "outputs": [
    {
     "name": "stdout",
     "output_type": "stream",
     "text": [
      "Groß genug!\n"
     ]
    }
   ],
   "source": [
    "groesse = 1.50 # m\n",
    "\n",
    "puts \"Nicht groß genug.\" unless groesse >= 1.5 # unless Fallunterscheidung in als Modifier\n",
    "\n",
    "# unless Fallunterscheidung mit else über mehrere Zeilen\n",
    "unless groesse >= 1.5 \n",
    "    puts \"Nicht groß genug.\"\n",
    "else\n",
    "    puts \"Groß genug!\"\n",
    "end"
   ]
  },
  {
   "cell_type": "markdown",
   "metadata": {},
   "source": [
    "## Lösung für Aufgabe 2"
   ]
  },
  {
   "cell_type": "code",
   "execution_count": 2,
   "metadata": {},
   "outputs": [
    {
     "name": "stdout",
     "output_type": "stream",
     "text": [
      "String\n"
     ]
    }
   ],
   "source": [
    "x = \"Hallo\"\n",
    "\n",
    "puts case x # Rückgabewert der case Fallunterscheidung nutzen, um den Wert direkt auszugeben\n",
    "    # Prüfen auf die geforderten Klassen bzw. Datentypen\n",
    "     when String then \"String\"\n",
    "     when Numeric then \"Zahl\"\n",
    "     when TrueClass, FalseClass then \"Boolean\"\n",
    "     else \"Sonstiges\"\n",
    "     end"
   ]
  },
  {
   "cell_type": "markdown",
   "metadata": {},
   "source": [
    "## Lösung für Aufgabe 3"
   ]
  },
  {
   "cell_type": "code",
   "execution_count": 3,
   "metadata": {},
   "outputs": [
    {
     "data": {
      "text/plain": [
       "\"archive_dateiname\""
      ]
     },
     "execution_count": 3,
     "metadata": {},
     "output_type": "execute_result"
    }
   ],
   "source": [
    "def archive(filename, prefix) # Methode mit zwei Parametern definieren\n",
    "    prefix + filename # Den plus Operator nutzen, um die beiden Teile zu verbinden\n",
    "end\n",
    "\n",
    "archive(\"dateiname\", \"archive_\") # Die Methode zum Test aufrufen"
   ]
  },
  {
   "cell_type": "markdown",
   "metadata": {},
   "source": [
    "## Lösung für Aufgabe 4"
   ]
  },
  {
   "cell_type": "code",
   "execution_count": 4,
   "metadata": {},
   "outputs": [
    {
     "name": "stdout",
     "output_type": "stream",
     "text": [
      "KaFFee\n"
     ]
    }
   ],
   "source": [
    "def charup(s, l) # Methode mit zwei Parametern definieren\n",
    "    while(s[\"#{l}\"]) # Mit einer while Schleife durch den String iterieren, um alle Buchstaben l zu finden\n",
    "        s[\"#{l}\"] = \"#{l.upcase}\" # Alle l Buchstaben groß schreiben\n",
    "    end\n",
    "    puts s # veränderten String ausgeben\n",
    "end\n",
    "\n",
    "charup(\"Kaffee\", \"f\") # Methode ausführen"
   ]
  },
  {
   "cell_type": "markdown",
   "metadata": {},
   "source": [
    "## Lösung für Aufgabe 5"
   ]
  },
  {
   "cell_type": "code",
   "execution_count": 5,
   "metadata": {},
   "outputs": [],
   "source": [
    "# Beispiel aus dem Vortrag\n",
    "def zimmer(args)\n",
    "    zimmer = args[:zimmer_pro_Stockwerk] || 10\n",
    "    stockwerke = args[:Stockwerke] || 1\n",
    "    anzahl = zimmer*stockwerke\n",
    "end\n",
    "\n",
    "zimmer({:zimmer_pro_Stockwerk=>20, :Stockwerke=>3})"
   ]
  },
  {
   "cell_type": "markdown",
   "metadata": {},
   "source": [
    "## Lösung für Aufgabe 6"
   ]
  },
  {
   "cell_type": "code",
   "execution_count": 6,
   "metadata": {},
   "outputs": [
    {
     "name": "stdout",
     "output_type": "stream",
     "text": [
      "blue\n",
      "green\n",
      "pink\n",
      "yellow\n"
     ]
    }
   ],
   "source": [
    "# Ein vollen und leeres String Array mit Farbnamen\n",
    "col_full = %w(green blue yellow pink)\n",
    "col_empty = []\n",
    "\n",
    "# Methode zum Transfer der Farben in ein neues Array\n",
    "def iterate_colors(colors)\n",
    "    unless colors.empty? # unless Fallunterscheidung um zu prüfen, ob das Array leer ist\n",
    "      a = Array.new # Neues Array erstellen\n",
    "      colors.sort.each do # Das gegebene Array zuerst sortieren,\n",
    "          |c| a.push(c) # dann mit dem each Iterator in der sortierten Reihenfolge in das neue Array verschieben\n",
    "      end.each { |c| puts c } # Rückgabe der Fallunterscheidung nutzen, um die Farben auszugeben\n",
    "    end\n",
    "  end\n",
    "\n",
    "# Zum Test Methode mit den beiden Arrays ausführen\n",
    "iterate_colors(col_full)\n",
    "iterate_colors(col_empty)"
   ]
  },
  {
   "cell_type": "markdown",
   "metadata": {},
   "source": [
    "## Lösung für Aufgabe 7"
   ]
  },
  {
   "cell_type": "code",
   "execution_count": 7,
   "metadata": {},
   "outputs": [
    {
     "name": "stdout",
     "output_type": "stream",
     "text": [
      "18.921\n"
     ]
    }
   ],
   "source": [
    "def mehrwertsteuer(netto_preis, ermaesigt) # Methode mit zwei Parametern definieren\n",
    "    brutto_preis = if ermaesigt == true # Rückgabewert der Fallunterscheidung nutzen und entsprechenden Preis berechnen\n",
    "                    netto_preis*1.07\n",
    "                   else\n",
    "                    netto_preis*1.19\n",
    "                   end\n",
    "end\n",
    "\n",
    "alias mwst mehrwertsteuer # Alias für diese Methode erstellen\n",
    "\n",
    "puts mwst(15.90, false) # Mtehode zum Test ausführen"
   ]
  },
  {
   "cell_type": "markdown",
   "metadata": {},
   "source": [
    "## Lösung für Aufgabe 8"
   ]
  },
  {
   "cell_type": "code",
   "execution_count": 8,
   "metadata": {},
   "outputs": [
    {
     "data": {
      "text/plain": [
       "[[4, \"Herz\"], [12, \"Karo\"], [1, \"Herz\"], [8, \"Pik\"], [3, \"Pik\"], [3, \"Herz\"], [8, \"Karo\"], [1, \"Karo\"], [5, \"Karo\"], [7, \"Kreuz\"], [11, \"Pik\"], [7, \"Karo\"], [6, \"Herz\"], [6, \"Pik\"], [2, \"Kreuz\"], [5, \"Kreuz\"], [13, \"Herz\"], [7, \"Herz\"], [2, \"Herz\"], [11, \"Herz\"], [8, \"Kreuz\"], [9, \"Herz\"], [11, \"Kreuz\"], [7, \"Pik\"], [4, \"Pik\"], [10, \"Kreuz\"], [13, \"Karo\"], [9, \"Karo\"], [10, \"Karo\"], [5, \"Herz\"], [3, \"Kreuz\"], [4, \"Karo\"], [12, \"Herz\"], [13, \"Pik\"], [8, \"Herz\"], [9, \"Kreuz\"], [9, \"Pik\"], [10, \"Herz\"], [10, \"Pik\"], [6, \"Karo\"], [2, \"Pik\"], [2, \"Karo\"], [6, \"Kreuz\"], [11, \"Karo\"], [5, \"Pik\"], [4, \"Kreuz\"], [1, \"Pik\"], [1, \"Kreuz\"], [12, \"Kreuz\"], [12, \"Pik\"], [3, \"Karo\"], [13, \"Kreuz\"]]"
      ]
     },
     "execution_count": 8,
     "metadata": {},
     "output_type": "execute_result"
    }
   ],
   "source": [
    "def kartensatz # Kartensatz Methode ohne Parameter erstellen\n",
    "    karten = (1..13) # Range mit 13 Karten erstellen\n",
    "    blaetter = [\"Kreuz\", \"Pik\", \"Herz\", \"Karo\"] # Blätter in einem Array definieren\n",
    "    satz = [] # Array für Satz anlegen\n",
    "    blaetter.each do |blatt| # mit dem each Iterator durch die Blätter iterieren \n",
    "      karten.each do |karte| # mit verschachteltem each Iterator durch Karten iterieren\n",
    "        satz << [karte, blatt] # Karte und Zahl der aktuellen Iteration im Satz speichern\n",
    "      end\n",
    "    end\n",
    "    return satz # Satz zurückgeben\n",
    "  end\n",
    "\n",
    "def mischen(satz) # Kartensatz mischen Methode\n",
    "    gemischter_satz = [] # Array für gemischten Kartensatz erstellen\n",
    "    while(satz.length > 0) do # Mit while Schleife durch den Satz iterieren\n",
    "      zufaelliger_kartenindex = rand(satz.length) # Auswählen eines zufälligen Index im Satz\n",
    "      gemischter_satz << satz.delete_at(zufaelliger_kartenindex) # Karte am Index entfernen und gleichzeitig zu neuem Array hinzufügen\n",
    "    end\n",
    "    return gemischter_satz # gemischten Satz zurückgeben\n",
    "end\n",
    "\n",
    "mischen(kartensatz) # Methode zum Test ausführen"
   ]
  }
 ],
 "metadata": {
  "kernelspec": {
   "display_name": "Ruby 2.7.0",
   "language": "ruby",
   "name": "ruby"
  },
  "language_info": {
   "file_extension": ".rb",
   "mimetype": "application/x-ruby",
   "name": "ruby",
   "version": "2.7.0"
  },
  "orig_nbformat": 4
 },
 "nbformat": 4,
 "nbformat_minor": 2
}
