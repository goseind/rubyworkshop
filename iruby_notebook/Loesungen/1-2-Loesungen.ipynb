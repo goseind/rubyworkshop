{
 "cells": [
  {
   "cell_type": "markdown",
   "metadata": {},
   "source": [
    "# Themenblock 1 - Teil 2 - Lösungen"
   ]
  },
  {
   "cell_type": "markdown",
   "metadata": {},
   "source": [
    "## Mögliche Lösungen für Aufgabe 1"
   ]
  },
  {
   "cell_type": "code",
   "execution_count": null,
   "metadata": {},
   "outputs": [],
   "source": [
    "groesse = 1.50 # m\n",
    "\n",
    "puts \"Nicht groß genug.\" unless groesse >= 1.5\n",
    "\n",
    "unless groesse >= 1.5 \n",
    "    puts \"Nicht groß genug.\"\n",
    "else\n",
    "    puts \"Groß genug!\"\n",
    "end"
   ]
  },
  {
   "cell_type": "markdown",
   "metadata": {},
   "source": [
    "## Mögliche Lösungen für Aufgabe 2"
   ]
  },
  {
   "cell_type": "code",
   "execution_count": null,
   "metadata": {},
   "outputs": [],
   "source": [
    "x = \"Hallo\"\n",
    "\n",
    "puts case x\n",
    "    when String then \"String\"\n",
    "    when Numeric then \"Zahl\"\n",
    "    when TrueClass, FalseClass then \"Boolean\"\n",
    "    else \"Sonstiges\"\n",
    "    end"
   ]
  },
  {
   "cell_type": "markdown",
   "metadata": {},
   "source": [
    "## Mögliche Lösungen für Aufgabe 3"
   ]
  },
  {
   "cell_type": "code",
   "execution_count": null,
   "metadata": {},
   "outputs": [],
   "source": [
    "def archive(filename, prefix)\n",
    "    prefix+filename\n",
    "end\n",
    "\n",
    "archive(\"dateiname\", \"archive_\")"
   ]
  },
  {
   "cell_type": "markdown",
   "metadata": {},
   "source": [
    "## Mögliche Lösungen für Aufgabe 4"
   ]
  },
  {
   "cell_type": "code",
   "execution_count": null,
   "metadata": {},
   "outputs": [],
   "source": [
    "def charup(s, l)\n",
    "    while(s[\"#{l}\"])\n",
    "        s[\"#{l}\"] = \"#{l.upcase}\"\n",
    "    end\n",
    "    puts s\n",
    "end\n",
    "\n",
    "charup(\"Kaffee\", \"f\")"
   ]
  },
  {
   "cell_type": "markdown",
   "metadata": {},
   "source": [
    "## Mögliche Lösungen für Aufgabe 5"
   ]
  },
  {
   "cell_type": "code",
   "execution_count": null,
   "metadata": {},
   "outputs": [],
   "source": [
    "# Ein vollen/leeres String Array mit Farben\n",
    "col_full = %w(green blue yellow pink)\n",
    "col_empty = []\n",
    "\n",
    "#Funktion zum Transfer der Farben in ein neues Array\n",
    "def iterate_colors(colors)\n",
    "    # Your code here\n",
    "    unless colors.empty?\n",
    "      a = Array.new\n",
    "      colors.sort.each do # Auch mit \"collect\" möglich?\n",
    "          |c| a.push(c)\n",
    "      end.each { |c| puts c }\n",
    "    end\n",
    "  end\n",
    "\n",
    "# Funktion mit den beiden Arrays ausführen\n",
    "iterate_colors(col_full)\n",
    "iterate_colors(col_empty)"
   ]
  },
  {
   "cell_type": "markdown",
   "metadata": {},
   "source": [
    "## Mögliche Lösungen für Aufgabe 6"
   ]
  },
  {
   "cell_type": "code",
   "execution_count": null,
   "metadata": {},
   "outputs": [],
   "source": [
    "def mehrwertsteuer(netto_preis, ermaesigt)\n",
    "    brutto_preis = if ermaesigt == true\n",
    "                    netto_preis*1.07\n",
    "                   else\n",
    "                    netto_preis*1.19\n",
    "                   end\n",
    "end\n",
    "\n",
    "alias mwst mehrwertsteuer\n",
    "\n",
    "puts mwst(15.90, false)"
   ]
  },
  {
   "cell_type": "markdown",
   "metadata": {},
   "source": [
    "## Mögliche Lösungen für Aufgabe 7"
   ]
  },
  {
   "cell_type": "code",
   "execution_count": null,
   "metadata": {},
   "outputs": [],
   "source": [
    "def kartensatz\n",
    "    karten = (1..13)\n",
    "    blaetter = [\"Kreuz\", \"Pik\", \"Herz\", \"Karo\"]\n",
    "    satz = []\n",
    "    blaetter.each do |blatt|\n",
    "      karten.each do |karte|\n",
    "        satz << [karte, blatt]\n",
    "      end\n",
    "    end\n",
    "    return satz\n",
    "  end\n",
    "\n",
    "def mischen(satz)\n",
    "    gemischter_satz = []\n",
    "    puts satz.length\n",
    "    while(satz.length > 0) do\n",
    "      zufaelliger_kartenindex = rand(satz.length)\n",
    "      gemischter_satz << satz.delete_at(zufaelliger_kartenindex)\n",
    "    end\n",
    "    return gemischter_satz\n",
    "end\n",
    "\n",
    "mischen(kartensatz)"
   ]
  },
  {
   "cell_type": "markdown",
   "metadata": {},
   "source": [
    "## Mögliche Lösungen für Aufgabe 8"
   ]
  },
  {
   "cell_type": "code",
   "execution_count": null,
   "metadata": {},
   "outputs": [],
   "source": [
    "def many_yields\n",
    "    yield \"peanut\"\n",
    "    yield \"butter\"\n",
    "    yield \"jelly\"\n",
    "    yield \"time\"\n",
    "end\n",
    "\n",
    "many_yields { |item| puts item}"
   ]
  }
 ],
 "metadata": {
  "kernelspec": {
   "display_name": "Ruby 2.7.0",
   "language": "ruby",
   "name": "ruby"
  },
  "language_info": {
   "file_extension": ".rb",
   "mimetype": "application/x-ruby",
   "name": "ruby",
   "version": "2.7.0"
  },
  "orig_nbformat": 4
 },
 "nbformat": 4,
 "nbformat_minor": 2
}
