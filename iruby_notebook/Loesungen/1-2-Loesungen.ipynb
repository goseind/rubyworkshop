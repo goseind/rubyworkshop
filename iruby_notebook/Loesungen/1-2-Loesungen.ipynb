{
 "cells": [
  {
   "cell_type": "markdown",
   "metadata": {},
   "source": [
    "# Themenblock 1 - Teil 2 - Lösungen"
   ]
  },
  {
   "cell_type": "markdown",
   "metadata": {},
   "source": [
    "## Mögliche Lösungen für Aufgabe 1"
   ]
  },
  {
   "cell_type": "code",
   "execution_count": null,
   "metadata": {},
   "outputs": [],
   "source": [
    "groesse = 1.50 # m\n",
    "\n",
    "puts \"Nicht groß genug.\" unless groesse >= 1.5\n",
    "\n",
    "unless groesse >= 1.5 \n",
    "    puts \"Nicht groß genug.\"\n",
    "else\n",
    "    puts \"Groß genug!\"\n",
    "end"
   ]
  },
  {
   "cell_type": "markdown",
   "metadata": {},
   "source": [
    "## Mögliche Lösungen für Aufgabe 2"
   ]
  },
  {
   "cell_type": "code",
   "execution_count": null,
   "metadata": {},
   "outputs": [],
   "source": [
    "x = \"Hallo\"\n",
    "\n",
    "puts case x\n",
    "    when String then \"String\"\n",
    "    when Numeric then \"Zahl\"\n",
    "    when TrueClass, FalseClass then \"Boolean\"\n",
    "    else \"Sonstiges\"\n",
    "    end"
   ]
  },
  {
   "cell_type": "markdown",
   "metadata": {},
   "source": [
    "## Mögliche Lösungen für Aufgabe 3"
   ]
  },
  {
   "cell_type": "code",
   "execution_count": null,
   "metadata": {},
   "outputs": [],
   "source": [
    "def archive(filename, prefix)\n",
    "    prefix+filename\n",
    "end\n",
    "\n",
    "archive(\"dateiname\", \"archive_\")"
   ]
  },
  {
   "cell_type": "markdown",
   "metadata": {},
   "source": [
    "## Mögliche Lösungen für Aufgabe 4"
   ]
  },
  {
   "cell_type": "code",
   "execution_count": null,
   "metadata": {},
   "outputs": [],
   "source": [
    "def charup(s, l)\n",
    "    while(s[\"#{l}\"])\n",
    "        s[\"#{l}\"] = \"#{l.upcase}\"\n",
    "    end\n",
    "    puts s\n",
    "end\n",
    "\n",
    "charup(\"Kaffee\", \"f\")"
   ]
  },
  {
   "cell_type": "markdown",
   "metadata": {},
   "source": [
    "## Mögliche Lösungen für Aufgabe 5"
   ]
  },
  {
   "cell_type": "code",
   "execution_count": null,
   "metadata": {},
   "outputs": [],
   "source": [
    "# Ein vollen/leeres String Array mit Farben\n",
    "col_full = %w(green blue yellow pink)\n",
    "col_empty = []\n",
    "\n",
    "#Funktion zum Transfer der Farben in ein neues Array\n",
    "def iterate_colors(colors)\n",
    "    # Your code here\n",
    "    unless colors.empty?\n",
    "      a = Array.new\n",
    "      colors.sort.each do # Auch mit \"collect\" möglich?\n",
    "          |c| a.push(c)\n",
    "      end.each { |c| puts c }\n",
    "    end\n",
    "  end\n",
    "\n",
    "# Funktion mit den beiden Arrays ausführen\n",
    "iterate_colors(col_full)\n",
    "iterate_colors(col_empty)"
   ]
  },
  {
   "cell_type": "markdown",
   "metadata": {},
   "source": [
    "## Mögliche Lösungen für Aufgabe 6"
   ]
  },
  {
   "cell_type": "code",
   "execution_count": 18,
   "metadata": {},
   "outputs": [
    {
     "name": "stdout",
     "output_type": "stream",
     "text": [
      "17.849999999999998\n"
     ]
    }
   ],
   "source": [
    "artikel = \"Apfel\"\n",
    "\n",
    "#def ermaesigt?\n",
    "\n",
    "def mehrwertsteuer(netto_preis, ermaesigt)\n",
    "    brutto_preis = if ermaesigt == true\n",
    "                    netto_preis*1.07\n",
    "                   else\n",
    "                    netto_preis*1.19\n",
    "                   end\n",
    "end\n",
    "\n",
    "puts mehrwertsteuer(15, false)"
   ]
  }
 ],
 "metadata": {
  "kernelspec": {
   "display_name": "Ruby 2.7.0",
   "language": "ruby",
   "name": "ruby"
  },
  "language_info": {
   "file_extension": ".rb",
   "mimetype": "application/x-ruby",
   "name": "ruby",
   "version": "2.7.0"
  },
  "orig_nbformat": 4
 },
 "nbformat": 4,
 "nbformat_minor": 2
}
