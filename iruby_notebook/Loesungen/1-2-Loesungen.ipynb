{
 "cells": [
  {
   "cell_type": "markdown",
   "metadata": {},
   "source": [
    "# Themenblock 1 - Teil 2 - Lösungen"
   ]
  },
  {
   "cell_type": "markdown",
   "metadata": {},
   "source": [
    "## Mögliche Lösungen für Aufgabe 1"
   ]
  },
  {
   "cell_type": "code",
   "execution_count": null,
   "metadata": {},
   "outputs": [],
   "source": [
    "groesse = 1.50 # m\n",
    "\n",
    "puts \"Nicht groß genug.\" unless groesse >= 1.5 # unless Fallunterscheidung in als Modifier\n",
    "\n",
    "# unless Fallunterscheidung mit else über mehrere Zeilen\n",
    "unless groesse >= 1.5 \n",
    "    puts \"Nicht groß genug.\"\n",
    "else\n",
    "    puts \"Groß genug!\"\n",
    "end"
   ]
  },
  {
   "cell_type": "markdown",
   "metadata": {},
   "source": [
    "## Mögliche Lösungen für Aufgabe 2"
   ]
  },
  {
   "cell_type": "code",
   "execution_count": null,
   "metadata": {},
   "outputs": [],
   "source": [
    "x = \"Hallo\"\n",
    "\n",
    "puts case x # Rückgabewert der case Fallunterscheidung nutzen, um den Wert direkt auszugeben\n",
    "    # Prüfen auf die geforderten Klassen bzw. Datentypen\n",
    "     when String then \"String\"\n",
    "     when Numeric then \"Zahl\"\n",
    "     when TrueClass, FalseClass then \"Boolean\"\n",
    "     else \"Sonstiges\"\n",
    "     end"
   ]
  },
  {
   "cell_type": "markdown",
   "metadata": {},
   "source": [
    "## Mögliche Lösungen für Aufgabe 3"
   ]
  },
  {
   "cell_type": "code",
   "execution_count": null,
   "metadata": {},
   "outputs": [],
   "source": [
    "def archive(filename, prefix) # Methode mit zwei Parametern definieren\n",
    "    prefix + filename # Den plus Operator nutzen, um die beiden Teile zu verbinden\n",
    "end\n",
    "\n",
    "archive(\"dateiname\", \"archive_\") # Die Methode zum Test aufrufen"
   ]
  },
  {
   "cell_type": "markdown",
   "metadata": {},
   "source": [
    "## Mögliche Lösungen für Aufgabe 4"
   ]
  },
  {
   "cell_type": "code",
   "execution_count": null,
   "metadata": {},
   "outputs": [],
   "source": [
    "def charup(s, l) # Methode mit zwei Parametern definieren\n",
    "    while(s[\"#{l}\"]) # Mit einer while Schleife durch den String iterieren, um alle Buchstaben l zu finden\n",
    "        s[\"#{l}\"] = \"#{l.upcase}\" # Alle l Buchstaben groß schreiben\n",
    "    end\n",
    "    puts s # veränderten String ausgeben\n",
    "end\n",
    "\n",
    "charup(\"Kaffee\", \"f\") # Methode ausführen"
   ]
  },
  {
   "cell_type": "markdown",
   "metadata": {},
   "source": [
    "## Mögliche Lösungen für Aufgabe 5"
   ]
  },
  {
   "cell_type": "code",
   "execution_count": null,
   "metadata": {},
   "outputs": [],
   "source": [
    "# Ein vollen und leeres String Array mit Farbnamen\n",
    "col_full = %w(green blue yellow pink)\n",
    "col_empty = []\n",
    "\n",
    "# Methode zum Transfer der Farben in ein neues Array\n",
    "def iterate_colors(colors)\n",
    "    unless colors.empty? # unless Fallunterscheidung um zu prüfen, ob das Array leer ist\n",
    "      a = Array.new # Neues Array erstellen\n",
    "      colors.sort.each do # Das gegebene Array zuerst sortieren,\n",
    "          |c| a.push(c) # dann mit dem each Iterator in der sortierten Reihenfolge in das neue Array verschieben\n",
    "      end.each { |c| puts c } # Rückgabe der Fallunterscheidung nutzen, um die Farben auszugeben\n",
    "    end\n",
    "  end\n",
    "\n",
    "# Zum Test Methode mit den beiden Arrays ausführen\n",
    "iterate_colors(col_full)\n",
    "iterate_colors(col_empty)"
   ]
  },
  {
   "cell_type": "markdown",
   "metadata": {},
   "source": [
    "## Mögliche Lösungen für Aufgabe 6"
   ]
  },
  {
   "cell_type": "code",
   "execution_count": null,
   "metadata": {},
   "outputs": [],
   "source": [
    "def mehrwertsteuer(netto_preis, ermaesigt) # Methode mit zwei Parametern definieren\n",
    "    brutto_preis = if ermaesigt == true # Rückgabewert der Fallunterscheidung nutzen und entsprechenden Preis berechnen\n",
    "                    netto_preis*1.07\n",
    "                   else\n",
    "                    netto_preis*1.19\n",
    "                   end\n",
    "end\n",
    "\n",
    "alias mwst mehrwertsteuer # Alias für diese Methode erstellen\n",
    "\n",
    "puts mwst(15.90, false) # Mtehode zum Test ausführen"
   ]
  },
  {
   "cell_type": "markdown",
   "metadata": {},
   "source": [
    "## Mögliche Lösungen für Aufgabe 7"
   ]
  },
  {
   "cell_type": "code",
   "execution_count": null,
   "metadata": {},
   "outputs": [],
   "source": [
    "def kartensatz # Kartensatz Methode ohne Parameter erstellen\n",
    "    karten = (1..13) # Range mit 13 Karten erstellen\n",
    "    blaetter = [\"Kreuz\", \"Pik\", \"Herz\", \"Karo\"] # Blätter in einem Array definieren\n",
    "    satz = [] # Array für Satz anlegen\n",
    "    blaetter.each do |blatt| # mit dem each Iterator durch die Blätter iterieren \n",
    "      karten.each do |karte| # mit verschachteltem each Iterator durch Karten iterieren\n",
    "        satz << [karte, blatt] # Karte und Zahl der aktuellen Iteration im Satz speichern\n",
    "      end\n",
    "    end\n",
    "    return satz # Satz zurückgeben\n",
    "  end\n",
    "\n",
    "def mischen(satz) # Kartensatz mischen Methode\n",
    "    gemischter_satz = [] # Array für gemischten Kartensatz erstellen\n",
    "    while(satz.length > 0) do # Mit while Schleife durch den Satz iterieren\n",
    "      zufaelliger_kartenindex = rand(satz.length) # Auswählen eines zufälligen Index im Satz\n",
    "      gemischter_satz << satz.delete_at(zufaelliger_kartenindex) # Karte am Index entfernen und gleichzeitig zu neuem Array hinzufügen\n",
    "    end\n",
    "    return gemischter_satz # gemischten Satz zurückgeben\n",
    "end\n",
    "\n",
    "mischen(kartensatz) # Methode zum Test ausführen"
   ]
  },
  {
   "cell_type": "markdown",
   "metadata": {},
   "source": [
    "## Mögliche Lösungen für Aufgabe 8"
   ]
  },
  {
   "cell_type": "code",
   "execution_count": null,
   "metadata": {},
   "outputs": [],
   "source": [
    "def many_yields # Methode ohne Parameter definieren\n",
    "    # ein yield für jedes Wort erstellen, welches wir zurückgeben möchten\n",
    "    yield \"peanut\"\n",
    "    yield \"butter\"\n",
    "    yield \"jelly\"\n",
    "    yield \"time\"\n",
    "end\n",
    "\n",
    "many_yields { |item| puts item} # Methode zum Test ausführen und dabei an einen Block übergeben, der den Rückgabewert ausgibt"
   ]
  }
 ],
 "metadata": {
  "kernelspec": {
   "display_name": "Ruby 2.7.0",
   "language": "ruby",
   "name": "ruby"
  },
  "language_info": {
   "file_extension": ".rb",
   "mimetype": "application/x-ruby",
   "name": "ruby",
   "version": "2.7.0"
  },
  "orig_nbformat": 4
 },
 "nbformat": 4,
 "nbformat_minor": 2
}
