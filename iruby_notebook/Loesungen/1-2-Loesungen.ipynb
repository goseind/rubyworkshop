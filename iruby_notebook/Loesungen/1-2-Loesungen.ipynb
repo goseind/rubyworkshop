{
 "cells": [
  {
   "cell_type": "markdown",
   "metadata": {},
   "source": [
    "# Themenblock 1 - Teil 2 - Lösungen"
   ]
  },
  {
   "cell_type": "markdown",
   "metadata": {},
   "source": [
    "## Mögliche Lösungen für Aufgabe 1"
   ]
  },
  {
   "cell_type": "code",
   "execution_count": 2,
   "metadata": {},
   "outputs": [
    {
     "name": "stdout",
     "output_type": "stream",
     "text": [
      "Groß genug!\n"
     ]
    }
   ],
   "source": [
    "groesse = 1.50 # m\n",
    "\n",
    "puts \"Nicht groß genug.\" unless groesse >= 1.5\n",
    "\n",
    "unless groesse >= 1.5 \n",
    "    puts \"Nicht groß genug.\"\n",
    "else\n",
    "    puts \"Groß genug!\"\n",
    "end"
   ]
  },
  {
   "cell_type": "markdown",
   "metadata": {},
   "source": [
    "## Mögliche Lösungen für Aufgabe 2"
   ]
  },
  {
   "cell_type": "code",
   "execution_count": 3,
   "metadata": {},
   "outputs": [
    {
     "name": "stdout",
     "output_type": "stream",
     "text": [
      "String\n"
     ]
    }
   ],
   "source": [
    "x = \"Hallo\"\n",
    "\n",
    "puts case x\n",
    "    when String then \"String\"\n",
    "    when Numeric then \"Zahl\"\n",
    "    when TrueClass, FalseClass then \"Boolean\"\n",
    "    else \"Sonstiges\"\n",
    "    end"
   ]
  },
  {
   "cell_type": "markdown",
   "metadata": {},
   "source": [
    "## Mögliche Lösungen für Aufgabe 3"
   ]
  },
  {
   "cell_type": "code",
   "execution_count": 4,
   "metadata": {},
   "outputs": [
    {
     "data": {
      "text/plain": [
       "\"archive_dateiname\""
      ]
     },
     "execution_count": 4,
     "metadata": {},
     "output_type": "execute_result"
    }
   ],
   "source": [
    "def archive(filename, prefix)\n",
    "    prefix+filename\n",
    "end\n",
    "\n",
    "archive(\"dateiname\", \"archive_\")"
   ]
  },
  {
   "cell_type": "markdown",
   "metadata": {},
   "source": [
    "## Mögliche Lösungen für Aufgabe 4"
   ]
  },
  {
   "cell_type": "code",
   "execution_count": 5,
   "metadata": {},
   "outputs": [
    {
     "name": "stdout",
     "output_type": "stream",
     "text": [
      "KaFFee\n"
     ]
    }
   ],
   "source": [
    "def charup(s, l)\n",
    "    while(s[\"#{l}\"])\n",
    "        s[\"#{l}\"] = \"#{l.upcase}\"\n",
    "    end\n",
    "    puts s\n",
    "end\n",
    "\n",
    "charup(\"Kaffee\", \"f\")"
   ]
  },
  {
   "cell_type": "markdown",
   "metadata": {},
   "source": [
    "## Mögliche Lösungen für Aufgabe 5"
   ]
  },
  {
   "cell_type": "code",
   "execution_count": 6,
   "metadata": {},
   "outputs": [
    {
     "name": "stdout",
     "output_type": "stream",
     "text": [
      "blue\n",
      "green\n",
      "pink\n",
      "yellow\n"
     ]
    }
   ],
   "source": [
    "# Ein vollen/leeres String Array mit Farben\n",
    "col_full = %w(green blue yellow pink)\n",
    "col_empty = []\n",
    "\n",
    "#Funktion zum Transfer der Farben in ein neues Array\n",
    "def iterate_colors(colors)\n",
    "    # Your code here\n",
    "    unless colors.empty?\n",
    "      a = Array.new\n",
    "      colors.sort.each do # Auch mit \"collect\" möglich?\n",
    "          |c| a.push(c)\n",
    "      end.each { |c| puts c }\n",
    "    end\n",
    "  end\n",
    "\n",
    "# Funktion mit den beiden Arrays ausführen\n",
    "iterate_colors(col_full)\n",
    "iterate_colors(col_empty)"
   ]
  },
  {
   "cell_type": "markdown",
   "metadata": {},
   "source": [
    "## Mögliche Lösungen für Aufgabe 6"
   ]
  },
  {
   "cell_type": "code",
   "execution_count": 7,
   "metadata": {},
   "outputs": [
    {
     "name": "stdout",
     "output_type": "stream",
     "text": [
      "18.921\n"
     ]
    }
   ],
   "source": [
    "def mehrwertsteuer(netto_preis, ermaesigt)\n",
    "    brutto_preis = if ermaesigt == true\n",
    "                    netto_preis*1.07\n",
    "                   else\n",
    "                    netto_preis*1.19\n",
    "                   end\n",
    "end\n",
    "\n",
    "alias mwst mehrwertsteuer\n",
    "\n",
    "puts mwst(15.90, false)"
   ]
  },
  {
   "cell_type": "markdown",
   "metadata": {},
   "source": [
    "## Mögliche Lösungen für Aufgabe 7"
   ]
  },
  {
   "cell_type": "code",
   "execution_count": 8,
   "metadata": {},
   "outputs": [
    {
     "data": {
      "text/plain": [
       "[[5, \"Karo\"], [12, \"Karo\"], [10, \"Kreuz\"], [8, \"Kreuz\"], [4, \"Kreuz\"], [4, \"Herz\"], [3, \"Karo\"], [6, \"Karo\"], [12, \"Kreuz\"], [9, \"Kreuz\"], [4, \"Karo\"], [9, \"Pik\"], [5, \"Kreuz\"], [2, \"Pik\"], [6, \"Pik\"], [5, \"Herz\"], [7, \"Karo\"], [7, \"Pik\"], [12, \"Pik\"], [13, \"Herz\"], [9, \"Herz\"], [10, \"Herz\"], [2, \"Kreuz\"], [4, \"Pik\"], [8, \"Pik\"], [11, \"Karo\"], [1, \"Karo\"], [1, \"Kreuz\"], [7, \"Herz\"], [8, \"Karo\"], [2, \"Karo\"], [7, \"Kreuz\"], [13, \"Pik\"], [11, \"Kreuz\"], [10, \"Pik\"], [13, \"Kreuz\"], [3, \"Kreuz\"], [3, \"Herz\"], [3, \"Pik\"], [9, \"Karo\"], [11, \"Herz\"], [13, \"Karo\"], [10, \"Karo\"], [12, \"Herz\"], [8, \"Herz\"], [11, \"Pik\"], [1, \"Pik\"], [5, \"Pik\"], [1, \"Herz\"], [2, \"Herz\"], [6, \"Herz\"], [6, \"Kreuz\"]]"
      ]
     },
     "execution_count": 8,
     "metadata": {},
     "output_type": "execute_result"
    }
   ],
   "source": [
    "def kartensatz\n",
    "    karten = (1..13)\n",
    "    blaetter = [\"Kreuz\", \"Pik\", \"Herz\", \"Karo\"]\n",
    "    satz = []\n",
    "    blaetter.each do |blatt|\n",
    "      karten.each do |karte|\n",
    "        satz << [karte, blatt]\n",
    "      end\n",
    "    end\n",
    "    return satz\n",
    "  end\n",
    "\n",
    "def mischen(satz)\n",
    "    gemischter_satz = []\n",
    "    while(satz.length > 0) do\n",
    "      zufaelliger_kartenindex = rand(satz.length)\n",
    "      gemischter_satz << satz.delete_at(zufaelliger_kartenindex)\n",
    "    end\n",
    "    return gemischter_satz\n",
    "end\n",
    "\n",
    "mischen(kartensatz)"
   ]
  }
 ],
 "metadata": {
  "kernelspec": {
   "display_name": "Ruby 2.7.0",
   "language": "ruby",
   "name": "ruby"
  },
  "language_info": {
   "file_extension": ".rb",
   "mimetype": "application/x-ruby",
   "name": "ruby",
   "version": "2.7.0"
  },
  "orig_nbformat": 4
 },
 "nbformat": 4,
 "nbformat_minor": 2
}
