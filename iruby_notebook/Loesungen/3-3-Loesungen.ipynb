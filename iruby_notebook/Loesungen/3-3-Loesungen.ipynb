{
 "cells": [
  {
   "cell_type": "markdown",
   "source": [
    "# Übungen: Lambda"
   ],
   "metadata": {
    "collapsed": false
   }
  },
  {
   "cell_type": "markdown",
   "source": [
    "1. Schreibe ein Funktion, die ein 2 mal einen yield Aufruf macht, dazwischen soll eine weiterer String ausgegeben werden."
   ],
   "metadata": {
    "collapsed": false
   }
  },
  {
   "cell_type": "code",
   "execution_count": null,
   "outputs": [],
   "source": [
    "def call_twice\n",
    "    puts \"In the call_twice method\"\n",
    "    yield\n",
    "    puts \"Again from the call_twice method\"\n",
    "    yield\n",
    "end\n",
    "\n",
    "call_twice {puts \"This is a block\"}"
   ],
   "metadata": {
    "collapsed": false,
    "pycharm": {
     "name": "#%%\n"
    }
   }
  },
  {
   "cell_type": "markdown",
   "source": [
    "2. Schreibe eine Funktion die den Rückgabewert des yields ausgibt."
   ],
   "metadata": {
    "collapsed": false
   }
  },
  {
   "cell_type": "code",
   "execution_count": null,
   "outputs": [],
   "source": [
    "def yield_with_return_value\n",
    "    hello_world = yield\n",
    "    puts hello_world\n",
    "end\n",
    "\n",
    "yield_with_return_value { \"Hello World!\" } # => Hello World!"
   ],
   "metadata": {
    "collapsed": false,
    "pycharm": {
     "name": "#%%\n"
    }
   }
  },
  {
   "cell_type": "markdown",
   "source": [
    "3. Schreibe eine Funktion, die ein yield mit einem Parameter aufruft."
   ],
   "metadata": {
    "collapsed": false
   }
  },
  {
   "cell_type": "code",
   "execution_count": null,
   "outputs": [],
   "source": [
    "def calc\n",
    "    yield 2*3\n",
    "    puts \"In the method calc\"\n",
    "    yield 100\n",
    "end\n",
    "\n",
    "calc {|i| puts \"calc #{i}\"}"
   ],
   "metadata": {
    "collapsed": false,
    "pycharm": {
     "name": "#%%\n"
    }
   }
  },
  {
   "cell_type": "markdown",
   "source": [
    "4. Beim Definieren einer Methode und innerhalb der Methode soll yield mit 2 Parametern aufgerufen werden."
   ],
   "metadata": {
    "collapsed": false
   }
  },
  {
   "cell_type": "code",
   "execution_count": null,
   "outputs": [],
   "source": [
    "def arithmetic(a, b)\n",
    "    yield(a, b)\n",
    "end\n",
    "\n",
    "puts \"The sum of the two numbers is #{arithmetic(8, 2) { |a, b| a + b }}\""
   ],
   "metadata": {
    "collapsed": false,
    "pycharm": {
     "name": "#%%\n"
    }
   }
  },
  {
   "cell_type": "markdown",
   "source": [
    "5. Wenn yield aufgerufen wird, benötigt diese Methode einen block.\n",
    "Schreibe eine Funktion die sowohl mit, als auch ohne Parameter funktioniert."
   ],
   "metadata": {
    "collapsed": false
   }
  },
  {
   "cell_type": "code",
   "execution_count": null,
   "outputs": [],
   "source": [
    "def optional_block\n",
    "    yield if block_given?\n",
    "end\n",
    "\n",
    "optional_block\n",
    "optional_block { puts 'optional block' }\n"
   ],
   "metadata": {
    "collapsed": false,
    "pycharm": {
     "name": "#%%\n"
    }
   }
  },
  {
   "cell_type": "markdown",
   "metadata": {
    "id": "HW_UBJF9uwQ7"
   },
   "source": [
    "# Übungen: Lambda"
   ]
  },
  {
   "cell_type": "markdown",
   "metadata": {
    "id": "9r6YA9OTwWzv"
   },
   "source": [
    "1. Schreibe eine Hello-Funktion mit einem Lambda, das einen Parameter (name) übergeben bekommt.\n",
    "Wird kein Parameter übergeben, soll \"Hello World\" ausgegeben werden."
   ]
  },
  {
   "cell_type": "code",
   "execution_count": null,
   "metadata": {
    "id": "lWn9tHm3xmIo"
   },
   "outputs": [],
   "source": [
    "lambda_with_args = lambda do |s = \"World\"| \n",
    "    puts \"Hello \" + s\n",
    "end\n",
    "\n",
    "lambda_with_args.call()\n",
    "lambda_with_args.call(\"Workshop\")"
   ]
  },
  {
   "cell_type": "markdown",
   "metadata": {
    "id": "9r6YA9OTwWzv"
   },
   "source": [
    "2. Schreibe eine Funktion, die ein Lambda und einen Parameter Übergeben bekommt.\n",
    "Der Parameter wird an das Lambda übergeben und das Ergebnis soll ausgegeben werden."
   ]
  },
  {
   "cell_type": "code",
   "execution_count": null,
   "metadata": {
    "id": "lWn9tHm3xmIo"
   },
   "outputs": [],
   "source": [
    "add_10 = lambda { |num| num + 10 }\n",
    "multiply_2 = lambda { |num| num * 2 }\n",
    "\n",
    "def using_lambda_with_functions(my_lambda, number)\n",
    "    puts my_lambda.call(number)\n",
    "end\n",
    "\n",
    "using_lambda_with_functions(add_10, 10)\n",
    "using_lambda_with_functions(multiply_2, 20)"
   ]
  },
  {
   "cell_type": "markdown",
   "metadata": {
    "id": "9r6YA9OTwWzv"
   },
   "source": [
    "Schreibe eine Funktion, die ein Lambda erstellt, das den Parameter überprüft und \"OK\" oder \"N/A\" zurückgibt."
   ]
  },
  {
   "cell_type": "code",
   "execution_count": null,
   "metadata": {
    "id": "lWn9tHm3xmIo"
   },
   "outputs": [],
   "source": [
    "def build_lambda()\n",
    "    my_lambda = lambda do |key|\n",
    "        if key == \"200\"\n",
    "            return \"OK\"\n",
    "        else\n",
    "            return \"N/A\"\n",
    "        end\n",
    "    end\n",
    "    my_lambda\n",
    "end\n",
    "\n",
    "code_check = build_lambda()\n",
    "\n",
    "puts code_check[\"200\"]\n",
    "puts code_check[\"404\"]"
   ]
  }
 ],
 "metadata": {
  "colab": {
   "collapsed_sections": [],
   "name": "Ruby Lambda.ipynb",
   "provenance": []
  },
  "kernelspec": {
   "display_name": "Python 3",
   "name": "python3"
  },
  "language_info": {
   "name": "python"
  }
 },
 "nbformat": 4,
 "nbformat_minor": 0
}