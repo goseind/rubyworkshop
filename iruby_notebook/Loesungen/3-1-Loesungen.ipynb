{
  "nbformat": 4,
  "nbformat_minor": 0,
  "metadata": {
    "colab": {
      "name": "Ruby Files Lösungen.ipynb",
      "provenance": [],
      "collapsed_sections": []
    },
    "kernelspec": {
      "name": "python3",
      "display_name": "Python 3"
    },
    "language_info": {
      "name": "python"
    }
  },
  "cells": [
    {
      "cell_type": "markdown",
      "source": [
        "# Lösungen Dateien"
      ],
      "metadata": {
        "id": "Q3oONLr6VQFu"
      }
    },
    {
      "cell_type": "markdown",
      "source": [
        "1. Dateien erstellen und lesen\n",
        "\n",
        "> a) Erstelle ein Verzeichnis mit dem Namen \"Dateimanagement\".  \n",
        "\n",
        "> b) Erstelle darin ein Datei mit dem Namen \"First_File.txt\".  \n",
        "\n",
        "> c) Öffne die Datei und schaue, ob sie geöffnet ist.  \n",
        "\n",
        "> d) Beschreibe die Datei mit mindestens 3 Zeilen\n",
        "\n",
        "> e) Lese die Datei aus und achte darauf, dass...  \n",
        ">> e1) Jede Zeile einzeln.  \n",
        "e2) Die komplette Datei auf einmal ausgegeben wird.\n",
        "\n",
        "> f) Prüfe, ...\n",
        ">> f1) ob die Datei existiert.  \n",
        "f2) den Typ der Datei.  \n",
        "f3) den Typ des Ordners.  \n",
        "f4) die Größe der Datei"
      ],
      "metadata": {
        "id": "NYOjlUjoVUpb"
      }
    },
    {
      "cell_type": "code",
      "source": [
        "folder_name = \"Dateimanagement\";\n",
        "file_name = folder_name + \"/First_File.txt\";\n",
        "\n",
        "# a)\n",
        "if !Dir.exists?(folder_name)\n",
        "    Dir.mkdir(folder_name)\n",
        "end\n",
        "\n",
        "# b)\n",
        "if !File.exists?(file_name)\n",
        "    File.open(file_name, \"w\") { |file|\n",
        "        # c)\n",
        "        puts !file.closed?\n",
        "\n",
        "        # d)\n",
        "        file.puts(\"Das ist Zeile 1\")\n",
        "        file.puts(\"Und das ist Zeile 2\")\n",
        "        file.puts(\"Ich bin die letzte Zeile, also 3\")\n",
        "    }\n",
        "end\n",
        "\n",
        "# e)\n",
        "File.foreach(file_name) { |line|\n",
        "    puts line\n",
        "}\n",
        "puts File.open(file_name, \"r\").read\n",
        "\n",
        "# f)\n",
        "puts File.exists?(file_name)\n",
        "puts File.ftype(file_name)\n",
        "puts File.ftype(folder_name)\n",
        "puts File.size(file_name)\n"
      ],
      "metadata": {
        "id": "-mrvqAK-XGPS"
      },
      "execution_count": null,
      "outputs": []
    }
  ]
}