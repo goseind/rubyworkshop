{
 "cells": [
  {
   "cell_type": "markdown",
   "id": "8840e7fa-327a-427c-b0fb-729b5698b7e7",
   "metadata": {},
   "source": [
    "# 2-2-Lösungen"
   ]
  },
  {
   "cell_type": "markdown",
   "id": "2e0a3451-aec2-4421-9d48-8e64032fdee3",
   "metadata": {},
   "source": [
    "## Übung Visibility Rules\n",
    "Mit dieser Aufgabe übst du die Möglichkeiten und Unterschiede der Encapsulation in Ruby.\n",
    "\n",
    "1. Erstelle eine Klasse und nenne diese \"Student\". Erstelle in dieser Klasse je eine public, private und protected Methode, insgesamt also 3 Methoden. Die Methoden selbst sollen eine einfache Textausgabe mit der Info der gewählten Verkapselung erhalten (also z. B. \"Das ist eine public Methode\". Denk bei der Erstellung an die jeweils benötigten Schlüsselwörter.\n",
    "2. Erstelle nun zunächst ein neues Objekt der Klasse. Versuche mit diesem Objekt die jeweiligen Methoden aufzurufen."
   ]
  },
  {
   "cell_type": "code",
   "execution_count": null,
   "id": "fd87438b-d2ac-4568-8577-cbba26988b37",
   "metadata": {},
   "outputs": [],
   "source": [
    "# 1. \n",
    "class Student\n",
    "  def public_method\n",
    "    puts \"Das ist eine public Methode\"\n",
    "  end\n",
    "  protected\n",
    "  def protected_method\n",
    "    puts \"Das ist eine protected Methode\"\n",
    "  end\n",
    "  private\n",
    "  def private_method\n",
    "    puts \"Das ist eine private Methode\"\n",
    "  end\n",
    "end\n",
    "\n",
    "#2.\n",
    "Stud = Student.new\n",
    "Stud.public_method;\n",
    "Stud.protected_method;\n",
    "Stud.private_method;"
   ]
  },
  {
   "cell_type": "markdown",
   "id": "be0324d5-34e9-4a7a-9421-545f0400682a",
   "metadata": {},
   "source": [
    "Was stellst du fest?"
   ]
  },
  {
   "cell_type": "raw",
   "id": "85655a0a-6ccd-4262-987e-8e47eb743f65",
   "metadata": {},
   "source": [
    "Nur die public Methode lässt sich aufrufen."
   ]
  },
  {
   "cell_type": "markdown",
   "id": "f22791f8-598f-4d8e-bbcb-f284495ccede",
   "metadata": {},
   "source": [
    "3. Kopiere den bisherigen Code der Klasse (nicht der Objekterstellung und Methodenaufrufe) und füge ihn in das nächste Codefeld ein.\n",
    "4. Füge nun eine weitere (public) Methode hinzu, welche die anderen drei Methoden aufruft. \n",
    "5. Erstelle ein Objekt der Klasse und rufe die soeben erstellte Methode auf."
   ]
  },
  {
   "cell_type": "code",
   "execution_count": null,
   "id": "8c7424d1-d122-4144-9daf-d48533de55fc",
   "metadata": {},
   "outputs": [],
   "source": [
    "#3.\n",
    "class Student\n",
    "  #4.\n",
    "  def call_each\n",
    "    public_method\n",
    "    protected_method\n",
    "    private_method\n",
    "  end\n",
    "  def public_method\n",
    "    puts \"Das ist eine public Methode\"\n",
    "  end\n",
    "  protected\n",
    "  def protected_method\n",
    "    puts \"Das ist eine protected Methode\"\n",
    "  end\n",
    "  private\n",
    "  def private_method\n",
    "    puts \"Das ist eine private Methode\"\n",
    "  end\n",
    "end\n",
    "\n",
    "#5.\n",
    "t = Student.new;\n",
    "t.call_each;"
   ]
  },
  {
   "cell_type": "markdown",
   "id": "8ab20269-b4b0-4946-8cb4-f9a588608a17",
   "metadata": {},
   "source": [
    "Welche Unterschiede erkennst du?"
   ]
  },
  {
   "cell_type": "raw",
   "id": "d96bbc84-6a00-48dd-bbd7-3f3defdd7009",
   "metadata": {},
   "source": [
    "Jede der Methoden kann innerhalb der Klasse aufgerufen werden."
   ]
  },
  {
   "cell_type": "markdown",
   "id": "8c00942d-8128-4101-9515-7c7d1381c9d2",
   "metadata": {},
   "source": [
    "6. Kopiere erneut den bisherigen Code (diesmal inklusive der Obkekterstellung und des Methodenaufrufes) und füge ihn in das nächste Codefeld ein.\n",
    "7. In der Methode, welche die anderen Methoden aufruft, füge nun das Schlüsselwort self vor den jeweiligen Methodenaufruf."
   ]
  },
  {
   "cell_type": "code",
   "execution_count": 21,
   "id": "9c5bca9b-344e-4765-9494-2ef6106ac493",
   "metadata": {},
   "outputs": [
    {
     "name": "stdout",
     "output_type": "stream",
     "text": [
      "Das ist eine public Methode\n",
      "Das ist eine protected Methode\n",
      "Das ist eine private Methode\n"
     ]
    }
   ],
   "source": [
    "class Student\n",
    "  def call_each\n",
    "    self.public_method\n",
    "    self.protected_method\n",
    "    self.private_method\n",
    "  end\n",
    "  def public_method\n",
    "    puts \"Das ist eine public Methode\"\n",
    "  end\n",
    "  protected\n",
    "  def protected_method\n",
    "    puts \"Das ist eine protected Methode\"\n",
    "  end\n",
    "  private\n",
    "  def private_method\n",
    "    puts \"Das ist eine private Methode\"\n",
    "  end\n",
    "end\n",
    "\n",
    "t = Student.new;\n",
    "t.call_each;"
   ]
  },
  {
   "cell_type": "raw",
   "id": "3747c19d-7584-461d-881a-2f54f7c59e10",
   "metadata": {},
   "source": [
    "Die private Methode lässt sich nicht aufrufen, die protected Methode jedoch schon."
   ]
  },
  {
   "cell_type": "markdown",
   "id": "a878040e-4f36-4546-8014-bdd91da2865a",
   "metadata": {},
   "source": [
    "## Übung Getter & Setter\n",
    "Mit dieser Übung vertiefst du deine Kenntnisse zu Getter & Setter in Ruby.\n",
    "\n",
    "1. Erstelle insgesamt 3 Klassen: User, Company und Department.\n",
    "2. Füge folgende attr_accessor und Initialisierungen hinzu:\n",
    "    * User: name, address, department - name, address, department\n",
    "    * Company: name, url, department - name, url als URI.parse(url)\n",
    "    * Department: name, users - name\n",
    "3. Erstelle eine Company mit dem Konstruktor, z. B. mit dem Name \"HS Mannheim\" und der url \"www.hs-mannheim.de\"\n",
    "4. Erstelle zwei Abteilungen mit unterschiedlichen, beliebigem Name.\n",
    "5. Erstelle mind. 2 User. Bei der Erstellung des Users trage eine der zuvor erstellten Abteilungen ein.\n",
    "6. Ordne nun der Company die erstellten Abteilungen zu.\n",
    "\n",
    "Nun wollen wir den Use Case betrachten, dass ein Unternehmen eine Liste über alle User erhalten möchte. Das Unternehmen hat bereits Zugriff auf die Departments.\n",
    "\n",
    "7. Erstelle eine Methode, die über alle User je Deparment durch iteriert. \n",
    "\n",
    "Hierbei ergibt sich folgendes Problem. Wir erhalten ein Array mit Arrays. Ruby liefert hierfür die .flatten Methode. Diese Methode erstellt aus allen Items ein Ein-dimensionales Array.\n",
    "\n",
    "8. Füge dahier .flatten der Methode hinzu. \n",
    "\n",
    "Die Deparment Klasse besitzt einen accessor für :users. Dies kann jedoch nil sein und dementsprechend bei der Ausgabe einen Fehler verursachen. Um diesen Fehler abzufangen, passen wir die Initialiserung an, indem wir bei Objekt Generierung ein leeres Users-Array erstellen."
   ]
  },
  {
   "cell_type": "code",
   "execution_count": 22,
   "id": "b3ca82cb-e2c3-40bc-af60-abb1ee0f3c89",
   "metadata": {},
   "outputs": [
    {
     "name": "stdout",
     "output_type": "stream",
     "text": [
      "[#<#<Class:0x00005592fdc31870>::User:0x00005592fdade3b0 @name=\"Bob Smith\", @address=\"1 Main Street\", @department=#<#<Class:0x00005592fdc31870>::Department:0x00005592fdade568 @name=\"Sales\", @users=[#<#<Class:0x00005592fdc31870>::User:0x00005592fdade3b0 ...>]>>, #<#<Class:0x00005592fdc31870>::User:0x00005592fdade2c0 @name=\"Mary Jane\", @address=\"10 Another Street\", @department=#<#<Class:0x00005592fdc31870>::Department:0x00005592fdade4a0 @name=\"Engineering\", @users=[#<#<Class:0x00005592fdc31870>::User:0x00005592fdade2c0 ...>]>>]"
     ]
    }
   ],
   "source": [
    "#1.,2.\n",
    "class User\n",
    "  attr_accessor :name, :address, :department\n",
    "\n",
    "  def initialize(name, address, department)\n",
    "    @name = name\n",
    "    @address = address\n",
    "    @department = department\n",
    "    #9.\n",
    "    @department.users << self\n",
    "  end\n",
    "end\n",
    "\n",
    "class Company\n",
    "  attr_accessor :name, :url, :departments\n",
    "\n",
    "  def initialize(name, url)\n",
    "    @name = name\n",
    "    @url = URI.parse(url)\n",
    "  end\n",
    "  #7. & 8.(.flatten hinzugefügt)\n",
    "  def users\n",
    "    departments.map(&:users).flatten\n",
    "  end\n",
    "end\n",
    "\n",
    "#8. @users = []\n",
    "class Department\n",
    "  attr_accessor :name, :users\n",
    "\n",
    "  def initialize(name)\n",
    "    @name = name\n",
    "    @users = []\n",
    "  end\n",
    "end\n",
    "\n",
    "#3.\n",
    "c = Company.new(\"HS Mannheim\", \"www.hs-mannheim.de\")\n",
    "\n",
    "#4.\n",
    "sales = Department.new(\"Sales\")\n",
    "engineering = Department.new(\"Engineering\")\n",
    "\n",
    "#5.\n",
    "bob = User.new(\"Bob Smith\", \"1 Main Street\", sales)\n",
    "mary = User.new(\"Mary Jane\", \"10 Another Street\", engineering)\n",
    "\n",
    "#6.\n",
    "c.departments = [sales, engineering]\n",
    "\n",
    "\n",
    "print c.users"
   ]
  },
  {
   "cell_type": "markdown",
   "id": "365cd8be-6932-45df-8c47-2bcebe56748c",
   "metadata": {},
   "source": [
    "## Übung URL\n",
    "Mit dieser Aufgabe übst du die Möglichkeiten und Unterschiede von Klassen Methoden und Variablen in Ruby.\n",
    "\n",
    "1. Erstelle eine Klasse mit dem Name SocialShare.\n",
    "2. Füge dieser Klasse die Klassenvariable platforms hinzu. Verwende hierfür @@. Die Klassenvariable soll einen Hash von Key-Value-Paaren enthalten, welche die verschiedenen URL Share Vorlagen enthalten. Jede Vorlage erhält dabei eine spezielle Ruby-Syntax zum Ersetzen von Teilen eines Strings (named placement). Die Syntax hierfür lautet: %{var}. In unserem Fall verwenden wir: %{url}, %{title} und %{summary}. Entsprechend erstellen wir folgende Key-Value-Paare:\n",
    "    * facebook: \"https://www.facebook.com/share/sharer.php?u=%{url}\",\n",
    "    * twitter: \"https://twitter.com/intent/tweet?text=%{url}?%{title}\",\n",
    "    * linkedin: \"http://www.linkedin.com/shareArticle?mini=true&url=%{url}&title=%{title}&summary=%{summary}\"\n",
    "3. Als nächstes erstellen wir die Initialisierungsmethode, welche folgende Argumente benötigit: platform, title, url, summary=\"\" - Innerhalb der Methode trage folgendes ein: \n",
    "    * @platform = platform.to_sym\n",
    "    * @share_url = url\n",
    "    * @title = title\n",
    "    * @summary = summary\n",
    "4. Als nächstes erstellen wir die Methoden zum generieren einer URL - generate_url. Füge folgenden Inhalt in die Methode ein:\n",
    "    * @@platforms[@platform] % {title: @title, url: @share_url, summary: @summary}\n",
    "5. Nun erstellen wir noch eine Methode, um die Url zu lesen. Dazu trage in diese Methode folgendes ein:\n",
    "    * @url  ||= generate_url\n",
    "6. Jetzt erstellen wir eine Klassenmethode mit dem Schlüsselwort self: self.url Diese Methode benötigt die gleichen Argumente wie unsere Initialisierungsmethode. Der Inhalt für diese lautet:\n",
    "    * new(platform, title, url, summary).url\n",
    "7. Um das ganze nun testen zu können deklarieren wir außerhalb der Klasse die benötigten Attribute z. B. so:\n",
    "    * platform = \"facebook\" (oder twitter, linkedin)\n",
    "    * title = \"Informatikworkshop\"\n",
    "    * summary = \"IWS\"\n",
    "8. Rufe nun diese Methode auf und übergebe die notwendigen Argumente.\n",
    "9. Neben der Möglichkeit einzelne Links erstellen zu können, wollen wir nun noch eine Klassenmethode erstellen, welche alle drei Links erstellt. Diese schaut wie folgt aus:"
   ]
  },
  {
   "cell_type": "code",
   "execution_count": null,
   "id": "a85a304b-1eb1-4574-b1e2-240bfd83f895",
   "metadata": {},
   "outputs": [],
   "source": [
    "def self.get_links_for_all(title, url, summary)\n",
    "    @@platforms.keys.map do |platform|\n",
    "        url(platform, title, url, summary)\n",
    "    end\n",
    "end"
   ]
  },
  {
   "cell_type": "markdown",
   "id": "287f5e9c-bd2b-47dc-aaec-0005713a9fe6",
   "metadata": {},
   "source": [
    "10. Rufe nun auch diese erstellte Methode auf."
   ]
  },
  {
   "cell_type": "code",
   "execution_count": 23,
   "id": "706a3908-8002-430f-800d-91f0b57896a8",
   "metadata": {},
   "outputs": [
    {
     "name": "stdout",
     "output_type": "stream",
     "text": [
      "https://www.facebook.com/share/sharer.php?u=www.hs-ma.de\n",
      "https://www.facebook.com/share/sharer.php?u=www.hs-ma.de\n",
      "https://twitter.com/intent/tweet?text=www.hs-ma.de/InformatikWorkshop\n",
      "http://www.linkedin.com/shareArticle?mini=true&url=www.hs-ma.de&title=InformatikWorkshop&summary=IWS\n"
     ]
    }
   ],
   "source": [
    "#1.\n",
    "class SocialShare\n",
    "  #2.\n",
    "  @@platforms = {\n",
    "    facebook: \"https://www.facebook.com/share/sharer.php?u=%{url}\",\n",
    "\n",
    "    twitter: \"https://twitter.com/intent/tweet?text=%{url}/%{title}\",\n",
    "\n",
    "    linkedin: \"http://www.linkedin.com/shareArticle?mini=true&url=%{url}&title=%{title}&summary=%{summary}\"\n",
    "  }\n",
    "\n",
    "  #3.\n",
    "  def initialize(platform, title, url, summary= \"\")\n",
    "    @platform = platform.to_sym\n",
    "\n",
    "    @share_url = url\n",
    "\n",
    "    @title = title\n",
    "\n",
    "    @summary = summary\n",
    "  end\n",
    "\n",
    "  #5.\n",
    "  def url\n",
    "    @url  ||= generate_url\n",
    "  end\n",
    "\n",
    "  #4.\n",
    "  def generate_url\n",
    "    @@platforms[@platform] % {title: @title, url: @share_url, summary: @summary}\n",
    "  end\n",
    "\n",
    "  #6.\n",
    "  def self.url(platform, title, url, summary =\"\")\n",
    "   new(platform, title, url, summary).url\n",
    "  end\n",
    "\n",
    "  #9.\n",
    "  def self.get_links_for_all(title, url, summary)\n",
    "    @@platforms.keys.map do |platform|\n",
    "      url(platform, title, url, summary)\n",
    "    end\n",
    "  end\n",
    "end\n",
    "\n",
    "#7.\n",
    "platform = \"facebook\"\n",
    "\n",
    "title = \"InformatikWorkshop\"\n",
    "url = \"www.hs-ma.de\"\n",
    "summary = \"IWS\"\n",
    "\n",
    "#8.\n",
    "puts SocialShare.url(platform, title, url, summary)\n",
    "\n",
    "#10.\n",
    "puts SocialShare.get_links_for_all(title, url, summary)"
   ]
  },
  {
   "cell_type": "code",
   "execution_count": null,
   "id": "42a3812d-3030-4e9b-9feb-d79c964cbba6",
   "metadata": {},
   "outputs": [],
   "source": []
  }
 ],
 "metadata": {
  "kernelspec": {
   "display_name": "Ruby 3.0.2",
   "language": "ruby",
   "name": "ruby"
  },
  "language_info": {
   "file_extension": ".rb",
   "mimetype": "application/x-ruby",
   "name": "ruby",
   "version": "3.0.2"
  }
 },
 "nbformat": 4,
 "nbformat_minor": 5
}
