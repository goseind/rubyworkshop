{
  "cells": [
    {
      "cell_type": "markdown",
      "metadata": {
        "id": "HW_UBJF9uwQ7"
      },
      "source": [
        "# Lösungen Funktionale Programmierung\n",
        "\n",
        "> Bei jeder Aufgabe soll sowohl eine imperative als auch funktionale Lösung angegeben werden."
      ]
    },
    {
      "cell_type": "markdown",
      "metadata": {
        "id": "9r6YA9OTwWzv"
      },
      "source": [
        "1. Gegeben ist eine Liste mit Namen.  \n",
        "a) In einem ersten Schritt sollen alle Personen mit 2 oder mehr Vornamen herausgefiltert werden. Im Anschluss sollen diese nach ihrem 2. Vornamen alphabetisch sortiert werden.  \n",
        "b) Welcher ist der längste Name davon?  \n",
        "c) Wie lange ist dieser?"
      ]
    },
    {
      "cell_type": "code",
      "execution_count": null,
      "metadata": {
        "id": "JzEbL_RHxsP8"
      },
      "outputs": [],
      "source": [
        "names = [\"Daniel Jacob Radcliffe\", \"Rupert Alexander Lloyd Grint\", \"Emma Charlotte Duerre Watson\", \"Bonnie Francesca Wright\", \"Matthew Lewis\", \"Margaret Natalie Smith\", \"Garry Oldman\", \"Ralph Fiennes\", \"Alan Rickman\"]"
      ]
    },
    {
      "cell_type": "code",
      "execution_count": null,
      "metadata": {
        "id": "lWn9tHm3xmIo"
      },
      "outputs": [],
      "source": [
        "# Imperativ\n",
        "# a) Array sollte die Länge 5 haben und mit Rupert beginnen\n",
        "filtered = []\n",
        "for n in names\n",
        "    if n.split(\" \").length > 2\n",
        "        filtered << n\n",
        "    end\n",
        "end\n",
        "\n",
        "leng = filtered.length - 1\n",
        "for i in 0...leng\n",
        "    for j in 0...(leng - i)\n",
        "        compare = filtered[j].split(\" \")[1] <=> filtered[j+1].split(\" \")[1]\n",
        "        if compare == 1 then\n",
        "            tmp = filtered[j];\n",
        "            filtered[j] = filtered[j+1];\n",
        "            filtered[j+1] = tmp\n",
        "        end\n",
        "    end\n",
        "end\n",
        "\n",
        "# b) Emma oder Rupert\n",
        "#     ....\n",
        "#        compare = filtered[j].length - filtered[j+1].length\n",
        "#    für Emma:\n",
        "#        if compare <= 0 then\n",
        "#    für Rupert\n",
        "#        if compare < 0 then\n",
        "#     .....\n",
        "#name = filtered[0]\n",
        "\n",
        "# c) 28\n",
        "# ... b)\n",
        "# name.length"
      ]
    },
    {
      "cell_type": "code",
      "execution_count": null,
      "metadata": {
        "id": "KZhequ3hxmuN"
      },
      "outputs": [],
      "source": [
        "# Funktional\n",
        "\n",
        "# a) Array sollte die Länge 5 haben und mit Rupert beginnen\n",
        "names.select { |n|\n",
        "    n.split(\" \").length > 2\n",
        "}\n",
        ".sort { |prev, curr|\n",
        "    prev.split(\" \")[1] <=> curr.split(\" \")[1]\n",
        "}\n",
        "\n",
        "# b) Emma Charlotte Duerre Watson\n",
        "names.select { |n|\n",
        "    n.split(\" \").length > 2\n",
        "}\n",
        ".sort { |prev, curr|\n",
        "    prev.length - curr.length\n",
        "}\n",
        ".last\n",
        "\n",
        "# oder Rupert Alexander Lloyd Grint\n",
        "names.select { |n|\n",
        "    n.split(\" \").length > 2\n",
        "}\n",
        ".sort { |prev, curr|\n",
        "    curr.length - prev.length\n",
        "}\n",
        ".first\n",
        "\n",
        "# c) 28 (auch hier wieder 2 Lösungen)\n",
        "names.select { |n|\n",
        "    n.split(\" \").length > 2\n",
        "}\n",
        ".sort { |prev, curr|\n",
        "    prev.length - curr.length\n",
        "}\n",
        ".last\n",
        ".length"
      ]
    },
    {
      "cell_type": "markdown",
      "metadata": {
        "id": "mLuAd7Yl5Mt0"
      },
      "source": [
        "2. Was ist die Summe der ersten 10 natürlichen Zahlen, deren Quadrat durch 5 teilbar ist?"
      ]
    },
    {
      "cell_type": "code",
      "execution_count": null,
      "metadata": {
        "id": "WrSibck7upTa"
      },
      "outputs": [],
      "source": [
        "# Imperativ 275\n",
        "n, num_elements, sum = 1, 0, 0\n",
        "while num_elements < 10\n",
        "    if n**2 % 5 == 0\n",
        "        sum += n\n",
        "        num_elements += 1\n",
        "    end\n",
        "    n += 1\n",
        "end"
      ]
    },
    {
      "cell_type": "code",
      "execution_count": null,
      "metadata": {
        "id": "6U0BZBf0wSuB"
      },
      "outputs": [],
      "source": [
        "# Funktional 275\n",
        "(1...999).select { |x|\n",
        "    x**2 % 5 == 0\n",
        "}\n",
        ".take(10)\n",
        ".inject(:+)"
      ]
    }
  ],
  "metadata": {
    "colab": {
      "collapsed_sections": [],
      "name": "Ruby Functional.ipynb",
      "provenance": []
    },
    "kernelspec": {
      "display_name": "Python 3",
      "name": "python3"
    },
    "language_info": {
      "name": "python"
    }
  },
  "nbformat": 4,
  "nbformat_minor": 0
}
