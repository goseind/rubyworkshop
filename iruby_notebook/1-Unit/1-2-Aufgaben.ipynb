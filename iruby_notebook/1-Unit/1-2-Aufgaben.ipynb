{
 "cells": [
  {
   "cell_type": "markdown",
   "metadata": {},
   "source": [
    "# Themenblock 1 - Teil 2 - Aufgaben"
   ]
  },
  {
   "cell_type": "markdown",
   "metadata": {},
   "source": [
    "## Aufgabe 1: Ruby `unless` Fallunterscheidung (leicht)\n",
    "\n",
    "Um mit einer Achterbahn fahren zu können, muss man mindestens `1.50 m` groß sein. Schreibe eine `unless` Fallunterscheidung, die dies überprüft!\n",
    "\n",
    "**Beispiel Input:**\n",
    "\n",
    "`groesse = 1.40 # m`\n",
    "\n",
    "**Beispiel Output:**\n",
    "\n",
    "Nicht groß genug."
   ]
  },
  {
   "cell_type": "code",
   "execution_count": null,
   "metadata": {},
   "outputs": [],
   "source": [
    "# your code here"
   ]
  },
  {
   "cell_type": "markdown",
   "metadata": {},
   "source": [
    "## Aufgabe 2: Ruby `if`/`case` Fallunterscheidung (leicht)\n",
    "\n",
    "In Ruby können Variablen einfach so, ohne Datentyp, definiert werden. Schreibe eine `if`/`case` Fallunterscheidung, die den Datentyp bzw. die Klasse der zuvor definierten Variable prüft und zurückgibt! Prüfe die Variable auf folgende Datentypen bzw. Klassen: `String`, `Numeric`, `TrueClass` bzw. `FalseClass`.\n",
    "\n",
    "**Beispiel Input:**\n",
    "\n",
    "`var = 1`\n",
    "\n",
    "**Beispiel Output:**\n",
    "\n",
    "Zahl"
   ]
  },
  {
   "cell_type": "code",
   "execution_count": null,
   "metadata": {},
   "outputs": [],
   "source": [
    "# your code here"
   ]
  },
  {
   "cell_type": "markdown",
   "metadata": {},
   "source": [
    "## Aufgabe 1: Methode Strings verknüpfen (leicht)\n",
    "\n",
    "Definiere eine Methode mit zwei Parametern, die einen Dateinamen und einen Prefix String als Argument aufnimmt und diese entsprechend miteinander verknüpfen.\n",
    "\n",
    "**Beispiel Input**\n",
    "\n",
    "`archive(\"dateiname\", \"archive_\")`\n",
    "\n",
    "**Beispiel Output**\n",
    "\n",
    "Dateiname_archive"
   ]
  },
  {
   "cell_type": "code",
   "execution_count": null,
   "metadata": {},
   "outputs": [],
   "source": [
    "# your code here"
   ]
  },
  {
   "cell_type": "markdown",
   "metadata": {},
   "source": [
    "### Aufgabe 2: Methode mit Schleife Großbuchstaben (mittel)\n",
    "\n",
    "Definiere eine Methode, mit zwei Parametern, der erste Parameter soll einen beliebigen String aufnehmen, der zweite einen Buchstaben. Die Methode soll mittels einer Schleife alle im Sring vorhandenen Buchstaben in Großbuchstaben verfwandeln.\n",
    "\n",
    "**Beispiel Input**\n",
    "\n",
    "`charup(\"Kaffee\", \"f\")`\n",
    "\n",
    "**Beispiel Output**\n",
    "\n",
    "KaFFee"
   ]
  },
  {
   "cell_type": "code",
   "execution_count": null,
   "metadata": {},
   "outputs": [],
   "source": [
    "# your code here"
   ]
  },
  {
   "cell_type": "markdown",
   "metadata": {},
   "source": [
    "### Aufgabe 3 (schwer)\n",
    "\n",
    "Schreibe eine for-Schleife, die mittels eines Enumerators eine Textdatei Zeile für Zeile durchgeht und dabei die aktuelle Zeile ausgibt.\n",
    "\n",
    "**Beispiel Input**\n",
    "\n",
    "`text = File.open('text.txt')`\n",
    "\n",
    "**Beispiel Output**\n",
    "\n",
    "1: line of text  \n",
    "2: more text  \n",
    "3: really?  \n",
    "4: why more?  \n",
    "5: even more text  \n",
    "6: read it  \n",
    "7: or not \n",
    "8: the end"
   ]
  },
  {
   "cell_type": "code",
   "execution_count": null,
   "metadata": {},
   "outputs": [],
   "source": [
    "# Öffnen einer einfachen txt Datei\n",
    "text = File.open('text.txt')\n",
    "\n",
    "# your code here"
   ]
  },
  {
   "cell_type": "markdown",
   "metadata": {},
   "source": [
    "### Aufgabe 4 (schwer)\n",
    "\n",
    "Implementiere eine Funktion, die über eine Farbliste iteriert, diese sortiert in ein neues Array schreibt und pro Zeile ausgibt!\n",
    "Überprüfe zu Beginn, ob die Farbliste leer ist.\n",
    "\n",
    "**Beispiel Input**\n",
    "\n",
    "`col_full = %w(green blue yellow pink)`  \n",
    "`col_empty = []`\n",
    "\n",
    "**Beispiel Output**\n",
    "\n",
    "blue  \n",
    "green  \n",
    "pink  \n",
    "yellow"
   ]
  },
  {
   "cell_type": "code",
   "execution_count": null,
   "metadata": {},
   "outputs": [],
   "source": [
    "# your code here"
   ]
  },
  {
   "cell_type": "markdown",
   "metadata": {},
   "source": [
    "### Aufgabe 5 (leicht)\n",
    "\n",
    "Schreibe eine “Remove Prefix” Methode, die eine gegebene Anzahl an Buchstaben von einem Satzanfang entfernt.\n",
    "\n",
    "**Beispiel Input**\n",
    "\n",
    "`methode(\"Error message: Please restart your computer!\")`\n",
    "\n",
    "**Beispiel Output**\n",
    "\n",
    "Please restart your computer!"
   ]
  },
  {
   "cell_type": "code",
   "execution_count": null,
   "metadata": {},
   "outputs": [],
   "source": [
    "# your code here"
   ]
  }
 ],
 "metadata": {
  "kernelspec": {
   "display_name": "Ruby 2.7.0",
   "language": "ruby",
   "name": "ruby"
  },
  "language_info": {
   "file_extension": ".rb",
   "mimetype": "application/x-ruby",
   "name": "ruby",
   "version": "2.7.0"
  },
  "orig_nbformat": 4
 },
 "nbformat": 4,
 "nbformat_minor": 2
}
