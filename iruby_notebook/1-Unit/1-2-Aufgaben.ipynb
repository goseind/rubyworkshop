{
 "cells": [
  {
   "cell_type": "markdown",
   "metadata": {},
   "source": [
    "# Themenblock 1 - Teil 2 - Aufgaben"
   ]
  },
  {
   "cell_type": "markdown",
   "metadata": {},
   "source": [
    "## Aufgabe 1: Ruby `unless` Fallunterscheidung (leicht)\n",
    "\n",
    "Um mit einer Achterbahn fahren zu können, muss man mindestens `1.50 m` groß sein. Schreibe eine `unless` Fallunterscheidung, die dies überprüft!\n",
    "\n",
    "**Beispiel Input:**\n",
    "\n",
    "`groesse = 1.40 # m`\n",
    "\n",
    "**Beispiel Output:**\n",
    "\n",
    "Nicht groß genug."
   ]
  },
  {
   "cell_type": "code",
   "execution_count": 1,
   "metadata": {},
   "outputs": [],
   "source": [
    "# your code here"
   ]
  },
  {
   "cell_type": "markdown",
   "metadata": {},
   "source": [
    "## Aufgabe 2: Ruby `if`/`case` Fallunterscheidung (leicht)\n",
    "\n",
    "In Ruby können Variablen einfach so, ohne Datentyp, definiert werden. Schreibe eine `if`/`case` Fallunterscheidung, die den Datentyp bzw. die Klasse der zuvor definierten Variable prüft und zurückgibt!\n",
    "\n",
    "Prüfe die Variable auf folgende Datentypen bzw. Klassen: `String`, `Numeric`, `TrueClass` bzw. `FalseClass`.\n",
    "\n",
    "**Beispiel Input:**\n",
    "\n",
    "`var = 1`\n",
    "\n",
    "**Beispiel Output:**\n",
    "\n",
    "Zahl"
   ]
  },
  {
   "cell_type": "code",
   "execution_count": 2,
   "metadata": {},
   "outputs": [],
   "source": [
    "# your code here"
   ]
  },
  {
   "cell_type": "markdown",
   "metadata": {},
   "source": [
    "## Aufgabe 3: Methode Strings verknüpfen (leicht)\n",
    "\n",
    "Definiere eine Methode mit zwei Parametern, die einen Dateinamen und einen Präfix als Argument aufnimmt und diese entsprechend miteinander verknüpft.\n",
    "\n",
    "**Beispiel Input:**\n",
    "\n",
    "`archive(\"dateiname\", \"archive_\")`\n",
    "\n",
    "**Beispiel Output:**\n",
    "\n",
    "Dateiname_archive"
   ]
  },
  {
   "cell_type": "code",
   "execution_count": 3,
   "metadata": {},
   "outputs": [],
   "source": [
    "# your code here"
   ]
  },
  {
   "cell_type": "markdown",
   "metadata": {},
   "source": [
    "## Aufgabe 4: Methode mit Schleife Großbuchstaben (mittel)\n",
    "\n",
    "Definiere eine Methode mit zwei Parametern: Der erste Parameter soll einen beliebigen *String* aufnehmen, der zweite einen Buchstaben. Die Methode soll mittels einer Schleife alle im *String* vorhandenen Buchstaben in Großbuchstaben verwandeln.\n",
    "\n",
    "**Beispiel Input:**\n",
    "\n",
    "`charup(\"Kaffee\", \"f\")`\n",
    "\n",
    "**Beispiel Output:**\n",
    "\n",
    "KaFFee"
   ]
  },
  {
   "cell_type": "code",
   "execution_count": null,
   "metadata": {},
   "outputs": [],
   "source": [
    "# your code here"
   ]
  },
  {
   "cell_type": "markdown",
   "metadata": {},
   "source": [
    "## Aufgabe 5: Methode mit Hash-Parameter (mittel)\n",
    "\n",
    "Definiere eine Methode, die mehrere Argumente mittels Hash entgegennimmt. Bestimme selbst, was die Methode macht! Die Methode könnte z. B. eine einfach Rechnung durchführen!\n",
    "\n",
    "**Beispiel Input:**\n",
    "\n",
    "`deine_methode(dein_hash)`\n",
    "\n",
    "**Beispiel Output:**\n",
    "\n",
    "Dein Output"
   ]
  },
  {
   "cell_type": "code",
   "execution_count": 4,
   "metadata": {},
   "outputs": [],
   "source": [
    "# your code here"
   ]
  },
  {
   "cell_type": "markdown",
   "metadata": {},
   "source": [
    "## Aufgabe 6: Methode Farben (schwer)\n",
    "\n",
    "Implementiere eine Funktion, die über eine Farbliste iteriert, diese sortiert, in ein neues *Array* schreibt und pro Zeile ausgibt!\n",
    "\n",
    "Überprüfe zu Beginn, ob die Farbliste leer ist!\n",
    "\n",
    "**Beispiel Input:**\n",
    "\n",
    "`col_full = %w(green blue yellow pink)`  \n",
    "`col_empty = []`\n",
    "\n",
    "**Beispiel Output:**\n",
    "\n",
    "blue  \n",
    "green  \n",
    "pink  \n",
    "yellow"
   ]
  },
  {
   "cell_type": "code",
   "execution_count": 5,
   "metadata": {},
   "outputs": [],
   "source": [
    "# your code here"
   ]
  },
  {
   "cell_type": "markdown",
   "metadata": {},
   "source": [
    "## Aufgabe 7: Methode Steuerklasse (schwer)\n",
    "\n",
    "Schreibe eine Methode, mit der es möglich ist, die Mehrwertsteuer für den Nettopreis eines Artikels zu berechnen. Die Methode soll zwischen dem ermäßigten Steuersatz von *7 %* und dem Standardsatz von *19 %* unterscheiden.\n",
    "\n",
    "Nenne die Methode `mehrwertsteuer` und gib ihr anschließend einen Alias, sodass sie mit `mwst` aufgerufen werden kann!\n",
    "\n",
    "**Beispiel Input:**\n",
    "\n",
    "`mwst(15.90, false)`\n",
    "\n",
    "**Beispiel Output:**\n",
    "\n",
    "18.921"
   ]
  },
  {
   "cell_type": "code",
   "execution_count": 6,
   "metadata": {},
   "outputs": [],
   "source": [
    "# your code here"
   ]
  },
  {
   "cell_type": "markdown",
   "metadata": {},
   "source": [
    "## Aufgabe 8: Kartensatz (Zusatz)\n",
    "\n",
    "In dieser Aufgabe wollen wir mittels zwei Methoden zunächst einen Kartensatz erstellen und diesen dann mischen, sodass er anschließend an die Spieler verteilt werden kann.\n",
    "\n",
    "* Schreibe also zunächst eine Methode, die einen Kartensatz mit 4 x 13 Karten (52 Karten), bestehend aus aus vier Blättern (Kreuz, Pik, Herz, Karo) erstellt.\n",
    "* Schreibe anschließend eine zweite Methode, die den Kartensatz mischt!\n",
    "\n",
    "*Tipp: In Ruby gibt es die eingebaute `rand` Methode, um zufällig Zahlen zu generieren, sowie eine Methode `delete_at`, um Elemente aus einem Array zu löschen.*\n",
    "\n",
    "**Beispiel Input:**\n",
    "\n",
    "n/a\n",
    "\n",
    "**Beispiel Output:**\n",
    "\n",
    "```bash\n",
    "[[4, \"Pik\"], [12, \"Kreuz\"], [3, \"Kreuz\"], [12, \"Herz\"], [1, \"Karo\"], [12, \"Karo\"], [6, \"Pik\"], [12, \"Pik\"], [1, \"Pik\"], [7, \"Herz\"], [2, \"Herz\"], [7, \"Kreuz\"], [10, \"Pik\"], [10, \"Herz\"], [9, \"Karo\"], [11, \"Pik\"], [9, \"Pik\"], [5, \"Karo\"], [3, \"Herz\"], [5, \"Pik\"], [6, \"Herz\"], [7, \"Karo\"], [1, \"Kreuz\"], [8, \"Kreuz\"], [10, \"Karo\"], [3, \"Pik\"], [8, \"Herz\"], [13, \"Pik\"], [8, \"Karo\"], [13, \"Kreuz\"], [9, \"Kreuz\"], [4, \"Kreuz\"], [5, \"Kreuz\"], [11, \"Kreuz\"], [5, \"Herz\"], [6, \"Karo\"], [9, \"Herz\"], [6, \"Kreuz\"], [1, \"Herz\"], [2, \"Kreuz\"], [11, \"Herz\"], [4, \"Karo\"], [3, \"Karo\"], [4, \"Herz\"], [8, \"Pik\"], [7, \"Pik\"], [13, \"Karo\"], [13, \"Herz\"], [11, \"Karo\"], [2, \"Karo\"], [10, \"Kreuz\"], [2, \"Pik\"]]\n",
    "```"
   ]
  },
  {
   "cell_type": "code",
   "execution_count": 7,
   "metadata": {},
   "outputs": [],
   "source": [
    "# your code here"
   ]
  }
 ],
 "metadata": {
  "kernelspec": {
   "display_name": "Ruby 2.7.0",
   "language": "ruby",
   "name": "ruby"
  },
  "language_info": {
   "file_extension": ".rb",
   "mimetype": "application/x-ruby",
   "name": "ruby",
   "version": "2.7.0"
  },
  "orig_nbformat": 4
 },
 "nbformat": 4,
 "nbformat_minor": 2
}
