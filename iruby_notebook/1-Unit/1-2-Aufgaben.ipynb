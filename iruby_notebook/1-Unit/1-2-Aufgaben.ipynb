{
 "cells": [
  {
   "cell_type": "markdown",
   "metadata": {},
   "source": [
    "# Themenblock 1 - Teil 2 - Aufgaben"
   ]
  },
  {
   "cell_type": "markdown",
   "metadata": {},
   "source": [
    "## Aufgabe 1: Ruby `unless` Fallunterscheidung (leicht)\n",
    "\n",
    "Um mit einer Achterbahn fahren zu können, muss man mindestens `1.50 m` groß sein. Schreibe eine `unless` Fallunterscheidung, die dies überprüft!\n",
    "\n",
    "**Beispiel Input:**\n",
    "\n",
    "`groesse = 1.40 # m`\n",
    "\n",
    "**Beispiel Output:**\n",
    "\n",
    "Nicht groß genug."
   ]
  },
  {
   "cell_type": "code",
   "execution_count": 1,
   "metadata": {},
   "outputs": [],
   "source": [
    "# your code here"
   ]
  },
  {
   "cell_type": "markdown",
   "metadata": {},
   "source": [
    "## Aufgabe 2: Ruby `if`/`case` Fallunterscheidung (leicht)\n",
    "\n",
    "In Ruby können Variablen einfach so, ohne Datentyp, definiert werden. Schreibe eine `if`/`case` Fallunterscheidung, die den Datentyp bzw. die Klasse der zuvor definierten Variable prüft und zurückgibt! Prüfe die Variable auf folgende Datentypen bzw. Klassen: `String`, `Numeric`, `TrueClass` bzw. `FalseClass`.\n",
    "\n",
    "**Beispiel Input:**\n",
    "\n",
    "`var = 1`\n",
    "\n",
    "**Beispiel Output:**\n",
    "\n",
    "Zahl"
   ]
  },
  {
   "cell_type": "code",
   "execution_count": 2,
   "metadata": {},
   "outputs": [],
   "source": [
    "# your code here"
   ]
  },
  {
   "cell_type": "markdown",
   "metadata": {},
   "source": [
    "## Aufgabe 3: Methode Strings verknüpfen (leicht)\n",
    "\n",
    "Definiere eine Methode mit zwei Parametern, die einen Dateinamen und einen Prefix String als Argument aufnimmt und diese entsprechend miteinander verknüpfen.\n",
    "\n",
    "**Beispiel Input:**\n",
    "\n",
    "`archive(\"dateiname\", \"archive_\")`\n",
    "\n",
    "**Beispiel Output:**\n",
    "\n",
    "Dateiname_archive"
   ]
  },
  {
   "cell_type": "code",
   "execution_count": 3,
   "metadata": {},
   "outputs": [],
   "source": [
    "# your code here"
   ]
  },
  {
   "cell_type": "markdown",
   "metadata": {},
   "source": [
    "## Aufgabe 4: Methode mit Schleife Großbuchstaben (mittel)\n",
    "\n",
    "Definiere eine Methode, mit zwei Parametern, der erste Parameter soll einen beliebigen String aufnehmen, der zweite einen Buchstaben. Die Methode soll mittels einer Schleife alle im Sring vorhandenen Buchstaben in Großbuchstaben verfwandeln.\n",
    "\n",
    "**Beispiel Input:**\n",
    "\n",
    "`charup(\"Kaffee\", \"f\")`\n",
    "\n",
    "**Beispiel Output:**\n",
    "\n",
    "KaFFee"
   ]
  },
  {
   "cell_type": "code",
   "execution_count": 4,
   "metadata": {},
   "outputs": [],
   "source": [
    "# your code here"
   ]
  },
  {
   "cell_type": "markdown",
   "metadata": {},
   "source": [
    "## Aufgabe 5: Methode Farben (schwer)\n",
    "\n",
    "Implementiere eine Funktion, die über eine Farbliste iteriert, diese sortiert in ein neues Array schreibt und pro Zeile ausgibt!\n",
    "Überprüfe zu Beginn, ob die Farbliste leer ist.\n",
    "\n",
    "**Beispiel Input:**\n",
    "\n",
    "`col_full = %w(green blue yellow pink)`  \n",
    "`col_empty = []`\n",
    "\n",
    "**Beispiel Output:**\n",
    "\n",
    "blue  \n",
    "green  \n",
    "pink  \n",
    "yellow"
   ]
  },
  {
   "cell_type": "code",
   "execution_count": 5,
   "metadata": {},
   "outputs": [],
   "source": [
    "# your code here"
   ]
  },
  {
   "cell_type": "markdown",
   "metadata": {},
   "source": [
    "## Aufgabe 6: Methode Steuerklasse (schwer)\n",
    "\n",
    "Schreibe eine Methode, mit der es möglich ist, die Mehrwertsteuer für den Nettopreis eines Artikels zu berechnen. Die Methode soll zwischen dem ermäßigten Stuersatz von *7 %* und dem Standard von *19 %* unterscheiden. Nennen die Methode `mehrwertsteuer` und gibt ihr anschließend einen Alias, so das sie mit `mwst` aufgerufen werden kann!\n",
    "\n",
    "**Beispiel Input:**\n",
    "\n",
    "`mwst(15.90, false)`\n",
    "\n",
    "**Beispiel Output:**\n",
    "\n",
    "18.921"
   ]
  },
  {
   "cell_type": "code",
   "execution_count": 6,
   "metadata": {},
   "outputs": [],
   "source": [
    "# your code here"
   ]
  },
  {
   "cell_type": "markdown",
   "metadata": {},
   "source": [
    "## Aufgabe 7: Methode Blackjack (schwer)\n",
    "\n",
    "Schreibe eine Methode, ...\n",
    "\n",
    "**Beispiel Input:**\n",
    "\n",
    "\n",
    "\n",
    "**Beispiel Output:**\n",
    "\n"
   ]
  },
  {
   "cell_type": "code",
   "execution_count": 7,
   "metadata": {},
   "outputs": [],
   "source": [
    "# your code here"
   ]
  },
  {
   "cell_type": "code",
   "execution_count": 23,
   "metadata": {},
   "outputs": [
    {
     "name": "stdout",
     "output_type": "stream",
     "text": [
      "1\n",
      "4\n",
      "9\n"
     ]
    }
   ],
   "source": [
    "def map\n",
    "    yield 1\n",
    "    yield 2\n",
    "    yield 3\n",
    "end\n",
    "\n",
    "map { |item| puts item*item}\n",
    "\n"
   ]
  },
  {
   "cell_type": "code",
   "execution_count": 24,
   "metadata": {},
   "outputs": [],
   "source": [
    "exit unless \"restaurant\".include? \"aura\""
   ]
  }
 ],
 "metadata": {
  "kernelspec": {
   "display_name": "Ruby 2.7.0",
   "language": "ruby",
   "name": "ruby"
  },
  "language_info": {
   "file_extension": ".rb",
   "mimetype": "application/x-ruby",
   "name": "ruby",
   "version": "2.7.0"
  },
  "orig_nbformat": 4
 },
 "nbformat": 4,
 "nbformat_minor": 2
}
