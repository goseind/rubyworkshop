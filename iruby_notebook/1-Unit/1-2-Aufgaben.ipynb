{
 "cells": [
  {
   "cell_type": "markdown",
   "metadata": {},
   "source": [
    "# Themenblock 1 - Teil 2 - Aufgaben\n",
    "\n",
    "Die nachfolgenden Aufgaben decken den gesamten Abschnitt ab und behandeln die Themen: Fallunterscheidungen, Iteratoren und Enumeratoren, Blöcke, Methoden, Ausnahmen und Threads.\n",
    "Die Aufgaben bestehen aus einer Kombination all dieser Themen und gehen von leicht bis schwer - somit kann jeder eine für seinen Fortschritt passende Aufgabe auswählen und diese bearbeiten."
   ]
  },
  {
   "cell_type": "markdown",
   "metadata": {},
   "source": [
    "### Aufgabe 1: Methode Strings verknüpfen (leicht)\n",
    "\n",
    "Definiere eine Methode mit zwei Parametern, die einen Dateinamen und einen Prefix String als Argument aufnimmt und diese entsprechend miteinander verknüpfen.\n",
    "\n",
    "**Beispiel Input**\n",
    "\n",
    "`archive(\"dateiname\", \"archive_\")`\n",
    "\n",
    "**Beispiel Output**\n",
    "\n",
    "Dateiname_archive"
   ]
  },
  {
   "cell_type": "code",
   "execution_count": null,
   "metadata": {},
   "outputs": [],
   "source": [
    "# your code here"
   ]
  },
  {
   "cell_type": "markdown",
   "metadata": {},
   "source": [
    "### Aufgabe 2: Methode mit Schleife Großbuchstaben (mittel)\n",
    "\n",
    "Definiere eine Methode, mit zwei Parametern, der erste Parameter soll einen beliebigen String aufnehmen, der zweite einen Buchstaben. Die Methode soll mittels einer Schleife alle im Sring vorhandenen Buchstaben in Großbuchstaben verfwandeln.\n",
    "\n",
    "**Beispiel Input**\n",
    "\n",
    "`charup(\"Kaffee\", \"f\")`\n",
    "\n",
    "**Beispiel Output**\n",
    "\n",
    "KaFFee"
   ]
  },
  {
   "cell_type": "code",
   "execution_count": null,
   "metadata": {},
   "outputs": [],
   "source": [
    "# your code here"
   ]
  },
  {
   "cell_type": "markdown",
   "metadata": {},
   "source": [
    "### Aufgabe 3 (schwer)\n",
    "\n",
    "Schreibe eine for-Schleife, die mittels eines Enumerators eine Textdatei Zeile für Zeile durchgeht und dabei die aktuelle Zeile ausgibt.\n",
    "\n",
    "**Beispiel Input**\n",
    "\n",
    "`text = File.open('text.txt')`\n",
    "\n",
    "**Beispiel Output**\n",
    "\n",
    "1: line of text  \n",
    "2: more text  \n",
    "3: really?  \n",
    "4: why more?  \n",
    "5: even more text  \n",
    "6: read it  \n",
    "7: or not \n",
    "8: the end"
   ]
  },
  {
   "cell_type": "code",
   "execution_count": null,
   "metadata": {},
   "outputs": [],
   "source": [
    "# Öffnen einer einfachen txt Datei\n",
    "text = File.open('text.txt')\n",
    "\n",
    "# your code here"
   ]
  },
  {
   "cell_type": "markdown",
   "metadata": {},
   "source": [
    "### Aufgabe 4 (schwer)\n",
    "\n",
    "Implementiere eine Funktion, die über eine Farbliste iteriert, diese sortiert in ein neues Array schreibt und pro Zeile ausgibt!\n",
    "Überprüfe zu Beginn, ob die Farbliste leer ist.\n",
    "\n",
    "**Beispiel Input**\n",
    "\n",
    "`col_full = %w(green blue yellow pink)`  \n",
    "`col_empty = []`\n",
    "\n",
    "**Beispiel Output**\n",
    "\n",
    "blue  \n",
    "green  \n",
    "pink  \n",
    "yellow"
   ]
  },
  {
   "cell_type": "code",
   "execution_count": null,
   "metadata": {},
   "outputs": [],
   "source": [
    "# your code here"
   ]
  },
  {
   "cell_type": "markdown",
   "metadata": {},
   "source": [
    "### Aufgabe 5 (leicht)\n",
    "\n",
    "Schreibe eine “Remove Prefix” Methode, die eine gegebene Anzahl an Buchstaben von einem Satzanfang entfernt.\n",
    "\n",
    "**Beispiel Input**\n",
    "\n",
    "`methode(\"Error message: Please restart your computer!\")`\n",
    "\n",
    "**Beispiel Output**\n",
    "\n",
    "Please restart your computer!"
   ]
  },
  {
   "cell_type": "code",
   "execution_count": null,
   "metadata": {},
   "outputs": [],
   "source": [
    "# your code here"
   ]
  }
 ],
 "metadata": {
  "language_info": {
   "name": "python"
  },
  "orig_nbformat": 4
 },
 "nbformat": 4,
 "nbformat_minor": 2
}
