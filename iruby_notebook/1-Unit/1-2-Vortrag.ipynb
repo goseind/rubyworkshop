{
 "cells": [
  {
   "cell_type": "markdown",
   "metadata": {},
   "source": [
    "# Themenblock 1 - Teil 2 - Vortrag"
   ]
  },
  {
   "cell_type": "markdown",
   "metadata": {},
   "source": [
    "## Inhalt"
   ]
  },
  {
   "cell_type": "markdown",
   "metadata": {},
   "source": [
    "Die Abschnitte enthalten jeweils eine kurze Zusammenfassung *\"auf einen Blick\"* sowie die gezeigten Code Beispiele zu:\n",
    "\n",
    "1. Fallunterscheidungen\n",
    "2. Schleifen, Iteratoren und Enumeratoren\n",
    "3. Blöcke\n",
    "4. Steuerungsablauf (flow-of-control)\n",
    "5. Ausnahmen (Exceptions)\n",
    "6. Methoden\n",
    "7. Zusatz\n",
    "    1. Begin und End\n",
    "    2. Threads und Fiber\n",
    "\n",
    "*Inhalt, der mit dem Wort \"Zusatz\" gekennzeichnet ist, ist nicht Teil des Workshops und kann freiwilig im Anschluss zur Vertiefung genutzt werden*"
   ]
  },
  {
   "cell_type": "markdown",
   "metadata": {},
   "source": [
    "## Fallunterscheidungen auf einen Blick"
   ]
  },
  {
   "cell_type": "markdown",
   "metadata": {},
   "source": [
    "Fallunterscheidungen sind die gängigsten Kontrollstrukturen und sollten jedem aus anderen Programmiersprachen bekannt sein. Eine `if` bzw. `elseif` Fallunterscheidung sieht in Ruby wie folgt aus:\n",
    "\n",
    "```ruby\n",
    "if Ausdruck_1\n",
    "  Code_1\n",
    "elsif Ausdruck_2\n",
    "  Code_2\n",
    "  .\n",
    "  .\n",
    "elsif Ausdruck_n\n",
    "  Code_n\n",
    "else\n",
    "  Code\n",
    "end\n",
    "```\n",
    "\n",
    "Es gibt dennoch ein paar Dinge, die es in Ruby zu diesem Thema zu beachten gibt:\n",
    "\n",
    "* Eine Bedingung bzw. Ausdruck ist `true`, außer für die Werte: `false`, `nil`\n",
    "* Trennung durch Zeilenumbruch, Semikolon oder das Schlüsselwort `then`\n",
    "* Klammern um den Bedingungsausdruck werden nicht benötigt\n",
    "* Beenden der Fallunterscheidung durch `end`\n",
    "* Alles ist ein Ausdruck und hat einen Rückgabewert (Wert des letzten Ausdrucks)\n",
    "* Umgekehrte Schreibweise möglich: `Code if Ausdruck` (auch Modifier/Einzeiler genannt)\n",
    "* `case` bietet eine alternative Syntax zu `if` bzw. `elseif`\n",
    "  * Anstatt `elseif` wird dann `when` verwendet\n",
    "* `unless` ist das Gegenteil von `if` allerdings ohne `elseif`\n",
    "* Der `?` Operator implementiert eine einfach Variante der Fallunterscheidung"
   ]
  },
  {
   "cell_type": "markdown",
   "metadata": {},
   "source": [
    "### Code Beispiele für Fallunterscheidungen"
   ]
  },
  {
   "cell_type": "code",
   "execution_count": null,
   "metadata": {},
   "outputs": [],
   "source": [
    "# Eine Bedingung ist wahr, außer für: false, nil\n",
    "x = \"\"\n",
    "puts \"Ein leerer String ist wahr!\" if x"
   ]
  },
  {
   "cell_type": "code",
   "execution_count": null,
   "metadata": {},
   "outputs": [],
   "source": [
    "# Einfache elseif Fallunterscheidung\n",
    "x = 3\n",
    "if x == 1\n",
    "    name = \"eins\"\n",
    "elsif x == 2\n",
    "    name = \"zwei\"\n",
    "elsif x == 3 then name = \"drei\"\n",
    "elsif x == 4; name = \"vier\"\n",
    "else\n",
    "    name = \"viele\"\n",
    "end"
   ]
  },
  {
   "cell_type": "code",
   "execution_count": null,
   "metadata": {},
   "outputs": [],
   "source": [
    "# Elegante Schreibweise der Fallunterscheidung\n",
    "name = if    x == 1 then \"eins\"\n",
    "       elsif x == 2 then \"zwei\"\n",
    "       elsif x == 3 then \"drei\"\n",
    "       elsif x == 4 then \"vier\"\n",
    "       else              \"viele\"\n",
    "       end"
   ]
  },
  {
   "cell_type": "code",
   "execution_count": null,
   "metadata": {},
   "outputs": [],
   "source": [
    "# Dasselbe Beispiel mit case\n",
    "name = case\n",
    "       when x == 1 then \"eins\"\n",
    "       when x == 2 then \"zwei\"\n",
    "       when x == 3 then \"drei\"\n",
    "       when x == 4 then \"vier\"\n",
    "       else             \"viele\"\n",
    "       end"
   ]
  },
  {
   "cell_type": "code",
   "execution_count": null,
   "metadata": {},
   "outputs": [],
   "source": [
    "# Umgekehrte Schreibweise\n",
    "\"drei\" if x == 3"
   ]
  },
  {
   "cell_type": "code",
   "execution_count": null,
   "metadata": {},
   "outputs": [],
   "source": [
    "# Das Gegenteil von if: unless\n",
    "alter = 17\n",
    "unless alter >= 18\n",
    "    puts \"Nicht alt genug.\"\n",
    "end"
   ]
  },
  {
   "cell_type": "code",
   "execution_count": null,
   "metadata": {},
   "outputs": [],
   "source": [
    "# unless mit else\n",
    "unless alter >= 18\n",
    "    puts \"Nicht alt genug.\"\n",
    "else\n",
    "    puts \"Alt genug.\"\n",
    "end"
   ]
  },
  {
   "cell_type": "code",
   "execution_count": null,
   "metadata": {},
   "outputs": [],
   "source": [
    "# Umgekehrte unless Schreibweise\n",
    "puts \"Nicht alt genug.\" unless alter >= 18"
   ]
  },
  {
   "cell_type": "markdown",
   "metadata": {},
   "source": [
    "## Schleifen, Iteratoren und Enumeratoren auf einen Blick"
   ]
  },
  {
   "cell_type": "markdown",
   "metadata": {},
   "source": [
    "Ruby bietet zwar klassische Schleifenanweisungen an, meistens werden jedoch Iteratoren bevorzugt. Durch Iteratoren können auch eigene Schleifenkonstrukte definiert werden. In Ruby stehen folgende Schleifen zur Verfügung:\n",
    "\n",
    "```ruby\n",
    "# while Schleife\n",
    "while Ausdruck do\n",
    "    Code\n",
    "end\n",
    "\n",
    "# until Schleife\n",
    "Code until Ausdruck\n",
    "\n",
    "# for Schleife\n",
    "for Element in Elemente do\n",
    "    Code\n",
    "end\n",
    "```\n",
    "\n",
    "Gundsätzlich gibt es bei Schleifen in Ruby folgendes zu beachten:\n",
    "\n",
    "* `until` ist die Umkehrung von `while`\n",
    "* Sowohl `while` als auch `until` können als Modifier/Einzeiler geschrieben werden\n",
    "* Schleifen müssen ebenfalls mit `end` beendet werden\n",
    "* Nutzt man eine `for`-Schleife, um über eine Sammlung zu iterieren, ruft diese die `each` Methode auf\n",
    "\n",
    "Viel spannender und bemerkenswerter sind Iteratoren, die wie folgt aussehen:\n",
    "\n",
    "```ruby\n",
    "Sammlung.each do |element|\n",
    "    puts element\n",
    "end\n",
    "```\n",
    "\n",
    "* Zu den Iteratoren zählen u. a. die Methoden `times`, `each`, `map` und `upto`\n",
    "* Alle agieren mit dem darauffolgenden Codeblock\n",
    "* Hinter diesen Methoden steckt `yield`\n",
    "* `yield` ist eine komplexe Kontrollstruktur, die die Kontrolle vorübergehend an die Methode zurückgibt\n",
    "* `loop` ist eine Endlosschleife und kann mit `return`/`break` unterbrochen werden\n",
    "* `tap` oder `File.open` ruft ihren Block nur einmal auf\n",
    "* `upto`, `downto`, `times` und `step` sind Integer bzw. Numeric Methoden, die ihre Blöcke n-mal aufrufen\n",
    "* Klassen wie Array, Hash und Range defineren einen `each` Iterator\n",
    "* Mit dem Modul Enumerable kommen weitere spezielle Iteratoren wie `each_with_index` zur Zeilennummerierung einer Datei hinzu\n",
    "* Zu den Enumerable-Iteratoren zählen auch die Methoden:\n",
    "    * `collect` bzw. `map`: Führt den Block für jedes Element aus und speichert die Rückgabewerte in einem Array\n",
    "    * `select` und dessen Gegenteil `reject`: Ruft den Block für jedes Element auf und liefert ein Array für die der Block nicht `false` oder `nil` zurückgibt\n",
    "    * `inject`: Ruft den Block mit zwei Argumenten auf, ein vorheriger Wert und das nächste Element des Aufzählungsobjekts\n",
    "\n",
    "Einen benutzerdefinierten Iterator schreibt man wie folgt:\n",
    "\n",
    "```ruby\n",
    "def once\n",
    "  yield AusdruckEins, AusdruckZwei\n",
    "end\n",
    "```\n",
    "\n",
    "Dann gibt es noch Enumeratoren wie z. B. `to_enum`, die andere Objekte aufzählen, dies kann z. B. sinnvoll sein, wenn man ein veränderliches Array nicht direkt aufrufen will oder mehr Kontrolle über die Ausführung erhalten möchte, indem man z. B. zuvor einen Enumerator definiert."
   ]
  },
  {
   "cell_type": "markdown",
   "metadata": {},
   "source": [
    "### Code Beispiele für Schleifen, Iteratoren und Enumeratoren"
   ]
  },
  {
   "cell_type": "code",
   "execution_count": null,
   "metadata": {},
   "outputs": [],
   "source": [
    "# while (Kopf-)Schleife Beispiel\n",
    "max = 25\n",
    "min = 30\n",
    "while max < min do\n",
    "    puts \"Maximum noch nicht erreicht!\"\n",
    "    max += 1\n",
    "end"
   ]
  },
  {
   "cell_type": "code",
   "execution_count": null,
   "metadata": {},
   "outputs": [],
   "source": [
    "# while (Fuß-)Schleife Beispiel\n",
    "max = 25\n",
    "min = 30\n",
    "begin\n",
    "    puts \"Maximum noch nicht erreicht!\"\n",
    "    max += 1\n",
    "end while max < min"
   ]
  },
  {
   "cell_type": "code",
   "execution_count": null,
   "metadata": {},
   "outputs": [],
   "source": [
    "# until Schleife Beispiel\n",
    "a = [1,2,3]\n",
    "puts a.pop until a.empty?\n",
    "puts \"#{a}\\n\""
   ]
  },
  {
   "cell_type": "code",
   "execution_count": null,
   "metadata": {},
   "outputs": [],
   "source": [
    "# for Schleife Beispiel\n",
    "for i in 0..5\n",
    "    puts \"Wert der lokalen Variable: #{i}\"\n",
    " end"
   ]
  },
  {
   "cell_type": "code",
   "execution_count": null,
   "metadata": {},
   "outputs": [],
   "source": [
    "# each Beispiel\n",
    "Sammlung = [\"Eins\", \"Zwei\", \"Drei\", \"Los!\"]\n",
    "Sammlung.each do |element|\n",
    "    puts element\n",
    "end"
   ]
  },
  {
   "cell_type": "code",
   "execution_count": null,
   "metadata": {},
   "outputs": [],
   "source": [
    "# .each Beispiel mit einem Hash\n",
    "hash = {:a=>1, :b=>2, :c=>3}\n",
    "hash.each do |key,value|\n",
    "    puts \"#{key} => #{value}\"\n",
    "end"
   ]
  },
  {
   "cell_type": "code",
   "execution_count": null,
   "metadata": {},
   "outputs": [],
   "source": [
    "# Enumerator erzeugen und Elemente nacheinander ausgeben\n",
    "a = [ 'a', 'b', 'c', 'd']\n",
    "enum = a.to_enum\n",
    "enum.next"
   ]
  },
  {
   "cell_type": "code",
   "execution_count": null,
   "metadata": {},
   "outputs": [],
   "source": [
    "# Enumerator mit Index\n",
    "chars = \"Enumerator\".each_char\n",
    "chars.with_index { |c, i| print \"#{i}:#{c} \\n\" }"
   ]
  },
  {
   "cell_type": "markdown",
   "metadata": {},
   "source": [
    "#### Zusätzliche Beispiele"
   ]
  },
  {
   "cell_type": "code",
   "execution_count": null,
   "metadata": {},
   "outputs": [],
   "source": [
    "# Methoden mit einem Enumerator anstatt dem veränderlichen Array aufrufen\n",
    "data = \"hallo\"\n",
    "def process(s)\n",
    "    s.map {|c| c.succ }\n",
    "end\n",
    "process(data.each_char)"
   ]
  },
  {
   "cell_type": "code",
   "execution_count": null,
   "metadata": {},
   "outputs": [],
   "source": [
    "# Konkurrierende Modifikation verhindern mit privater Kopie (.dup)\n",
    "process(data.dup.each_char)"
   ]
  },
  {
   "cell_type": "code",
   "execution_count": null,
   "metadata": {},
   "outputs": [],
   "source": [
    "# numerische Iteratoren wie times, upto usw. geben einen Enumerator zurück\n",
    "data.chars.map {|c| c.succ}"
   ]
  },
  {
   "cell_type": "code",
   "execution_count": null,
   "metadata": {},
   "outputs": [],
   "source": [
    "# Komplexen Enumerator erstellen\n",
    "s = \"Hallo,\\nWie geht es dir?\\n\"\n",
    "\n",
    "s.to_enum(:each_line).each {|l| puts l}\n",
    "# oder\n",
    "s.enum_for(:each_line).each {|l| puts l}"
   ]
  },
  {
   "cell_type": "code",
   "execution_count": null,
   "metadata": {},
   "outputs": [],
   "source": [
    "# Externer Iterator\n",
    "iterator = 9.downto(1) \n",
    "begin\n",
    "    print iterator.next while true\n",
    "    rescue StopIteration # kann auch weggelassen werden\n",
    "    puts \"... Abflug!\"\n",
    "end"
   ]
  },
  {
   "cell_type": "markdown",
   "metadata": {},
   "source": [
    "## Blöcke auf einen Blick"
   ]
  },
  {
   "cell_type": "markdown",
   "metadata": {},
   "source": [
    "Blöcke haben wir bereits in vorherigen Abschnitten verwendet und sie dort z. B. mit einem Methodenaufruf verknüpft. Hier nochmal ein grundlegendes Beispiel: \n",
    "\n",
    "```ruby\n",
    "10.downto(1) do |n|\n",
    "    puts n\n",
    "end\n",
    "\n",
    "# oder in einer Zeile mit {}\n",
    "10.downto(1) {|n| puts n }\n",
    "```\n",
    "\n",
    "Bei Blöcken gibt es in Ruby folgendes zu beachten:\n",
    "\n",
    "* Blöcke können nur in Verbindung mit einem Methodenaufruf stehen\n",
    "* `{}` oder `do/end` begrenzen Blöcke, dabei ist es wichtig, dass die öffnende Klammer oder `do` direkt hinter dem Methodenaufruf steht\n",
    "* Geschweifte Klammern werden meist für Einzeiler verwendet, `do/end` für Blöcke über mehrere Zeilen\n",
    "* Blöcke bzw. Blockparameter können mit `|`parametrisiert werden\n",
    "* Anstatt `return` ist meist `next` oder eine einfache `if/else` Unterscheidung geeigneter, da `return` zur im Block enthaltenen Methode zurückkehrt\n",
    "* Mit `next` können auch zwei Werte aus einem Block zurückgegeben werden\n",
    "* Definiert man Variablen innerhalb eines Blocks, existieren diese nur dort. Wurde die Variable jedoch bereits vorher außerhalb definiert, ist sie für alle folgenden Blöcke erreich- bzw. modifizierbar\n",
    "* Argumente die an einen Block übergeben werden entsprechen eher einer Variablenwertzuweisung"
   ]
  },
  {
   "cell_type": "markdown",
   "metadata": {},
   "source": [
    "### Code Beispiele für Blöcke"
   ]
  },
  {
   "cell_type": "code",
   "execution_count": null,
   "metadata": {},
   "outputs": [],
   "source": [
    "# Beispiel Parametrisierung mit upto {}\n",
    "1.upto(3) {|x| puts x }"
   ]
  },
  {
   "cell_type": "code",
   "execution_count": null,
   "metadata": {},
   "outputs": [],
   "source": [
    "# Beispiel Parametrisierung mit upto do/end\n",
    "1.upto(3) do |x|\n",
    "    puts x\n",
    "end"
   ]
  },
  {
   "cell_type": "markdown",
   "metadata": {},
   "source": [
    "#### Zusätzliche Beispiele für Blöcke"
   ]
  },
  {
   "cell_type": "code",
   "execution_count": null,
   "metadata": {},
   "outputs": [],
   "source": [
    "# Beispiel next\n",
    "array = [4,5,6,7,2]\n",
    "array.collect do |x|\n",
    "    next 0 if x == nil\n",
    "    next x, x*x\n",
    "end   "
   ]
  },
  {
   "cell_type": "markdown",
   "metadata": {},
   "source": [
    "## Steuerungsablauf (flow-of-control) auf einen Blick"
   ]
  },
  {
   "cell_type": "markdown",
   "metadata": {},
   "source": [
    "Folgende Anweisungen können dazu verwendet werden den Steuerungsablauf (flow-of-control) eines Ruby Programms zu modifizieren:\n",
    "\n",
    "* `return` → Methode beenden und letzten Wert zurückgeben (kann meist weggelassen werden, nur sinnvoll, wenn man vorzeitig aus einer Methode zurückkehren möchte, oder mehr als einen Wert zurückgeben möchte)\n",
    "* In einem Block kehrt `return` zur umschließenden Methode zurück, nicht zum Block oder Iterator!\n",
    "* `break` → beenden einer Schleife oder eines Iterators\n",
    "* `break` kann nur innerhalb einer Schleife oder eines Block stehen und kehrt zu diesem zurück\n",
    "* `next` → überspringen der aktuellen Iteration und startet die nächste\n",
    "* `redo` → Startet Schleife/Iterator am Anfang neu\n",
    "* `retry` → Startet Iterator neu (gesamter Ausdruck) (nur bis Ruby 1.8)\n",
    "* `throw/catch` → Mehrstufiges break → raise/rescue\n",
    "\n",
    "Die Schlüsselwörter können an diversen Stellen im Programm eingesetzt werden, wie die nachfolgenden Beispiele zeigen."
   ]
  },
  {
   "cell_type": "markdown",
   "metadata": {},
   "source": [
    "### Code Beispiele für Steuerungsablauf (flow-of-control)"
   ]
  },
  {
   "cell_type": "code",
   "execution_count": null,
   "metadata": {},
   "outputs": [],
   "source": [
    "# return Beispiel\n",
    "def two_copies(x)\n",
    "    return nil if x == nil\n",
    "    return x, x.dup\n",
    "end\n",
    "two_copies(5)"
   ]
  },
  {
   "cell_type": "code",
   "execution_count": null,
   "metadata": {},
   "outputs": [],
   "source": [
    "# break Beispiel \n",
    "woerter = [\"Anfang\", \"Mitte\", \"Ende\"]\n",
    "woerter.each do |w|\n",
    "    break if w == \"Mitte\"\n",
    "    puts w\n",
    "end"
   ]
  },
  {
   "cell_type": "code",
   "execution_count": null,
   "metadata": {},
   "outputs": [],
   "source": [
    "# throw/catch Beispiel\n",
    "catch (:done) do\n",
    "    1.upto(100) do |i|\n",
    "        1.upto(100) do |j|\n",
    "            throw :done if j > 3\n",
    "            puts j\n",
    "        end\n",
    "    end\n",
    "end"
   ]
  },
  {
   "cell_type": "code",
   "execution_count": null,
   "metadata": {},
   "outputs": [],
   "source": [
    "# next Beispiel\n",
    "a = [1, 2, 3]\n",
    "a.each do |num|\n",
    "    next if num < 2\n",
    "    puts num\n",
    "end"
   ]
  },
  {
   "cell_type": "code",
   "execution_count": null,
   "metadata": {},
   "outputs": [],
   "source": [
    "# redo Beispiel\n",
    "i = 0\n",
    "while(i < 3)\n",
    "  # Springt bei redo wieder hierhin\n",
    "  print i\n",
    "  i += 1\n",
    "  redo if i == 3\n",
    "end"
   ]
  },
  {
   "cell_type": "markdown",
   "metadata": {},
   "source": [
    "#### Zusätzliche Beispiele für Steuerungsablauf (flow-of-control)"
   ]
  },
  {
   "cell_type": "code",
   "execution_count": null,
   "metadata": {},
   "outputs": [],
   "source": [
    "# Methode einfach so (ohne return) geschrieben\n",
    "def return_x(x)\n",
    "    x\n",
    "end\n",
    "return_x(5)"
   ]
  },
  {
   "cell_type": "code",
   "execution_count": null,
   "metadata": {},
   "outputs": [],
   "source": [
    "# return zur umschließenden Methode\n",
    "def search_array(array, search_value)\n",
    "    array.each_with_index do |e, idx|\n",
    "        return idx if (e == search_value)\n",
    "    end\n",
    "    nil\n",
    "end\n",
    "search_array([1,4,5,0,6], 9)"
   ]
  },
  {
   "cell_type": "markdown",
   "metadata": {},
   "source": [
    "## Ausnahmen (Exceptions) auf einen Blick\n",
    "\n",
    "Ausnahmen können dazu verwendet werden Fehler abzufangen und entsprechend zu behandeln, damit diese nicht zum Abbruch des Programms führen. Hierzu wird in Ruby `raise` zum Auslösen, und `rescue` zum behandeln einer Ausnahme verwendet. `throw` und `catch` dienen in Ruby nicht diesem Zweck.\n",
    "\n",
    "* Die Klasse Exception bestehend aus `message` und `backtrace`\n",
    "* Erzeugen von Ausnahmeobjekten mit `raise`\n",
    "* `raise` nimmt ein Argument als string, der `message` ersetzt\n",
    "* Definition eigener Unterklasse von `StandardError` möglich"
   ]
  },
  {
   "cell_type": "markdown",
   "metadata": {},
   "source": [
    "### Code Beispiele für Ausnahmen (Exceptions)"
   ]
  },
  {
   "cell_type": "code",
   "execution_count": null,
   "metadata": {},
   "outputs": [],
   "source": [
    "# raise Beispiel durch Null teilen\n",
    "def teilen(x, y)\n",
    "    raise \"Durch Null teilen geht nicht!\" if x == 0 || y == 0\n",
    "    x/y\n",
    "end\n",
    "teilen(2.5, 0)"
   ]
  },
  {
   "cell_type": "code",
   "execution_count": null,
   "metadata": {},
   "outputs": [],
   "source": [
    "# rescue Beispiel durch Null teilen\n",
    "begin\n",
    "    x = 1/0\n",
    "    rescue => ex\n",
    "    puts \"#{ex.class}: #{ex.message}\"\n",
    "end"
   ]
  },
  {
   "cell_type": "markdown",
   "metadata": {},
   "source": [
    "#### Zusätzliche Beispiele für Ausnahmen (Exceptions)"
   ]
  },
  {
   "cell_type": "code",
   "execution_count": null,
   "metadata": {},
   "outputs": [],
   "source": [
    "# Ausnahme in einer Methode definieren\n",
    "def multiply(n)\n",
    "    raise \"Zahl ist negativ\" if n < 0\n",
    "    return \"Zahl 1\" if n == 1\n",
    "    n*n\n",
    "end\n",
    "multiply(-1)"
   ]
  },
  {
   "cell_type": "code",
   "execution_count": null,
   "metadata": {},
   "outputs": [],
   "source": [
    "# Neue Ausnahmeklassen definieren\n",
    "class MyError < StandardError; end"
   ]
  },
  {
   "cell_type": "markdown",
   "metadata": {},
   "source": [
    "## Methoden auf einen Blick\n",
    "\n",
    "Methoden werden mit dem Schlüsselwort `def` definiert (und mit `undef` aufgehoben), gefolgt vom Methodennamen und einer optionalen Liste von Parameternamen. Der Methodenrumpf mit Ruby-Code folgt auf die Parameterliste und wird mit dem Schlüsselwort `end` geschlossen.\n",
    "\n",
    "```ruby\n",
    "def multiply (n1, n2)\n",
    "    n1 * n2\n",
    "end\n",
    "```\n",
    "\n",
    "Methodennamen beginnen mit einem Kleinbuchstaben. Mehrere Wörter werden mit Unterstrich getrennt. Der Einsatz von Klammern ist optional, wird jedoch bei komplexem Code empfohlen!\n",
    "\n",
    "Methodenaufrufe bestehen aus einem beliebigem Ausdruck (optional, einer Trennung durch `.` oder `::`, dem Methodennamen, Argumentwerten und einem optionalen Codeblock (siehe Iteratoren).\n",
    "\n",
    "Mit dem Beipspiel von oben sieht das dann so aus: `multiply(2, 4)` ==> 8\n",
    "\n",
    "Bei Methoden gibt es in Ruby noch folgendes zu beachten:\n",
    "* Methodennamen können mit einem Gleichheitszeichen, Fragezeichen oder Ausrufezeichen enden (müssen dies aber nicht!)\n",
    "* Alias für Methodennamen können wie folgt definiert werden: `alias aka also_known_as`\n",
    "* Bei verschachtelten Methoden sind Klammern notwendig z. B. `f(g(x,y),z)` dies führt sonst zu Mehrdeutigkeit\n",
    "* Mehrere Argument können mit `*parameter` als letzter Parameter einer Methode übergeben werden\n",
    "* Anstatt benannten Argumenten können Argumente in Ruby mittels Hashes übergeben werden\n",
    "* Methoden enden normal mit dem zuletzt ausgewerteten Wert\n",
    "* kann durch `raise` terminiert werden\n",
    "* Rückgabe durch `return` vor dem Ende möglich (ohne Ausdruck ist die Rückgabe `nil`)\n",
    "* Mehrere Rückgabewerte möglich\n",
    "* Ausnahmebehandlung mit `rescue`, `else` und `ensure`\n",
    "* Besonderheiten der Singelton Methode (Methodendefinition in einer Zeile)\n",
    "    * Für Fixnum- und Symbol-Objekte können keine Singleton-Methoden definiert werden\n",
    "    * Aus Konsistenzgründen ist dies auch für andere Numeric-Objekte nicht erlaubt"
   ]
  },
  {
   "cell_type": "markdown",
   "metadata": {},
   "source": [
    "## Code Beispiele für Methoden"
   ]
  },
  {
   "cell_type": "markdown",
   "metadata": {},
   "source": [
    "### Methodendefinitionen"
   ]
  },
  {
   "cell_type": "code",
   "execution_count": null,
   "metadata": {},
   "outputs": [],
   "source": [
    "# Definition einer Methode mit Parameterstandardwert\n",
    "def rm_prefix(str, len=5)\n",
    "    str[len,str.length]\n",
    "end\n",
    "rm_prefix(\"2022 Ruby Workshop\")"
   ]
  },
  {
   "cell_type": "code",
   "execution_count": null,
   "metadata": {},
   "outputs": [],
   "source": [
    "# Methodenalias festlegen\n",
    "alias rmp rm_prefix\n",
    "rmp(\"2022 Ruby Workshop\")"
   ]
  },
  {
   "cell_type": "code",
   "execution_count": null,
   "metadata": {},
   "outputs": [],
   "source": [
    "# Singelton-Methode für nur ein Objekt\n",
    "obj = \"Warning\"\n",
    "def obj.printwarn\n",
    "  puts self\n",
    "end\n",
    "obj.printwarn"
   ]
  },
  {
   "cell_type": "markdown",
   "metadata": {},
   "source": [
    "#### Zusätzliche Beispiele Methodendefinitionen"
   ]
  },
  {
   "cell_type": "code",
   "execution_count": null,
   "metadata": {},
   "outputs": [],
   "source": [
    "# Übergeben und sortieren mehrerer Werte\n",
    "def min(first, *rest)\n",
    "    min = first\n",
    "    rest.each {|x| min = x if x < min }\n",
    "    min\n",
    "end\n",
    "\n",
    "min(10,5,6,7,8,2,1,9)\n",
    "\n",
    "array = [10,5,6,7,8,2,1,9]\n",
    "min(*array) # Übergabe des Arrays als einziger Paramter nur mir * möglich!"
   ]
  },
  {
   "cell_type": "code",
   "execution_count": 12,
   "metadata": {},
   "outputs": [
    {
     "data": {
      "text/plain": [
       "[\"10\", \"11\", \"12\", \"13\", \"14\", \"15\", \"16\", \"17\", \"18\", \"19\", \"110\", \"111\", \"112\", \"113\", \"114\", \"115\", \"116\", \"117\", \"118\", \"119\"]"
      ]
     },
     "execution_count": 12,
     "metadata": {},
     "output_type": "execute_result"
    }
   ],
   "source": [
    "# Argumente via Hash übergeben, somit spielt die Reihenfolge keine Rolle!\n",
    "def room_numbers(args)\n",
    "    rooms = args[:rooms] || 0\n",
    "    floor = args[:floor] || 1\n",
    "    room_list = []\n",
    "    rooms.times {|i| room_list << \"#{floor}#{i}\" }\n",
    "    room_list\n",
    "end\n",
    "\n",
    "room_numbers({:rooms=>20})"
   ]
  },
  {
   "cell_type": "markdown",
   "metadata": {},
   "source": [
    "### Methodenaufrufe"
   ]
  },
  {
   "cell_type": "code",
   "execution_count": null,
   "metadata": {},
   "outputs": [],
   "source": [
    "# Ausgeben mit puts\n",
    "message = \"Ich bins\"\n",
    "puts message"
   ]
  },
  {
   "cell_type": "code",
   "execution_count": null,
   "metadata": {},
   "outputs": [],
   "source": [
    "# Trennung mit einem Punkt\n",
    "message.length"
   ]
  },
  {
   "cell_type": "code",
   "execution_count": null,
   "metadata": {},
   "outputs": [],
   "source": [
    "# Trennung mit einem Punkt und Übergabe eines Arguments\n",
    "Math.sqrt(2)"
   ]
  },
  {
   "cell_type": "code",
   "execution_count": null,
   "metadata": {},
   "outputs": [],
   "source": [
    "# Array Inhalt überprüfen\n",
    "a.empty?"
   ]
  },
  {
   "cell_type": "markdown",
   "metadata": {},
   "source": [
    "#### Zusätzliche Beispiele Methodenaufrufe"
   ]
  },
  {
   "cell_type": "code",
   "execution_count": null,
   "metadata": {},
   "outputs": [],
   "source": [
    "# Auslesen eines Arrays mit .each und puts (p)\n",
    "a = [3, 2, 1, 0]\n",
    "a.each {|x| p x }"
   ]
  },
  {
   "cell_type": "code",
   "execution_count": null,
   "metadata": {},
   "outputs": [],
   "source": [
    "# Array sortieren\n",
    "a.sort!"
   ]
  },
  {
   "cell_type": "code",
   "execution_count": null,
   "metadata": {},
   "outputs": [],
   "source": [
    "# Methodenaufruf mit/ohne Klammern ist dasselbe\n",
    "x = 2\n",
    "x.between? 1,3\n",
    "x.between?(1,3)"
   ]
  },
  {
   "cell_type": "markdown",
   "metadata": {},
   "source": [
    "## Zusatz (nicht Teil des Workshops)"
   ]
  },
  {
   "cell_type": "markdown",
   "metadata": {},
   "source": [
    "### BEGIN und END\n",
    "\n",
    "`BEGIN` und `END` können zur Deklaration von Code verwendet werden, der ganz zu Beginn oder Ende eines Ruby Programms ausgeführt wird."
   ]
  },
  {
   "cell_type": "code",
   "execution_count": null,
   "metadata": {},
   "outputs": [],
   "source": [
    "# BEGIN und END in einem Ruby Programm\n",
    "BEGIN {\n",
    "  # Initialisierung\n",
    "}\n",
    "\n",
    "END {\n",
    "  # Shutdown\n",
    "}"
   ]
  },
  {
   "cell_type": "markdown",
   "metadata": {},
   "source": [
    "### Threads und Fiber auf einen Blick"
   ]
  },
  {
   "cell_type": "markdown",
   "metadata": {},
   "source": [
    "Threads ermöglichen es weitere Sequenzen neben der Hauptsequenz laufen zu lassen. Mit Ruby 1.9 gibt es mit den s. g. `Fiber` *Coroutinen* eine weitere Möglichkeit, die eine Art leichtgewichtiger Thread sind, allerdings von den meisten Ruby Programmierern nie verwendet werden."
   ]
  },
  {
   "cell_type": "markdown",
   "metadata": {},
   "source": [
    "#### Code Beispiele für Threads und Fiber"
   ]
  },
  {
   "cell_type": "code",
   "execution_count": null,
   "metadata": {},
   "outputs": [],
   "source": [
    "# Einen Thread für jede Datei erzeugen\n",
    "def readfiles(filenames)\n",
    "    threads = filenames.map do |f|\n",
    "      Thread.new { File.read(f) }\n",
    "    end\n",
    "    threads.map {|t| t.value }\n",
    "end   "
   ]
  }
 ],
 "metadata": {
  "kernelspec": {
   "display_name": "Ruby 2.7.0",
   "language": "ruby",
   "name": "ruby"
  },
  "language_info": {
   "file_extension": ".rb",
   "mimetype": "application/x-ruby",
   "name": "ruby",
   "version": "2.7.0"
  }
 },
 "nbformat": 4,
 "nbformat_minor": 2
}
