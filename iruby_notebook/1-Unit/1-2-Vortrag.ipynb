{
 "cells": [
  {
   "cell_type": "markdown",
   "metadata": {},
   "source": [
    "# Themenblock 1 - Teil 2"
   ]
  },
  {
   "cell_type": "markdown",
   "metadata": {},
   "source": [
    "## Überblick Anweisungen, Kontrollstrukturen und Methoden"
   ]
  },
  {
   "cell_type": "markdown",
   "metadata": {},
   "source": [
    "Die Abschnitte enthalten jeweils eine kurze Zusammenfassung sowie die gezeigten Code Beispiele:\n",
    "\n",
    "1. Fallunterscheidungen\n",
    "2. Schleifen, Iteratoren und Enumeratoren\n",
    "3. Blöcke\n",
    "4. Steuerungsablauf (flow-of-control)\n",
    "5. Ausnahmen (Exceptions)\n",
    "6. Threads und Fiber\n",
    "\n",
    "Anschließends folgen kombinierte Aufgaben mit Lösungen:\n",
    "\n",
    "7. Kombinierte Aufgaben\n",
    "8. Lösungen zu den Aufgaben"
   ]
  },
  {
   "cell_type": "markdown",
   "metadata": {},
   "source": [
    "## Fallunterscheidungen auf einen Blick"
   ]
  },
  {
   "cell_type": "markdown",
   "metadata": {},
   "source": [
    "Fallunterscheidungen sind die gängigsten Kontrollstrukturen und sollten jedem aus anderen Programmiersprachen bekannt sein. Eine `if` bzw. `elseif` Fallunterscheidung sieht in Ruby wie folgt aus:\n",
    "\n",
    "```ruby\n",
    "if Ausdruck_1\n",
    "  Code_1\n",
    "elsif Ausdruck_2\n",
    "  Code_2\n",
    "  .\n",
    "  .\n",
    "elsif Ausdruck_n\n",
    "  Code_n\n",
    "else\n",
    "  Code\n",
    "end\n",
    "```\n",
    "\n",
    "Es gibt dennoch ein paar Dinge, die es in Ruby zu diesem Thema zu beachten gibt:\n",
    "\n",
    "* Eine Bedingung bzw. Ausdruck ist `true`, außer bei den Werten: `false`, `nil`\n",
    "* Trennung durch Zeilenumbruch, Semikolon oder das Schlüsselwort `then`\n",
    "* Klammern um den Bedingungsausdruck werden nicht benötigt\n",
    "* Beenden der Fallunterscheidung durch `end`\n",
    "* Alles ist ein Ausdruck und hat einen Rückgabewert (Wert des letzten Ausdrucks)\n",
    "* Umgekehrte Schreibweise möglich: `Code if Ausdruck` (auch Modifier/Einzeiler genannt)\n",
    "* `case` bietet eine alternative Syntax zu `if` bzw. `elseif`\n",
    "  * Anstatt `elseif` wird dann `when` verwendet\n",
    "* `unless` ist das Gegenteil von `if` allerdings ohne `elseif`\n",
    "* Der `?` Operator implementiert eine einfach Variante der Fallunterscheidung"
   ]
  },
  {
   "cell_type": "markdown",
   "metadata": {},
   "source": [
    "### Code Beispiele für Fallunterscheidungen"
   ]
  },
  {
   "cell_type": "code",
   "execution_count": 107,
   "metadata": {},
   "outputs": [
    {
     "name": "stdout",
     "output_type": "stream",
     "text": [
      "Ein leerer String ist wahr\n"
     ]
    }
   ],
   "source": [
    "# Eine Bedingung bzw. Ausdruck ist wahr, außer bei den Werten: false oder nil\n",
    "x = \"\"\n",
    "puts \"Ein leerer String ist wahr\" if x"
   ]
  },
  {
   "cell_type": "code",
   "execution_count": 108,
   "metadata": {},
   "outputs": [
    {
     "data": {
      "text/plain": [
       "\"drei\""
      ]
     },
     "execution_count": 108,
     "metadata": {},
     "output_type": "execute_result"
    }
   ],
   "source": [
    "# Einfach if, elseif, else Fallunterscheidung\n",
    "x = 3\n",
    "if x == 1\n",
    "    name = \"eins\"\n",
    "elsif x == 2\n",
    "    name = \"zwei\"\n",
    "elsif x == 3 then name = \"drei\"\n",
    "elsif x == 4; name = \"vier\"\n",
    "else\n",
    "    name = \"viele\"\n",
    "end"
   ]
  },
  {
   "cell_type": "code",
   "execution_count": 109,
   "metadata": {},
   "outputs": [
    {
     "data": {
      "text/plain": [
       "\"drei\""
      ]
     },
     "execution_count": 109,
     "metadata": {},
     "output_type": "execute_result"
    }
   ],
   "source": [
    "# Elegante Schreibweise der Fallunterscheidung mit Rückgabewert\n",
    "name = if    x == 1 then \"eins\"\n",
    "       elsif x == 2 then \"zwei\"\n",
    "       elsif x == 3 then \"drei\"\n",
    "       elsif x == 4 then \"vier\"\n",
    "       else              \"viele\"\n",
    "       end"
   ]
  },
  {
   "cell_type": "code",
   "execution_count": 110,
   "metadata": {},
   "outputs": [
    {
     "data": {
      "text/plain": [
       "\"drei\""
      ]
     },
     "execution_count": 110,
     "metadata": {},
     "output_type": "execute_result"
    }
   ],
   "source": [
    "# Dasselbe Beispiel nur mit case\n",
    "name = case\n",
    "       when x == 1 then \"eins\"\n",
    "       when x == 2 then \"zwei\"\n",
    "       when x == 3 then \"drei\"\n",
    "       when x == 4 then \"vier\"\n",
    "       else             \"viele\"\n",
    "       end"
   ]
  },
  {
   "cell_type": "code",
   "execution_count": 111,
   "metadata": {},
   "outputs": [
    {
     "data": {
      "text/plain": [
       "\"drei\""
      ]
     },
     "execution_count": 111,
     "metadata": {},
     "output_type": "execute_result"
    }
   ],
   "source": [
    "# Umgekehrte Schreibweise, zuerst der auszuführende Code, dann die Bedingung\n",
    "\"drei\" if x == 3"
   ]
  },
  {
   "cell_type": "code",
   "execution_count": 112,
   "metadata": {},
   "outputs": [
    {
     "name": "stdout",
     "output_type": "stream",
     "text": [
      "Nicht alt genug.\n"
     ]
    }
   ],
   "source": [
    "# Altersabfrage mit unless\n",
    "alter = 17\n",
    "unless alter >= 18\n",
    "    puts \"Nicht alt genug.\"\n",
    "end"
   ]
  },
  {
   "cell_type": "code",
   "execution_count": 113,
   "metadata": {},
   "outputs": [
    {
     "name": "stdout",
     "output_type": "stream",
     "text": [
      "Nicht alt genug.\n"
     ]
    }
   ],
   "source": [
    "# Altersabfrage mit unless/else\n",
    "unless alter >= 18\n",
    "    puts \"Nicht alt genug.\"\n",
    "else\n",
    "    puts \"Alt genug.\"\n",
    "end"
   ]
  },
  {
   "cell_type": "code",
   "execution_count": 114,
   "metadata": {},
   "outputs": [
    {
     "name": "stdout",
     "output_type": "stream",
     "text": [
      "Nicht alt genug.\n"
     ]
    }
   ],
   "source": [
    "# Altersabfrage umgekehrte unless Schreibweise\n",
    "puts \"Nicht alt genug.\" unless alter >= 18"
   ]
  },
  {
   "cell_type": "markdown",
   "metadata": {},
   "source": [
    "## Schleifen, Iteratoren und Enumeratoren auf einen Blick"
   ]
  },
  {
   "cell_type": "markdown",
   "metadata": {},
   "source": [
    "Ruby bietet zwar klassische Schleifenanweisungen an, meistens werden jedoch Iteratoren vorgezogen. Durch Iteratoren können auch eigene Schleifenkonstrukture definiert werden. In Ruby stehen folgende Schleifen zur Verfügung:\n",
    "\n",
    "```ruby\n",
    "# while Schleife\n",
    "while Ausdruck do\n",
    "    Code\n",
    "end\n",
    "\n",
    "# until Schleife\n",
    "Code until Ausdruck\n",
    "\n",
    "# for Schleife\n",
    "for Element in Elemente do\n",
    "    Code\n",
    "end\n",
    "```\n",
    "\n",
    "Gundsätzlich gibt es bei Schleifen folgendes zu beachten:\n",
    "\n",
    "* `until` ist die Umkehrung von `while`\n",
    "* Sowohl `while` als auch `until` können als Modifier/Einzeiler geschrieben werden\n",
    "* Schleifen müssen ebenfalls mit `end` beendet werden\n",
    "* Nutzt man eine `for`-Schleife, um über eine Sammlung zu iterieren, ruft diese die `each` Methode auf\n",
    "\n",
    "Viel spannender und bemerkenswerter sind Iteratoren, die wie folgt aussehen:\n",
    "\n",
    "```ruby\n",
    "Sammlung.each do |element|\n",
    "    puts element\n",
    "end\n",
    "```\n",
    "\n",
    "* Zu den Iteratoren zählen die Methoden `times`, `each`, `map` und `upto`\n",
    "* Alle agieren mit dem darauffolgenden Codeblock\n",
    "* Hinter diesen Methoden steckt `yield`\n",
    "* `yield` ist eine komplexe Kontrollstruktur, die die Kontrolle vorübergehend an die Methode zurückgibt\n",
    "* `loop` ist eine Endlosschleife und kann mit `return`/`break` unterbrochen werden\n",
    "* `tap` oder `File.open` ruft ihren Block nur einmal auf\n",
    "* `upto`, `downto`, `times` und `step` sind Integer bzw. Numeric Methoden, die ihre Blöcke n-mal aufrufen\n",
    "* Klassen wie Array, Hash und Range defineren einen `each` Iterator\n",
    "* Mit dem Modul Enumerable kommen weitere spezielle Iteratoren wie `each_with_index` zur Zeilennummerierung einer Datei\n",
    "* Zu den Enumerable-Iteratoren zählen auch die Methoden:\n",
    "    * `collect` bzw. `map`: Führt den Block für jedes Element aus und speichert Rückgabewerte in einem Array\n",
    "    * `select` und dessen Gegenteil `reject`: Rüft den Block für jedes Element aus und liefert ein Array für die der Block nicht `false` oder `nil` zurückgibt\n",
    "    * `inject`: Ruft den Block mit zwei Argumenten aus, ein vorheriger Wert und das nächste Element des Aufzählungsobjekts\n",
    "\n",
    "Einen benutzerdefinierten Iterator schreibt man wie folgt:\n",
    "\n",
    "```ruby\n",
    "def once\n",
    "  yield AusdruckEins, AusdruckZwei\n",
    "end\n",
    "```\n",
    "\n",
    "Dann gibt es noch Enumeratoren wie z. B. `to_enum`, die andere Objekte aufzählen, dies kann z. B. sinnvoll sein, wenn man ein veränderliches Array nicht direkt aufrufen will."
   ]
  },
  {
   "cell_type": "markdown",
   "metadata": {},
   "source": [
    "### Code Beispiele für Schleifen, Iteratoren und Enumeratoren"
   ]
  },
  {
   "cell_type": "code",
   "execution_count": 115,
   "metadata": {},
   "outputs": [
    {
     "name": "stdout",
     "output_type": "stream",
     "text": [
      "Maximum noch nicht erreicht!\n",
      "Maximum noch nicht erreicht!\n",
      "Maximum noch nicht erreicht!\n",
      "Maximum noch nicht erreicht!\n",
      "Maximum noch nicht erreicht!\n"
     ]
    }
   ],
   "source": [
    "# while (Kopf) Schleife Beispiel Max/Min\n",
    "max = 25\n",
    "min = 30\n",
    "while max < min do\n",
    "    puts \"Maximum noch nicht erreicht!\"\n",
    "    max += 1\n",
    "end"
   ]
  },
  {
   "cell_type": "code",
   "execution_count": 116,
   "metadata": {},
   "outputs": [
    {
     "name": "stdout",
     "output_type": "stream",
     "text": [
      "Maximum noch nicht erreicht!\n",
      "Maximum noch nicht erreicht!\n",
      "Maximum noch nicht erreicht!\n",
      "Maximum noch nicht erreicht!\n",
      "Maximum noch nicht erreicht!\n"
     ]
    }
   ],
   "source": [
    "# while (Fuß) Schleife Beispiel Max/Min\n",
    "max = 25\n",
    "min = 30\n",
    "begin\n",
    "    puts \"Maximum noch nicht erreicht!\"\n",
    "    max += 1\n",
    "end while max < min"
   ]
  },
  {
   "cell_type": "code",
   "execution_count": 117,
   "metadata": {},
   "outputs": [
    {
     "name": "stdout",
     "output_type": "stream",
     "text": [
      "3\n",
      "2\n",
      "1\n",
      "[]\n"
     ]
    }
   ],
   "source": [
    "# until Schleife Beispiel Array leeren\n",
    "a = [1,2,3]\n",
    "puts a.pop until a.empty?\n",
    "puts \"#{a}\\n\""
   ]
  },
  {
   "cell_type": "code",
   "execution_count": 118,
   "metadata": {},
   "outputs": [
    {
     "name": "stdout",
     "output_type": "stream",
     "text": [
      "Wert der lokalen Variable: 0\n",
      "Wert der lokalen Variable: 1\n",
      "Wert der lokalen Variable: 2\n",
      "Wert der lokalen Variable: 3\n",
      "Wert der lokalen Variable: 4\n",
      "Wert der lokalen Variable: 5\n"
     ]
    },
    {
     "data": {
      "text/plain": [
       "0..5"
      ]
     },
     "execution_count": 118,
     "metadata": {},
     "output_type": "execute_result"
    }
   ],
   "source": [
    "# for Schleife Beispiel Wert der Variable\n",
    "for i in 0..5\n",
    "    puts \"Wert der lokalen Variable: #{i}\"\n",
    " end"
   ]
  },
  {
   "cell_type": "code",
   "execution_count": 119,
   "metadata": {},
   "outputs": [
    {
     "name": "stderr",
     "output_type": "stream",
     "text": [
      "(irb):1: warning: already initialized constant Object::Sammlung\n",
      "(irb):1: warning: previous definition of Sammlung was here\n"
     ]
    },
    {
     "name": "stdout",
     "output_type": "stream",
     "text": [
      "Eins\n",
      "Zwei\n",
      "Drei\n",
      "Los!\n"
     ]
    },
    {
     "data": {
      "text/plain": [
       "[\"Eins\", \"Zwei\", \"Drei\", \"Los!\"]"
      ]
     },
     "execution_count": 119,
     "metadata": {},
     "output_type": "execute_result"
    }
   ],
   "source": [
    "# Einfaches each Beispiel mit einer Sammlung an Strings\n",
    "Sammlung = [\"Eins\", \"Zwei\", \"Drei\", \"Los!\"]\n",
    "Sammlung.each do |element|\n",
    "    puts element\n",
    "end"
   ]
  },
  {
   "cell_type": "code",
   "execution_count": 120,
   "metadata": {},
   "outputs": [
    {
     "name": "stdout",
     "output_type": "stream",
     "text": [
      "a => 1\n",
      "b => 2\n",
      "c => 3\n"
     ]
    },
    {
     "data": {
      "text/plain": [
       "{:a=>1, :b=>2, :c=>3}"
      ]
     },
     "execution_count": 120,
     "metadata": {},
     "output_type": "execute_result"
    }
   ],
   "source": [
    "# .each Beispiel mit einem Hash\n",
    "hash = {:a=>1, :b=>2, :c=>3}\n",
    "hash.each do |key,value|\n",
    "    puts \"#{key} => #{value}\"\n",
    "end"
   ]
  },
  {
   "cell_type": "code",
   "execution_count": 121,
   "metadata": {},
   "outputs": [
    {
     "data": {
      "text/plain": [
       "\"a\""
      ]
     },
     "execution_count": 121,
     "metadata": {},
     "output_type": "execute_result"
    }
   ],
   "source": [
    "# Enumerator erzeugen und Elemente nacheinander ausgeben\n",
    "a = [ 'a', 'b', 'c', 'd']\n",
    "enum = a.to_enum\n",
    "enum.next"
   ]
  },
  {
   "cell_type": "code",
   "execution_count": 122,
   "metadata": {},
   "outputs": [
    {
     "name": "stdout",
     "output_type": "stream",
     "text": [
      "0:E \n",
      "1:n \n",
      "2:u \n",
      "3:m \n",
      "4:e \n",
      "5:r \n",
      "6:a \n",
      "7:t \n",
      "8:o \n",
      "9:r \n"
     ]
    },
    {
     "data": {
      "text/plain": [
       "\"Enumerator\""
      ]
     },
     "execution_count": 122,
     "metadata": {},
     "output_type": "execute_result"
    }
   ],
   "source": [
    "# Enumerator mit Index des Chars\n",
    "chars = \"Enumerator\".each_char\n",
    "chars.with_index { |c, i| print \"#{i}:#{c} \\n\" }"
   ]
  },
  {
   "cell_type": "markdown",
   "metadata": {},
   "source": [
    "#### Zusätzliche Beispiele"
   ]
  },
  {
   "cell_type": "code",
   "execution_count": 123,
   "metadata": {},
   "outputs": [
    {
     "data": {
      "text/plain": [
       "[\"i\", \"b\", \"m\", \"m\", \"p\"]"
      ]
     },
     "execution_count": 123,
     "metadata": {},
     "output_type": "execute_result"
    }
   ],
   "source": [
    "# Methoden mit einem Enumerator anstatt dem veränderlichen Array aufrufen\n",
    "data = \"hallo\"\n",
    "def process(s)\n",
    "    s.map {|c| c.succ }\n",
    "end\n",
    "process(data.each_char)"
   ]
  },
  {
   "cell_type": "code",
   "execution_count": 124,
   "metadata": {},
   "outputs": [
    {
     "data": {
      "text/plain": [
       "[\"i\", \"b\", \"m\", \"m\", \"p\"]"
      ]
     },
     "execution_count": 124,
     "metadata": {},
     "output_type": "execute_result"
    }
   ],
   "source": [
    "# Konkurrierende Modifikation verhindern mit privater Kopie (.dup)\n",
    "process(data.dup.each_char)"
   ]
  },
  {
   "cell_type": "code",
   "execution_count": 125,
   "metadata": {},
   "outputs": [
    {
     "data": {
      "text/plain": [
       "[\"i\", \"b\", \"m\", \"m\", \"p\"]"
      ]
     },
     "execution_count": 125,
     "metadata": {},
     "output_type": "execute_result"
    }
   ],
   "source": [
    "# numerische Iteratoren wie times, upto usw. geben einen Enumerator zurück\n",
    "data.chars.map {|c| c.succ}"
   ]
  },
  {
   "cell_type": "code",
   "execution_count": 126,
   "metadata": {},
   "outputs": [
    {
     "name": "stdout",
     "output_type": "stream",
     "text": [
      "Hallo,\n",
      "Wie geht es dir?\n",
      "Hallo,\n",
      "Wie geht es dir?\n"
     ]
    },
    {
     "data": {
      "text/plain": [
       "\"Hallo,\\nWie geht es dir?\\n\""
      ]
     },
     "execution_count": 126,
     "metadata": {},
     "output_type": "execute_result"
    }
   ],
   "source": [
    "# Komplexen Enumeratoren erstellen\n",
    "s = \"Hallo,\\nWie geht es dir?\\n\"\n",
    "\n",
    "s.to_enum(:each_line).each {|l| puts l}\n",
    "s.enum_for(:each_line).each {|l| puts l}"
   ]
  },
  {
   "cell_type": "code",
   "execution_count": 127,
   "metadata": {},
   "outputs": [
    {
     "name": "stdout",
     "output_type": "stream",
     "text": [
      "987654321... Abflug!\n"
     ]
    }
   ],
   "source": [
    "# Externe Iteratoren\n",
    "iterator = 9.downto(1) \n",
    "begin\n",
    "    print iterator.next while true\n",
    "    rescue StopIteration # kann auch weggelassen werden\n",
    "    puts \"... Abflug!\"\n",
    "end"
   ]
  },
  {
   "cell_type": "markdown",
   "metadata": {},
   "source": [
    "## Blöcke auf einen Blick"
   ]
  },
  {
   "cell_type": "markdown",
   "metadata": {},
   "source": [
    "Blöcke haben wir bereits im vorherigen Abschnitten verwendet und sie mit einem Methodenaufruf verknüpft. Hier nochmal ein grundlegendes Beispiel: \n",
    "\n",
    "```ruby\n",
    "10.downto(1) do |n|\n",
    "    puts n\n",
    "end\n",
    "\n",
    "# oder in einer Zeile mit {}\n",
    "10.downto(1) {|n| puts n }\n",
    "```\n",
    "\n",
    "Bei Blöcken gibt es folgendes zu beachten:\n",
    "\n",
    "* Blöcke können nur in Verbindung mit einem Methodenaufruf stehen\n",
    "* `{}` oder `do/end` begrenzen Blöcke, dabei ist es wichtig, dass die Klammer oder `do` direkt hinter dem Methodenaufruf steht\n",
    "* Geschweifte Klammern werden meist für Einzeiler verwendet, `do/end` für Blöcke über mehrere Zeilen\n",
    "* Blöcke bzw. Blockparameter können mit `|`parametrisiert werden\n",
    "* Anstatt `return` ist meist `next` oder eine einfache `if/else` Unterscheidung geeigneter, da `return` zur im Block enthaltenen Methode zurückkehrt\n",
    "* Mit `next` können auch zwei Werte aus einem Block zurückgegeben werden\n",
    "* Definiert man Variablen innerhalb eines Blocks, existieren diese nur dort - wurde die Variable jedoch bereits vorher außerhalb definiert, ist sie für alle folgenden Blöcke erreich- bzw. modifizierbar\n",
    "* Argumente die an einen Block übergeben werden entsprechen eher einer Variablenwertzuweisung"
   ]
  },
  {
   "cell_type": "markdown",
   "metadata": {},
   "source": [
    "### Code Beispiele für Blöcke"
   ]
  },
  {
   "cell_type": "code",
   "execution_count": 128,
   "metadata": {},
   "outputs": [
    {
     "name": "stdout",
     "output_type": "stream",
     "text": [
      "1\n",
      "2\n",
      "3\n",
      "4\n",
      "5\n",
      "6\n",
      "7\n",
      "8\n",
      "9\n",
      "10\n"
     ]
    },
    {
     "data": {
      "text/plain": [
       "1"
      ]
     },
     "execution_count": 128,
     "metadata": {},
     "output_type": "execute_result"
    }
   ],
   "source": [
    "# Beispiel Parametrisierung mit upto {}\n",
    "1.upto(10) {|x| puts x }"
   ]
  },
  {
   "cell_type": "code",
   "execution_count": 129,
   "metadata": {},
   "outputs": [
    {
     "name": "stdout",
     "output_type": "stream",
     "text": [
      "1\n",
      "2\n",
      "3\n",
      "4\n",
      "5\n",
      "6\n",
      "7\n",
      "8\n",
      "9\n",
      "10\n"
     ]
    },
    {
     "data": {
      "text/plain": [
       "1"
      ]
     },
     "execution_count": 129,
     "metadata": {},
     "output_type": "execute_result"
    }
   ],
   "source": [
    "# Beispiel Parametrisierung mit upto do/end\n",
    "1.upto(10) do |x|\n",
    "    puts x\n",
    "end"
   ]
  },
  {
   "cell_type": "markdown",
   "metadata": {},
   "source": [
    "#### Zusätzliche Beispiele für Blöcke"
   ]
  },
  {
   "cell_type": "code",
   "execution_count": 130,
   "metadata": {},
   "outputs": [
    {
     "data": {
      "text/plain": [
       "[[4, 16], [5, 25], [6, 36], [7, 49], [2, 4]]"
      ]
     },
     "execution_count": 130,
     "metadata": {},
     "output_type": "execute_result"
    }
   ],
   "source": [
    "# Beispiel next\n",
    "array = [4,5,6,7,2]\n",
    "array.collect do |x|\n",
    "    next 0 if x == nil\n",
    "    next x, x*x\n",
    "end   "
   ]
  },
  {
   "cell_type": "markdown",
   "metadata": {},
   "source": [
    "## Steuerungsablauf (flow-of-control) auf einen Blick"
   ]
  },
  {
   "cell_type": "markdown",
   "metadata": {},
   "source": [
    "Folgende Anweisungen können dazu verwendet werden den Steuerungsablauf (flow-of-control) eines Ruby Programms zu modifizieren:\n",
    "\n",
    "* `return` → Methode beenden und letzten Wert zurückgeben (kann meist weggelassen werden, nur sinnvoll, wenn man vorzeitig aus einer Methode zurückkehren möchte, oder mehr als einen Wert zurückgeben möchte)\n",
    "* In einem Block kehrt `return` zur umschließenden Methode zurück, nicht zum Block oder Iterator!\n",
    "* `break` → beenden einer Schleife oder eines Iterators\n",
    "* `break` kann nur innerhalb einer Schleife oder eines Block stehen und kehrt zu diesem zurück\n",
    "* `next` → überspringen der aktuellen Iteration und nächste starten\n",
    "* `redo` → Startet Schleife/Iterator am Anfang neu\n",
    "* `retry` → Startet Iterator neu (gesamter Ausdruck) (nur bis Ruby 1.8)\n",
    "* `throw/catch` → Mehrstufiges break → raise/rescue\n",
    "\n",
    "Die Schlüsselwörter können an diversen Stellen im Programm eingesetzt werden, wie die nachfolgenden Beispiele zeigen."
   ]
  },
  {
   "cell_type": "markdown",
   "metadata": {},
   "source": [
    "### Code Beispiele für Steuerungsablauf (flow-of-control)"
   ]
  },
  {
   "cell_type": "code",
   "execution_count": 131,
   "metadata": {},
   "outputs": [
    {
     "data": {
      "text/plain": [
       "[5, 5]"
      ]
     },
     "execution_count": 131,
     "metadata": {},
     "output_type": "execute_result"
    }
   ],
   "source": [
    "# Zwei Kopien von x liefern, falls x nicht nil ist\n",
    "def two_copies(x)\n",
    "    return nil if x == nil\n",
    "    return x, x.dup\n",
    "end\n",
    "two_copies(5)"
   ]
  },
  {
   "cell_type": "code",
   "execution_count": 132,
   "metadata": {},
   "outputs": [
    {
     "name": "stdout",
     "output_type": "stream",
     "text": [
      "und\n",
      "zum\n",
      "bis\n",
      "wann\n",
      "wo\n"
     ]
    }
   ],
   "source": [
    "# break Beispiel \n",
    "woerter = [\"und\", \"zum\", \"bis\", \"wann\", \"wo\", \"mitte\", \"hier\", \"geht\", \"es\", \"weiter\"]\n",
    "woerter.each do |w|\n",
    "    break if w == \"mitte\"\n",
    "    puts w\n",
    "end"
   ]
  },
  {
   "cell_type": "code",
   "execution_count": 133,
   "metadata": {},
   "outputs": [
    {
     "name": "stdout",
     "output_type": "stream",
     "text": [
      "1\n",
      "2\n",
      "3\n",
      "4\n",
      "5\n"
     ]
    }
   ],
   "source": [
    "# throw/catch nested loop\n",
    "catch (:done) do\n",
    "    1.upto(100) do |i|\n",
    "        1.upto(100) do |j|\n",
    "            throw :done if j>5\n",
    "            puts j\n",
    "        end\n",
    "    end\n",
    "end"
   ]
  },
  {
   "cell_type": "code",
   "execution_count": 134,
   "metadata": {},
   "outputs": [
    {
     "name": "stdout",
     "output_type": "stream",
     "text": [
      "2\n",
      "3\n"
     ]
    },
    {
     "data": {
      "text/plain": [
       "[1, 2, 3]"
      ]
     },
     "execution_count": 134,
     "metadata": {},
     "output_type": "execute_result"
    }
   ],
   "source": [
    "# next Beispiel\n",
    "a = [1, 2, 3]\n",
    "a.each do |num|\n",
    "    next if num < 2\n",
    "    puts num\n",
    "end"
   ]
  },
  {
   "cell_type": "code",
   "execution_count": 135,
   "metadata": {},
   "outputs": [
    {
     "name": "stdout",
     "output_type": "stream",
     "text": [
      "0123"
     ]
    }
   ],
   "source": [
    "# redo Beispiel\n",
    "i = 0\n",
    "while(i < 3)\n",
    "  # Kontrolle geht bei redo wieder hierhin\n",
    "  print i\n",
    "  i += 1\n",
    "  redo if i == 3\n",
    "end"
   ]
  },
  {
   "cell_type": "markdown",
   "metadata": {},
   "source": [
    "#### Zusätzliche Beispiele für Steuerungsablauf (flow-of-control)"
   ]
  },
  {
   "cell_type": "code",
   "execution_count": 136,
   "metadata": {},
   "outputs": [
    {
     "data": {
      "text/plain": [
       "5"
      ]
     },
     "execution_count": 136,
     "metadata": {},
     "output_type": "execute_result"
    }
   ],
   "source": [
    "# Methode einfach so (ohne return) geschrieben\n",
    "def return_x(x)\n",
    "    x\n",
    "end\n",
    "return_x(5)"
   ]
  },
  {
   "cell_type": "code",
   "execution_count": 137,
   "metadata": {},
   "outputs": [],
   "source": [
    "# return zur umschließenden Methode\n",
    "def search_array(array, search_value)\n",
    "    array.each_with_index do |e, idx|\n",
    "        return idx if (e == search_value)\n",
    "    end\n",
    "    nil\n",
    "end\n",
    "search_array([1,4,5,0,6], 9)"
   ]
  },
  {
   "cell_type": "markdown",
   "metadata": {},
   "source": [
    "## Ausnahmen (Exceptions) auf einen Blick\n",
    "\n",
    "Ausnahmen können dazu verwendet werden Fehler abzufangen und entsprechend zu behandeln, damit diese nicht zum Abbruch des Programms führen. Hierzu wird in Ruby `raise` zum Auslösen, und `rescue` zum behandeln einer Ausnahme verwendet. `throw` und `catch` dienen nicht diesem Zweck.\n",
    "\n",
    "* Die Klasse Exception bestehend aus `message` und `backtrace`\n",
    "* Erzeugen von Ausnahmeobjekten mit `raise`\n",
    "* `raise` nimmt ein Argument als string der `message` ersetzt\n",
    "* Definition eigener Unterklasse von `StandardError` möglich"
   ]
  },
  {
   "cell_type": "markdown",
   "metadata": {},
   "source": [
    "### Code Beispiele für Ausnahmen (Exceptions)"
   ]
  },
  {
   "cell_type": "code",
   "execution_count": 138,
   "metadata": {},
   "outputs": [
    {
     "ename": "RuntimeError",
     "evalue": "Durch Null teilen geht nicht!",
     "output_type": "error",
     "traceback": [
      "\u001b[31mRuntimeError\u001b[0m: Durch Null teilen geht nicht!",
      "(irb):2:in `teilen'",
      "(irb):5:in `irb_binding'"
     ]
    }
   ],
   "source": [
    "# raise Beispiel durch Null teilen\n",
    "def teilen(x, y)\n",
    "    raise \"Durch Null teilen geht nicht!\" if x == 0 || y == 0\n",
    "    x/y\n",
    "end\n",
    "teilen(2.5, 0)"
   ]
  },
  {
   "cell_type": "code",
   "execution_count": null,
   "metadata": {},
   "outputs": [],
   "source": [
    "# rescue Beispiel durch Null teilen\n",
    "begin\n",
    "    x = 1/0\n",
    "    rescue => ex\n",
    "    puts \"#{ex.class}: #{ex.message}\"\n",
    "end  \n",
    "  "
   ]
  },
  {
   "cell_type": "markdown",
   "metadata": {},
   "source": [
    "#### Zusätzliche Beispiele für Ausnahmen (Exceptions)"
   ]
  },
  {
   "cell_type": "code",
   "execution_count": null,
   "metadata": {},
   "outputs": [],
   "source": [
    "# Ausnahme in einer Methode definieren\n",
    "def multiply(n)\n",
    "    raise \"Zahl ist negativ\" if n < 0\n",
    "    return \"Zahl 1\" if n == 1\n",
    "    n*n\n",
    "end\n",
    "multiply(-1)"
   ]
  },
  {
   "cell_type": "code",
   "execution_count": null,
   "metadata": {},
   "outputs": [],
   "source": [
    "# Neue Ausnahmeklassen definieren\n",
    "class MyError < StandardError; end"
   ]
  },
  {
   "cell_type": "markdown",
   "metadata": {},
   "source": [
    "## Methoden auf einen Blick\n",
    "\n",
    "Methoden werden mit dem Schlüsselwort `def` definiert (und mit `undef` aufgehoben), gefolgt vom Methodennamen und einer optionalen Liste von Parameternamen. Der Methodenrumpf mit Ruby-Code folgt auf die Parameterliste und wird mit dem Schlüsselwort `end` geschlossen.\n",
    "\n",
    "```ruby\n",
    "def multiply (n1, n2)\n",
    "    n1 * n2\n",
    "end\n",
    "```\n",
    "\n",
    "Methodennamen beginnen mit einem Kleinbuchstaben und mehrere Wörter werden mit Unterstrich getrennt. Der Einsatz von Klammern ist optional, wird jedoch bei komplexem Code empfohlen!\n",
    "\n",
    "Methodenaufrufe bestehen aus einem beliebigem Ausdruck (optional, einer Trennung durch `.` oder `::` (optional), dem Methodennamen, Argumentwerten und einem optionalen Codeblock (siehe Iteratoren).\n",
    "\n",
    "Mit dem Beipspiel von oben: `multiply(2, 4)` ==> 8\n",
    "\n",
    "Bei Methoden gibt es in Ruby noch folgendes zu beachten:\n",
    "* Methodennamen können mit einem Gleichheitszeichen, Fragezeichen oder Ausrufezeichen enden (müssen dies aber nicht!)\n",
    "* Alias für Methodennamen können wie folgt definiert werden: `alias aka also_known_as`\n",
    "* Bei verschachtelten Methoden sind Klammern notwendig z. B. ``f(g(x,y),z)` dies führt sonst zu Mehrdeutigkeit\n",
    "* Mehrere Argument können mit `*parameter` als letzter Parameter einer Methode übergeben werden\n",
    "* Anstatt benannten Argumenten können Argumente in ruby mittels Hashes übergeben werden\n",
    "* endet normal mit dem zuletzte ausgewerteten Wert\n",
    "* kann durch `raise` terminiert werden\n",
    "* Rückgabe durch `return` vor dem Ende möglich (ohne Ausdruck ist die Rückgabe `nil`)\n",
    "* Mehrere Rückgabewerte möglich\n",
    "* Ausnahmebehandlung mit `rescue`, `else` und `ensure`\n",
    "* Besonderheiten der Singelton Methode (Methodendefinition in einer Zeile)\n",
    "    * Für Fixnum- und Symbol-Objekte können keine Singleton-Methoden definiert werden\n",
    "    * Aus Konsistenzgründen ist dies auch für andere Numeric-Objekte nicht erlaubt"
   ]
  },
  {
   "cell_type": "markdown",
   "metadata": {},
   "source": [
    "## Code Beispiele für Methoden\n",
    "\n",
    "Nchfolgend sind die im Workshop gezeigten Code Beispiele plus weitere Beispiele aufgeführt. \n",
    "Diese können während des Workshops parallel und interaktiv verwendet werden, um den Inhalt besser nachzuvollziehen."
   ]
  },
  {
   "cell_type": "markdown",
   "metadata": {},
   "source": [
    "### Methodendefinitionen"
   ]
  },
  {
   "cell_type": "code",
   "execution_count": null,
   "metadata": {},
   "outputs": [],
   "source": [
    "# Definition einer Methode mit Parameterstandardwert\n",
    "def rm_prefix(str, len=5)\n",
    "    str[len,str.length]\n",
    "end\n",
    "rm_prefix(\"2022 Ruby Workshop\")"
   ]
  },
  {
   "cell_type": "code",
   "execution_count": null,
   "metadata": {},
   "outputs": [],
   "source": [
    "# Methodenalias festlegen\n",
    "alias rmp rm_prefix\n",
    "rmp(\"2022 Ruby Workshop\")"
   ]
  },
  {
   "cell_type": "code",
   "execution_count": null,
   "metadata": {},
   "outputs": [],
   "source": [
    "# Singelton-Methode für nur ein Objekt\n",
    "obj = \"Warning\"  # Ein String ist ein Objekt\n",
    "def o.printwarn    # Singleton-Methode für dieses Objekt definieren\n",
    "  puts self\n",
    "end\n",
    "o.printwarn        # Singleton-Methode aufrufen"
   ]
  },
  {
   "cell_type": "markdown",
   "metadata": {},
   "source": [
    "#### Zusätzliche Beispiele Methodendefinitionen"
   ]
  },
  {
   "cell_type": "code",
   "execution_count": null,
   "metadata": {},
   "outputs": [],
   "source": [
    "# Übergeben und sortieren mehrerer Werte\n",
    "def min(first, *rest)\n",
    "    min = first\n",
    "    rest.each {|x| min = x if x < min }\n",
    "    min\n",
    "end\n",
    "\n",
    "min(10,5,6,7,8,2,1,9)\n",
    "\n",
    "array = [10,5,6,7,8,2,1,9]\n",
    "min(*array) # Übergabe des Arrays als einziger Paramter nur mir * möglich!"
   ]
  },
  {
   "cell_type": "code",
   "execution_count": null,
   "metadata": {},
   "outputs": [],
   "source": [
    "# Argumente via Hash übergeben, somit spielt die Reihenfolge keine Rolle!\n",
    "def room_numbers(args)\n",
    "    rooms = args[:rooms] || 0\n",
    "    floor = args[:floor] || 1\n",
    "    room_list = []\n",
    "    rooms.times {|i| room_list << \"#{floor}#{i}\" }\n",
    "    room_list\n",
    "end\n",
    "\n",
    "room_numbers({:rooms=>20})"
   ]
  },
  {
   "cell_type": "markdown",
   "metadata": {},
   "source": [
    "### Methodenaufrufe"
   ]
  },
  {
   "cell_type": "code",
   "execution_count": null,
   "metadata": {},
   "outputs": [],
   "source": [
    "# Ausgeben von message mit puts\n",
    "message = \"Ich bins\"\n",
    "puts message    # puts ist eine Kernel Methode und somit eine globale Funktion, \n",
    "                # diese sind als private Methoden der Klasse Object definiert."
   ]
  },
  {
   "cell_type": "code",
   "execution_count": null,
   "metadata": {},
   "outputs": [],
   "source": [
    "# Länge von message ermitteln durch Trennung mit einem Punkt\n",
    "message.length"
   ]
  },
  {
   "cell_type": "code",
   "execution_count": null,
   "metadata": {},
   "outputs": [],
   "source": [
    "# Berechnen der Wurzel aus 2 durch Trennung mit einem Punkt und Übergabe eines Arguments\n",
    "Math.sqrt(2)"
   ]
  },
  {
   "cell_type": "code",
   "execution_count": null,
   "metadata": {},
   "outputs": [],
   "source": [
    "# Array Inhalt überprüfen\n",
    "a.empty?"
   ]
  },
  {
   "cell_type": "markdown",
   "metadata": {},
   "source": [
    "#### Zusätzliche Beispiele Methodenaufrufe"
   ]
  },
  {
   "cell_type": "code",
   "execution_count": null,
   "metadata": {},
   "outputs": [],
   "source": [
    "# Auslesen eines Arrays mit .each und puts (p)\n",
    "a = [3, 2, 1, 0]\n",
    "a.each {|x| p x }"
   ]
  },
  {
   "cell_type": "code",
   "execution_count": null,
   "metadata": {},
   "outputs": [],
   "source": [
    "# Arry an Ort und Stelle sortieren\n",
    "a.sort!"
   ]
  },
  {
   "cell_type": "code",
   "execution_count": null,
   "metadata": {},
   "outputs": [],
   "source": [
    "# Methodenaufruf mit/ohne Klammern ist dasselbe\n",
    "x = 2\n",
    "x.between? 1,3\n",
    "x.between?(1,3)"
   ]
  },
  {
   "cell_type": "markdown",
   "metadata": {},
   "source": [
    "## Zusatz"
   ]
  },
  {
   "cell_type": "markdown",
   "metadata": {},
   "source": [
    "### BEGIN und END\n",
    "\n",
    "`BEGIN` und `END` können zur Deklaration von Code verwendet werden, der ganz zu Beginn oder Ende eines Ruby Programms ausgeführt wird."
   ]
  },
  {
   "cell_type": "code",
   "execution_count": null,
   "metadata": {},
   "outputs": [],
   "source": [
    "# BEGIN und END in einem Ruby Programm\n",
    "BEGIN {\n",
    "  # Initialisierung\n",
    "}\n",
    "\n",
    "END {\n",
    "  # Shutdown\n",
    "}"
   ]
  },
  {
   "cell_type": "markdown",
   "metadata": {},
   "source": [
    "### Threads und Fiber auf einen Blick"
   ]
  },
  {
   "cell_type": "markdown",
   "metadata": {},
   "source": [
    "Threads ermöglichen es weitere Sequenzen neben der Hauptsequenz laufen zu lassen. Mit Ruby 1.9 gibt es mit den s. g. `Fiber` *Coroutinen* eine weitere Möglichkeit, die eine Art leichtgewichtiger Thread sind, allerdings von den meisten Ruby Programmierern nie verwendet werden."
   ]
  },
  {
   "cell_type": "markdown",
   "metadata": {},
   "source": [
    "#### Code Beispiele für Threads und Fiber"
   ]
  },
  {
   "cell_type": "code",
   "execution_count": null,
   "metadata": {},
   "outputs": [],
   "source": [
    "# Einen Thread für jede Datei erzeugen\n",
    "def readfiles(filenames)\n",
    "    threads = filenames.map do |f|\n",
    "      Thread.new { File.read(f) }\n",
    "    end\n",
    "    threads.map {|t| t.value }\n",
    "end   "
   ]
  },
  {
   "cell_type": "markdown",
   "metadata": {},
   "source": [
    "## Kombinierte Aufgaben\n",
    "\n",
    "Die nachfolgenden Aufgaben decken den gesamten Abschnitt ab und behandeln die Themen: Fallunterscheidungen, Iteratoren und Enumeratoren, Blöcke, Methoden, Ausnahmen und Threads.\n",
    "Die Aufgaben bestehen aus einer Kombination all dieser Themen und gehen von leicht bis schwer - somit kann jeder eine für seinen Fortschritt passende Aufgabe auswählen und diese bearbeiten."
   ]
  },
  {
   "cell_type": "markdown",
   "metadata": {},
   "source": [
    "### Aufgabe 1: Methode Strings verknüpfen (leicht)\n",
    "\n",
    "Definiere eine Methode mit zwei Parametern, die einen Dateinamen und einen Prefix String als Argument aufnimmt und diese entsprechend miteinander verknüpfen.\n",
    "\n",
    "**Beispiel Input**\n",
    "\n",
    "`archive(\"dateiname\", \"archive_\")`\n",
    "\n",
    "**Beispiel Output**\n",
    "\n",
    "Dateiname_archive"
   ]
  },
  {
   "cell_type": "code",
   "execution_count": null,
   "metadata": {},
   "outputs": [],
   "source": [
    "# your code here"
   ]
  },
  {
   "cell_type": "markdown",
   "metadata": {},
   "source": [
    "### Aufgabe 2: Methode mit Schleife Großbuchstaben (mittel)\n",
    "\n",
    "Definiere eine Methode, mit zwei Parametern, der erste Parameter soll einen beliebigen String aufnehmen, der zweite einen Buchstaben. Die Methode soll mittels einer Schleife alle im Sring vorhandenen Buchstaben in Großbuchstaben verfwandeln.\n",
    "\n",
    "**Beispiel Input**\n",
    "\n",
    "`charup(\"Kaffee\", \"f\")`\n",
    "\n",
    "**Beispiel Output**\n",
    "\n",
    "KaFFee"
   ]
  },
  {
   "cell_type": "code",
   "execution_count": null,
   "metadata": {},
   "outputs": [],
   "source": [
    "# your code here"
   ]
  },
  {
   "cell_type": "markdown",
   "metadata": {},
   "source": [
    "### Aufgabe 3 (schwer)\n",
    "\n",
    "Schreibe eine for-Schleife, die mittels eines Enumerators eine Textdatei Zeile für Zeile durchgeht und dabei die aktuelle Zeile ausgibt.\n",
    "\n",
    "**Beispiel Input**\n",
    "\n",
    "`text = File.open('text.txt')`\n",
    "\n",
    "**Beispiel Output**\n",
    "\n",
    "1: line of text  \n",
    "2: more text  \n",
    "3: really?  \n",
    "4: why more?  \n",
    "5: even more text  \n",
    "6: read it  \n",
    "7: or not \n",
    "8: the end"
   ]
  },
  {
   "cell_type": "code",
   "execution_count": null,
   "metadata": {},
   "outputs": [],
   "source": [
    "# Öffnen einer einfachen txt Datei\n",
    "text = File.open('text.txt')\n",
    "\n",
    "# your code here"
   ]
  },
  {
   "cell_type": "markdown",
   "metadata": {},
   "source": [
    "### Aufgabe 4 (schwer)\n",
    "\n",
    "Implementiere eine Funktion, die über eine Farbliste iteriert, diese sortiert in ein neues Array schreibt und pro Zeile ausgibt!\n",
    "Überprüfe zu Beginn, ob die Farbliste leer ist.\n",
    "\n",
    "**Beispiel Input**\n",
    "\n",
    "`col_full = %w(green blue yellow pink)`  \n",
    "`col_empty = []`\n",
    "\n",
    "**Beispiel Output**\n",
    "\n",
    "blue  \n",
    "green  \n",
    "pink  \n",
    "yellow"
   ]
  },
  {
   "cell_type": "code",
   "execution_count": null,
   "metadata": {},
   "outputs": [],
   "source": [
    "# your code here"
   ]
  },
  {
   "cell_type": "markdown",
   "metadata": {},
   "source": [
    "### Aufgabe 5 (leicht)\n",
    "\n",
    "Schreibe eine “Remove Prefix” Methode, die eine gegebene Anzahl an Buchstaben von einem Satzanfang entfernt.\n",
    "\n",
    "**Beispiel Input**\n",
    "\n",
    "`methode(\"Error message: Please restart your computer!\")`\n",
    "\n",
    "**Beispiel Output**\n",
    "\n",
    "Please restart your computer!"
   ]
  },
  {
   "cell_type": "code",
   "execution_count": null,
   "metadata": {},
   "outputs": [],
   "source": [
    "# your code here"
   ]
  },
  {
   "cell_type": "markdown",
   "metadata": {},
   "source": [
    "## Lösungen zu den Aufgaben"
   ]
  },
  {
   "cell_type": "markdown",
   "metadata": {},
   "source": [
    "### Lösung Aufgabe 1"
   ]
  },
  {
   "cell_type": "code",
   "execution_count": null,
   "metadata": {},
   "outputs": [],
   "source": [
    "def archive(filename, prefix)\n",
    "    prefix+filename\n",
    "end\n",
    "\n",
    "archive(\"dateiname\", \"archive_\")"
   ]
  },
  {
   "cell_type": "markdown",
   "metadata": {},
   "source": [
    "### Lösung Aufgabe 2"
   ]
  },
  {
   "cell_type": "code",
   "execution_count": null,
   "metadata": {},
   "outputs": [],
   "source": [
    "def charup(s, l)\n",
    "    while(s[\"#{l}\"])\n",
    "        s[\"#{l}\"] = \"#{l.upcase}\"\n",
    "    end\n",
    "    puts s\n",
    "end\n",
    "\n",
    "charup(\"Kaffee\", \"f\")"
   ]
  },
  {
   "cell_type": "markdown",
   "metadata": {},
   "source": [
    "### Lösung Aufgabe 3"
   ]
  },
  {
   "cell_type": "code",
   "execution_count": null,
   "metadata": {},
   "outputs": [],
   "source": [
    "# Öffnen einer einfachen txt Datei\n",
    "text = File.open('text.txt')\n",
    "\n",
    "# for-Schleife mit Enumerator und Ausgabe\n",
    "for zeile, zeilennr in text.each_line.with_index\n",
    "    print \"#{zeilennr+1}: #{zeile}\"\n",
    "end"
   ]
  },
  {
   "cell_type": "markdown",
   "metadata": {},
   "source": [
    "### Lösung Aufgabe 4"
   ]
  },
  {
   "cell_type": "code",
   "execution_count": null,
   "metadata": {},
   "outputs": [],
   "source": [
    "# Ein vollen/leeres String Array mit Farben\n",
    "col_full = %w(green blue yellow pink)\n",
    "col_empty = []\n",
    "\n",
    "#Funktion zum Transfer der Farben in ein neues Array\n",
    "def iterate_colors(colors)\n",
    "    # Your code here\n",
    "    unless colors.empty?\n",
    "      a = Array.new\n",
    "      colors.sort.each do # Auch mit \"collect\" möglich?\n",
    "          |c| a.push(c)\n",
    "      end.each { |c| puts c }\n",
    "    end\n",
    "  end\n",
    "\n",
    "# Funktion mit den beiden Arrays ausführen\n",
    "iterate_colors(col_full)\n",
    "iterate_colors(col_empty)"
   ]
  },
  {
   "cell_type": "markdown",
   "metadata": {},
   "source": [
    "### Lösung Aufgabe 5"
   ]
  },
  {
   "cell_type": "code",
   "execution_count": null,
   "metadata": {},
   "outputs": [],
   "source": [
    "def rm_prefix(s, pre)\n",
    "    s[pre, s.length()]\n",
    "end\n",
    "\n",
    "puts rm_prefix(\"Error message: Please restart your computer!\", 15)"
   ]
  },
  {
   "cell_type": "markdown",
   "metadata": {},
   "source": [
    "## Quellen\n",
    "\n",
    "* Die Programmiersprache Ruby von David Flanagan und Yukihiro Matsumoto. Copyright 2008 David Flanagan und Yukihiro Matsumoto, ISBN 978-3-89721-874-1"
   ]
  }
 ],
 "metadata": {
  "kernelspec": {
   "display_name": "Ruby 2.7.0",
   "language": "ruby",
   "name": "ruby"
  },
  "language_info": {
   "file_extension": ".rb",
   "mimetype": "application/x-ruby",
   "name": "ruby",
   "version": "2.7.0"
  }
 },
 "nbformat": 4,
 "nbformat_minor": 2
}
