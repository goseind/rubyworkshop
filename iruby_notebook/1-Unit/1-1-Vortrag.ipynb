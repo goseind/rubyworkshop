{
 "cells": [
  {
   "cell_type": "markdown",
   "metadata": {},
   "source": [
    "# 1-1-Vortrag"
   ]
  },
  {
   "cell_type": "markdown",
   "metadata": {},
   "source": [
    "Variablen & Datentypen\n",
    "Arrays und Ranges\n",
    "Symbole und Hashes \n",
    "Operatoren"
   ]
  },
  {
   "cell_type": "markdown",
   "metadata": {},
   "source": [
    "Print und puts\n",
    "Der Unterschied zwischen print und puts Methoden"
   ]
  },
  {
   "cell_type": "code",
   "execution_count": null,
   "metadata": {},
   "outputs": [],
   "source": [
    "#Die print-Methode ist wie in Java System.out.print()\n",
    "5.times do print \"Test\" end"
   ]
  },
  {
   "cell_type": "code",
   "execution_count": null,
   "metadata": {},
   "outputs": [],
   "source": [
    " #Die puts-Methode ist wie in Java System.out.println()\n",
    " 5.times do puts \"Test\" end"
   ]
  },
  {
   "cell_type": "markdown",
   "metadata": {},
   "source": [
    "# Variablen "
   ]
  },
  {
   "cell_type": "markdown",
   "metadata": {},
   "source": [
    "Alles ist ein Objekt, Ruby kennt keine primitiven Datentypen"
   ]
  },
  {
   "cell_type": "code",
   "execution_count": null,
   "metadata": {},
   "outputs": [],
   "source": [
    "a = 3       # vergleich zu Java: int a = 3\n",
    "b = 'Hallo' # String b = \"Hallo\""
   ]
  },
  {
   "cell_type": "code",
   "execution_count": null,
   "metadata": {},
   "outputs": [],
   "source": [
    "#Klasse des Objektes prüfen\n",
    "a.class"
   ]
  },
  {
   "cell_type": "code",
   "execution_count": null,
   "metadata": {},
   "outputs": [],
   "source": [
    "b.class"
   ]
  },
  {
   "cell_type": "code",
   "execution_count": null,
   "metadata": {},
   "outputs": [],
   "source": [
    "#Parallele Zuweisung:\n",
    "a,b = 1,2"
   ]
  },
  {
   "cell_type": "code",
   "execution_count": null,
   "metadata": {},
   "outputs": [],
   "source": [
    "#Die Variable z bekommt nil\n",
    "x,y,z = 5,6"
   ]
  },
  {
   "cell_type": "code",
   "execution_count": null,
   "metadata": {},
   "outputs": [],
   "source": [
    "#Es gibt keine Fehlermeldung, 0 wird keiner Variable zugewiesen\n",
    "w,v = 8,9,0"
   ]
  },
  {
   "cell_type": "markdown",
   "metadata": {},
   "source": [
    "# Integer"
   ]
  },
  {
   "cell_type": "code",
   "execution_count": null,
   "metadata": {},
   "outputs": [],
   "source": [
    "#2 gehört zur Klasse Integer\n",
    "2.class"
   ]
  },
  {
   "cell_type": "markdown",
   "metadata": {},
   "source": [
    "Die Klasse Integer bietet mehrere Methoden an, mit denen man über Zahlenbereiche iterieren kann:"
   ]
  },
  {
   "cell_type": "code",
   "execution_count": null,
   "metadata": {},
   "outputs": [],
   "source": [
    "#Code in den geschweiften Klammern wird 5 Mal ausgeführt\n",
    "5.times { puts \"Test\" }"
   ]
  },
  {
   "cell_type": "code",
   "execution_count": null,
   "metadata": {},
   "outputs": [],
   "source": [
    "# Durchläuft den Zahlenbereich von 1 bis 5 (inklusive). Code in den geschweiften Klammern wird jedes mal ausgeführt \n",
    "1.upto(5) { |number| puts number }"
   ]
  },
  {
   "cell_type": "code",
   "execution_count": null,
   "metadata": {},
   "outputs": [],
   "source": [
    "1.upto(3) { print \"X \" }"
   ]
  },
  {
   "cell_type": "code",
   "execution_count": null,
   "metadata": {},
   "outputs": [],
   "source": [
    "#Durchläuft den Zahlenbereich von 10 bis 5 (inklusive) und führt den Code in den geschweiften Klammern jedes mal aus\n",
    "10.downto(5) { |number| puts number*2 }"
   ]
  },
  {
   "cell_type": "code",
   "execution_count": null,
   "metadata": {},
   "outputs": [],
   "source": [
    "## Durchläuft den Zahlenbereich von 0 bis 50 (inklusive) mit der Schrittgröße 5\n",
    "#Code in den geschweiften Klammern wird jedes mal ausgeführt\n",
    "0.step(50, 5){ |number| puts number }"
   ]
  },
  {
   "cell_type": "markdown",
   "metadata": {},
   "source": [
    "# Fließkommazahlen"
   ]
  },
  {
   "cell_type": "code",
   "execution_count": null,
   "metadata": {},
   "outputs": [],
   "source": [
    "s = 2.0\n",
    "puts s.class"
   ]
  },
  {
   "cell_type": "code",
   "execution_count": null,
   "metadata": {},
   "outputs": [],
   "source": [
    "#Beide Eingabezahlen sind Ganzzahlen, das Ergebnis ist also eine Ganzzahl\n",
    "puts 10/3"
   ]
  },
  {
   "cell_type": "code",
   "execution_count": null,
   "metadata": {},
   "outputs": [],
   "source": [
    "#Hier sind die beiden Zahlen Fließkommazahlen, daher ist das Ergebnis auch eine Fließkommazahl\n",
    "puts 10.0/3.0"
   ]
  },
  {
   "cell_type": "code",
   "execution_count": null,
   "metadata": {},
   "outputs": [],
   "source": [
    "#Ganzzahl zur Fließkommazahl umwandeln\n",
    "x = 10\n",
    "y = 50\n",
    "puts y.to_f/x.to_f"
   ]
  },
  {
   "cell_type": "code",
   "execution_count": null,
   "metadata": {},
   "outputs": [],
   "source": [
    "#Fließkommazahl zur Ganzzahl umwandeln\n",
    "puts 3.7.to_i"
   ]
  },
  {
   "cell_type": "markdown",
   "metadata": {},
   "source": [
    "# String"
   ]
  },
  {
   "cell_type": "markdown",
   "metadata": {},
   "source": [
    "String kann mit zwei Möglichkeiten initialisiert werden: \n",
    "    in Anführungszeichen (\" \") oder\n",
    "    in einfachen Anführungszeichen (' ') setzen"
   ]
  },
  {
   "cell_type": "code",
   "execution_count": null,
   "metadata": {},
   "outputs": [],
   "source": [
    "puts \"Hallo\".class"
   ]
  },
  {
   "cell_type": "code",
   "execution_count": null,
   "metadata": {},
   "outputs": [],
   "source": [
    "puts 'Hallo'.class"
   ]
  },
  {
   "cell_type": "markdown",
   "metadata": {},
   "source": [
    "Variablen können innerhalb eines Stringes über #{VAR} eingesetzt werden:"
   ]
  },
  {
   "cell_type": "code",
   "execution_count": null,
   "metadata": {},
   "outputs": [],
   "source": [
    "tag = \"Mittwoch\"\n",
    "\n",
    "#Variablen unter String mit einfachen Anführungszeichen ' ' werden nicht eingesetzt\n",
    "puts 'Heute ist ein #{tag}'"
   ]
  },
  {
   "cell_type": "code",
   "execution_count": null,
   "metadata": {},
   "outputs": [],
   "source": [
    "#In diesem fall wird der Wert der Variable eingesetzt\n",
    "puts \"Heute ist ein #{tag}\""
   ]
  },
  {
   "cell_type": "markdown",
   "metadata": {},
   "source": [
    "Beispiele mit Strings"
   ]
  },
  {
   "cell_type": "code",
   "execution_count": null,
   "metadata": {},
   "outputs": [],
   "source": [
    "puts \"abc\" * 5"
   ]
  },
  {
   "cell_type": "code",
   "execution_count": null,
   "metadata": {},
   "outputs": [],
   "source": [
    "y = \"A\"*0"
   ]
  },
  {
   "cell_type": "code",
   "execution_count": null,
   "metadata": {},
   "outputs": [],
   "source": [
    "#Verkettung zweier Strings\n",
    "puts \"Test\" + \"String\" == \"TestString\""
   ]
  },
  {
   "cell_type": "code",
   "execution_count": null,
   "metadata": {},
   "outputs": [],
   "source": [
    "#Die Größe(Länger) eines Strings\n",
    "\"Hallo\".size()"
   ]
  },
  {
   "cell_type": "code",
   "execution_count": null,
   "metadata": {},
   "outputs": [],
   "source": [
    "#Split eines Strings\n",
    "\"Hallo Welt!\".split('')"
   ]
  },
  {
   "cell_type": "code",
   "execution_count": null,
   "metadata": {},
   "outputs": [],
   "source": [
    "#Die Länger eines Strings\n",
    "\"Hallo\".length"
   ]
  },
  {
   "attachments": {
    "image.png": {
     "image/png": "[encoded data removed]"
    }
   },
   "cell_type": "markdown",
   "metadata": {},
   "source": [
    "# Weitere String-Methoden\n",
    "Die Ergebnisse der Anwendung verschiedener Methoden auf die Zeichenfolge \"Test\":\n",
    "\n",
    "![image.png](attachment:image.png)"
   ]
  },
  {
   "cell_type": "markdown",
   "metadata": {},
   "source": [
    "Ruby kennt keinen Datentyp char \n",
    "Ein einzelnes Zeichen wird durch einen String der Länge 1 repräsentiert."
   ]
  },
  {
   "cell_type": "code",
   "execution_count": null,
   "metadata": {},
   "outputs": [],
   "source": [
    "puts \"d\".class"
   ]
  },
  {
   "cell_type": "markdown",
   "metadata": {},
   "source": [
    "Die ord-Methode der String-Klasse gibt eine ganze Zahl zurück, die der Position dieses Zeichens in der ASCII-Tabelle entspricht, einem internationalen Standard für die Darstellung von Zeichen als Werte."
   ]
  },
  {
   "cell_type": "code",
   "execution_count": null,
   "metadata": {},
   "outputs": [],
   "source": [
    "puts \"a\".ord"
   ]
  },
  {
   "cell_type": "markdown",
   "metadata": {},
   "source": [
    "Das Gegenteil der ord-Methode wird erreicht, indem die chr-Methode der String-Klasse verwenden wird, zum Beispiel: "
   ]
  },
  {
   "cell_type": "code",
   "execution_count": null,
   "metadata": {},
   "outputs": [],
   "source": [
    " puts 97.chr"
   ]
  },
  {
   "cell_type": "markdown",
   "metadata": {},
   "source": [
    "# Objekt Nil"
   ]
  },
  {
   "cell_type": "markdown",
   "metadata": {},
   "source": [
    "Nil ist ein Objekt von NilClass, repräsentiert nichts\n",
    "Nur nil und false sind false in Ruby, alles anderes ist true."
   ]
  },
  {
   "cell_type": "code",
   "execution_count": null,
   "metadata": {},
   "outputs": [],
   "source": [
    "nil.class"
   ]
  },
  {
   "cell_type": "markdown",
   "metadata": {},
   "source": [
    "# Variablen sind immer Referenzen auf Objekte"
   ]
  },
  {
   "cell_type": "code",
   "execution_count": null,
   "metadata": {},
   "outputs": [],
   "source": [
    "#Eine Zuweisung erzeugt eine weitere Referenz auf das Objekt, keine Kopie\n",
    "name = \"Mascha\"\n",
    "name2 = name\n",
    "puts name2"
   ]
  },
  {
   "cell_type": "code",
   "execution_count": null,
   "metadata": {},
   "outputs": [],
   "source": [
    "name[0] = \"S\"\n",
    "puts name"
   ]
  },
  {
   "cell_type": "code",
   "execution_count": null,
   "metadata": {},
   "outputs": [],
   "source": [
    "puts name2"
   ]
  },
  {
   "cell_type": "markdown",
   "metadata": {},
   "source": [
    "Man kann eine Variable mit der dup-Methode dublizieren. Hiermit wird ein Clone der Variable erstellet"
   ]
  },
  {
   "cell_type": "code",
   "execution_count": null,
   "metadata": {},
   "outputs": [],
   "source": [
    "#Beispiel eines Clones \n",
    "name3 = name.dup\n",
    "name[-1] = \"e\"\n",
    "puts name"
   ]
  },
  {
   "cell_type": "code",
   "execution_count": null,
   "metadata": {},
   "outputs": [],
   "source": [
    "#Prüfen, ob sich der Wert name3 verädert hat\n",
    "puts name3"
   ]
  },
  {
   "cell_type": "markdown",
   "metadata": {},
   "source": [
    "# Konstanten in Ruby"
   ]
  },
  {
   "cell_type": "markdown",
   "metadata": {},
   "source": [
    "Unveränderliche Werte werden als Konstanten bezeichnet, z.B. der Wert von Pi\n",
    "\n",
    "    - Konstante beginnen mit einem Großbuchstaben\n",
    "    - Werte der Konstanten lassen sich verändern, aber es gibt immer eine Warnung"
   ]
  },
  {
   "cell_type": "code",
   "execution_count": null,
   "metadata": {},
   "outputs": [],
   "source": [
    "#Beispiel mit Konstante\n",
    "Pi = 3.14\n",
    "\n",
    "#Überschreibung => warning\n",
    "Pi = 3"
   ]
  },
  {
   "cell_type": "markdown",
   "metadata": {},
   "source": [
    "# Array"
   ]
  },
  {
   "cell_type": "markdown",
   "metadata": {},
   "source": [
    "Array ist eine Samlung von Objekten\n",
    "Jedes Objekt hat eine Position, ein Index\n",
    "Initialisierung:   s = [ ]    s = Array.new\n",
    "    - s[0] = 0\n",
    "    - s.push(1)\n",
    "    - s << 2"
   ]
  },
  {
   "attachments": {
    "1971696f-3a4b-4895-9a3d-bd1849a5189e.png": {
     "image/png": "[encoded data removed]"
    }
   },
   "cell_type": "markdown",
   "metadata": {},
   "source": [
    "![image.png](attachment:1971696f-3a4b-4895-9a3d-bd1849a5189e.png)"
   ]
  },
  {
   "cell_type": "markdown",
   "metadata": {},
   "source": [
    ".shift\n",
    "Die Methode .shift entfernt permanent das erste Element eines Arrays und gibt dieses Element zurück:"
   ]
  },
  {
   "cell_type": "code",
   "execution_count": null,
   "metadata": {},
   "outputs": [],
   "source": [
    "#Löschen des ersten Elements\n",
    "arr = [1,2,3,4,5]\n",
    "arr.shift"
   ]
  },
  {
   "cell_type": "markdown",
   "metadata": {},
   "source": [
    ".unshift\n",
    "Mit der Methode .unshift kann man ein Element an den Anfang eines Arrays anfügen:"
   ]
  },
  {
   "cell_type": "code",
   "execution_count": null,
   "metadata": {},
   "outputs": [],
   "source": [
    "#Einfügen eines oder mehrerer Elemente am Anfang eines Arrays \n",
    "arr.unshift(9,9,9)\n",
    "print arr"
   ]
  },
  {
   "cell_type": "markdown",
   "metadata": {},
   "source": [
    ".delete\n",
    "Die .delete-Methode entfernt ein bestimmtes Element dauerhaft aus einem Array:"
   ]
  },
  {
   "cell_type": "code",
   "execution_count": null,
   "metadata": {},
   "outputs": [],
   "source": [
    "arr.delete(2)\n",
    "print arr"
   ]
  },
  {
   "cell_type": "markdown",
   "metadata": {},
   "source": [
    ".delete_at\n",
    "Die Methode .delete_at erlaubt ein Element eines Arrays an einem bestimmten Index dauerhaft zu entfernen:"
   ]
  },
  {
   "cell_type": "code",
   "execution_count": null,
   "metadata": {},
   "outputs": [],
   "source": [
    "arr.delete_at(5)\n",
    "print arr"
   ]
  },
  {
   "cell_type": "markdown",
   "metadata": {},
   "source": [
    "each\n",
    "Die .each-Methode iteriert über jedes Element des Arrays und ermöglicht Aktionen mit diesen Elementen durchzuführen:"
   ]
  },
  {
   "cell_type": "code",
   "execution_count": null,
   "metadata": {},
   "outputs": [],
   "source": [
    "arr.each{|x| x*2}"
   ]
  },
  {
   "cell_type": "markdown",
   "metadata": {},
   "source": [
    ".map\n",
    "Die .map-Methode ist die gleiche wie die .collect-Methode. Die .map- und .collect-Methoden iterieren über jedes Element des Arrays und ermöglichen Aktionen mit ihnen durchzuführen. \n",
    "Die Methoden .map und .collect unterscheiden sich von der Methode .each dadurch, dass sie ein Array zurückgeben, das die transformierten Elemente enthält."
   ]
  },
  {
   "cell_type": "code",
   "execution_count": null,
   "metadata": {},
   "outputs": [],
   "source": [
    "arr.map { |element| element * 2 }"
   ]
  },
  {
   "cell_type": "markdown",
   "metadata": {},
   "source": [
    "# Ranges"
   ]
  },
  {
   "cell_type": "markdown",
   "metadata": {},
   "source": [
    "Ranges sind ein eigener Datentyp in Ruby\n",
    "Beschreiben einen Bereich von Werten (Intervall):\n",
    "    a..b: Von a bis b inklusive b\n",
    "    a...b: Von a bis b exklusive b"
   ]
  },
  {
   "cell_type": "code",
   "execution_count": null,
   "metadata": {},
   "outputs": [],
   "source": [
    "#Iteration mithilfe der each-Methode\n",
    "('A'..'Z').each { |letter| print letter }"
   ]
  },
  {
   "cell_type": "code",
   "execution_count": null,
   "metadata": {},
   "outputs": [],
   "source": [
    "#Umwandeln von Rang zu Array\n",
    "(1...5).to_a "
   ]
  },
  {
   "cell_type": "code",
   "execution_count": null,
   "metadata": {},
   "outputs": [],
   "source": [
    "#Umwandeln von Rang zu Array\n",
    "(3..1).to_a "
   ]
  },
  {
   "cell_type": "markdown",
   "metadata": {},
   "source": [
    "Vorteil von Ranges:\n",
    "    - Ranges sind speichersparend: anstatt alle Werte zu speichern, müssen nur die Grenzen abgelegt werden\n",
    "    - Mit der include?-Methode wird geprüft, ob ein Wert im Range liegt\n"
   ]
  },
  {
   "cell_type": "code",
   "execution_count": null,
   "metadata": {},
   "outputs": [],
   "source": [
    "(1...5).include?(2)"
   ]
  },
  {
   "cell_type": "code",
   "execution_count": null,
   "metadata": {},
   "outputs": [],
   "source": [
    "(1...5).include?2"
   ]
  },
  {
   "cell_type": "code",
   "execution_count": null,
   "metadata": {},
   "outputs": [],
   "source": [
    "(3..1).include?(2)"
   ]
  },
  {
   "cell_type": "markdown",
   "metadata": {},
   "source": [
    "# Unbegrenzter Range "
   ]
  },
  {
   "cell_type": "markdown",
   "metadata": {},
   "source": [
    "Ranges mit ... funktionieren ohne obere Grenze \n",
    "Range geht dann bis \"Unendlich\"\n",
    "\n",
    "Beispiel:\n",
    "a=(1...)"
   ]
  },
  {
   "cell_type": "markdown",
   "metadata": {},
   "source": [
    "# Hash"
   ]
  },
  {
   "cell_type": "markdown",
   "metadata": {},
   "source": [
    "Ein Hash ist eine Sammlung von Objekten\n",
    "Definition jedes Objektes mit einem Schlüßelwort\n",
    "Mit dem Schlüßel werden die Objekte gesucht\n",
    "Es gibt keine garantierte Reihenfolge von Objekten"
   ]
  },
  {
   "cell_type": "code",
   "execution_count": null,
   "metadata": {},
   "outputs": [],
   "source": [
    "#Initialisierung\n",
    "hs = {katze: \"Felix\", hund: \"Rex\"}"
   ]
  },
  {
   "cell_type": "code",
   "execution_count": null,
   "metadata": {},
   "outputs": [],
   "source": [
    "#Iteration über ein Hash\n",
    "hs.each { |key, value| puts \"#{key} heißt #{value}\" }"
   ]
  },
  {
   "cell_type": "markdown",
   "metadata": {},
   "source": [
    "# Operatoren"
   ]
  },
  {
   "cell_type": "raw",
   "metadata": {},
   "source": [
    "&& - Operator"
   ]
  },
  {
   "cell_type": "code",
   "execution_count": null,
   "metadata": {},
   "outputs": [],
   "source": [
    "#a && b:  => b  wenn a false ist \n",
    "puts 1 > 2 && 3\n",
    "false"
   ]
  },
  {
   "cell_type": "code",
   "execution_count": null,
   "metadata": {},
   "outputs": [],
   "source": [
    "#a && b:  => b  wenn b true ist\n",
    "puts \"Hallo\" && 3"
   ]
  },
  {
   "cell_type": "code",
   "execution_count": null,
   "metadata": {},
   "outputs": [],
   "source": [
    "puts \"Hallo\" && \"Welt\""
   ]
  },
  {
   "cell_type": "markdown",
   "metadata": {},
   "source": [
    "|| - Operator"
   ]
  },
  {
   "cell_type": "code",
   "execution_count": null,
   "metadata": {},
   "outputs": [],
   "source": [
    "#a || b:  => a wenn a true ist \n",
    "a = 2\n",
    "puts a || 15 < 3"
   ]
  },
  {
   "cell_type": "code",
   "execution_count": null,
   "metadata": {},
   "outputs": [],
   "source": [
    "#a || b:  => b wenn a false ist \n",
    "w = 2; v = 3; d = \"Hallo\"\n",
    "puts (w == v) || d"
   ]
  },
  {
   "cell_type": "markdown",
   "metadata": {},
   "source": [
    "# Vergleichsoperatoren"
   ]
  },
  {
   "cell_type": "markdown",
   "metadata": {},
   "source": [
    "Außer den uns bekannten Vergleichsoperatoren \"==\", \"!=\", \">\", \">=\", \n",
    "\"<\" und \"<=\" in Ruby gibt es weitere Operatoren:\n",
    "\n",
    "<=>   Vergleich für Sortierung (-1, 0, 1)\n",
    "!~   Pattern-Matching\n",
    "!~: Pattern matcht nicht\n",
    "eql?: Vergleicht Typ und Wert\n",
    "equal?: Test auf dieselben Objekte\n"
   ]
  },
  {
   "cell_type": "markdown",
   "metadata": {},
   "source": [
    "# a <=> b: Vergleich für Sortierungen"
   ]
  },
  {
   "cell_type": "markdown",
   "metadata": {},
   "source": [
    "Der Operator liefert\n",
    "-1, wenn a kleiner als b ist\n",
    "0, wenn a und b gleich (im Sinne der Sortierung) sind\n",
    "1, wenn a größer als b ist"
   ]
  },
  {
   "cell_type": "code",
   "execution_count": null,
   "metadata": {},
   "outputs": [],
   "source": [
    "5<=>5"
   ]
  },
  {
   "cell_type": "code",
   "execution_count": null,
   "metadata": {},
   "outputs": [],
   "source": [
    "3<=>4"
   ]
  },
  {
   "cell_type": "code",
   "execution_count": null,
   "metadata": {},
   "outputs": [],
   "source": [
    "5<=>4"
   ]
  },
  {
   "cell_type": "code",
   "execution_count": null,
   "metadata": {},
   "outputs": [],
   "source": [
    "\"A\"<=>\"B\""
   ]
  },
  {
   "cell_type": "code",
   "execution_count": null,
   "metadata": {},
   "outputs": [],
   "source": [
    "#Ergebnis ist nil\n",
    "puts \"A\"<=>4"
   ]
  },
  {
   "cell_type": "code",
   "execution_count": null,
   "metadata": {},
   "outputs": [],
   "source": [
    "[1,2,3]<=>[1,2,3]"
   ]
  },
  {
   "cell_type": "code",
   "execution_count": null,
   "metadata": {},
   "outputs": [],
   "source": [
    "[1,2,3]<=>[1,2]"
   ]
  },
  {
   "cell_type": "code",
   "execution_count": null,
   "metadata": {},
   "outputs": [],
   "source": [
    "[1]<=>[1,2]"
   ]
  },
  {
   "cell_type": "markdown",
   "metadata": {},
   "source": [
    "# eql?-Opertaor"
   ]
  },
  {
   "cell_type": "raw",
   "metadata": {},
   "source": [
    "Vergleicht Wert und Typ"
   ]
  },
  {
   "cell_type": "code",
   "execution_count": null,
   "metadata": {},
   "outputs": [],
   "source": [
    "a = 2; b = 2.0; c = 2.0"
   ]
  },
  {
   "cell_type": "code",
   "execution_count": null,
   "metadata": {},
   "outputs": [],
   "source": [
    "a.eql?(b)"
   ]
  },
  {
   "cell_type": "code",
   "execution_count": null,
   "metadata": {},
   "outputs": [],
   "source": [
    "c.eql?(b)"
   ]
  },
  {
   "cell_type": "code",
   "execution_count": null,
   "metadata": {},
   "outputs": [],
   "source": [
    "a == b"
   ]
  },
  {
   "cell_type": "code",
   "execution_count": null,
   "metadata": {},
   "outputs": [],
   "source": [
    "c == b"
   ]
  },
  {
   "cell_type": "markdown",
   "metadata": {},
   "source": [
    "# equel?-Operator"
   ]
  },
  {
   "cell_type": "markdown",
   "metadata": {},
   "source": [
    "Check auf dieselben Objekte"
   ]
  },
  {
   "cell_type": "code",
   "execution_count": null,
   "metadata": {},
   "outputs": [],
   "source": [
    "a = \"Hallo Welt\"; b = \"Hallo Welt\"\n",
    "c = a"
   ]
  },
  {
   "cell_type": "code",
   "execution_count": null,
   "metadata": {},
   "outputs": [],
   "source": [
    "a.equal?(b)"
   ]
  },
  {
   "cell_type": "code",
   "execution_count": null,
   "metadata": {},
   "outputs": [],
   "source": [
    "a.equal?(c)"
   ]
  },
  {
   "cell_type": "code",
   "execution_count": null,
   "metadata": {},
   "outputs": [],
   "source": [
    "a == b"
   ]
  },
  {
   "cell_type": "code",
   "execution_count": null,
   "metadata": {},
   "outputs": [],
   "source": [
    "a == c"
   ]
  },
  {
   "cell_type": "markdown",
   "metadata": {},
   "source": [
    "# defined?-Operator"
   ]
  },
  {
   "cell_type": "markdown",
   "metadata": {},
   "source": [
    "Der Operator prüft, ob sein Argument definiert ist"
   ]
  },
  {
   "cell_type": "code",
   "execution_count": null,
   "metadata": {},
   "outputs": [],
   "source": [
    "puts defined?k"
   ]
  },
  {
   "cell_type": "code",
   "execution_count": null,
   "metadata": {},
   "outputs": [],
   "source": [
    "k = 22\n",
    "defined? k"
   ]
  },
  {
   "cell_type": "code",
   "execution_count": null,
   "metadata": {},
   "outputs": [],
   "source": [
    "defined? u=1"
   ]
  },
  {
   "cell_type": "code",
   "execution_count": null,
   "metadata": {},
   "outputs": [],
   "source": [
    "defined? puts"
   ]
  },
  {
   "cell_type": "code",
   "execution_count": null,
   "metadata": {},
   "outputs": [],
   "source": [
    "w = nil"
   ]
  },
  {
   "cell_type": "code",
   "execution_count": null,
   "metadata": {},
   "outputs": [],
   "source": [
    "defined? w"
   ]
  },
  {
   "cell_type": "code",
   "execution_count": null,
   "metadata": {},
   "outputs": [],
   "source": [
    "w.nil?"
   ]
  },
  {
   "cell_type": "markdown",
   "metadata": {},
   "source": [
    "# Splat -Operator (*)"
   ]
  },
  {
   "cell_type": "markdown",
   "metadata": {},
   "source": [
    "Um eine undefinierte Anzahl von Argumenten in Ruby zu behandeln, haben wir einen Parameter mit dem Splat-Operator (*)\n",
    "Parameter mit dem Splat-Operator:\n",
    "    - nimmt nur die Argumente auf, für die keine anderen Parameter vorhanden sind\n",
    "    - ist optional\n",
    "    - gibt ein Array zurück, wenn mehrere Argumente vorhanden sind"
   ]
  },
  {
   "cell_type": "code",
   "execution_count": null,
   "metadata": {},
   "outputs": [],
   "source": [
    "a, b, c, d, e = *[1,2,3],*[4,5]\n",
    "print a, \" \", b, \" \", c, \" \", d, \" \",e"
   ]
  },
  {
   "cell_type": "code",
   "execution_count": null,
   "metadata": {},
   "outputs": [],
   "source": [
    "a,* c = 1,2,3,4,5,6,7 \n",
    "puts a\n",
    "print c"
   ]
  },
  {
   "cell_type": "code",
   "execution_count": null,
   "metadata": {},
   "outputs": [],
   "source": [
    "*a, d = 1,2,3,4,5,6,7,8\n",
    "puts d\n",
    "print a"
   ]
  },
  {
   "cell_type": "code",
   "execution_count": null,
   "metadata": {},
   "outputs": [],
   "source": [
    "a,* b = 1\n",
    "puts a\n",
    "print b"
   ]
  },
  {
   "cell_type": "markdown",
   "metadata": {},
   "source": [
    "# Double Bange Operator !!"
   ]
  },
  {
   "cell_type": "code",
   "execution_count": null,
   "metadata": {},
   "outputs": [],
   "source": [
    "r = \"Hallo\""
   ]
  },
  {
   "cell_type": "code",
   "execution_count": null,
   "metadata": {},
   "outputs": [],
   "source": [
    "!r"
   ]
  },
  {
   "cell_type": "code",
   "execution_count": null,
   "metadata": {},
   "outputs": [],
   "source": [
    "!!r"
   ]
  },
  {
   "cell_type": "code",
   "execution_count": null,
   "metadata": {},
   "outputs": [],
   "source": [
    "t = nil"
   ]
  },
  {
   "cell_type": "code",
   "execution_count": null,
   "metadata": {},
   "outputs": [],
   "source": [
    "!!t"
   ]
  },
  {
   "cell_type": "code",
   "execution_count": null,
   "metadata": {},
   "outputs": [],
   "source": [
    "!t"
   ]
  },
  {
   "cell_type": "markdown",
   "metadata": {},
   "source": [
    "# Ternär Operator, ?"
   ]
  },
  {
   "cell_type": "code",
   "execution_count": null,
   "metadata": {},
   "outputs": [],
   "source": [
    "alter = 10\n",
    "typ = alter < 18 ? \"Kind\" : \"Erwachsener\"\n",
    "puts \"Der Benutzer ist ein  \" + typ\n"
   ]
  },
  {
   "cell_type": "markdown",
   "metadata": {},
   "source": [
    "Quelle: Carleton DiLeo: Beginning Ruby 3, from Beginner to Pro: https://doi.org/10.1007/978-1-4842-6324-2 , 2021 "
   ]
  }
 ],
 "metadata": {
  "kernelspec": {
   "display_name": "Ruby 2.6.8",
   "language": "ruby",
   "name": "ruby"
  },
  "language_info": {
   "file_extension": ".rb",
   "mimetype": "application/x-ruby",
   "name": "ruby",
   "version": "2.6.8"
  }
 },
 "nbformat": 4,
 "nbformat_minor": 4
}
