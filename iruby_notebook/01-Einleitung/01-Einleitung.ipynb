{
 "cells": [
  {
   "cell_type": "markdown",
   "id": "fc3b53d7-99fd-4c7f-914c-6ab996fa6cfd",
   "metadata": {},
   "source": [
    "# Ruby Workshop\n",
    "\n",
    "Hochschule Mannheim\n",
    "\n",
    "mybinder Link: https://mybinder.org/v2/gh/otiofrui/rubyworkshop/main\n"
   ]
  },
  {
   "cell_type": "markdown",
   "id": "a8f1a72c-dd2a-4fd3-82bf-dc8f7ce9c820",
   "metadata": {},
   "source": [
    "## Einleitung\n",
    "Viele der folgenden Dinge sind sehr ähnlich zu anderen Programmiersprachen, dennoch weißt Ruby einige Besonderheiten auf, die wir hier besonders hervorheben wollen."
   ]
  },
  {
   "cell_type": "code",
   "execution_count": null,
   "id": "f0a9366c",
   "metadata": {},
   "outputs": [],
   "source": [
    "# code to avoid timeout\n",
    "\n",
    "import os, time, datetime\n",
    "import multiprocessing\n",
    "\n",
    "SESSION_LENGTH = 90 # in minutes\n",
    "USED_TOKEN = multiprocessing.Value('i', 0) # a global variable. makes sure we call the dummy worker only once\n",
    "\n",
    "def clock():# ensures time is set to Paris (UTC+1) wherever is run the notebook\n",
    "    current_time = datetime.datetime.utcnow() + datetime.timedelta(hours=1)\n",
    "    return current_time.strftime('%X') \n",
    "\n",
    "def dummy_worker():\n",
    "    if USED_TOKEN.value:\n",
    "        print(\"Vous ne pouvez maintenir une session ouverte qu'une seule fois\")\n",
    "    else:\n",
    "        # makes sure the dummy woker is called only once\n",
    "        USED_TOKEN.value = 1 \n",
    "        # warn the user that they cannot run twice\n",
    "        print(\"Session de \" + str(SESSION_LENGTH) + \" minutes commençant à \" + clock() + \". Ne pas interrompre, ni relancer une deuxième fois.\")\n",
    "        # parameters of the pauses\n",
    "        pause = 5\n",
    "        chrono = 0\n",
    "        nb_sleeps = int(SESSION_LENGTH/pause)\n",
    "        for i in range(nb_sleeps):\n",
    "            time.sleep(pause*60)\n",
    "            chrono = chrono + pause\n",
    "            print('Session ouverte depuis '+str(chrono)+' minutes', end=\"\\r\") # perdiodic refreshing\n",
    "        # final message    \n",
    "        print(\"Session de \" + str(SESSION_LENGTH) + \" minutes terminée à \" + clock() + \".\")\n",
    "        print(\"Le serveur s'arrêtera après 10 minutes d'inactivité\")\n",
    "    return\n",
    "\n",
    "def start_session():\n",
    "    multiprocessing.Process(target=dummy_worker).start()"
   ]
  }
 ],
 "metadata": {
  "interpreter": {
   "hash": "31f2aee4e71d21fbe5cf8b01ff0e069b9275f58929596ceb00d14d90e3e16cd6"
  },
  "kernelspec": {
   "display_name": "Ruby 2.7.0",
   "language": "python",
   "name": "python3"
  },
  "language_info": {
   "codemirror_mode": {
    "name": "ipython",
    "version": 3
   },
   "file_extension": ".py",
   "mimetype": "text/x-python",
   "name": "python",
   "nbconvert_exporter": "python",
   "pygments_lexer": "ipython3",
   "version": "3.8.10"
  }
 },
 "nbformat": 4,
 "nbformat_minor": 5
}
