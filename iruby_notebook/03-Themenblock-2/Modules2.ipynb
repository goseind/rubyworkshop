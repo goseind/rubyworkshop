{
 "cells": [
  {
   "cell_type": "markdown",
   "id": "cd654239-c9e9-4715-b4de-df26689e06ba",
   "metadata": {},
   "source": [
    "# Beispiel 2 - Module"
   ]
  },
  {
   "cell_type": "code",
   "execution_count": 1,
   "id": "f526a396-f6b5-4dce-884f-b2d0e25661a9",
   "metadata": {},
   "outputs": [
    {
     "name": "stdout",
     "output_type": "stream",
     "text": [
      "[:id, :name, :created_at]\n",
      "[:id, :name, :created_at]"
     ]
    }
   ],
   "source": [
    "module HelperMethods\n",
    "\n",
    "  def attributes_for_json\n",
    "    [:id, :name, :created_at]\n",
    "  end\n",
    "\n",
    "end\n",
    "\n",
    "class User\n",
    "\n",
    "  extend HelperMethods\n",
    "\n",
    "end\n",
    "\n",
    "class Company\n",
    "\n",
    "  extend HelperMethods\n",
    "\n",
    "end\n",
    "\n",
    "print User.attributes_for_json\n",
    "puts \"\\n\"\n",
    "print Company.attributes_for_json\n"
   ]
  },
  {
   "cell_type": "code",
   "execution_count": null,
   "id": "2c17dc2b-de4c-4ee1-bf85-05a56f2aa752",
   "metadata": {},
   "outputs": [],
   "source": []
  }
 ],
 "metadata": {
  "kernelspec": {
   "display_name": "Ruby 3.0.2",
   "language": "ruby",
   "name": "ruby"
  },
  "language_info": {
   "file_extension": ".rb",
   "mimetype": "application/x-ruby",
   "name": "ruby",
   "version": "3.0.2"
  }
 },
 "nbformat": 4,
 "nbformat_minor": 5
}
