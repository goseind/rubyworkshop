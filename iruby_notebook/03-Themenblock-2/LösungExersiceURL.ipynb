{
 "cells": [
  {
   "cell_type": "markdown",
   "metadata": {},
   "source": [
    "# Übung Klassen Methoden & Variablen\n"
   ]
  },
  {
   "cell_type": "markdown",
   "metadata": {
    "tags": []
   },
   "source": [
    "## Übung URL\n",
    "Mit dieser Aufgabe übst du die Möglichkeiten und Unterschiede von Klassen Methoden und Variablen in Ruby.\n",
    "\n",
    "1. Erstelle eine Klasse mit dem Name SocialShare.\n",
    "2. Füge dieser Klasse die Klassenvariable platforms hinzu. Verwende hierfür @@. Die Klassenvariable soll einen Hash von Key-Value-Paaren enthalten, welche die verschiedenen URL Share Vorlagen enthalten. Jede Vorlage erhält dabei eine spezielle Ruby-Syntax zum Ersetzen von Teilen eines Strings (named placement). Die Syntax hierfür lautet: %{var}. In unserem Fall verwenden wir: %{url}, %{title} und %{summary}. Entsprechend erstellen wir folgende Key-Value-Paare:\n",
    "    * facebook: \"https://www.facebook.com/share/sharer.php?u=%{url}\",\n",
    "    * twitter: \"https://twitter.com/intent/tweet?text=%{url}?%{title}\",\n",
    "    * linkedin: \"http://www.linkedin.com/shareArticle?mini=true&url=%{url}&title=%{title}&summary=%{summary}\"\n",
    "3. Als nächstes erstellen wir die Initialisierungsmethode, welche folgende Argumente benötigit: platform, title, url, summary=\"\" - Innerhalb der Methode trage folgendes ein: \n",
    "    * @platform = platform.to_sym\n",
    "    * @share_url = url\n",
    "    * @title = title\n",
    "    * @summary = summary\n",
    "4. Als nächstes erstellen wir die Methoden zum generieren einer URL - generate_url. Füge folgenden Inhalt in die Methode ein:\n",
    "    * @@platforms[@platform] % {title: @title, url: @share_url, summary: @summary}\n",
    "5. Nun erstellen wir noch eine Methode, um die Url zu lesen. Dazu trage in diese Methode folgendes ein:\n",
    "    * @url  ||= generate_url\n",
    "6. Jetzt erstellen wir eine Klassenmethode mit dem Schlüsselwort self: self.url Diese Methode benötigt die gleichen Argumente wie unsere Initialisierungsmethode. Der Inhalt für diese lautet:\n",
    "    * new(platform, title, url, summary).url\n",
    "7. Um das ganze nun testen zu können deklarieren wir außerhalb der Klasse die benötigten Attribute z. B. so:\n",
    "    * platform = \"facebook\" (oder twitter, linkedin)\n",
    "    * title = \"Informatikworkshop\"\n",
    "    * summary = \"IWS\"\n",
    "8. Rufe nun diese Methode auf und übergebe die notwendigen Argumente.\n",
    "9. Neben der Möglichkeit einzelne Links erstellen zu können, wollen wir nun noch eine Klassenmethode erstellen, welche alle drei Links erstellt. Diese schaut wie folgt aus:\n",
    "    * def self.get_links_for_all(title, url, summary)\n",
    "    ** @@platforms.keys.map do |platform|\n",
    "    ** url(platform, title, url, summary)\n",
    "    ** end\n",
    "    * end\n"
   ]
  },
  {
   "cell_type": "code",
   "execution_count": 1,
   "metadata": {},
   "outputs": [],
   "source": [
    "def self.get_links_for_all(title, url, summary)\n",
    "    ** @@platforms.keys.map do |platform|\n",
    "    ** url(platform, title, url, summary)\n",
    "    ** end\n",
    "    * end"
   ]
  }
 ],
 "metadata": {
  "kernelspec": {
   "display_name": "Ruby 3.0.2",
   "language": "ruby",
   "name": "ruby"
  },
  "language_info": {
   "file_extension": ".rb",
   "mimetype": "application/x-ruby",
   "name": "ruby",
   "version": "3.0.2"
  }
 },
 "nbformat": 4,
 "nbformat_minor": 4
}
