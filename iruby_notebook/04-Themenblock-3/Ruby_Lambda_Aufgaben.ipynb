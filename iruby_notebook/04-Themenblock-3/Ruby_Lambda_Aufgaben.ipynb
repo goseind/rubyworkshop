{
  "cells": [
    {
      "cell_type": "markdown",
      "metadata": {
        "id": "HW_UBJF9uwQ7"
      },
      "source": [
        "# Übungen: Lambda"
      ]
    },
    {
      "cell_type": "markdown",
      "metadata": {
        "id": "9r6YA9OTwWzv"
      },
      "source": [
        "1. Schreibe eine Hello-Funktion mit einem Lambda, das einen Parameter (name) übergeben bekommt.\n",
  "Wird kein Parameter übergeben, soll \"Hello World\" ausgegeben werden."
      ]
    },
    {
      "cell_type": "code",
      "execution_count": null,
      "metadata": {
        "id": "lWn9tHm3xmIo"
      },
      "outputs": [],
      "source": [
        "lambda_with_args = lambda do |s = \"World\"| \n",
  " puts \"Hello \" + s\n",
  "end\n",
  "lambda_with_args.call()       # => Hello World\n",
  "lambda_with_args.call(\"Workshop\") # => Hello Workshop"
      ]
    },
    {
      "cell_type": "markdown",
      "metadata": {
        "id": "9r6YA9OTwWzv"
      },
      "source": [
        "2. Schreibe eine Funktion, die ein Lambda und einen Parameter Übergeben bekommt.\n",
  "Der Parameter wird an das Lambda übergeben und das Ergebnis soll ausgegeben werden."
      ]
    },
    {
      "cell_type": "code",
      "execution_count": null,
      "metadata": {
        "id": "lWn9tHm3xmIo"
      },
      "outputs": [],
      "source": [
        "add_10 = lambda { |num| num + 10 }\n",
  "multiply_2 = lambda { |num| num * 2 }\n",
  "def using_lambda_with_functions(lambda, number)\n",
  " puts lambda.call(number)\n",
  "end\n",
  "using_lambda_with_functions(add_10, 10)     # => 20​\n",
  "using_lambda_with_functions(multiply_2, 20)  # => 40​"
      ]
    },
    {
      "cell_type": "markdown",
      "metadata": {
        "id": "9r6YA9OTwWzv"
      },
      "source": [
        "Schreibe eine Funktion, die ein Lambda erstellt, das den Parameter überprüft und \"OK\" oder \"N/A\" zurückgibt."
      ]
    },
    {
      "cell_type": "code",
      "execution_count": null,
      "metadata": {
        "id": "lWn9tHm3xmIo"
      },
      "outputs": [],
      "source": [
        "def build_lambda()​\n",
  " my_lambda = lambda do |key|​\n",
  "  if key == \"200\"\n",
  "   return \"OK\"​\n",
  "  else​\n",
  "   return \"N/A\"​\n",
  "  end\n",
  " end\n",
  " my_lambda​\n",
  "end\n",
  "code_check = build_lambda()​\n",
  "puts code_check[\"200\"]    # => OK\n",
  "puts code_check[\"404\"]    # => N/A"
      ]
    }
  ],
  "metadata": {
    "colab": {
      "collapsed_sections": [],
      "name": "Ruby Lambda.ipynb",
      "provenance": []
    },
    "kernelspec": {
      "display_name": "Python 3",
      "name": "python3"
    },
    "language_info": {
      "name": "python"
    }
  },
  "nbformat": 4,
  "nbformat_minor": 0
}