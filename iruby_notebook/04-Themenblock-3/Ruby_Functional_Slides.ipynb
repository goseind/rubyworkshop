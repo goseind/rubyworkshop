{
  "nbformat": 4,
  "nbformat_minor": 0,
  "metadata": {
    "colab": {
      "name": "Ruby Functional Slides",
      "provenance": [],
      "collapsed_sections": []
    },
    "kernelspec": {
      "name": "python3",
      "display_name": "Python 3"
    },
    "language_info": {
      "name": "python"
    }
  },
  "cells": [
    {
      "cell_type": "markdown",
      "source": [
        "# Funktionale Programmierung in Ruby\n",
        "## Dont's und Do's"
      ],
      "metadata": {
        "id": "wo36cYZQHojC"
      }
    },
    {
      "cell_type": "markdown",
      "source": [
        "**Dont**\n",
        "Variablen einfach updaten"
      ],
      "metadata": {
        "id": "il_BlqSgHwsv"
      }
    },
    {
      "cell_type": "code",
      "source": [
        "name = \"Kaiser Wilhelm\""
      ],
      "metadata": {
        "id": "zSEZSuB5Iudw"
      },
      "execution_count": null,
      "outputs": []
    },
    {
      "cell_type": "markdown",
      "source": [
        "**Do** Neue Variablen erstellen"
      ],
      "metadata": {
        "id": "6vi0zjacIu54"
      }
    },
    {
      "cell_type": "code",
      "source": [
        "new_name = \"Kaiser Wilhelm II\""
      ],
      "metadata": {
        "id": "kmanNEWRIvvv"
      },
      "execution_count": null,
      "outputs": []
    },
    {
      "cell_type": "markdown",
      "source": [
        "\n",
        "\n",
        "---\n",
        "\n",
        "\n",
        "**Dont** Neue Elemente nicht einfach in Arrays hinzufügen"
      ],
      "metadata": {
        "id": "eiTGBlKoIN7R"
      }
    },
    {
      "cell_type": "code",
      "source": [
        "indexes = [1, 2, 3]\n",
        "indexes << 4\n",
        "# [1, 2, 3, 4]"
      ],
      "metadata": {
        "id": "6RmOczj1IVWB"
      },
      "execution_count": null,
      "outputs": []
    },
    {
      "cell_type": "markdown",
      "source": [
        "**Do**"
      ],
      "metadata": {
        "id": "spRx2W7GIbsm"
      }
    },
    {
      "cell_type": "code",
      "source": [
        "indexes = [1, 2, 3]\n",
        "all_indexes = indexes + [4]\n",
        "# [1, 2, 3, 4]"
      ],
      "metadata": {
        "id": "14-kfTpiIfMC"
      },
      "execution_count": null,
      "outputs": []
    },
    {
      "cell_type": "markdown",
      "source": [
        "\n",
        "\n",
        "---\n",
        "\n",
        "**Dont** Hashes einfach updaten"
      ],
      "metadata": {
        "id": "x1upT_5aJPe4"
      }
    },
    {
      "cell_type": "code",
      "source": [
        "hash = { :a => 1, :b => 2 }\n",
        "hash[:c] = 3\n",
        "# {:a=>1, :b=>2, :c=>3}"
      ],
      "metadata": {
        "id": "a752-FW4JRJo"
      },
      "execution_count": null,
      "outputs": []
    },
    {
      "cell_type": "markdown",
      "source": [
        "**Do**"
      ],
      "metadata": {
        "id": "vC9NavvxJRmN"
      }
    },
    {
      "cell_type": "code",
      "source": [
        "hash = { :a => 1, :b => 2 }\n",
        "new_hash = hash.merge(:c => 3)\n",
        "# {:a=>1, :b=>2, :c=>3}"
      ],
      "metadata": {
        "id": "JruADTpRJQFT"
      },
      "execution_count": null,
      "outputs": []
    },
    {
      "cell_type": "markdown",
      "source": [
        "\n",
        "\n",
        "---\n",
        "\n",
        "**Dont** Keine Ersetzungsmethoden verwenden"
      ],
      "metadata": {
        "id": "tlHpj9RJKSBo"
      }
    },
    {
      "cell_type": "code",
      "source": [
        "string = \"hallo\"\n",
        "string.gsub!(/l/, 'z')\n",
        "# \"hazzo\""
      ],
      "metadata": {
        "id": "0BjsSJGHKSBr"
      },
      "execution_count": null,
      "outputs": []
    },
    {
      "cell_type": "markdown",
      "source": [
        "**Do**"
      ],
      "metadata": {
        "id": "ZqDnmwJtKSBr"
      }
    },
    {
      "cell_type": "code",
      "source": [
        "string = \"hallo\"\n",
        "new_string = string.gsub(/l/, 'z') \n",
        "# \"hazzo\""
      ],
      "metadata": {
        "id": "_EmMkWTrKSBr"
      },
      "execution_count": null,
      "outputs": []
    },
    {
      "cell_type": "markdown",
      "source": [
        "\n",
        "\n",
        "---\n",
        "\n",
        "**Dont** Wie man Werte zusammenführt"
      ],
      "metadata": {
        "id": "AdfRu-FNKS2k"
      }
    },
    {
      "cell_type": "code",
      "source": [
        "output = []\n",
        "output << 1\n",
        "output << 2 if i_have_to_add_two\n",
        "output << 3"
      ],
      "metadata": {
        "id": "O8B2oZleKS2l"
      },
      "execution_count": null,
      "outputs": []
    },
    {
      "cell_type": "markdown",
      "source": [
        "**Do**"
      ],
      "metadata": {
        "id": "W9hzlhn9KS2l"
      }
    },
    {
      "cell_type": "code",
      "source": [
        "output = [1, (2 if i_have_to_add_two), 3].compact"
      ],
      "metadata": {
        "id": "acHrB8ZuKS2m"
      },
      "execution_count": null,
      "outputs": []
    },
    {
      "cell_type": "markdown",
      "source": [
        "## Blöcke"
      ],
      "metadata": {
        "id": "FCJjm9DTLXvd"
      }
    },
    {
      "cell_type": "markdown",
      "source": [
        "---\n",
        "### map\n",
        "**Dont**"
      ],
      "metadata": {
        "id": "0jNBUi0dKTRJ"
      }
    },
    {
      "cell_type": "code",
      "source": [
        "dogs = []\n",
        "[\"milu\", \"gustav\"].each { |name|\n",
        "  dogs << name.upcase\n",
        "}\n",
        "dogs # => [\"MILU\", \"GUSTAV\"]"
      ],
      "metadata": {
        "id": "KyYkDKtEKTRK"
      },
      "execution_count": null,
      "outputs": []
    },
    {
      "cell_type": "markdown",
      "source": [
        "**Do**"
      ],
      "metadata": {
        "id": "OfgRcJNAKTRK"
      }
    },
    {
      "cell_type": "code",
      "source": [
        "dogs = [\"milu\", \"gustav\"].map { |name|\n",
        "  name.upcase\n",
        "} \n",
        "# => [\"MILU\", \"GUSTAV\"]"
      ],
      "metadata": {
        "id": "qRmHgPb0KTRL"
      },
      "execution_count": null,
      "outputs": []
    },
    {
      "cell_type": "markdown",
      "source": [
        "---\n",
        "### select\n",
        "**Dont**"
      ],
      "metadata": {
        "id": "b7W7b8voLwJ8"
      }
    },
    {
      "cell_type": "code",
      "source": [
        "dogs = []\n",
        "[\"milu\", \"gustav\"].each { |name|\n",
        "  if name.size == 4\n",
        "    dogs << name\n",
        "  end\n",
        "}\n",
        "dogs # => [\"milu\"]"
      ],
      "metadata": {
        "id": "sCkrfv5TLwKF"
      },
      "execution_count": null,
      "outputs": []
    },
    {
      "cell_type": "markdown",
      "source": [
        "**Do**"
      ],
      "metadata": {
        "id": "rQWdzz7_LwKF"
      }
    },
    {
      "cell_type": "code",
      "source": [
        "dogs = [\"milu\", \"gustav\"].select { |name|\n",
        "  name.size == 4\n",
        "}\n",
        "# => [\"milu\"]"
      ],
      "metadata": {
        "id": "G7acNFirLwKF"
      },
      "execution_count": null,
      "outputs": []
    },
    {
      "cell_type": "markdown",
      "source": [
        "---\n",
        "### inject\n",
        "**Dont**"
      ],
      "metadata": {
        "id": "ib0LqVmQLwsU"
      }
    },
    {
      "cell_type": "code",
      "source": [
        "length = 0\n",
        "[\"milu\", \"gustav\"].each { |dog_name|\n",
        "  length += dog_name.length\n",
        "}\n",
        "length # => 10"
      ],
      "metadata": {
        "id": "HbzPbcMfLwsV"
      },
      "execution_count": null,
      "outputs": []
    },
    {
      "cell_type": "markdown",
      "source": [
        "**Do**"
      ],
      "metadata": {
        "id": "TwROmCLlLwsV"
      }
    },
    {
      "cell_type": "code",
      "source": [
        "length = [\"milu\", \"gustav\"].inject(0) { |accumulator, dog_name|\n",
        "  accumulator + dog_name.length\n",
        "end \n",
        "# => 15"
      ],
      "metadata": {
        "id": "8KIw9a1ULwsV"
      },
      "execution_count": null,
      "outputs": []
    },
    {
      "cell_type": "markdown",
      "source": [
        "Noch kürzer, da wir eine einfache Operation durchführen"
      ],
      "metadata": {
        "id": "gTTmLDCTNa_G"
      }
    },
    {
      "cell_type": "code",
      "source": [
        "length = [\"milu\", \"rantanplan\"].map(&:length).inject(0, :+)\n",
        "# => 15"
      ],
      "metadata": {
        "id": "rBZKEYYcNfhw"
      },
      "execution_count": null,
      "outputs": []
    }
  ]
}