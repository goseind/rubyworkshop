{
 "cells": [
  {
   "cell_type": "markdown",
   "id": "ac5c5b84-f14d-4032-bdc7-1dc34dd8c760",
   "metadata": {},
   "source": [
    "# Themenblock 2 - Teil 1"
   ]
  },
  {
   "cell_type": "markdown",
   "id": "ce7e1364-6ba0-4a7b-b07b-c5f88caff61f",
   "metadata": {},
   "source": [
    "## Objektorientierung in Ruby"
   ]
  },
  {
   "cell_type": "markdown",
   "id": "f9bd98a8-f5c4-4c8c-9b86-c988ca3af3ad",
   "metadata": {},
   "source": [
    "Die Abschnitte enthalten jeweils eine kurze Zusammenfassung sowie die gezeigten Code Beispiele:\n",
    "\n",
    "1. Klassen & Objekte\n",
    "2. Instanz Methoden\n",
    "3. Vererbung\n",
    "4. Mehrfachvererbung\n",
    "    - Eingefügte Module\n",
    "    - Erweiterte Module\n",
    "    - Vorangestellte Module"
   ]
  },
  {
   "cell_type": "markdown",
   "id": "cdde41fe-9140-4ecb-86ad-b7ed413f7a5f",
   "metadata": {},
   "source": [
    "### 1. Klassen & Objekte\n",
    "\n",
    "Klassen und Objekte sollten bereits aus anderen Programmiersprachen bekannt sein.\n",
    "\n",
    "**Klassen:**\n",
    "- Baupläne, aus denen Objekte erstellt werden\n",
    "- Abstrakte Vorlagen für Objekte\n",
    "- Enthalten Vorlage für Verhaltensweisen (Methoden) und Daten (Variablen)\n",
    "\n",
    "**Objekte:**\n",
    "- Instanzen einer Klasse\n",
    "- Verfügt über die Attribute, die einer Klasse zugeordnet sind\n",
    "\n",
    "#### Beispiel - User Klasse\n",
    "\n",
    "> **Notation:** Schlüsselwort `class` + `Name der Klasse` (*erster Buchstabe immer groß*)\n",
    "\n",
    "```ruby\n",
    "class User\n",
    "  def initialize(name)\n",
    "    @name = name\n",
    "  end\n",
    "end\n",
    "```\n",
    "\n",
    "Wir haben die Basisvorlage für einen Benutzer mit dem Schlüsselwort `class` erstellt und ihr den Namen User gegeben. \\\n",
    "Basierend auf dem, was wir bisher gelernt haben, können wir sofort erkennen, dass wir eine User-Klasse mit einer Methode namens `initialize` haben, \\\n",
    "die ein Argument namens `name` entgegennimmt. Der Rumpf der User-Klasse wird mit einem Schlüsselwort `end` abgeschlossen. \\\n",
    "\\\n",
    "Außerdem sollten wir beachten, dass der Name der User-Klasse in Großbuchstaben gespeichert wird, also eine Konstante ist!"
   ]
  },
  {
   "cell_type": "markdown",
   "id": "868f8bf3-a6ee-4123-9c6a-4a9346bf4a3d",
   "metadata": {},
   "source": [
    "### 2. Instanz Methoden\n",
    "\n",
    "Die **Instanz Methode** ist eine spezielle Methode in Ruby innerhalb der Klassendefinition, \\\n",
    "welche **ähnlich zu einem Konstruktor** in anderen Programmiersprachen automatisch **bei der Instanziierung aufgerufen** wird.\n",
    "\n",
    "Ziel der Initialize Methode ist es, einen bestimmten Zustand für jedes instanziierte Objekt zu initialisieren. \\\n",
    "Eine Besonderheit in Ruby ist, dass die Instanz Methode automatisch `private` ist, auch wenn sie nicht explizit im private Bereich aufgeführt wird.\n",
    "\n",
    "#### Fortsetzung: Beispiel - User Klasse\n",
    "\n",
    "> Wir haben damit begonnen, eine User-Klasse mit einer eigenen Klasse und einer Instanzvariablen `@name` zu modellieren. \\\n",
    "> Dies ist an sich nicht sehr nützlich, also fügen wir weitere Methoden (oder Verhaltensweisen) hinzu, z. B. die Möglichkeit, den Namen zurückzugeben.\n",
    "\n",
    "```ruby\n",
    "class User\n",
    "  def initialize(name)\n",
    "    @name = name\n",
    "  end\n",
    "  def name\n",
    "    @name\n",
    "  end\n",
    "end\n",
    "```\n",
    "\n",
    "> Wir haben die name-Methode im vorherigen Snippet definiert. \\\n",
    "> Im Folgenden erstellen wir nun eine Instanz der User-Klasse und rufen sie auf.\n",
    "\n",
    "```ruby\n",
    "u1 = User.new(\"Susanne\")\n",
    "u2 = User.new(\"Tom\")\n",
    "u1.name\n",
    "u2.name\n",
    "\n",
    "Output:\n",
    "u1.name => Susanne\n",
    "u2.name => Tom\n",
    "```\n"
   ]
  },
  {
   "cell_type": "markdown",
   "id": "c363839d-679e-4c30-b40e-b6b806ea833b",
   "metadata": {},
   "source": [
    "### 3. Vererbung\n",
    "\n",
    "Wir haben gelernt, dass Klassen Vorlagen für Objekte sind und dass wir Klassen erstellen können, um Daten und Verhalten darzustellen, \\\n",
    "die gruppiert werden können, um ein übergeordnetes Konzept wie einen Benutzer zu modellieren. Dadurch können wir unseren Code sauber, organisiert und erweiterbar halten. \\\n",
    "\\\n",
    "So wie wir gelernt haben, dass Klassen Vorlagen für Objekte sind, können wir noch einen Schritt weiter gehen, indem wir lernen, \\\n",
    "Klassen als Vorlagen für andere Klassen zu verwenden. Dies ist besonders nützlich, wenn Sie mehrere Klassen haben möchten, die alle gemeinsame Daten und Verhaltensweisen aufweisen.\\\n",
    "\\\n",
    "Wenn eine Klasse von einer Superklasse erbt, erbt sie sowohl Variablen als auch Methoden von der Superklasse. Ist dies der Fall, spricht man von einer Subklasse.\n",
    "\n",
    "#### Beispiel - Vererbung\n",
    "\n",
    "Im Folgenden betrachten wir die Vererbung in Ruby mithilfe eines Beispiels etwas genauer. \\\n",
    "Betrachten wir hierzu folgende Abbildung:\n",
    "\n",
    "![UML-Klassendiagramm_vererbung](vererbung.png)\n",
    "\n",
    "Die Klasse User bildet die Superklasse, von der die Subklassen Employee und ExecutiveLeadership erben.\n"
   ]
  },
  {
   "cell_type": "code",
   "execution_count": 1,
   "id": "7c79ba12-9b72-4f75-92b4-c2fb3b1d03ad",
   "metadata": {},
   "outputs": [
    {
     "name": "stdout",
     "output_type": "stream",
     "text": [
      "Bob Smith\n",
      "Bob.S@example.com\n"
     ]
    }
   ],
   "source": [
    "#Superklasse\n",
    "class User\n",
    "\n",
    "  attr_accessor :first_name, :last_name, :address\n",
    "\n",
    "  def initialize(first_name, last_name, address)\n",
    "    @first_name = first_name\n",
    "    @last_name = last_name\n",
    "    @address = address\n",
    "  end\n",
    "\n",
    "  def label\n",
    "    \"#{first_name} #{last_name}\"\n",
    "  end\n",
    "\n",
    "end\n",
    "\n",
    "# Subklasse\n",
    "class Employee < User\n",
    "\n",
    "  def employee_email\n",
    "    # first.last_name@example.com\n",
    "    \"#{@first_name}.#{@last_name[0]}@example.com\"\n",
    "  end\n",
    "\n",
    "end\n",
    "\n",
    "e = Employee.new(\"Bob\", \"Smith\", \"1 Main street\")\n",
    "puts e.label\n",
    "puts e.employee_email"
   ]
  },
  {
   "cell_type": "markdown",
   "id": "d45f1568-24a1-4cd4-8978-7652951a23dc",
   "metadata": {},
   "source": [
    "Wir können zwei Schritte weiter gehen, indem wir unsere Subklasse unterordnen und die Methode `employee_email` \\\n",
    "vollständig überschreiben, um ihr Verhalten in der Subklasse zu spezialisieren:"
   ]
  },
  {
   "cell_type": "code",
   "execution_count": 2,
   "id": "71fc9540-2e7a-47ba-ad63-a5d2beab5161",
   "metadata": {},
   "outputs": [
    {
     "name": "stdout",
     "output_type": "stream",
     "text": [
      "Steve@example.com\n",
      "Steve Jobs\n"
     ]
    }
   ],
   "source": [
    "class ExecutiveLeadership < Employee\n",
    "\n",
    "  def employee_email\n",
    "    \"#{@first_name}@example.com\"\n",
    "  end\n",
    "\n",
    "end\n",
    "\n",
    "e = ExecutiveLeadership.new(\"Steve\", \"Jobs\", \"1 Infinite Loop\")\n",
    "puts e.employee_email\n",
    "puts e.label"
   ]
  },
  {
   "cell_type": "markdown",
   "id": "4479c5a2-24f9-4ab4-9961-0d1edcaef500",
   "metadata": {},
   "source": [
    "Hier haben wir einen speziellen Mitarbeitertyp namens `ExecutiveLeadership` erstellt, indem wir die Klasse Employee untergeordnet haben. \\\n",
    "\\\n",
    "Häufig möchten Sie die Methode des übergeordneten Elements aufrufen und sie in der Subklasse anpassen. \\\n",
    "Sie können dies tun, indem Sie das Schlüsselwort `super` aufrufen.\n",
    "\n",
    "In Ruby gibt es drei Möglichkeiten `super` aufzurufen:\n",
    "1. Ohne Argumente\n",
    "2. Mit Argumenten\n",
    "3. Mit dem Splat Operator ( * )"
   ]
  },
  {
   "cell_type": "markdown",
   "id": "15e2cab5-fc3e-4e29-9b55-4f7138abfac3",
   "metadata": {},
   "source": [
    "**Möglichkeit 1 - Ohne Argumente:** \\\n",
    "Argumente der aktuellen Methode werden implizit an die Version der Methode der Superklasse übergeben. \\\n",
    "Die Signatur der Methode der Subklasse muss hierfür mit der der Superklasse übereinstimmen!"
   ]
  },
  {
   "cell_type": "code",
   "execution_count": 3,
   "id": "467371f4-b636-4c22-8821-3060cbb4e435",
   "metadata": {},
   "outputs": [
    {
     "name": "stdout",
     "output_type": "stream",
     "text": [
      "In Employee#initialize\n",
      "In User#initialize\n"
     ]
    },
    {
     "data": {
      "text/plain": [
       "#<#<Class:0x00005618ca11eed0>::Employee:0x00005618c9c52c58 @address=\"1 Main street\", @on_payroll=true, @name=\"Bob\">"
      ]
     },
     "execution_count": 3,
     "metadata": {},
     "output_type": "execute_result"
    }
   ],
   "source": [
    "class User\n",
    "\n",
    "  attr_accessor :name, :address\n",
    "\n",
    "  def initialize(name, address)\n",
    "    puts \"In User#initialize\"\n",
    "    @name = name\n",
    "    @address = address\n",
    "  end\n",
    "\n",
    "end\n",
    "\n",
    "class Employee < User\n",
    "\n",
    "  attr_accessor :on_payroll\n",
    "\n",
    "  def initialize(name, address)\n",
    "    puts \"In Employee#initialize\"\n",
    "    @on_payroll = true\n",
    "    super\n",
    "  end\n",
    "\n",
    "end\n",
    "\n",
    "e = Employee.new(\"Bob\", \"1 Main street\")"
   ]
  },
  {
   "cell_type": "markdown",
   "id": "012008f1-5cd7-4144-97f2-12ec1ed9c779",
   "metadata": {},
   "source": [
    "**Möglichkeit 2 - Mit Argumenten:** \\\n",
    "Wenn die Argumente der Methode der Subklasse nicht mit denen der Superklasse übereinstimmen, \\\n",
    "können Sie die Argumente explizit an die Superklasse (und damit an die Initialisierungsmethode der Superklasse) übergeben. \\\n",
    "\\\n",
    "Manager ist eine Subklasse von Employee, die ihrerseits eine Subklasse von User ist. Anschließend rufen wir `super` auf und übergeben einen expliziten Satz von Argumenten. \\\n",
    "Dies geschieht normalerweise, wenn die Methodensignatur der Subklasse eine andere Anzahl von Argumenten hat als die Methodensignatur der Superklasse:"
   ]
  },
  {
   "cell_type": "code",
   "execution_count": 4,
   "id": "7b6dd1c4-0eae-44d2-b8de-623aad588dd8",
   "metadata": {},
   "outputs": [
    {
     "name": "stdout",
     "output_type": "stream",
     "text": [
      "In Employee#initialize\n",
      "In User#initialize\n"
     ]
    },
    {
     "data": {
      "text/plain": [
       "#<#<Class:0x00005618ca11eed0>::Manager:0x00005618c9d382d0 @department=\"Finance\", @on_payroll=true, @name=\"Max\", @address=\"2 Main Street\">"
      ]
     },
     "execution_count": 4,
     "metadata": {},
     "output_type": "execute_result"
    }
   ],
   "source": [
    "class Manager < Employee\n",
    "\n",
    "  attr_reader :department\n",
    "\n",
    "  def initialize(name, address, department)\n",
    "    @department = department\n",
    "    super(name, address)\n",
    "  end\n",
    "\n",
    "end\n",
    "\n",
    "m = Manager.new(\"Max\", \"2 Main Street\", \"Finance\")"
   ]
  },
  {
   "cell_type": "markdown",
   "id": "9d8c3d6a-5a32-409b-bffc-df86627bfb1e",
   "metadata": {},
   "source": [
    "**Möglichkeit 3 - Splat-Operator:** \\\n",
    "Vorhin haben wir gesagt, dass beim Aufruf von `super` mit impliziten Argumenten die Signatur der Methode der Subklasse mit der der Superklasse übereinstimmen muss. \\\n",
    "Dies kann für eine Subklasse etwas einschränkend oder umständlich sein, da sie immer die Signatur einer bestimmten Elternmethode kennen muss. \\\n",
    "Natürlich bietet Ruby mit dem sogenannten `naked splat operator` eine Möglichkeit, dies zu umgehen. \\\n",
    "\\\n",
    "Hier enthält die Methodensignatur lediglich ein Sternchen `(*)`, das auch als `Splat-Operator` bekannt ist. \\\n",
    "Der Splat-Operator kann, wie in Unit 1-1 erwähnt, verwendet werden, um eine unterschiedliche Anzahl von Argumenten zu erfassen. \\\n",
    "Da wir die Variablen in der Methode der untergeordneten Klasse nicht benötigen, können wir sie als unbenannte Argumente erfassen, die automatisch an `super` übergeben werden."
   ]
  },
  {
   "cell_type": "code",
   "execution_count": 5,
   "id": "4c99cce0-3234-45f4-a57c-a57a130167f2",
   "metadata": {},
   "outputs": [
    {
     "name": "stdout",
     "output_type": "stream",
     "text": [
      "In User#initialize\n"
     ]
    },
    {
     "data": {
      "text/plain": [
       "#<#<Class:0x00005618ca11eed0>::Employee:0x00005618c9d18d18 @address=\"125 Main Street\", @on_payroll=true, @name=\"Bob\">"
      ]
     },
     "execution_count": 5,
     "metadata": {},
     "output_type": "execute_result"
    }
   ],
   "source": [
    "  class Employee < User\n",
    "\n",
    "    attr_accessor :on_payroll\n",
    "\n",
    "    def initialize(*)\n",
    "      @on_payroll = true\n",
    "      super\n",
    "    end\n",
    "\n",
    "  end\n",
    "\n",
    "e2 = Employee.new(\"Bob\", \"125 Main Street\")"
   ]
  },
  {
   "cell_type": "markdown",
   "id": "5fe69087-a4c1-48ee-8448-a036ec73574e",
   "metadata": {},
   "source": [
    "Frage:\n",
    "Was würde passieren, wenn man folgenden Code ausführen würde:\n",
    "\n",
    "```ruby\n",
    "e3 = Employee.new(\"Bob\")\n",
    "```\n",
    "\n",
    "<details>\n",
    "  <summary>[Spoiler] Lösung:</summary>\n",
    "  \n",
    "  > Fehler - wrong number of arguments (given 1, expected 2) (ArgumentError) \\\n",
    "  > \\\n",
    "  > Es gibt keine Klasse, die lediglich einen Namen erwartet. \\\n",
    "  > Die initialize Methode der User und Employee-Klassen erwarten mindestens einen Namen und eine Adresse.\n",
    "  \n",
    "</details>"
   ]
  },
  {
   "cell_type": "markdown",
   "id": "0b3cc615-a832-4e59-914f-3b215fa66154",
   "metadata": {},
   "source": [
    "### 4. Mehrfachvererbung\n",
    "Der Begriff der **Mehrfachvererbung** sollte bereits aus anderen Programmiersprachen bekannt sein. \\\n",
    "Grundsätzlich wird Mehrfachvererbung dazu genutzt, **eine Klasse von mehr als einer Superklasse erben zu lassen**. \\\n",
    "\\\n",
    "**Ruby** selbst **unterstützt** jedoch **keine Mehrfachvererbung** in diesem Sinne.\\\n",
    "Stattdessen werden **Module** genutzt, **um Code wiederverwenden zu können**.\n",
    "\n",
    "> **Wichtig:**\n",
    "> Module != Klassen\n",
    "> - Module können nicht instanziiert werden!\n",
    "> - Module können auf Variablen & Methoden von Klassen zugreifen\n",
    "> - Klassen können auf Variablen & Methoden von Modulen zugreifen\n",
    "\n",
    "**Modul:** \\\n",
    "Ein Modul umschließt Code, um ihn mit anderen Codeabschnitten teilen zu können. \\\n",
    "Module können dabei in anderen Code\n",
    "1. Eingefügt\n",
    "2. Erweitert\n",
    "3. Vorangestellt werden"
   ]
  },
  {
   "cell_type": "markdown",
   "id": "a6850894-c64a-456a-8b71-064537229b5c",
   "metadata": {},
   "source": [
    "**Möglichkeit 1 - Einfügen**\n",
    "- Code bündeln, um ihn in anderem Code wiederzuverwenden\n",
    "- Schlüsselwort: `include`\n",
    "\n",
    "Nehmen wir nun an, wir müssen einer bestehenden Anwendung ein Gebäudekonzept hinzufügen. Gebäude sollten Adressen haben, die mit ihnen verbunden sind. \\\n",
    "**Wir wollen uns nicht wiederholen, aber dennoch sicherstellen, dass unsere Benutzerklasse und unsere Gebäudeklasse dieselbe Funktionalität haben.** \\\n",
    "Theoretisch könnten wir dies durch Vererbung erreichen, aber es macht keinen Sinn, die Klasse User und die Klasse Building von einer Klasse Adresse abzuleiten, \\\n",
    "da sie keine \"Typen\" von Adressen sind."
   ]
  },
  {
   "cell_type": "code",
   "execution_count": 1,
   "id": "2279f5e4-314b-4bfb-9aa9-4c3a70b77bbb",
   "metadata": {},
   "outputs": [],
   "source": [
    "# Klasse User mit einer Adresse\n",
    "class User_multiple_inheritance\n",
    "   \n",
    "    #   --> Methode mailing_label in ein Modul \"Address\" zur Wiederverwendung packen.    \n",
    "    #   attr_accessor :address_line1, :address_line2, :city, :state, :postal_code, :country\n",
    "\n",
    "    #   def mailing_label\n",
    "    #     label = []\n",
    "    #     label << address_line1\n",
    "    #     label << address_line2\n",
    "    #     label << \"#{city}, #{state} #{postal_code}\"\n",
    "    #     label << country\n",
    "    #     label.join(\"\\n\")\n",
    "    #   end\n",
    "    \n",
    "end"
   ]
  },
  {
   "cell_type": "markdown",
   "id": "03445a95-3146-4e81-89e7-7e20013b5e03",
   "metadata": {},
   "source": [
    "Stattdessen werden wir diese **Funktionalität in ein Modul verpacken und es in beide Klassen inkludieren**. \\\n",
    "Wie wir sehen können, werden Module mit dem Schlüsselwort module deklariert und mit dem Schlüsselwort `include` in Klassen aufgenommen. \\\n",
    "Die Definition von Methoden erfolgt auf ähnliche Weise wie innerhalb einer Klassendefinition."
   ]
  },
  {
   "cell_type": "code",
   "execution_count": 2,
   "id": "71ebef53-17be-4eda-a98c-df262cd99690",
   "metadata": {},
   "outputs": [
    {
     "name": "stdout",
     "output_type": "stream",
     "text": [
      "User-Instanz:\n",
      "123 Main Street\n",
      "Objekt ID: 49260\n",
      "\n",
      "Building-Instanz:\n",
      "987 Broadway\n",
      "Objekt ID: 49280\n"
     ]
    }
   ],
   "source": [
    "module Address\n",
    "\n",
    "  attr_accessor :address_line1, :address_line2, :city, :state, :postal_code, :country\n",
    "\n",
    "  def mailing_label\n",
    "    label = []\n",
    "    label << @address_line1\n",
    "    label << @address_line2\n",
    "    label << \"#{@city}, #{@state} #{@postal_code}\"\n",
    "    label << @country\n",
    "    label.join(\"\\n\")\n",
    "  end\n",
    "\n",
    "end\n",
    "\n",
    "class User_multiple_inheritance\n",
    "  include Address\n",
    "end\n",
    "\n",
    "class Building\n",
    "  include Address\n",
    "end\n",
    "\n",
    "u = User_multiple_inheritance.new\n",
    "b = Building.new\n",
    "u.address_line1 = \"123 Main Street\"\n",
    "b.address_line1 = \"987 Broadway\"\n",
    "\n",
    "puts \"User-Instanz:\"\n",
    "puts u.instance_variable_get(\"@address_line1\")\n",
    "puts \"Objekt ID: #{u.instance_variable_get(\"@address_line1\").object_id}\"\n",
    "\n",
    "puts \"\\nBuilding-Instanz:\"\n",
    "puts b.instance_variable_get(\"@address_line1\")\n",
    "puts \"Objekt ID: #{b.instance_variable_get(\"@address_line1\").object_id}\""
   ]
  },
  {
   "cell_type": "markdown",
   "id": "8ac1736e-345b-4009-9bc5-6d6ed2aecdec",
   "metadata": {},
   "source": [
    "**Was fällt euch an dieser Ausgabe auf?**\n",
    "\n",
    "<details>\n",
    "  <summary>[Spoiler] Lösung:</summary>\n",
    "  \n",
    "> Das Modul ist zwar derselbe Code und verweist im Wesentlichen auf eine Instanzvariable mit demselben Namen, \\\n",
    "> aber es handelt sich tatsächlich um eine völlig andere Objektinstanz. \\\n",
    "> Dies wird durch den Zugriff auf die Instanzvariable und die Ausgabe des Attributs object_id dieses Objekts deutlich. \\\n",
    "> Das object_id-Attribut eines jeden Objekts ist eine eindeutige ID, die von Ruby verwaltet wird. \\\n",
    "> Man kann sich das so vorstellen, dass Ruby den Modulcode kopiert und in die Klasse einfügt, in die wir das Modul eingebunden haben. \\\n",
    "> Alle Variablen und der Code, die eingebunden werden, sind also in den verschiedenen Klassen, in denen sie enthalten sind, getrennt.\n",
    "  \n",
    "</details>"
   ]
  },
  {
   "cell_type": "markdown",
   "id": "1c79650d-d362-444d-bcff-da14a4bf001e",
   "metadata": {},
   "source": [
    "**Möglichkeit 2 - Erweitern**\n",
    "- Klassenmethoden mittels Modulen zu Klassen hinzufügen\n",
    "- Schlüsselwort: `extend`"
   ]
  },
  {
   "cell_type": "code",
   "execution_count": 8,
   "id": "8fd5ee8f-b01b-4cf9-9233-a585f2585968",
   "metadata": {},
   "outputs": [
    {
     "name": "stdout",
     "output_type": "stream",
     "text": [
      "[:id, :name, :created_at]\n",
      "[:id, :name, :created_at]"
     ]
    }
   ],
   "source": [
    "module HelperMethods\n",
    "\n",
    "  def attributes_for_json\n",
    "    [:id, :name, :created_at]\n",
    "  end\n",
    "\n",
    "end\n",
    "\n",
    "class User_multiple_inheritance\n",
    "\n",
    "  extend HelperMethods\n",
    "\n",
    "end\n",
    "\n",
    "class Company\n",
    "\n",
    "  extend HelperMethods\n",
    "\n",
    "end\n",
    "\n",
    "print User_multiple_inheritance.attributes_for_json\n",
    "puts \"\\n\"\n",
    "print Company.attributes_for_json"
   ]
  },
  {
   "cell_type": "markdown",
   "id": "6fef27b4-e8d9-4155-b540-e9f31cb0eaa2",
   "metadata": {},
   "source": [
    "Hier haben wir ein `Modul` namens \"*HelperMethods*\" definiert, das eine einzelne Methode namens `attributes_for_json` definiert. \\\n",
    "Die Absicht ist, dass dies ein gemeinsamer Satz von Attributen ist, die zum Konvertieren von Objekten in JSON verwendet werden. \\\n",
    "Da diese Attribute in dem Sinne global sind, d. h. dass sie für alle Objekte gelten, sollte diese Methode als Klassenmethode definiert werden. \\\n",
    "\\\n",
    "Sie können jedoch sehen, dass die Methode im Modul nur als einfache Methode definiert ist. Es gibt kein `self.`, dass ihr vorangestellt ist. \\\n",
    "Wenn das Modul innerhalb einer Klasse erweitert wird, werden alle Methoden, die als Basismethoden definiert sind, in die Klasse erweitert, das heißt, sie werden als Klassenmethoden hinzugefügt. \\\n",
    "\\\n",
    "Klassenmethoden wie zum Beispiel `File.delete` können ohne die Erzeugung eines Objekts aufgerufen werden. \\\n",
    "Beim Beispiel des Files ist die Notwendigkeit offensichtlich: Die Erzeugung eines Fileobjekts würde das Öffnen der Datei voraussetzen, jedoch können geöffnete Dateien nicht mehr gelöscht werden. \\\n",
    "Die häufigste Verwendung einer Klassenmethode ist der Konstruktor `.new`. \\\n",
    "\\\n",
    "`Klassenvariablen beginnen mit @@`. In jeder Objektinstanz der Klasse haben sie den gleichen Wert und sind daher quasi globale Variablen im Kontext einer Klasse."
   ]
  },
  {
   "cell_type": "markdown",
   "id": "99a084cc-944c-408a-b4a8-2a74b1bfe4fd",
   "metadata": {},
   "source": [
    "**Möglichkeit 3 - Voranstellen**\n",
    "- Methoden zur Klassenhierachie vor der Klasse selbst voranstellen.\n",
    "- Schlüsselwort: `prepend`\n",
    "\n",
    "> Vorteile:\n",
    "> - Vollständige Kontrolle über die ursprüngliche Implementierung\n",
    "> - Daten und Verhalten vor- oder nachbearbeitbar"
   ]
  },
  {
   "cell_type": "code",
   "execution_count": 9,
   "id": "83830728-e25c-4289-8cf9-398fbac1c6f1",
   "metadata": {},
   "outputs": [
    {
     "data": {
      "text/plain": [
       ":log"
      ]
     },
     "execution_count": 9,
     "metadata": {},
     "output_type": "execute_result"
    }
   ],
   "source": [
    "module ClassLogger\n",
    "\n",
    "  def log(msg)\n",
    "    \"[#{self.class}] #{msg}\"\n",
    "  end\n",
    "\n",
    "end\n",
    "\n",
    "class User_multiple_inheritance\n",
    "\n",
    "  include ClassLogger\n",
    "\n",
    "  def log(msg)\n",
    "    \"[#{Time.now.to_f.to_s}] #{super(msg)}\"\n",
    "  end\n",
    "\n",
    "end\n",
    "\n",
    "class Company\n",
    "\n",
    "  prepend ClassLogger\n",
    "\n",
    "  def log(msg)\n",
    "    \"[#{Time.now.to_f.to_s}] #{super(msg)}\"\n",
    "  end\n",
    "\n",
    "end"
   ]
  },
  {
   "cell_type": "markdown",
   "id": "734bd3f8-d909-4b20-bfd1-5653c3c42e58",
   "metadata": {},
   "source": [
    "Hier haben wir ein `Modul` namens \"*ClassLogger*\" erstellt, das eine Protokollmethode implementiert.\n",
    "Diese Methode umschließt einen String und gibt die aktuelle Klasse aus. \\\n",
    "Wir haben auch zwei Klassen erstellt, \"*Company*\" und \"*User*\", die eine identische Protokollmethode implementieren, die zuerst super mit dem Argument msg aufruft und dann der Protokollnachricht ein Präfix der aktuellen Uhrzeit hinzufügt.\n",
    "\n",
    "Der Unterschied besteht darin, dass Aufrufe der Klasse \"*User*\" zu diesem Modul gehören, während Aufrufe der Klasse \"*Company*\" vorangestellt werden:"
   ]
  },
  {
   "cell_type": "code",
   "execution_count": 10,
   "id": "94ddabdb-c4c3-4564-b759-529a48b2e9cf",
   "metadata": {},
   "outputs": [
    {
     "name": "stdout",
     "output_type": "stream",
     "text": [
      "[1644680043.6720572] [#<Class:0x00005618ca11eed0>::User_multiple_inheritance] hi\n",
      "[#<Class:0x00005618ca11eed0>::Company] hi\n"
     ]
    }
   ],
   "source": [
    "puts User_multiple_inheritance.new.log(\"hi\")\n",
    "puts Company.new.log(\"hi\")"
   ]
  },
  {
   "cell_type": "markdown",
   "id": "bac5b1fc-6b1a-45c4-916e-94f4ed52f30d",
   "metadata": {},
   "source": [
    "**Was fällt euch an dieser Ausgabe auf?**\n",
    "\n",
    "<details>\n",
    "  <summary>[Spoiler] Lösung:</summary>\n",
    "  \n",
    "> Die User-Implementierung (include) hat sowohl das Zeit- als auch das Klassenpräfix erhalten, während Company nur das Klassenpräfix hat. \\\n",
    "> \\\n",
    "> Woran liegt das?! \\\n",
    "> Die Antwort liegt in der Art und Weise, wie Ruby die Methoden verteilt, wie im folgenden Code gezeigt:\n",
    "  \n",
    "</details>"
   ]
  },
  {
   "cell_type": "markdown",
   "id": "16024182-9a7e-42fc-96c1-75e4c0da3b48",
   "metadata": {},
   "source": [
    "Wir rufen die Methode `ancestors` auf, eine Inspektionsmethode, die uns Ruby für Klassenobjekte zur Verfügung stellt. \\\n",
    "Hier sehen wir einen deutlichen Unterschied:"
   ]
  },
  {
   "cell_type": "code",
   "execution_count": 11,
   "id": "3a47d2d9-9757-43bb-bba8-0537df628816",
   "metadata": {},
   "outputs": [
    {
     "name": "stdout",
     "output_type": "stream",
     "text": [
      "\n",
      "Vorfahren User:\n",
      "#<Class:0x00005618ca11eed0>::User_multiple_inheritance\n",
      "#<Class:0x00005618ca11eed0>::ClassLogger\n",
      "#<Class:0x00005618ca11eed0>::Address\n",
      "Object\n",
      "JSON::Ext::Generator::GeneratorMethods::Object\n",
      "Kernel\n",
      "BasicObject\n",
      "\n",
      "Vorfahren Company:\n",
      "#<Class:0x00005618ca11eed0>::ClassLogger\n",
      "#<Class:0x00005618ca11eed0>::Company\n",
      "Object\n",
      "JSON::Ext::Generator::GeneratorMethods::Object\n",
      "Kernel\n",
      "BasicObject\n"
     ]
    }
   ],
   "source": [
    "puts \"\\nVorfahren User:\"\n",
    "puts User_multiple_inheritance.ancestors\n",
    "puts \"\\nVorfahren Company:\"\n",
    "puts Company.ancestors"
   ]
  },
  {
   "cell_type": "markdown",
   "id": "867c64d9-3eb2-4873-857d-3ba39890959f",
   "metadata": {},
   "source": [
    "**Was fällt euch an dieser Ausgabe auf?**\n",
    "\n",
    "<details>\n",
    "  <summary>[Spoiler] Lösung:</summary>\n",
    "  \n",
    "> Bei den Vorfahren der Klasse User steht User an erster Stelle und dann ClassLogger an zweiter. \\\n",
    "> \\\n",
    "> Bei der Klasse **Company** steht ClassLogger an erster Stelle und dann Company an zweiter. \\\n",
    "> Ruby ruft also die Methoden jeder dieser Klassen in dieser Hierarchie in dieser Reihenfolge auf.\n",
    "> \\\n",
    "> Die ClassLogger-Implementierung ruft nicht super auf, sodass die Kette dort endet, weshalb wir nur diese spezielle Ausgabe sehen. \\\n",
    "> \\\n",
    "> Wenn in der Klasse **User** log aufgerufen wird, ruft es zuerst die User-Implementierung (das Zeitpräfix) und dann super auf, die dann die ClassLogger-Implementierung aufruft. \\\n",
    "> Deshalb sehen wir die String-Ausgabe mit der Zeit an erster und der Klasse an zweiter Stelle.\n",
    "> \n",
    "</details> \n",
    "\n",
    "<br>\n",
    "\n",
    "Wie wir sehen können, wird der Code in die Klassenhierarchie in geordneter Weise eingefügt. \\\n",
    "Das heißt, die Methoden werden der Klassenhierarchie nach der Klasse selbst hinzugefügt. \\\n",
    "`prepend` hingegen fügt der Klassenhierarchie vor der Klasse selbst hinzu. \\\n",
    "\\\n",
    "Das Voranstellen von Methoden in der Klassenhierarchie führt zu einigen sehr wichtigen Verhaltensweisen. \\\n",
    "In erster Linie **ermöglicht es Modulen, dass ihre Methoden zuerst aufgerufen werden**. \\\n",
    "Dadurch, dass sie zuerst aufgerufen werden, haben die **Module die vollständige Kontrolle über die ursprüngliche Implementierung**. \\\n",
    "Auf diese Weise können sie Daten und Verhalten vor- oder nachbearbeiten!"
   ]
  }
 ],
 "metadata": {
  "kernelspec": {
   "display_name": "Ruby 2.7.0",
   "language": "ruby",
   "name": "ruby"
  },
  "language_info": {
   "file_extension": ".rb",
   "mimetype": "application/x-ruby",
   "name": "ruby",
   "version": "2.7.0"
  }
 },
 "nbformat": 4,
 "nbformat_minor": 5
}
