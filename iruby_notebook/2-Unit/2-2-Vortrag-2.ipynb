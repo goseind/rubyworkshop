{
 "cells": [
  {
   "cell_type": "markdown",
   "id": "2e32e148-3210-4597-ab9c-9ca2ede914f7",
   "metadata": {
    "tags": []
   },
   "source": [
    "# Themenblock 2-2"
   ]
  },
  {
   "cell_type": "markdown",
   "id": "bdc13531-10fb-4ce1-8e55-481e55fce130",
   "metadata": {},
   "source": [
    "# Encapsulation"
   ]
  },
  {
   "cell_type": "markdown",
   "id": "944d7334-ceb4-4c99-b0cd-f0c507e668c1",
   "metadata": {},
   "source": [
    "Konzept der Verkapselung ist auch in vielen anderen Programmiersprachen verankert. Häufig erfolgt hierbei die Unterscheidung zwischen public und private. Ruby fügt noch ein weiteres Level der Verkapselung hinzu: protected"
   ]
  },
  {
   "cell_type": "markdown",
   "id": "bbd78554-531e-4111-93f0-8bf84f914ca0",
   "metadata": {},
   "source": [
    "## Public Methods"
   ]
  },
  {
   "cell_type": "markdown",
   "id": "c4d5f41e-36a0-4533-a5ab-e727b83e3f6e",
   "metadata": {},
   "source": [
    "Das Standard Level von Methoden in Ruby Klassen ist Public. Entsprechend sind Methoden für Klassen oder attr_-Methoden ebenfalls public.\n",
    "Variablen sind standardmäßig private. Definiert man jedoch eine Methode zum Aufruf der Variablen, ist die Methode hierfür standardmäßig auch public.\n",
    "\n",
    "Verdeutlichen wir und das einmal an einem Code-Beispiel."
   ]
  },
  {
   "cell_type": "markdown",
   "id": "0a570ad2-3732-4161-93d0-02f69fc3bad5",
   "metadata": {},
   "source": [
    "### Zugriff ohne Methode (nochmal prüfen!)"
   ]
  },
  {
   "cell_type": "code",
   "execution_count": null,
   "id": "840819ef-2122-4280-a5ae-49136f2b0bbb",
   "metadata": {},
   "outputs": [],
   "source": [
    "### ohne Methode\n",
    "\n",
    "class TestA\n",
    "  def initialize(nameA)\n",
    "    @nameA = nameA\n",
    "  end\n",
    "end\n",
    "\n",
    "u = TestA.new(\"Olaf\")\n",
    "print(u.nameA)"
   ]
  },
  {
   "cell_type": "markdown",
   "id": "7802de3c-6f52-44f7-b668-f509073c4eb2",
   "metadata": {},
   "source": [
    "### Zugriff mit Methode"
   ]
  },
  {
   "cell_type": "code",
   "execution_count": null,
   "id": "33a5e30a-4de2-4d69-9395-f02621e7d893",
   "metadata": {},
   "outputs": [],
   "source": [
    "### mit Methode\n",
    "class Test\n",
    "  def initialize(name)\n",
    "    @name = name\n",
    "  end\n",
    "  def name\n",
    "    @name\n",
    "  end\n",
    "end\n",
    "\n",
    "u = Test.new(\"Olaf\")\n",
    "print(u.name)"
   ]
  },
  {
   "cell_type": "markdown",
   "id": "59e3717a-c543-4340-8a74-8f972b0553f2",
   "metadata": {},
   "source": [
    "Wie wir sehen konnten, ist ein Zugriff direkt auf die Variable nicht möglich. Definieren wir jedoch eine Methode, die auf die Variable zugreift, können wir uns diese so ausgeben lassen."
   ]
  },
  {
   "cell_type": "markdown",
   "id": "a0af416c-20cf-4fbf-ad81-938838cc825f",
   "metadata": {},
   "source": [
    "## Private Methods"
   ]
  },
  {
   "cell_type": "markdown",
   "id": "af161df6-320f-47d0-9126-7c7243d80a52",
   "metadata": {},
   "source": [
    "Bei Private Methods ist ein Zugriff nur von der Klasse selbst möglich. Solche Methoden werden mit dem Keyword private deklariert."
   ]
  },
  {
   "cell_type": "code",
   "execution_count": null,
   "id": "b5cce302-96b1-4759-bc37-67824babe150",
   "metadata": {},
   "outputs": [],
   "source": [
    "class Numbers\n",
    "  def sumNumbers\n",
    "    print(2+3+4)\n",
    "  end\n",
    "  private\n",
    "  def privateNumbers\n",
    "    print(4+4+4)\n",
    "  end\n",
    "end\n",
    "\n",
    "n = Numbers.new\n",
    "\n",
    "n.sumNumbers\n",
    "\n",
    "n.privateNumbers"
   ]
  },
  {
   "cell_type": "markdown",
   "id": "b4942ce6-d039-46e2-b6fa-93637a0a8164",
   "metadata": {},
   "source": [
    "Beim Ausführen fällt auf, dass wir die Methode sumNumbers ausführen können, da diese standardmäßig public ist. Bei der Methode privateNumbers erhalten wir einen NoMethodError, da wir diese Method zuvor als privat definiert haben."
   ]
  },
  {
   "cell_type": "markdown",
   "id": "016fc244-74cf-4c94-9271-2403d2fbda87",
   "metadata": {},
   "source": [
    "## Protected Methods"
   ]
  },
  {
   "cell_type": "markdown",
   "id": "9dccd84b-5578-484d-a3be-15326cda0f04",
   "metadata": {},
   "source": [
    "Wie bereits erwähnt fügt Ruby mit protected ein drittes Level der Verkapselung hinzu. Diese bilden einen Mittelweg zwischen public & private Methoden und werden ähnlich zu privaten Methoden deklariert. Hierzu wird das Schlüsselwort protected verwendet."
   ]
  },
  {
   "cell_type": "code",
   "execution_count": null,
   "id": "7eb450fe-c9af-4e86-93f3-b17ce46d3bcf",
   "metadata": {},
   "outputs": [],
   "source": [
    "class Numbers\n",
    "  def sumNumbers\n",
    "    print(2+3+4)\n",
    "  end\n",
    "  protected\n",
    "  def protectNumbers\n",
    "    print(4+4+4)\n",
    "  end\n",
    "end\n",
    "\n",
    "n = Numbers.new\n",
    "\n",
    "n.sumNumbers\n",
    "\n",
    "n.protectedNumbers"
   ]
  },
  {
   "cell_type": "markdown",
   "id": "18b2d6a0-0d8b-4352-90a3-28e09da4ccf1",
   "metadata": {},
   "source": [
    "Analog zum obigen Beispiel zu den private Methoden können wir die sumNumbers Methode ausführen, da diese public ist. Die protected Methode protectNumbers kann jedoch nicht aufgerufen werden."
   ]
  },
  {
   "cell_type": "markdown",
   "id": "31c09685-6a0c-4a1d-83cf-677127de4582",
   "metadata": {},
   "source": [
    "## Beispiel Visibility Rules\n",
    "Anhand des folgenden Beispiels sollen die Möglichkeiten und Unterschiede der Encapsulation in Ruby verdeutlicht werden.\n",
    "\n",
    "1. Hierfür erstellen wir zunächst eine Klasse \"Student\". In dieser erstellen wir je eine public, private & protected Methode. Die Methoden selbst beinhalten eine Textausgabe mit Information über die Verkapselung.\n",
    "2. Nun erstellen wir ein neues Objekt der Klasse und versuchen mit diesem Objekt die jeweiligen Methoden aufzurufen."
   ]
  },
  {
   "cell_type": "code",
   "execution_count": null,
   "id": "4882f695-7213-4f6f-a1bd-763326e55335",
   "metadata": {},
   "outputs": [],
   "source": [
    "# 1. \n",
    "class Student\n",
    "  def public_method\n",
    "    puts \"Das ist eine public Methode\"\n",
    "  end\n",
    "  protected\n",
    "  def protected_method\n",
    "    puts \"Das ist eine protected Methode\"\n",
    "  end\n",
    "  private\n",
    "  def private_method\n",
    "    puts \"Das ist eine private Methode\"\n",
    "  end\n",
    "end\n",
    "\n",
    "#2.\n",
    "Stud = Student.new\n",
    "Stud.public_method;\n",
    "Stud.protected_method;\n",
    "Stud.private_method;"
   ]
  },
  {
   "cell_type": "markdown",
   "id": "0968b947-1988-4747-987a-8076a0ce3e3c",
   "metadata": {},
   "source": [
    "Beim Ausführen stellen wir fest, dass sich lediglich die public Methode aufrufen lässt."
   ]
  },
  {
   "cell_type": "markdown",
   "id": "2686d0cb-18a3-433e-95bc-3864685b314c",
   "metadata": {},
   "source": [
    "3. Wir übernehmen nun den bisherigen Code der Klasse und fügen ihn das nächste Codefeld ein.\n",
    "4. Nun fügen wir noch eine weitere (public) Methode hinzu, welche die anderen drei Methoden aufruft.\n",
    "5. Wir erstellen erneut ein Objekt der Klasse und rufen die neu erstellte Methode auf."
   ]
  },
  {
   "cell_type": "code",
   "execution_count": null,
   "id": "04036d86-97d8-4581-9e5c-616317e00107",
   "metadata": {},
   "outputs": [],
   "source": [
    "#3.\n",
    "class Student\n",
    "  #4.\n",
    "  def call_each\n",
    "    public_method\n",
    "    protected_method\n",
    "    private_method\n",
    "  end\n",
    "  def public_method\n",
    "    puts \"Das ist eine public Methode\"\n",
    "  end\n",
    "  protected\n",
    "  def protected_method\n",
    "    puts \"Das ist eine protected Methode\"\n",
    "  end\n",
    "  private\n",
    "  def private_method\n",
    "    puts \"Das ist eine private Methode\"\n",
    "  end\n",
    "end\n",
    "\n",
    "#5.\n",
    "t = Student.new;\n",
    "t.call_each;"
   ]
  },
  {
   "cell_type": "markdown",
   "id": "709047cf-14c2-4db6-ac93-ff9a8008d3bd",
   "metadata": {},
   "source": [
    "Über diese Methode können wir jede Methode innerhalb der Klasse aufrufen."
   ]
  },
  {
   "cell_type": "markdown",
   "id": "d640d9f2-9984-4e68-b43d-2d12324bb7f8",
   "metadata": {},
   "source": [
    "6. Wir übernehmen nun erneut den bisherigen Code.\n",
    "7. Diesmal passen wir den Methodenaufruf innerhalb der Methode call_each an, indem wir das Schlüsselwort self vor den jeweligen Methodenaufruf hinzufügen."
   ]
  },
  {
   "cell_type": "code",
   "execution_count": null,
   "id": "685d1c3c-81f1-47c0-8217-14a8632e2d72",
   "metadata": {},
   "outputs": [],
   "source": [
    "#6.\n",
    "class Student\n",
    "  def call_each\n",
    "    #7.\n",
    "    self.public_method\n",
    "    self.protected_method\n",
    "    self.private_method\n",
    "  end\n",
    "  def public_method\n",
    "    puts \"Das ist eine public Methode\"\n",
    "  end\n",
    "  protected\n",
    "  def protected_method\n",
    "    puts \"Das ist eine protected Methode\"\n",
    "  end\n",
    "  private\n",
    "  def private_method\n",
    "    puts \"Das ist eine private Methode\"\n",
    "  end\n",
    "end\n",
    "\n",
    "t = Student.new;\n",
    "t.call_each;"
   ]
  },
  {
   "cell_type": "markdown",
   "id": "8129d180-1d4e-4a43-8c43-9018548d89e4",
   "metadata": {},
   "source": [
    "Anmerkung: An dieser Stelle verarbeitet das Jupyter-Notebook leider die private_method nicht korrekt. Verwende daher für diesen Code-Abschnitt einen alternative Online-Editor: https://replit.com/languages/ruby"
   ]
  },
  {
   "cell_type": "markdown",
   "id": "1acfe02d-e3d4-4e47-8ea0-1b1362e7b14d",
   "metadata": {},
   "source": [
    "# Getter & Setter"
   ]
  },
  {
   "cell_type": "markdown",
   "id": "60c5bf13-188d-4002-aed0-d2d1ce3cc440",
   "metadata": {},
   "source": [
    "Wie auch in anderen Programmiersprachen gibt es die Möglichkeit über Getter & Setter Variablen von Objekten zu holen und diese zu setzen. Ruby bietet hierfür verschiedene Möglichkeiten. Die Variablen können entweder mit \"=\" gesetzt werden oder alternativ kann das Schlüsselwort attr_accessor verwendet werden."
   ]
  },
  {
   "cell_type": "markdown",
   "id": "e4b9439b-788e-4081-81f7-e154afb999f9",
   "metadata": {},
   "source": [
    "Die Verwendung von \"=\" funktioniert wie folgt:"
   ]
  },
  {
   "cell_type": "code",
   "execution_count": null,
   "id": "e3c1f488-e52e-4d27-a288-13635eadda3a",
   "metadata": {},
   "outputs": [],
   "source": [
    "class Student\n",
    "  def initialize(name)\n",
    "    @name = name\n",
    "  end\n",
    "  def name\n",
    "    @name\n",
    "  end\n",
    "  def name=(new_name)\n",
    "    @name = new_name\n",
    "  end\n",
    "end\n",
    "\n",
    "s = Student.new(\"Heinz\")\n",
    "puts(s.name)\n",
    "\n",
    "s.name = \"Franz\"\n",
    "print(s.name)"
   ]
  },
  {
   "cell_type": "markdown",
   "id": "19f1ba6d-0d98-4311-a4ef-8426e58916f0",
   "metadata": {},
   "source": [
    "Zunächst haben wir ein Objekt der Klasse Student mit dem Attribut Name: Heinz erstellt. Über \"=\" können wir einen neuen Wert zuweisen."
   ]
  },
  {
   "cell_type": "markdown",
   "id": "570b0f45-80ef-4837-8bab-d9e425227c88",
   "metadata": {},
   "source": [
    "Alternativ lässt sich wie bereits erwähnt das Schlüsselwort attr_accessor verwenden. Für Accessor Methoden lassen sich sowohl getter als auch setter definieren. Außerdem können mehrere getter & setter gleichzeitig definiert werden, indem Symbole/Attribute hintereinander aufgelistet werden."
   ]
  },
  {
   "cell_type": "markdown",
   "id": "cc091dec-967f-4f0a-bccb-5e4e8ecee1aa",
   "metadata": {},
   "source": [
    "attr_reader: für nur get;\n",
    "attr_writer: für nur set"
   ]
  },
  {
   "cell_type": "code",
   "execution_count": null,
   "id": "0fa4d294-6be5-4b60-bd0f-f51af9e41466",
   "metadata": {},
   "outputs": [],
   "source": [
    "class Student\n",
    "    attr_accessor :name, :matrikelnummer, :age\n",
    "    \n",
    "    def initialize(name)\n",
    "        @name = name\n",
    "    end\n",
    "end\n",
    "\n",
    "s = Student.new(\"Bernd\")\n",
    "s.name = \"Lisa\"\n",
    "s.matrikelnummer = 12345\n",
    "s.age = 20\n",
    "\n",
    "puts(s.name, s.matrikelnummer, s.age)\n",
    "\n"
   ]
  },
  {
   "cell_type": "code",
   "execution_count": null,
   "id": "e53000a2-9e1c-46dc-87c8-7ba075e19d0e",
   "metadata": {},
   "outputs": [],
   "source": [
    "class Teacher\n",
    "  attr_reader :name\n",
    "  attr_writer :subject\n",
    "\n",
    "  def initialize(name)\n",
    "    @name = name\n",
    "  end\n",
    "  def subject\n",
    "    @subject\n",
    "  end\n",
    "end\n",
    "\n",
    "t = Teacher.new(\"Albert\")\n",
    "#reader/get möglich\n",
    "puts(t.name)\n",
    "\n",
    "#writer erstellt, set möglich\n",
    "t.subject = \"Fach\"\n",
    "puts(t.subject)\n",
    "\n",
    "#kein writer, nur reader, set nicht möglich\n",
    "t.name = \"Heinz\"\n",
    "puts(t.name)"
   ]
  },
  {
   "cell_type": "markdown",
   "id": "2a797bd8-2299-44a4-a93d-6cb6bdb6df31",
   "metadata": {},
   "source": [
    "# Klassen Methoden & Variablen"
   ]
  },
  {
   "cell_type": "markdown",
   "id": "2f8b0293-4966-4394-9ef5-a4f32cd723bb",
   "metadata": {},
   "source": [
    "Beschreiben Variablen & Methoden, die auf Klassenebene und nicht auf Instanzebene arbeiten. Die Klassen sind dabei die Vorlage für die Objekte. Klassenmethoden und -variablen sind unveränderliche Daten/Methoden, die zu Klassen gehören und auf alle Instanzen der Klasse angewendet werden können. Für Klassenmethoden gibt es zwei unterschiedliche Arten."
   ]
  },
  {
   "cell_type": "markdown",
   "id": "f498d9a2-f5d8-48c1-895d-fe2d8cd88aff",
   "metadata": {},
   "source": [
    "## Direktes Aufrufen einer Methode in der Klasse"
   ]
  },
  {
   "cell_type": "markdown",
   "id": "7da1c782-60b9-4d37-838e-e7795d82a5e9",
   "metadata": {},
   "source": [
    "Die Klassenmethode kann definiert werden, indem die Methode direkt in der Klasse aufgerufen wird."
   ]
  },
  {
   "cell_type": "code",
   "execution_count": null,
   "id": "d0b18b44-fd14-4fae-a839-81f975390925",
   "metadata": {},
   "outputs": [],
   "source": [
    "##Method 1\n",
    "class Student1\n",
    "  def Student1.faculty\n",
    "    [\"Informatik\", \"Soziale Arbeit\", \"Mediengestaltung\"]\n",
    "  end\n",
    "end"
   ]
  },
  {
   "cell_type": "markdown",
   "id": "dec7dcab-a9a8-4205-a5e3-b46b7561ae5e",
   "metadata": {},
   "source": [
    "Methode 1: direktes Aufrufen einer Methode in der Klasse\n",
    "- self in Student1.faculty = Synonym für die Klassenkonstante Student 1\n",
    "- Method wird über die Klassenkonstante definiert\n",
    "- seltener verwendet"
   ]
  },
  {
   "cell_type": "markdown",
   "id": "9eaf4b84-2515-4b11-9f98-d18bf543281e",
   "metadata": {},
   "source": [
    "## self Schlüsselwort verwenden"
   ]
  },
  {
   "cell_type": "markdown",
   "id": "a361d3ec-de6f-442a-9071-379a1f7bfb9d",
   "metadata": {},
   "source": [
    "self wird benutzt, um eine Klassenmethode zu definieren."
   ]
  },
  {
   "cell_type": "code",
   "execution_count": null,
   "id": "21252dbb-670b-4154-a7a2-e897ffd9b0b3",
   "metadata": {},
   "outputs": [],
   "source": [
    "##Method 2\n",
    "class Student2\n",
    "  class << self\n",
    "    def Student2.faculty\n",
    "      [\"Informatik\", \"Soziale Arbeit\", \"Mediengestaltung\"]\n",
    "    end\n",
    "  end\n",
    "end"
   ]
  },
  {
   "cell_type": "markdown",
   "id": "598d2598-22ab-436a-b786-222594fafba0",
   "metadata": {},
   "source": [
    "Methode 2: self Schlüsselwort verwenden\n",
    "- class << self wird recht häufig benutzt\n",
    "- bei einer Suche nach Klassenmethoden kann diese nicht direkt von Instanzmethodne unterschieden werden\n",
    "- aber: Befürworter von class << self bevorzugen, dass bei der Suche nach einer bestimmten Methode das Schlüsselwort self nicht in der Suchanfrage vorangestellt werden muss"
   ]
  }
 ],
 "metadata": {
  "kernelspec": {
   "display_name": "Ruby 2.7.0",
   "language": "ruby",
   "name": "ruby"
  },
  "language_info": {
   "file_extension": ".rb",
   "mimetype": "application/x-ruby",
   "name": "ruby",
   "version": "2.7.0"
  }
 },
 "nbformat": 4,
 "nbformat_minor": 5
}
