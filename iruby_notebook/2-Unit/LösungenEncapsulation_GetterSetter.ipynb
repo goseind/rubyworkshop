{
 "cells": [
  {
   "cell_type": "markdown",
   "metadata": {},
   "source": [
    "# Übungen Encapsulation, Getter & Setter\n"
   ]
  },
  {
   "cell_type": "markdown",
   "metadata": {},
   "source": [
    "## Übung Visibility Rules\n",
    "Mit dieser Aufgabe übst du die Möglichkeiten und Unterschiede der Encapsulation in Ruby.\n",
    "\n",
    "1. Erstelle eine Klasse und nenne diese \"Student\". Erstelle in dieser Klasse je eine public, private und protected Methode, insgesamt also 3 Methoden. Die Methoden selbst sollen eine einfache Textausgabe mit der Info der gewählten Verkapselung erhalten (also z. B. \"Das ist eine public Methode\". Denk bei der Erstellung an die jeweils benötigten Schlüsselwörter.\n",
    "2. Erstelle nun zunächst ein neues Objekt der Klasse. Versuche mit diesem Objekt die jeweiligen Methoden aufzurufen."
   ]
  },
  {
   "cell_type": "code",
   "execution_count": 1,
   "metadata": {},
   "outputs": [
    {
     "name": "stdout",
     "output_type": "stream",
     "text": [
      "Das ist eine public Methode\n"
     ]
    },
    {
     "ename": "NoMethodError",
     "evalue": "protected method `protected_method' called for #<#<Class:0x00005584962d0fa8>::Student:0x0000558495b8c120>\nDid you mean?  protected_methods",
     "output_type": "error",
     "traceback": [
      "\u001b[31mNoMethodError\u001b[0m: protected method `protected_method' called for #<#<Class:0x00005584962d0fa8>::Student:0x0000558495b8c120>\nDid you mean?  protected_methods",
      "(irb):16:in `<top (required)>'"
     ]
    }
   ],
   "source": [
    "class Student\n",
    "  def public_method\n",
    "    puts \"Das ist eine public Methode\"\n",
    "  end\n",
    "  protected\n",
    "  def protected_method\n",
    "    puts \"Das ist eine protected Methode\"\n",
    "  end\n",
    "  private\n",
    "  def private_method\n",
    "    puts \"Das ist eine private Methode\"\n",
    "  end\n",
    "end\n",
    "\n",
    "Stud = Student.new\n",
    "Stud.public_method;\n",
    "Stud.protected_method;\n",
    "Stud.private_method;"
   ]
  },
  {
   "cell_type": "markdown",
   "metadata": {},
   "source": [
    "Was stellst du fest?"
   ]
  },
  {
   "cell_type": "raw",
   "metadata": {},
   "source": [
    "Nur die public Methode lässt sich aufrufen."
   ]
  },
  {
   "cell_type": "markdown",
   "metadata": {},
   "source": [
    "3. Kopiere den bisherigen Code der Klasse (nicht der Objekterstellung und Methodenaufrufe) und füge ihn in das nächste Codefeld ein.\n",
    "4. Füge nun eine weitere (public) Methode hinzu, welche die anderen drei Methoden aufruft. \n",
    "5. Erstelle ein Objekt der Klasse und rufe die soeben erstellte Methode auf."
   ]
  },
  {
   "cell_type": "code",
   "execution_count": 2,
   "metadata": {},
   "outputs": [
    {
     "name": "stdout",
     "output_type": "stream",
     "text": [
      "Das ist eine public Methode\n",
      "Das ist eine protected Methode\n",
      "Das ist eine private Methode\n"
     ]
    }
   ],
   "source": [
    "class Student\n",
    "  def call_each\n",
    "    public_method\n",
    "    protected_method\n",
    "    private_method\n",
    "  end\n",
    "  def public_method\n",
    "    puts \"Das ist eine public Methode\"\n",
    "  end\n",
    "  protected\n",
    "  def protected_method\n",
    "    puts \"Das ist eine protected Methode\"\n",
    "  end\n",
    "  private\n",
    "  def private_method\n",
    "    puts \"Das ist eine private Methode\"\n",
    "  end\n",
    "end\n",
    "\n",
    "t = Student.new;\n",
    "t.call_each;"
   ]
  },
  {
   "cell_type": "markdown",
   "metadata": {},
   "source": [
    "Welche Unterschiede erkennst du?"
   ]
  },
  {
   "cell_type": "raw",
   "metadata": {},
   "source": [
    "Jede der Methoden kann innerhalb der Klasse aufgerufen werden"
   ]
  },
  {
   "cell_type": "markdown",
   "metadata": {},
   "source": [
    "6. Kopiere erneut den bisherigen Code (diesmal inklusive der Obkekterstellung und des Methodenaufrufes) und füge ihn in das nächste Codefeld ein.\n",
    "7. In der Methode, welche die anderen Methoden aufruft, füge nun das Schlüsselwort self vor den jeweiligen Methodenaufruf."
   ]
  },
  {
   "cell_type": "code",
   "execution_count": 3,
   "metadata": {},
   "outputs": [
    {
     "name": "stdout",
     "output_type": "stream",
     "text": [
      "Das ist eine public Methode\n",
      "Das ist eine protected Methode\n",
      "Das ist eine private Methode\n"
     ]
    }
   ],
   "source": [
    "class Student\n",
    "  def call_each\n",
    "    self.public_method\n",
    "    self.protected_method\n",
    "    self.private_method\n",
    "  end\n",
    "  def public_method\n",
    "    puts \"Das ist eine public Methode\"\n",
    "  end\n",
    "  protected\n",
    "  def protected_method\n",
    "    puts \"Das ist eine protected Methode\"\n",
    "  end\n",
    "  private\n",
    "  def private_method\n",
    "    puts \"Das ist eine private Methode\"\n",
    "  end\n",
    "end\n",
    "\n",
    "t = Student.new;\n",
    "t.call_each;"
   ]
  },
  {
   "cell_type": "markdown",
   "metadata": {},
   "source": [
    "Welche Unterschiede erkennst du, wenn du nun die Methode aufrufst?"
   ]
  },
  {
   "cell_type": "raw",
   "metadata": {},
   "source": [
    "Eigentlich sollte private Methode nicht funktionieren (in RubyMine tut es das auch nicht..)"
   ]
  },
  {
   "cell_type": "markdown",
   "metadata": {},
   "source": [
    "## Übung Getter & Setter\n",
    "Mit dieser Übung vertiefst du deine Kenntnisse zu Getter & Setter in Ruby.\n",
    "\n",
    "1. Erstelle insgesamt 3 Klassen: User, Company und Department.\n",
    "2. Füge folgende attr_accessor und Initialisierungen hinzu:\n",
    "    * User: name, address, department - name, address, department\n",
    "    * Company: name, url, department - name, url als URI.parse(url)\n",
    "    * Department: name, users - name\n",
    "3. Erstelle eine Company mit dem Konstruktor, z. B. mit dem Name \"HS Mannheim\" und der url \"www.hs-mannheim.de\"\n",
    "4. Erstelle zwei Abteilungen mit unterschiedlichen, beliebigem Name.\n",
    "5. Erstelle mind. 2 User. Bei der Erstellung des Users trage eine der zuvor erstellten Abteilungen ein.\n",
    "6. Ordne nun der Company die erstellten Abteilungen zu.\n",
    "\n",
    "Nun wollen wir den Use Case betrachten, dass ein Unternehmen eine Liste über alle User erhalten möchte. Das Unternehmen hat bereits Zugriff auf die Departments.\n",
    "\n",
    "7. Erstelle eine Methode, die über alle User je Deparment durch iteriert. \n",
    "\n",
    "Hierbei ergibt sich folgendes Problem. Wir erhalten ein Array mit Arrays. Ruby liefert hierfür die .flatten Methode. Diese Methode erstellt aus allen Items ein Ein-dimensionales Array.\n",
    "\n",
    "8. Füge dahier .flatten der Methode hinzu. \n",
    "\n",
    "Die Deparment Klasse besitzt einen accessor für :users. Dies kann jedoch nil sein und dementsprechend bei der Ausgabe einen Fehler verursachen. Um diesen Fehler abzufangen, passen wir die Initialiserung an, indem wir bei Objekt Generierung ein leeres Users-Array erstellen."
   ]
  },
  {
   "cell_type": "code",
   "execution_count": 11,
   "metadata": {},
   "outputs": [
    {
     "name": "stdout",
     "output_type": "stream",
     "text": [
      "[#<#<Class:0x00005584962d0fa8>::User:0x00005584960b14e8 @name=\"Bob Smith\", @address=\"1 Main Street\", @department=#<#<Class:0x00005584962d0fa8>::Department:0x00005584960b16a0 @name=\"Sales\", @users=[#<#<Class:0x00005584962d0fa8>::User:0x00005584960b14e8 ...>]>>, #<#<Class:0x00005584962d0fa8>::User:0x00005584960b13d0 @name=\"Mary Jane\", @address=\"10 Another Street\", @department=#<#<Class:0x00005584962d0fa8>::Department:0x00005584960b15d8 @name=\"Engineering\", @users=[#<#<Class:0x00005584962d0fa8>::User:0x00005584960b13d0 ...>]>>]\n"
     ]
    },
    {
     "data": {
      "text/plain": [
       "[#<#<Class:0x00005584962d0fa8>::User:0x00005584960b14e8 @name=\"Bob Smith\", @address=\"1 Main Street\", @department=#<#<Class:0x00005584962d0fa8>::Department:0x00005584960b16a0 @name=\"Sales\", @users=[#<#<Class:0x00005584962d0fa8>::User:0x00005584960b14e8 ...>]>>, #<#<Class:0x00005584962d0fa8>::User:0x00005584960b13d0 @name=\"Mary Jane\", @address=\"10 Another Street\", @department=#<#<Class:0x00005584962d0fa8>::Department:0x00005584960b15d8 @name=\"Engineering\", @users=[#<#<Class:0x00005584962d0fa8>::User:0x00005584960b13d0 ...>]>>]"
      ]
     },
     "execution_count": 11,
     "metadata": {},
     "output_type": "execute_result"
    }
   ],
   "source": [
    "#2.\n",
    "class User\n",
    "  attr_accessor :name, :address, :department\n",
    "\n",
    "  def initialize(name, address, department)\n",
    "    @name = name\n",
    "    @address = address\n",
    "    @department = department\n",
    "    #9.\n",
    "    @department.users << self\n",
    "  end\n",
    "end\n",
    "\n",
    "class Company\n",
    "  attr_accessor :name, :url, :departments\n",
    "\n",
    "  def initialize(name, url)\n",
    "    @name = name\n",
    "    @url = URI.parse(url)\n",
    "  end\n",
    "  #7. & 8.(.flatten hinzugefügt)\n",
    "  def users\n",
    "    departments.map(&:users).flatten\n",
    "  end\n",
    "end\n",
    "\n",
    "#8. @users = []\n",
    "class Department\n",
    "  attr_accessor :name, :users\n",
    "\n",
    "  def initialize(name)\n",
    "    @name = name\n",
    "    @users = []\n",
    "  end\n",
    "end\n",
    "\n",
    "#3.\n",
    "c = Company.new(\"HS Mannheim\", \"www.hs-mannheim.de\")\n",
    "\n",
    "#4.\n",
    "sales = Department.new(\"Sales\")\n",
    "engineering = Department.new(\"Engineering\")\n",
    "\n",
    "#5.\n",
    "bob = User.new(\"Bob Smith\", \"1 Main Street\", sales)\n",
    "mary = User.new(\"Mary Jane\", \"10 Another Street\", engineering)\n",
    "\n",
    "#6.\n",
    "c.departments = [sales, engineering]\n",
    "\n",
    "\n",
    "print c.users"
   ]
  }
 ],
 "metadata": {
  "kernelspec": {
   "display_name": "Ruby 3.0.2",
   "language": "ruby",
   "name": "ruby"
  },
  "language_info": {
   "file_extension": ".rb",
   "mimetype": "application/x-ruby",
   "name": "ruby",
   "version": "3.0.2"
  }
 },
 "nbformat": 4,
 "nbformat_minor": 4
}
