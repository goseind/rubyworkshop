{
 "cells": [
  {
   "cell_type": "markdown",
   "metadata": {},
   "source": [
    "# Aufgabe 1 - Klassen & Methoden\n",
    "\n",
    "Erstellen Sie eine Klasse \"*Car*\" mit den Attributen Modell, PS und Farbe.\n",
    "\n",
    "Implementieren Sie innerhalb der Klasse \"*Car*\" die Methode \"*details*\", welche das Modell, die Farbe und die PS des Autos nach folgendem Schema in der Konsole ausgeben soll.\n",
    "\n",
    "> \"Bei dem Auto handelt es sich um einen *\\<model>* mit *\\<ps>* PS in der Farbe *\\<colour>*.\"\n",
    "\n",
    "Erstellen Sie zu diesem Zweck eine Instanz der Klasse Car und rufen Sie die Methode Details auf."
   ]
  },
  {
   "cell_type": "code",
   "execution_count": 1,
   "metadata": {},
   "outputs": [],
   "source": [
    "# your code here"
   ]
  },
  {
   "cell_type": "markdown",
   "metadata": {},
   "source": [
    "# Aufgabe 2 - Vererbung\n",
    "\n",
    "Erstellen Sie eine Klasse \"*Plant*\" und eine Klasse \"*Tree*\". \\\n",
    "\\\n",
    "Die Klasse Plant kann mit einem Namen initialisiert werden, der über eine get-Methode ausgelesen werden kann. \\\n",
    "Zusätzlich dazu besitzt die Klasse Plant eine Methode \"*naming*\", die den Namen der Instanz als String in folgender Form zurückgibt.\n",
    "> \"Die Pflanze trägt den Namen *\\<name>*.\"\n",
    "\n",
    "Die Klasse Tree erbt den Namen der Klasse Plant und besitzt zudem ein weiteres Attribut \"has_needles\", \\\n",
    "welches boolesch angeben soll, ob ein Baum Nadelblätter besitzt oder nicht. \\\n",
    "\\\n",
    "Erweitern Sie die Klasse Tree durch die Methode \"*grow*\", achten Sie dabei auf die Möglichkeit denselben Code auch in anderen Klassen zu verwenden, \\\n",
    "die gegebenenfalls unterschiedliche Elternklassen haben. Die Methode soll dabei die Höhe der Pflanze nach folgendem Schema berechnen und zurückgeben:\n",
    "> Höhe = Wachstumsrate_proJahr + Höhe \\\n",
    "> \\\n",
    "> Werte der Variablen:\n",
    "> - Wachstumsrate_proJahr = 1m\n",
    "> - Höhe = 0m\n",
    "\n",
    "Abschließend erstellen Sie bitte eine Instanz der Klasse Tree, geben dessen Namen mit der dafür vorgesehenen Methode naming aus und lassen ihn zweimal wachsen. Die Höhe des Baums geben Sie anschließend bitte in der Konsole aus."
   ]
  },
  {
   "cell_type": "code",
   "execution_count": 2,
   "metadata": {},
   "outputs": [],
   "source": [
    "# your code here"
   ]
  }
 ],
 "metadata": {
  "kernelspec": {
   "display_name": "Ruby 2.7.0",
   "language": "ruby",
   "name": "ruby"
  },
  "language_info": {
   "file_extension": ".rb",
   "mimetype": "application/x-ruby",
   "name": "ruby",
   "version": "2.7.0"
  }
 },
 "nbformat": 4,
 "nbformat_minor": 4
}
