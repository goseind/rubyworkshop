{
 "cells": [
  {
   "cell_type": "markdown",
   "metadata": {},
   "source": [
    "# Übungen Encapsulation, Getter & Setter\n"
   ]
  },
  {
   "cell_type": "markdown",
   "metadata": {},
   "source": [
    "## Übung Visibility Rules\n",
    "Mit dieser Aufgabe übst du die Möglichkeiten und Unterschiede der Encapsulation in Ruby.\n",
    "\n",
    "1. Erstelle eine Klasse und nenne diese \"Student\". Erstelle in dieser Klasse je eine public, private und protected Methode, insgesamt also 3 Methoden. Die Methoden selbst sollen eine einfache Textausgabe mit der Info der gewählten Verkapselung erhalten (also z. B. \"Das ist eine public Methode\". Denk bei der Erstellung an die jeweils benötigten Schlüsselwörter.\n",
    "2. Erstelle nun zunächst ein neues Objekt der Klasse. Versuche mit diesem Objekt die jeweiligen Methoden aufzurufen."
   ]
  },
  {
   "cell_type": "code",
   "execution_count": 1,
   "metadata": {},
   "outputs": [],
   "source": [
    "# code"
   ]
  },
  {
   "cell_type": "markdown",
   "metadata": {},
   "source": [
    "Was stellst du fest?"
   ]
  },
  {
   "cell_type": "raw",
   "metadata": {},
   "source": []
  },
  {
   "cell_type": "markdown",
   "metadata": {},
   "source": [
    "3. Kopiere den bisherigen Code der Klasse (nicht der Objekterstellung und Methodenaufrufe) und füge ihn in das nächste Codefeld ein.\n",
    "4. Füge nun eine weitere (public) Methode hinzu, welche die anderen drei Methoden aufruft. \n",
    "5. Erstelle ein Objekt der Klasse und rufe die soeben erstellte Methode auf."
   ]
  },
  {
   "cell_type": "code",
   "execution_count": 2,
   "metadata": {},
   "outputs": [],
   "source": [
    "# code"
   ]
  },
  {
   "cell_type": "markdown",
   "metadata": {},
   "source": [
    "Welche Unterschiede erkennst du?"
   ]
  },
  {
   "cell_type": "raw",
   "metadata": {},
   "source": []
  },
  {
   "cell_type": "markdown",
   "metadata": {},
   "source": [
    "6. Kopiere erneut den bisherigen Code (diesmal inklusive der Obkekterstellung und des Methodenaufrufes) und füge ihn in das nächste Codefeld ein.\n",
    "7. In der Methode, welche die anderen Methoden aufruft, füge nun das Schlüsselwort self vor den jeweiligen Methodenaufruf."
   ]
  },
  {
   "cell_type": "code",
   "execution_count": null,
   "metadata": {},
   "outputs": [],
   "source": [
    "# code"
   ]
  },
  {
   "cell_type": "markdown",
   "metadata": {},
   "source": [
    "Welche Unterschiede erkennst du, wenn du nun die Methode aufrufst?"
   ]
  },
  {
   "cell_type": "raw",
   "metadata": {},
   "source": []
  },
  {
   "cell_type": "markdown",
   "metadata": {},
   "source": [
    "## Übung Getter & Setter\n",
    "Mit dieser Übung vertiefst du deine Kenntnisse zu Getter & Setter in Ruby.\n",
    "\n",
    "1. Erstelle insgesamt 3 Klassen: User, Company und Department.\n",
    "2. Füge folgende attr_accessor und Initialisierungen hinzu:\n",
    "    * User: name, address, department - name, address, department\n",
    "    * Company: name, url, department - name, url als URI.parse(url)\n",
    "    * Department: name, users - name\n",
    "3. Erstelle eine Company mit dem Konstruktor, z. B. mit dem Name \"HS Mannheim\" und der url \"www.hs-mannheim.de\"\n",
    "4. Erstelle zwei Abteilungen mit unterschiedlichen, beliebigem Name.\n",
    "5. Erstelle mind. 2 User. Bei der Erstellung des Users trage eine der zuvor erstellten Abteilungen ein.\n",
    "6. Ordne nun der Company die erstellten Abteilungen zu.\n",
    "\n",
    "Nun wollen wir den Use Case betrachten, dass ein Unternehmen eine Liste über alle User erhalten möchte. Das Unternehmen hat bereits Zugriff auf die Departments.\n",
    "\n",
    "7. Erstelle eine Methode, die über alle User je Deparment durch iteriert. \n",
    "\n",
    "Hierbei ergibt sich folgendes Problem. Wir erhalten ein Array mit Arrays. Ruby liefert hierfür die .flatten Methode. Diese Methode erstellt aus allen Items ein Ein-dimensionales Array.\n",
    "\n",
    "8. Füge dahier .flatten der Methode hinzu. \n",
    "\n",
    "Die Deparment Klasse besitzt einen accessor für :users. Dies kann jedoch nil sein und dementsprechend bei der Ausgabe einen Fehler verursachen. Um diesen Fehler abzufangen, passen wir die Initialiserung an, indem wir bei Objekt Generierung ein leeres Users-Array erstellen."
   ]
  },
  {
   "cell_type": "code",
   "execution_count": null,
   "metadata": {},
   "outputs": [],
   "source": []
  }
 ],
 "metadata": {
  "kernelspec": {
   "display_name": "Ruby 3.0.2",
   "language": "ruby",
   "name": "ruby"
  },
  "language_info": {
   "file_extension": ".rb",
   "mimetype": "application/x-ruby",
   "name": "ruby",
   "version": "3.0.2"
  }
 },
 "nbformat": 4,
 "nbformat_minor": 4
}
