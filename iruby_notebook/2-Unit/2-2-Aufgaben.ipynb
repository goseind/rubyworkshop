{
 "cells": [
  {
   "cell_type": "markdown",
   "metadata": {},
   "source": [
    "# 2-2-Aufgaben"
   ]
  },
  {
   "cell_type": "markdown",
   "metadata": {},
   "source": [
    "## Übung Getter & Setter\n",
    "Mit dieser Übung vertiefst du deine Kenntnisse zu Getter & Setter in Ruby.\n",
    "\n",
    "1. Erstelle insgesamt 3 Klassen: User, Company und Department.\n",
    "2. Füge folgende attr_accessor und Initialisierungen hinzu:\n",
    "    * User: name, address, department - name, address, department\n",
    "    * Company: name, url, department - name, url als URI.parse(url)\n",
    "    * Department: name, users - name\n",
    "3. Erstelle eine Company mit dem Konstruktor, z. B. mit dem Namen \"HS Mannheim\" und der url \"www.hs-mannheim.de\"\n",
    "4. Erstelle zwei Abteilungen mit unterschiedlichen, beliebigem Name.\n",
    "5. Erstelle mind. 2 User. Bei der Erstellung des Users trage eine der zuvor erstellten Abteilungen ein.\n",
    "6. Ordne nun der Company die erstellten Abteilungen zu.\n",
    "\n",
    "Nun wollen wir den Use Case betrachten, dass ein Unternehmen eine Liste über alle User erhalten möchte. Das Unternehmen hat bereits Zugriff auf die Departments.\n",
    "\n",
    "7. Erstelle eine Methode, die über alle User je Deparment durch iteriert. \n",
    "\n",
    "Hierbei ergibt sich folgendes Problem. Wir erhalten ein Array mit Arrays. Ruby liefert hierfür die .flatten Methode. Diese Methode erstellt aus allen Items ein Ein-dimensionales Array.\n",
    "\n",
    "8. Füge dahier .flatten der Methode hinzu. \n",
    "\n",
    "Die Department Klasse besitzt einen accessor für :users. Dies kann jedoch nil sein und dementsprechend bei der Ausgabe einen Fehler verursachen. Um diesen Fehler abzufangen, passen wir die Initialisierung an, indem wir bei Objekt Generierung ein leeres Users-Array erstellen.\n",
    "\n",
    "9. Passe nun noch das Verhalten der User Klasse an, indem du @department.users << self hinzufügst.\n",
    "10. Gebe dir deine Company Users mit der print Funktion aus."
   ]
  },
  {
   "cell_type": "code",
   "execution_count": null,
   "metadata": {},
   "outputs": [],
   "source": []
  },
  {
   "cell_type": "markdown",
   "metadata": {},
   "source": [
    "## Übung URL\n",
    "Mit dieser Aufgabe übst du die Möglichkeiten und Unterschiede von Klassen Methoden und Variablen in Ruby.\n",
    "\n",
    "1. Erstelle eine Klasse mit dem Name SocialShare.\n",
    "2. Füge dieser Klasse die Klassenvariable platforms hinzu. Verwende hierfür @@. Die Klassenvariable soll einen Hash von Key-Value-Paaren enthalten, welche die verschiedenen URL Share Vorlagen enthalten. Jede Vorlage erhält dabei eine spezielle Ruby-Syntax zum Ersetzen von Teilen eines Strings (named placement). Die Syntax hierfür lautet: %{var}. In unserem Fall verwenden wir: %{url}, %{title} und %{summary}. Entsprechend erstellen wir folgende Key-Value-Paare:\n",
    "    * facebook: \"https://www.facebook.com/share/sharer.php?u=%{url}\",\n",
    "    * twitter: \"https://twitter.com/intent/tweet?text=%{url}?%{title}\",\n",
    "    * linkedin: \"http://www.linkedin.com/shareArticle?mini=true&url=%{url}&title=%{title}&summary=%{summary}\"\n",
    "3. Als nächstes erstellen wir die Initialisierungsmethode, welche folgende Argumente benötigit: platform, title, url, summary=\"\" - Innerhalb der Methode trage folgendes ein: \n",
    "    * @platform = platform.to_sym\n",
    "    * @share_url = url\n",
    "    * @title = title\n",
    "    * @summary = summary\n",
    "4. Als nächstes erstellen wir die Methoden zum generieren einer URL - generate_url. Füge folgenden Inhalt in die Methode ein:\n",
    "    * @@platforms[@platform] % {title: @title, url: @share_url, summary: @summary}\n",
    "5. Nun erstellen wir noch eine Methode, um die Url zu lesen. Dazu trage in diese Methode folgendes ein:\n",
    "    * @url  ||= generate_url\n",
    "6. Jetzt erstellen wir eine Klassenmethode mit dem Schlüsselwort self: self.url Diese Methode benötigt die gleichen Argumente wie unsere Initialisierungsmethode. Der Inhalt für diese lautet:\n",
    "    * new(platform, title, url, summary).url\n",
    "7. Um das ganze nun testen zu können deklarieren wir außerhalb der Klasse die benötigten Attribute z. B. so:\n",
    "    * platform = \"facebook\" (oder twitter, linkedin)\n",
    "    * title = \"Informatikworkshop\"\n",
    "    * summary = \"IWS\"\n",
    "8. Rufe nun diese Methode auf und übergebe die notwendigen Argumente.\n",
    "9. Neben der Möglichkeit einzelne Links erstellen zu können, wollen wir nun noch eine Klassenmethode erstellen, welche alle drei Links erstellt. Diese schaut wie folgt aus:"
   ]
  },
  {
   "cell_type": "code",
   "execution_count": null,
   "metadata": {},
   "outputs": [],
   "source": [
    "def self.get_links_for_all(title, url, summary)\n",
    "    @@platforms.keys.map do |platform|\n",
    "        url(platform, title, url, summary)\n",
    "    end\n",
    "end"
   ]
  },
  {
   "cell_type": "markdown",
   "metadata": {},
   "source": [
    "10. Rufe nun auch diese erstellte Methode auf."
   ]
  },
  {
   "cell_type": "code",
   "execution_count": null,
   "metadata": {},
   "outputs": [],
   "source": [
    "# hier ist Platz für deinen Code"
   ]
  }
 ],
 "metadata": {
  "kernelspec": {
   "display_name": "Ruby 2.7.0",
   "language": "ruby",
   "name": "ruby"
  },
  "language_info": {
   "file_extension": ".rb",
   "mimetype": "application/x-ruby",
   "name": "ruby",
   "version": "2.7.0"
  }
 },
 "nbformat": 4,
 "nbformat_minor": 4
}
