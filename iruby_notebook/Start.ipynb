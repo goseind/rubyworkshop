{
 "cells": [
  {
   "cell_type": "markdown",
   "id": "5cb1412c-d9e0-4622-b30e-b7933dad9f67",
   "metadata": {},
   "source": [
    "# Ruby Workshop\n",
    "\n",
    "Hochschule Mannheim\n",
    "\n",
    "mybinder Link: https://mybinder.org/v2/gh/otiofrui/rubyworkshop/main\n",
    "\n",
    "\n",
    "## Einleitung\n",
    "Viele der folgenden Dinge sind sehr ähnlich zu anderen Programmiersprachen, dennoch weißt Ruby einige Besonderheiten auf, die wir hier besonders hervorheben wollen."
   ]
  },
  {
   "cell_type": "code",
   "execution_count": null,
   "id": "1e40f1b6-df27-4e23-8dbe-5a3faef3b8f2",
   "metadata": {
    "tags": []
   },
   "outputs": [],
   "source": [
    "import os, time, datetime\n",
    "import multiprocessing\n",
    "\n",
    "SESSION_LENGTH = 300 # in minutes\n",
    "USED_TOKEN = multiprocessing.Value('i', 0) # a global variable. makes sure we call the dummy worker only once\n",
    "\n",
    "def clock():\n",
    "    current_time = datetime.datetime.utcnow() + datetime.timedelta(hours=1)\n",
    "    return current_time.strftime('%X') \n",
    "\n",
    "def dummy_worker():\n",
    "    if USED_TOKEN.value:\n",
    "        print(\"Sie können eine Sitzung nur einmal offen halten.\")\n",
    "    else:\n",
    "        # makes sure the dummy woker is called only once\n",
    "        USED_TOKEN.value = 1 \n",
    "        # warn the user that they cannot run twice\n",
    "        print(str(SESSION_LENGTH) + \"-minütige Sitzung wurde um \" + clock() + \" gestartet. Bitte nicht unterbrechen oder ein zweites Mal starten.\")\n",
    "        # parameters of the pauses\n",
    "        pause = 5\n",
    "        chrono = 0\n",
    "        nb_sleeps = int(SESSION_LENGTH/pause)\n",
    "        for i in range(nb_sleeps):\n",
    "            time.sleep(pause*60)\n",
    "            chrono = chrono + pause\n",
    "            print('Sitzung geöffnet seit: '+str(chrono)+' minuten', end=\"\\r\")\n",
    "        # final message    \n",
    "        print(str(SESSION_LENGTH) + \"-minütige Sitzung endet um \" + clock() + \".\")\n",
    "        print(\"Der Server wird nach 10 Minuten Inaktivität heruntergefahren.\")\n",
    "    return\n",
    "\n",
    "def start_session():\n",
    "    multiprocessing.Process(target=dummy_worker).start()\n",
    "    \n",
    "\n",
    "start_session()"
   ]
  }
 ],
 "metadata": {
  "kernelspec": {
   "display_name": "Python 3",
   "language": "python",
   "name": "python3"
  },
  "language_info": {
   "codemirror_mode": {
    "name": "ipython",
    "version": 3
   },
   "file_extension": ".py",
   "mimetype": "text/x-python",
   "name": "python",
   "nbconvert_exporter": "python",
   "pygments_lexer": "ipython3",
   "version": "3.7.8"
  }
 },
 "nbformat": 4,
 "nbformat_minor": 5
}
