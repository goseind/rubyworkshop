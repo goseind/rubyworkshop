{
 "cells": [
  {
   "cell_type": "markdown",
   "metadata": {},
   "source": [
    "## Test der Workshop Umgebung\n",
    "\n",
    "Führe hier das klassiche \"Hello, World\" in Ruby aus, um die Workshop Umgebung zu testen!"
   ]
  },
  {
   "cell_type": "code",
   "execution_count": null,
   "metadata": {},
   "outputs": [],
   "source": [
    "# Ruby Hello World\n",
    "\n",
    "puts \"Hello World\""
   ]
  },
  {
   "cell_type": "markdown",
   "metadata": {},
   "source": [
    "Rufe nun die *Interactive Ruby Shell (irb)* (wie vom Moderator gezeigt) auf und führe dort den nachfolgenden Code aus:"
   ]
  },
  {
   "cell_type": "code",
   "execution_count": null,
   "metadata": {},
   "outputs": [],
   "source": [
    "# Code zum Test der irb\n",
    "\n",
    "\"Hello World\""
   ]
  },
  {
   "cell_type": "markdown",
   "metadata": {},
   "source": [
    "Hat das funktioniert? \n",
    "\n",
    "**Perfekt, dann steht einem erfolgreichen Workshop nichts mehr im Wege!**"
   ]
  }
 ],
 "metadata": {
  "kernelspec": {
   "display_name": "Ruby 2.7.0",
   "language": "ruby",
   "name": "ruby"
  },
  "language_info": {
   "file_extension": ".rb",
   "mimetype": "application/x-ruby",
   "name": "ruby",
   "version": "2.7.0"
  },
  "orig_nbformat": 4
 },
 "nbformat": 4,
 "nbformat_minor": 2
}
