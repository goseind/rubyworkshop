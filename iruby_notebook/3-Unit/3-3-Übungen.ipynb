{
 "cells": [
  {
   "cell_type": "markdown",
   "source": [
    "# Übungen: Lambda"
   ],
   "metadata": {
    "collapsed": false
   }
  },
  {
   "cell_type": "markdown",
   "source": [
    "1. Schreibe ein Funktion, die ein 2 mal einen yield Aufruf macht, dazwischen soll eine weiterer String ausgegeben werden."
   ],
   "metadata": {
    "collapsed": false
   }
  },
  {
   "cell_type": "code",
   "execution_count": null,
   "outputs": [],
   "source": [
    "# your code here"
   ],
   "metadata": {
    "collapsed": false,
    "pycharm": {
     "name": "#%%\n"
    }
   }
  },
  {
   "cell_type": "markdown",
   "source": [
    "2. Schreibe eine Funktion die den Rückgabewert des yields ausgibt."
   ],
   "metadata": {
    "collapsed": false
   }
  },
  {
   "cell_type": "code",
   "execution_count": null,
   "outputs": [],
   "source": [
    "# your code here"
   ],
   "metadata": {
    "collapsed": false,
    "pycharm": {
     "name": "#%%\n"
    }
   }
  },
  {
   "cell_type": "markdown",
   "source": [
    "3. Schreibe eine Funktion, die ein yield mit einem Parameter aufruft."
   ],
   "metadata": {
    "collapsed": false
   }
  },
  {
   "cell_type": "code",
   "execution_count": null,
   "outputs": [],
   "source": [
    "# your code here"
   ],
   "metadata": {
    "collapsed": false,
    "pycharm": {
     "name": "#%%\n"
    }
   }
  },
  {
   "cell_type": "markdown",
   "source": [
    "4. Beim Definieren einer Methode und innerhalb der Methode soll yield mit 2 Parametern aufgerufen werden."
   ],
   "metadata": {
    "collapsed": false
   }
  },
  {
   "cell_type": "code",
   "execution_count": null,
   "outputs": [],
   "source": [
    "# your code here"
   ],
   "metadata": {
    "collapsed": false,
    "pycharm": {
     "name": "#%%\n"
    }
   }
  },
  {
   "cell_type": "markdown",
   "source": [
    "5. Wenn yield aufgerufen wird, benötigt diese Methode einen block.\n",
    "Schreibe eine Funktion die sowohl mit, als auch ohne Parameter funktioniert."
   ],
   "metadata": {
    "collapsed": false
   }
  },
  {
   "cell_type": "code",
   "execution_count": null,
   "outputs": [],
   "source": [
    "# your code here"
   ],
   "metadata": {
    "collapsed": false,
    "pycharm": {
     "name": "#%%\n"
    }
   }
  },
  {
   "cell_type": "markdown",
   "metadata": {
    "id": "HW_UBJF9uwQ7"
   },
   "source": [
    "# Übungen: Lambda"
   ]
  },
  {
   "cell_type": "markdown",
   "metadata": {
    "id": "9r6YA9OTwWzv"
   },
   "source": [
    "1. Schreibe eine Hello-Funktion mit einem Lambda, das einen Parameter (name) übergeben bekommt.\n",
    "Wird kein Parameter übergeben, soll \"Hello World\" ausgegeben werden."
   ]
  },
  {
   "cell_type": "code",
   "execution_count": null,
   "metadata": {
    "id": "lWn9tHm3xmIo"
   },
   "outputs": [],
   "source": [
    "# your code here"
   ]
  },
  {
   "cell_type": "markdown",
   "metadata": {
    "id": "9r6YA9OTwWzv"
   },
   "source": [
    "2. Schreibe eine Funktion, die ein Lambda und einen Parameter Übergeben bekommt.\n",
    "Der Parameter wird an das Lambda übergeben und das Ergebnis soll ausgegeben werden."
   ]
  },
  {
   "cell_type": "code",
   "execution_count": null,
   "metadata": {
    "id": "lWn9tHm3xmIo"
   },
   "outputs": [],
   "source": [
    "# your code here"
   ]
  },
  {
   "cell_type": "markdown",
   "metadata": {
    "id": "9r6YA9OTwWzv"
   },
   "source": [
    "Schreibe eine Funktion, die ein Lambda erstellt, das den Parameter überprüft und \"OK\" oder \"N/A\" zurückgibt."
   ]
  },
  {
   "cell_type": "code",
   "execution_count": null,
   "metadata": {
    "id": "lWn9tHm3xmIo"
   },
   "outputs": [],
   "source": [
    "# your code here"
   ]
  }
 ],
 "metadata": {
  "colab": {
   "collapsed_sections": [],
   "name": "Ruby Lambda.ipynb",
   "provenance": []
  },
  "kernelspec": {
   "display_name": "Python 3",
   "name": "python3"
  },
  "language_info": {
   "name": "python"
  }
 },
 "nbformat": 4,
 "nbformat_minor": 0
}