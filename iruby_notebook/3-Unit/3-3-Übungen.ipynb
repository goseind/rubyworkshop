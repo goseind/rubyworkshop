{
 "cells": [
  {
   "cell_type": "markdown",
   "source": [
    "# Übungen: Yields"
   ],
   "metadata": {
    "collapsed": false
   }
  },
  {
   "cell_type": "markdown",
   "source": [
    "1. Schreibe ein Funktion, die ein 2 mal einen yield Aufruf macht, dazwischen soll eine weiterer String ausgegeben werden."
   ],
   "metadata": {
    "collapsed": false
   }
  },
  {
   "cell_type": "code",
   "execution_count": null,
   "outputs": [],
   "source": [
    "# This should be called\n",
    "call_twice {puts \"This is a block\"}"
   ],
   "metadata": {
    "collapsed": false,
    "pycharm": {
     "name": "#%%\n"
    }
   }
  },
  {
   "cell_type": "code",
   "execution_count": null,
   "outputs": [],
   "source": [
    "# your code here"
   ],
   "metadata": {
    "collapsed": false,
    "pycharm": {
     "name": "#%%\n"
    }
   }
  },
  {
   "cell_type": "markdown",
   "source": [
    "2. Schreibe eine Funktion die den Rückgabewert des yields ausgibt."
   ],
   "metadata": {
    "collapsed": false
   }
  },
  {
   "cell_type": "code",
   "execution_count": null,
   "outputs": [],
   "source": [
    "# This should be called\n",
    "yield_with_return_value { \"Hello World!\" }"
   ],
   "metadata": {
    "collapsed": false,
    "pycharm": {
     "name": "#%%\n"
    }
   }
  },
  {
   "cell_type": "code",
   "execution_count": null,
   "outputs": [],
   "source": [
    "# your code here"
   ],
   "metadata": {
    "collapsed": false,
    "pycharm": {
     "name": "#%%\n"
    }
   }
  },
  {
   "cell_type": "markdown",
   "source": [
    "3. Schreibe eine Funktion, die ein yield mit einem Parameter aufruft."
   ],
   "metadata": {
    "collapsed": false
   }
  },
  {
   "cell_type": "code",
   "execution_count": null,
   "outputs": [],
   "source": [
    "# This should be called\n",
    "calc {|i| puts \"calc #{i}\"}"
   ],
   "metadata": {
    "collapsed": false,
    "pycharm": {
     "name": "#%%\n"
    }
   }
  },
  {
   "cell_type": "code",
   "execution_count": null,
   "outputs": [],
   "source": [
    "# your code here"
   ],
   "metadata": {
    "collapsed": false,
    "pycharm": {
     "name": "#%%\n"
    }
   }
  },
  {
   "cell_type": "markdown",
   "source": [
    "4. Beim Definieren einer Methode und innerhalb der Methode soll yield mit 2 Parametern aufgerufen werden."
   ],
   "metadata": {
    "collapsed": false
   }
  },
  {
   "cell_type": "code",
   "execution_count": null,
   "outputs": [],
   "source": [
    "# This should be called\n",
    "puts \"The sum of the two numbers is #{arithmetic(8, 2) { |a, b| a + b }}\""
   ],
   "metadata": {
    "collapsed": false,
    "pycharm": {
     "name": "#%%\n"
    }
   }
  },
  {
   "cell_type": "code",
   "execution_count": null,
   "outputs": [],
   "source": [
    "# your code here"
   ],
   "metadata": {
    "collapsed": false,
    "pycharm": {
     "name": "#%%\n"
    }
   }
  },
  {
   "cell_type": "markdown",
   "source": [
    "5. Wenn yield aufgerufen wird, benötigt diese Methode einen block.\n",
    "Schreibe eine Funktion die sowohl mit, als auch ohne Parameter funktioniert."
   ],
   "metadata": {
    "collapsed": false
   }
  },
  {
   "cell_type": "code",
   "execution_count": null,
   "outputs": [],
   "source": [
    "# This should be called\n",
    "optional_block\n",
    "optional_block { puts 'optional block' }"
   ],
   "metadata": {
    "collapsed": false,
    "pycharm": {
     "name": "#%%\n"
    }
   }
  },
  {
   "cell_type": "code",
   "execution_count": null,
   "outputs": [],
   "source": [
    "# your code here"
   ],
   "metadata": {
    "collapsed": false,
    "pycharm": {
     "name": "#%%\n"
    }
   }
  },
  {
   "cell_type": "markdown",
   "metadata": {
    "id": "HW_UBJF9uwQ7"
   },
   "source": [
    "# Übungen: Lambda"
   ]
  },
  {
   "cell_type": "markdown",
   "metadata": {
    "id": "9r6YA9OTwWzv"
   },
   "source": [
    "1. Schreibe eine Hello-Funktion mit einem Lambda, das einen Parameter (name) übergeben bekommt.\n",
    "Wird kein Parameter übergeben, soll \"Hello World\" ausgegeben werden."
   ]
  },
  {
   "cell_type": "code",
   "execution_count": null,
   "outputs": [],
   "source": [
    "# This should be called\n",
    "lambda_with_args.call()\n",
    "lambda_with_args.call(\"Workshop\")"
   ],
   "metadata": {
    "collapsed": false,
    "pycharm": {
     "name": "#%%\n"
    }
   }
  },
  {
   "cell_type": "code",
   "execution_count": null,
   "metadata": {
    "id": "lWn9tHm3xmIo"
   },
   "outputs": [],
   "source": [
    "# your code here"
   ]
  },
  {
   "cell_type": "markdown",
   "metadata": {
    "id": "9r6YA9OTwWzv"
   },
   "source": [
    "2. Schreibe eine Funktion, die ein Lambda und einen Parameter Übergeben bekommt.\n",
    "Der Parameter wird an das Lambda übergeben und das Ergebnis soll ausgegeben werden."
   ]
  },
  {
   "cell_type": "code",
   "execution_count": null,
   "outputs": [],
   "source": [
    "# This should be called\n",
    "using_lambda_with_functions(add_10, 10)\n",
    "using_lambda_with_functions(multiply_2, 20)"
   ],
   "metadata": {
    "collapsed": false,
    "pycharm": {
     "name": "#%%\n"
    }
   }
  },
  {
   "cell_type": "code",
   "execution_count": null,
   "metadata": {
    "id": "lWn9tHm3xmIo"
   },
   "outputs": [],
   "source": [
    "# your code here"
   ]
  },
  {
   "cell_type": "markdown",
   "metadata": {
    "id": "9r6YA9OTwWzv"
   },
   "source": [
    "Schreibe eine Funktion, die ein Lambda erstellt, das den Parameter überprüft und \"OK\" oder \"N/A\" zurückgibt."
   ]
  },
  {
   "cell_type": "code",
   "execution_count": null,
   "outputs": [],
   "source": [
    "# This should be called\n",
    "code_check = build_lambda()\n",
    "puts code_check[\"200\"]\n",
    "puts code_check[\"404\"]"
   ],
   "metadata": {
    "collapsed": false,
    "pycharm": {
     "name": "#%%\n"
    }
   }
  },
  {
   "cell_type": "code",
   "execution_count": null,
   "metadata": {
    "id": "lWn9tHm3xmIo"
   },
   "outputs": [],
   "source": [
    "# your code here"
   ]
  }
 ],
 "metadata": {
  "colab": {
   "collapsed_sections": [],
   "name": "Ruby Lambda.ipynb",
   "provenance": []
  },
  "kernelspec": {
   "display_name": "Python 3",
   "name": "python3"
  },
  "language_info": {
   "name": "python"
  }
 },
 "nbformat": 4,
 "nbformat_minor": 0
}
