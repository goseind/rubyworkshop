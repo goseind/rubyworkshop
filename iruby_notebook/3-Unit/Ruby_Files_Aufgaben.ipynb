{
  "nbformat": 4,
  "nbformat_minor": 0,
  "metadata": {
    "colab": {
      "name": "Ruby Files Aufgaben.ipynb",
      "provenance": [],
      "collapsed_sections": []
    },
    "kernelspec": {
      "name": "python3",
      "display_name": "Python 3"
    },
    "language_info": {
      "name": "python"
    }
  },
  "cells": [
    {
      "cell_type": "markdown",
      "source": [
        "# Aufgaben Dateien"
      ],
      "metadata": {
        "id": "Q3oONLr6VQFu"
      }
    },
    {
      "cell_type": "markdown",
      "source": [
        "1. Dateien erstellen und lesen\n",
        "\n",
        "> a) Erstelle ein Verzeichnis mit dem Namen \"Dateimanagement\".  \n",
        "\n",
        "> b) Erstelle darin ein Datei mit dem Namen \"First_File.txt\".  \n",
        "\n",
        "> c) Öffne die Datei und schaue, ob sie geöffnet ist.  \n",
        "\n",
        "> d) Beschreibe die Datei mit mindestens 3 Zeilen\n",
        "\n",
        "> e) Lese die Datei aus und achte darauf, dass...  \n",
        ">> e1) Jede Zeile einzeln.  \n",
        "e2) Die komplette Datei auf einmal ausgegeben wird.\n",
        "\n",
        "> f) Prüfe, ...\n",
        ">> f1) ob die Datei existiert.  \n",
        "f2) den Typ der Datei.  \n",
        "f3) den Typ des Ordners.  \n",
        "f4) die Größe der Datei"
      ],
      "metadata": {
        "id": "kzcoAvCOXxUc"
      }
    },
    {
      "cell_type": "code",
      "source": [
        "# code"
      ],
      "metadata": {
        "id": "yV0quggOW1wG"
      },
      "execution_count": null,
      "outputs": []
    }
  ]
}