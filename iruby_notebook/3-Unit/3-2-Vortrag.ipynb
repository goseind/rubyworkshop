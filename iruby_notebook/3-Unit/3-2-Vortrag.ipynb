{
 "cells": [
  {
   "cell_type": "markdown",
   "metadata": {},
   "source": [
    "# Themenblock 3 - Teil 2"
   ]
  },
  {
   "cell_type": "markdown",
   "metadata": {},
   "source": [
    "## Yield & Lambda"
   ]
  },
  {
   "cell_type": "markdown",
   "metadata": {},
   "source": [
    "Die Abschnitte enthalten jeweils eine kurze Zusammenfassung sowie die gezeigten Code Beispiele:\n",
    "\n",
    "1. Lambda\n",
    "2. Proc\n",
    "3. Yield\n",
    "4. Exclusive Block"
    ]
  },
  {
   "cell_type": "markdown",
   "metadata": {},
   "source": [
    "## Lambda"
   ]
  },
  {
   "cell_type": "markdown",
   "metadata": {},
   "source": [
 "Lambdas können mittles des Lambda Keywords `lambda` erstellt werden oder aber mit einem `->`.\n",
 "Ebenso können sie mit `{...}` oder mit `do...end` abgegrenzt werden.\n",
 "Das Lambda kann in eine Variable (say_something1, say_something2) gespeichert werden:\n",
 "\n",
 "```ruby\n",
 "say_something1 = -> do\n",
 "  puts `This is a lambda`",
 "end\n",
 "say_something1.call\n",
 "\n",
 "say_something2 = -> { puts `This is a lambda` }\n",
 "say_something2.call\n",
 "```\n",
 "\n",
 "Lambda mit Parameter:\n",
 "\n",
 "```ruby\n",
 "times_two = ->(x)",
 " { x * 2 }",
 "times_two.call(10)",
 "```\n",
 "\n",
 "Standard Wert:\n",
 "\n",
 "```ruby\n",
 "write_name = -> lambda {|name=`default`| puts name}",
 "write_name.call\n",
 "write_name.call(`Workshop`)\n",
 "```\n",
 "\n",
 "some text missing...\n"
   ]
  },
  {
   "cell_type": "markdown",
   "metadata": {},
   "source": [
    "## Proc"
   ]
  },
  {
   "cell_type": "markdown",
   "metadata": {},
   "source": [
 "Lambdas können auch als Procs geschrieben werden:\n",
 "\n",
 "```ruby\n",
 "my_lambda = lambda {|name| puts `lambda says hello ` + name.to_s }\n",
 "my_lambda.call(`to everyone!`)\n",
 "\n",
 "my_proc = Proc.new {|name| puts `proc says hello ` + name.to_s }\n",
 "my_lambda.call()\n",
 "my_lambda.call(`to everyone!`)\n",
 "my_lambda.call(`to you!`, `to me!`)\n",
 "```\n",
 "\n",
    "Some text missing ..."
   ]
  },
  {
   "cell_type": "markdown",
   "metadata": {},
   "source": [
    "## Lambda Beispiel"
   ]
  },
  {
   "cell_type": "markdown",
   "metadata": {},
   "source": [
    "Programm, das ein Lambda erstellt, welches Fehlercodes überprüft.\n",
 "\n",
 "```ruby\n",
 "def build_lambda(restricted_values)\n",
 "  my_hash = {}\n",
 "  my_lambda = lambda do |key|\n",
 "    if restricted_values.include? key\n",
 "      return `400`\n",
 "    else\n",
 "      return `200`\n",
 "    end​\n",
 "  end​\n",
 "  my_lambda\n",
 "end\n",
 "\n",
 "code_check = build_lambda([`401`, `404`])\n",
 "puts code_check[`404`]    # => 400\n",
 "puts code_check[`201`]    # => 200\n",
 "```\n",
 "\n",
    "Some text missing ..."
   ]
  },
  {
   "cell_type": "markdown",
   "metadata": {},
   "source": [
    "## Yield"
   ]
  },
  {
   "cell_type": "markdown",
   "metadata": {},
   "source": [
    "Eine yield-Funktion, die das Yield mehrmals aufruft:\n",
 "\n",
 "```ruby\n",
 "def print_twice\n",
    " yield\n",
    " yield\n",
 "end\n",
 "\n",
 "print_twice { puts \"Hello!\" }",
 "```\n",
 "\n",
 "Yield Aufruf mit Argumenten:\n",
 "\n",
 "```ruby\n",
 "def one_two_three\n",
    " yield 1\n",
    " yield 2\n",
    " yield 3\n",
 "end\n",
 "\n",
 "one_two_three { |number| puts number * 10 }\n",
 "```\n",
 "\n",
 "Yield Aufruf mit Überprüfung ob yield-Block übergeben wurde:\n",
 "\n",
 "```ruby\n",
 "def check_block\n",
 "  return `No block given` unless block_given?\n",
 "  yield\n",
 "end\n",
 "```\n",
 "\n",
 "Yield Aufruf nur wenn yield-Block übergeben wurde:\n",
 "\n",
 "```ruby\n",
 "def optional_block\n",
 "  yield if block_given?\n",
 "end\n",
 "```\n",
 "\n",
 "Some text missing ..."
   ]
  },
  {
   "cell_type": "markdown",
   "metadata": {},
   "source": [
    "## Exclusive Block"
   ]
  },
  {
   "cell_type": "markdown",
   "metadata": {},
   "source": [
    "titel missing ...\n",
 "\n",
 "```ruby\n",
 "def explicit_block(&block)\n",
 " block.call\n",
 "end\n",
 "\n",
 "explicit_block { puts `Explicit block called` }\n",
 "```\n",
 "\n",
 "Some text missing ..."
   ]
  },
  {
   "cell_type": "markdown",
   "metadata": {},
   "source": [
    "## Yield Beispiel"
   ]
  },
  {
   "cell_type": "markdown",
   "metadata": {},
   "source": [
 "Eigene Map Methode:\n",
 "\n",
 "```ruby\n",
 "class Array \n",
 " def my_map \n",
 "  return self.dup unless block_given? # Überprüfung des Block\n",
 "  ary = []  # temporäres Array\n",
 "  \n",
 "  # Iteration über alle Elemente der Elternklasse\n",
 "  self.each do |elem| \n",
 "   ary << yield(elem) # Push Element in Array\n",
 "  end\n",
 "  \n",
 "  ary # return Array\n",
 " end\n",
 "end\n",
 "\n",
 "array.my_map { |n| n + 2 }\n",
 "```\n",
 "\n",
 "Some text missing ..."
   ]
  }
 ],
 "metadata": {
  "language_info": {
   "name": "python"
  },
  "orig_nbformat": 4
 },
 "nbformat": 4,
 "nbformat_minor": 2
}