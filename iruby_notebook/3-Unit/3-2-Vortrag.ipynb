{
  "cells": [
    {
      "cell_type": "markdown",
      "metadata": {
        "id": "wo36cYZQHojC"
      },
      "source": [
        "# Themenblock 3 - Teil 2\n",
        "## Dont's und Do's"
      ]
    },
    {
      "cell_type": "markdown",
      "metadata": {
        "id": "il_BlqSgHwsv"
      },
      "source": [
        "**Dont**\n",
        "Variablen einfach updaten"
      ]
    },
    {
      "cell_type": "code",
      "execution_count": null,
      "metadata": {
        "id": "zSEZSuB5Iudw"
      },
      "outputs": [],
      "source": [
        "name = \"Kaiser Wilhelm\""
      ]
    },
    {
      "cell_type": "markdown",
      "metadata": {
        "id": "6vi0zjacIu54"
      },
      "source": [
        "**Do** Neue Variablen erstellen"
      ]
    },
    {
      "cell_type": "code",
      "execution_count": null,
      "metadata": {
        "id": "kmanNEWRIvvv"
      },
      "outputs": [],
      "source": [
        "new_name = \"Kaiser Wilhelm II\""
      ]
    },
    {
      "cell_type": "markdown",
      "metadata": {
        "id": "eiTGBlKoIN7R"
      },
      "source": [
        "\n",
        "\n",
        "---\n",
        "\n",
        "\n",
        "**Dont** Neue Elemente nicht einfach in Arrays hinzufügen"
      ]
    },
    {
      "cell_type": "code",
      "execution_count": null,
      "metadata": {
        "id": "6RmOczj1IVWB"
      },
      "outputs": [],
      "source": [
        "indexes = [1, 2, 3]\n",
        "indexes << 4\n",
        "# => [1, 2, 3, 4]"
      ]
    },
    {
      "cell_type": "markdown",
      "metadata": {
        "id": "spRx2W7GIbsm"
      },
      "source": [
        "**Do**"
      ]
    },
    {
      "cell_type": "code",
      "execution_count": null,
      "metadata": {
        "id": "14-kfTpiIfMC"
      },
      "outputs": [],
      "source": [
        "indexes = [1, 2, 3]\n",
        "all_indexes = indexes + [4]\n",
        "# => [1, 2, 3, 4]"
      ]
    },
    {
      "cell_type": "markdown",
      "metadata": {
        "id": "x1upT_5aJPe4"
      },
      "source": [
        "\n",
        "\n",
        "---\n",
        "\n",
        "**Dont** Hashes einfach updaten"
      ]
    },
    {
      "cell_type": "code",
      "execution_count": null,
      "metadata": {
        "id": "a752-FW4JRJo"
      },
      "outputs": [],
      "source": [
        "hash = { :a => 1, :b => 2 }\n",
        "hash[:c] = 3\n",
        "hash # => {:a=>1, :b=>2, :c=>3}"
      ]
    },
    {
      "cell_type": "markdown",
      "metadata": {
        "id": "vC9NavvxJRmN"
      },
      "source": [
        "**Do**"
      ]
    },
    {
      "cell_type": "code",
      "execution_count": null,
      "metadata": {
        "id": "JruADTpRJQFT"
      },
      "outputs": [],
      "source": [
        "hash = { :a => 1, :b => 2 }\n",
        "new_hash = hash.merge(:c => 3)\n",
        "# => {:a=>1, :b=>2, :c=>3}"
      ]
    },
    {
      "cell_type": "markdown",
      "metadata": {
        "id": "tlHpj9RJKSBo"
      },
      "source": [
        "\n",
        "\n",
        "---\n",
        "\n",
        "**Dont** Keine Ersetzungsmethoden verwenden"
      ]
    },
    {
      "cell_type": "code",
      "execution_count": null,
      "metadata": {
        "id": "0BjsSJGHKSBr"
      },
      "outputs": [],
      "source": [
        "string = \"hallo\"\n",
        "string.gsub!(/l/, 'z')\n",
        "# => \"hazzo\""
      ]
    },
    {
      "cell_type": "markdown",
      "metadata": {
        "id": "ZqDnmwJtKSBr"
      },
      "source": [
        "**Do**"
      ]
    },
    {
      "cell_type": "code",
      "execution_count": null,
      "metadata": {
        "id": "_EmMkWTrKSBr"
      },
      "outputs": [],
      "source": [
        "string = \"hallo\"\n",
        "new_string = string.gsub(/l/, 'z') \n",
        "# => \"hazzo\""
      ]
    },
    {
      "cell_type": "markdown",
      "metadata": {
        "id": "AdfRu-FNKS2k"
      },
      "source": [
        "\n",
        "\n",
        "---\n",
        "\n",
        "**Dont** Wie man Werte zusammenführt"
      ]
    },
    {
      "cell_type": "code",
      "execution_count": null,
      "metadata": {
        "id": "O8B2oZleKS2l"
      },
      "outputs": [],
      "source": [
        "output = []\n",
        "output << 1\n",
        "output << 2 if i_have_to_add_two\n",
        "output << 3"
      ]
    },
    {
      "cell_type": "markdown",
      "metadata": {
        "id": "W9hzlhn9KS2l"
      },
      "source": [
        "**Do**"
      ]
    },
    {
      "cell_type": "code",
      "execution_count": null,
      "metadata": {
        "id": "acHrB8ZuKS2m"
      },
      "outputs": [],
      "source": [
        "output = [1, (2 if i_have_to_add_two), 3].compact"
      ]
    },
    {
      "cell_type": "markdown",
      "metadata": {
        "id": "FCJjm9DTLXvd"
      },
      "source": [
        "## Blöcke"
      ]
    },
    {
      "cell_type": "markdown",
      "metadata": {
        "id": "0jNBUi0dKTRJ"
      },
      "source": [
        "---\n",
        "### map\n",
        "**Dont**"
      ]
    },
    {
      "cell_type": "code",
      "execution_count": null,
      "metadata": {
        "id": "KyYkDKtEKTRK"
      },
      "outputs": [],
      "source": [
        "dogs = []\n",
        "[\"milu\", \"gustav\"].each { |name|\n",
        "  dogs << name.upcase\n",
        "}\n",
        "dogs # => [\"MILU\", \"GUSTAV\"]"
      ]
    },
    {
      "cell_type": "markdown",
      "metadata": {
        "id": "OfgRcJNAKTRK"
      },
      "source": [
        "**Do**"
      ]
    },
    {
      "cell_type": "code",
      "execution_count": null,
      "metadata": {
        "id": "qRmHgPb0KTRL"
      },
      "outputs": [],
      "source": [
        "dogs = [\"milu\", \"gustav\"].map { |name|\n",
        "  name.upcase\n",
        "} \n",
        "# => [\"MILU\", \"GUSTAV\"]"
      ]
    },
    {
      "cell_type": "markdown",
      "metadata": {
        "id": "b7W7b8voLwJ8"
      },
      "source": [
        "---\n",
        "### select\n",
        "**Dont**"
      ]
    },
    {
      "cell_type": "code",
      "execution_count": null,
      "metadata": {
        "id": "sCkrfv5TLwKF"
      },
      "outputs": [],
      "source": [
        "dogs = []\n",
        "[\"milu\", \"gustav\"].each { |name|\n",
        "  if name.size == 4\n",
        "    dogs << name\n",
        "  end\n",
        "}\n",
        "dogs # => [\"milu\"]"
      ]
    },
    {
      "cell_type": "markdown",
      "metadata": {
        "id": "rQWdzz7_LwKF"
      },
      "source": [
        "**Do**"
      ]
    },
    {
      "cell_type": "code",
      "execution_count": null,
      "metadata": {
        "id": "G7acNFirLwKF"
      },
      "outputs": [],
      "source": [
        "dogs = [\"milu\", \"gustav\"].select { |name|\n",
        "  name.size == 4\n",
        "}\n",
        "# => [\"milu\"]"
      ]
    },
    {
      "cell_type": "markdown",
      "metadata": {
        "id": "ib0LqVmQLwsU"
      },
      "source": [
        "---\n",
        "### inject\n",
        "**Dont**"
      ]
    },
    {
      "cell_type": "code",
      "execution_count": null,
      "metadata": {
        "id": "HbzPbcMfLwsV"
      },
      "outputs": [],
      "source": [
        "length = 0\n",
        "[\"milu\", \"gustav\"].each { |dog_name|\n",
        "  length += dog_name.length\n",
        "}\n",
        "length # => 10"
      ]
    },
    {
      "cell_type": "markdown",
      "metadata": {
        "id": "TwROmCLlLwsV"
      },
      "source": [
        "**Do**"
      ]
    },
    {
      "cell_type": "code",
      "execution_count": null,
      "metadata": {
        "id": "8KIw9a1ULwsV"
      },
      "outputs": [],
      "source": [
        "length = [\"milu\", \"gustav\"].inject(0) { |accumulator, dog_name|\n",
        "  accumulator + dog_name.length\n",
        "} \n",
        "# => 10"
      ]
    },
    {
      "cell_type": "markdown",
      "metadata": {
        "id": "gTTmLDCTNa_G"
      },
      "source": [
        "Noch kürzer, da wir eine einfache Operation durchführen"
      ]
    },
    {
      "cell_type": "code",
      "execution_count": null,
      "metadata": {
        "id": "rBZKEYYcNfhw"
      },
      "outputs": [],
      "source": [
        "length = [\"milu\", \"gustav\"].map(&:length).inject(0, :+)\n",
        "# => 10"
      ]
    }
  ],
  "metadata": {
    "colab": {
      "collapsed_sections": [],
      "name": "Ruby Functional Slides",
      "provenance": []
    },
    "kernelspec": {
      "display_name": "Python 3",
      "name": "python3"
    },
    "language_info": {
      "name": "python"
    }
  },
  "nbformat": 4,
  "nbformat_minor": 0
}
