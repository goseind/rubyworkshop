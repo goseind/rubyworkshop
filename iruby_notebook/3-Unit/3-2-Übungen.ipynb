{
  "cells": [
    {
      "cell_type": "markdown",
      "metadata": {
        "id": "HW_UBJF9uwQ7"
      },
      "source": [
        "# Themenblock 3 - Teil 2\n",
        "# Übungen\n",
        "\n",
        "> Bei jeder Aufgabe soll sowohl eine imperative als auch funktionale Lösung angegeben werden."
      ]
    },
    {
      "cell_type": "markdown",
      "metadata": {
        "id": "9r6YA9OTwWzv"
      },
      "source": [
        "1. Gegeben ist eine Liste mit Namen.  \n",
        "a) In einem ersten Schritt sollen alle Personen mit 2 oder mehr Vornamen herausgefiltert werden  \n",
        "b) Im Anschluss sollen diese nach ihrem 2. Vornamen alphabetisch sortiert werden.  \n",
        "c) Welcher ist der längste Name davon?  \n",
        "d) Wie lange ist dieser?"
      ]
    },
    {
      "cell_type": "code",
      "execution_count": null,
      "metadata": {
        "id": "JzEbL_RHxsP8"
      },
      "outputs": [],
      "source": [
        "names = [\"Daniel Jacob Radcliffe\", \"Rupert Alexander Lloyd Grint\", \"Emma Charlotte Duerre Watson\", \"Bonnie Francesca Wright\", \"Matthew Lewis\", \"Margaret Natalie Smith\", \"Garry Oldman\", \"Ralph Fiennes\", \"Alan Rickman\"]"
      ]
    },
    {
      "cell_type": "code",
      "execution_count": null,
      "metadata": {
        "id": "lWn9tHm3xmIo"
      },
      "outputs": [],
      "source": [
        "# Imperativ\n",
        "# code"
      ]
    },
    {
      "cell_type": "code",
      "execution_count": null,
      "metadata": {
        "id": "KZhequ3hxmuN"
      },
      "outputs": [],
      "source": [
        "# Funktional\n",
        "# code"
      ]
    },
    {
      "cell_type": "markdown",
      "metadata": {
        "id": "mLuAd7Yl5Mt0"
      },
      "source": [
        "2. Was ist die Summe der ersten 10 natürlichen Zahlen, deren Quadrat durch 5 teilbar ist?"
      ]
    },
    {
      "cell_type": "code",
      "execution_count": null,
      "metadata": {
        "id": "WrSibck7upTa"
      },
      "outputs": [],
      "source": [
        "# Imperativ\n",
        "# code"
      ]
    },
    {
      "cell_type": "code",
      "execution_count": null,
      "metadata": {
        "id": "6U0BZBf0wSuB"
      },
      "outputs": [],
      "source": [
        "# Funktional\n",
        "# code"
      ]
    }
  ],
  "metadata": {
    "colab": {
      "collapsed_sections": [],
      "name": "Ruby Functional.ipynb",
      "provenance": []
    },
    "kernelspec": {
      "display_name": "Python 3",
      "name": "python3"
    },
    "language_info": {
      "name": "python"
    }
  },
  "nbformat": 4,
  "nbformat_minor": 0
}
