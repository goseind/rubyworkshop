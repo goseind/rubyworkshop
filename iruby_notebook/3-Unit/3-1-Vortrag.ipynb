{
  "cells": [
    {
      "cell_type": "markdown",
      "metadata": {
        "id": "P0Mt82y6OyG8"
      },
      "source": [
        "# Themenblock 3 - Teil 1"
      ]
    },
    {
      "cell_type": "markdown",
      "metadata": {
        "id": "BfXopQBXO6q0"
      },
      "source": [
        "## Dateien erstellen\n",
        "\n",
        "Verschiedene Dateimodi\n",
        "\n",
        "|Modus|Bedeutung|\n",
        "|:--|:--|\n",
        "|r|read only|\n",
        "|r+|read and write|\n",
        "|w|write only|\n",
        "|w+|write and read|\n",
        "|a|write only (Zeiger am Ende)|\n",
        "|a+|read and write (Zeiger am Ende)|\n",
        "|b|Binärer Deteimodus|\n"
      ]
    },
    {
      "cell_type": "code",
      "execution_count": null,
      "metadata": {
        "id": "zyN042-gOwIP"
      },
      "outputs": [],
      "source": [
        "File.open(\"dateiname.txt\", \"modus\")"
      ]
    },
    {
      "cell_type": "markdown",
      "metadata": {
        "id": "7LjUFYnrP0rN"
      },
      "source": [
        "## Dateien öffnen / schließen"
      ]
    },
    {
      "cell_type": "code",
      "execution_count": null,
      "metadata": {
        "id": "WZR_iO8PP4cG"
      },
      "outputs": [],
      "source": [
        "# Eine Datei öffnen\n",
        "file = File.open(\"dateiname.txt\")\n",
        "\n",
        "# Eine Datei mit bestimmten Modus öffnen\n",
        "file = File.open(\"dateiname.txt\", \"modus\")\n",
        "\n",
        "# Prüfen, ob die Datei gerade geöffnet ist\n",
        "file.closed?\n",
        "\n",
        "# Die Datei schließen\n",
        "file.close"
      ]
    },
    {
      "cell_type": "markdown",
      "metadata": {
        "id": "FcwOe4M9QiXO"
      },
      "source": [
        "## Dateien umbennen"
      ]
    },
    {
      "cell_type": "code",
      "execution_count": null,
      "metadata": {
        "id": "KzPpE4TSQkoh"
      },
      "outputs": [],
      "source": [
        "# Eine Datei umbennen\n",
        "File.rename(\"alter_name.txt\", \"neuer_name.txt\")\n",
        "\n",
        "# Eine Datei löschen\n",
        "File.delete(\"dateiname.txt\")"
      ]
    },
    {
      "cell_type": "markdown",
      "metadata": {
        "id": "d3Yg1E3nQ-qB"
      },
      "source": [
        "## Informationen einer Datei auslesen"
      ]
    },
    {
      "cell_type": "code",
      "execution_count": null,
      "metadata": {
        "id": "fPebB9e6Q_Nj"
      },
      "outputs": [],
      "source": [
        "# Existiert die Datei?\n",
        "File.exists?(“dateiname.txt”)\n",
        "\n",
        "# Ist die Datei wirklich eine Datei?\n",
        "File.file?(“dateiname.txt”)\n",
        "\n",
        "# Ist die Datei ein Verzeichnis?\n",
        "File.directory?(“dateiname.txt”)\n",
        "\n",
        "# Ist die Datei lesbar?\n",
        "File.readable?(“dateiname.txt”)\n",
        "\n",
        "# Ist die Datei beschreibbar?\n",
        "File.writeable?(“dateiname.txt”)\n",
        "\n",
        "# Ist die Datei ausführbar?\n",
        "File.executable?(“dateiname.txt”)\n",
        "\n",
        "# Wie groß ist die Datei?\n",
        "File.size(“dateiname.txt”)\n",
        "\n",
        "# Ist die Datei leer?\n",
        "File.zero?(“dateiname.txt”)\n",
        "\n",
        "# Welchen Typ hat die Datei?\n",
        "File.ftype(“dateiname.txt”)\n",
        "\n",
        "# Wann wurde die Datei erstellt?\n",
        "File.ctime(“dateiname.txt”)\n",
        "\n",
        "# Wann wurde die Datei zuletzt verändert?\n",
        "File.mtime(“dateiname.txt”)\n",
        "\n",
        "# Wann wurde auf die Datei zugegriffen?\n",
        "File.atime(“dateiname.txt”)"
      ]
    },
    {
      "cell_type": "markdown",
      "metadata": {
        "id": "vg73Szu_Rnkz"
      },
      "source": [
        "## Dateien lesen / schreiben"
      ]
    },
    {
      "cell_type": "code",
      "execution_count": null,
      "metadata": {
        "id": "i5Tf3d1gRz-3"
      },
      "outputs": [],
      "source": [
        "# Ganzen Inhalt der Datei auslesen (Zeilen werden durch \\n getrennt)\n",
        "file_data = file.read\n",
        "\n",
        "# Eine Zeile nach der anderen auslesen (wdh. Aufrufen notwendig)\n",
        "file_data = file.readline\n",
        "\n",
        "# Ganze Datei (Zeilen als Array)\n",
        "file_data = file.readlines\n",
        "\n",
        "# Gleiche wie file.read\n",
        "file_data = File.read(“dateiname.txt”)\n",
        "\n",
        "# Ganze Datei (Wörter als Array)\n",
        "file_data = File.read(“dateiname.txt”).split\n",
        "\n",
        "# Datei Zeile für Zeile iterieren\n",
        "File.foreach(\"dateiname.txt\") { |line|\n",
        "    puts line\n",
        "}\n",
        "\n",
        "\n",
        "\n",
        "# Eine Zeile einfügen\n",
        "file.puts(\"Das ist eine Testzeile\")\n",
        "\n",
        "# Zurück an den Anfang der Datei springen\n",
        "file.rewind"
      ]
    }
  ],
  "metadata": {
    "colab": {
      "collapsed_sections": [],
      "name": "Ruby Files Slides.ipynb",
      "provenance": []
    },
    "kernelspec": {
      "display_name": "Python 3",
      "name": "python3"
    },
    "language_info": {
      "name": "python"
    }
  },
  "nbformat": 4,
  "nbformat_minor": 0
}
