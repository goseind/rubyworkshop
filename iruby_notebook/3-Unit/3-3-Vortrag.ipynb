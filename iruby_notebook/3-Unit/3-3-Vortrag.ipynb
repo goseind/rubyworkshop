{
 "cells": [
  {
   "cell_type": "markdown",
   "metadata": {},
   "source": [
    "# Themenblock 3 - Teil 3"
   ]
  },
  {
   "cell_type": "markdown",
   "metadata": {},
   "source": [
    "## Yield & Lambda"
   ]
  },
  {
   "cell_type": "markdown",
   "metadata": {},
   "source": [
    "Die Abschnitte enthalten jeweils eine kurze Zusammenfassung sowie die gezeigten Code Beispiele:\n",
    "\n",
    "1. Lambda\n",
    "2. Proc\n",
    "3. Yield\n",
    "4. Exclusive Block"
   ]
  },
  {
   "cell_type": "markdown",
   "metadata": {},
   "source": [
    "## Lambda"
   ]
  },
  {
   "cell_type": "markdown",
   "metadata": {},
   "source": [
    "Lambdas können mittles des Lambda Keywords `lambda` erstellt werden oder aber mit einem `->`.\n",
    "Ebenso können sie mit `{...}` oder mit `do...end` abgegrenzt werden.\n",
    "Das Lambda kann in eine Variable (say_something1, say_something2) gespeichert werden:"
   ]
  },
  {
   "cell_type": "code",
   "source": [
    "say_something1 = lambda do\n",
    "  puts \"This is a lambda\"\n",
    "end\n",
    "say_something1.call\n",
    "\n",
    "say_something2 = -> { puts \"This is a lambda\" }\n",
    "say_something2.call"
   ],
   "metadata": {
    "collapsed": false,
    "pycharm": {
     "name": "#%% code\n"
    }
   },
   "execution_count": null,
   "outputs": []
  },
  {
   "cell_type": "markdown",
   "source": [
    "Lambda mit Parameter:"
   ],
   "metadata": {
    "collapsed": false
   }
  },
  {
   "cell_type": "code",
   "execution_count": null,
   "outputs": [],
   "source": [
    "times_two = ->(x)\n",
    " { x * 2 }\n",
    "times_two.call(10)"
   ],
   "metadata": {
    "collapsed": false,
    "pycharm": {
     "name": "#%% code\n"
    }
   }
  },
  {
   "cell_type": "markdown",
   "source": [
    "Standard Wert:"
   ],
   "metadata": {
    "collapsed": false
   }
  },
  {
   "cell_type": "code",
   "execution_count": null,
   "outputs": [],
   "source": [
    "write_name = -> lambda {|name=\"default\"| puts name}\n",
    "write_name.call\n",
    "write_name.call(\"Workshop\")"
   ],
   "metadata": {
    "collapsed": false,
    "pycharm": {
     "name": "#%% code\n"
    }
   }
  },
  {
   "cell_type": "markdown",
   "metadata": {},
   "source": [
    "## Proc"
   ]
  },
  {
   "cell_type": "markdown",
   "metadata": {},
   "source": [
    "Lambdas können auch als Procs geschrieben werden:"
   ]
  },
  {
   "cell_type": "code",
   "execution_count": null,
   "outputs": [],
   "source": [
    "my_lambda = lambda {|name| puts \"lambda says hello \" + name.to_s }\n",
    "my_lambda.call(`to everyone!`)\n",
    "\n",
    "my_proc = Proc.new {|name| puts \"proc says hello \" + name.to_s }\n",
    "my_lambda.call()\n",
    "my_lambda.call(\"to everyone!\")\n",
    "my_lambda.call(\"to you!\", \"to me!\")"
   ],
   "metadata": {
    "collapsed": false,
    "pycharm": {
     "name": "#%% code\n"
    }
   }
  },
  {
   "cell_type": "markdown",
   "metadata": {},
   "source": [
    "## Lambda Beispiel"
   ]
  },
  {
   "cell_type": "markdown",
   "metadata": {},
   "source": [
    "Programm, das ein Lambda erstellt, welches Fehlercodes überprüft."
   ]
  },
  {
   "cell_type": "code",
   "execution_count": null,
   "outputs": [],
   "source": [
    "def build_lambda(restricted_values)\n",
    "  my_hash = {}\n",
    "  my_lambda = lambda do |key|\n",
    "    if restricted_values.include? key\n",
    "      return \"400\"\n",
    "    else\n",
    "      return \"200\"\n",
    "    end\n",
    "  end\n",
    "  my_lambda\n",
    "end\n",
    "\n",
    "code_check = build_lambda([\"401\", \"404\"])\n",
    "puts code_check[\"404\"]    # => 400\n",
    "puts code_check[\"201\"]    # => 200"
   ],
   "metadata": {
    "collapsed": false,
    "pycharm": {
     "name": "#%% code\n"
    }
   }
  },
  {
   "cell_type": "markdown",
   "metadata": {},
   "source": [
    "## Yield"
   ]
  },
  {
   "cell_type": "markdown",
   "metadata": {},
   "source": [
    "Eine yield-Funktion, die das Yield mehrmals aufruft:"
   ]
  },
  {
   "cell_type": "code",
   "execution_count": null,
   "outputs": [],
   "source": [
    "def print_twice\n",
    " yield\n",
    " yield\n",
    "end\n",
    "\n",
    "print_twice { puts \"Hello!\" }"
   ],
   "metadata": {
    "collapsed": false,
    "pycharm": {
     "name": "#%% code\n"
    }
   }
  },
  {
   "cell_type": "markdown",
   "source": [
    "Yield Aufruf mit Argumenten:"
   ],
   "metadata": {
    "collapsed": false
   }
  },
  {
   "cell_type": "code",
   "execution_count": null,
   "outputs": [],
   "source": [
    "def one_two_three\n",
    " yield 1\n",
    " yield 2\n",
    " yield 3\n",
    "end\n",
    "\n",
    "one_two_three { |number| puts number * 10 }"
   ],
   "metadata": {
    "collapsed": false,
    "pycharm": {
     "name": "#%% code\n"
    }
   }
  },
  {
   "cell_type": "markdown",
   "source": [
    "Yield Aufruf mit Überprüfung ob yield-Block übergeben wurde:"
   ],
   "metadata": {
    "collapsed": false
   }
  },
  {
   "cell_type": "code",
   "execution_count": null,
   "outputs": [],
   "source": [
    "def check_block\n",
    "  return \"No block given\" unless block_given?\n",
    "  yield\n",
    "end"
   ],
   "metadata": {
    "collapsed": false,
    "pycharm": {
     "name": "#%% code\n"
    }
   }
  },
  {
   "cell_type": "markdown",
   "source": [
    "Yield Aufruf nur wenn yield-Block übergeben wurde:"
   ],
   "metadata": {
    "collapsed": false
   }
  },
  {
   "cell_type": "code",
   "execution_count": null,
   "outputs": [],
   "source": [
    "def optional_block\n",
    "  yield if block_given?\n",
    "end"
   ],
   "metadata": {
    "collapsed": false,
    "pycharm": {
     "name": "#%% code\n"
    }
   }
  },
  {
   "cell_type": "markdown",
   "source": [
    "## Explicite Block"
   ],
   "metadata": {
    "collapsed": false
   }
  },
  {
   "cell_type": "markdown",
   "source": [
    "Ein einfaches Lambda Beispiel aber mit einem expliziten Block geschrieben:"
   ],
   "metadata": {
    "collapsed": false
   }
  },
  {
   "cell_type": "code",
   "execution_count": null,
   "outputs": [],
   "source": [
    "def explicit_block(&block)\n",
    " block.call\n",
    "end\n",
    "\n",
    "explicit_block { puts \"Explicit block called\" }"
   ],
   "metadata": {
    "collapsed": false,
    "pycharm": {
     "name": "#%% code\n"
    }
   }
  },
  {
   "cell_type": "markdown",
   "metadata": {},
   "source": [
    "## Yield_Self"
   ]
  },
  {
   "cell_type": "markdown",
   "metadata": {},
   "source": [
    "Beispiel für yield_self, das eine Zahl quadriert:"
   ]
  },
  {
   "cell_type": "code",
   "execution_count": null,
   "outputs": [],
   "source": [
    "n_squared = -> (n) { n ** 2 }\n",
    "\n",
    "2.yield_self(&n_squared).yield_self(&n_squared)\n",
    "# 16"
   ],
   "metadata": {
    "collapsed": false,
    "pycharm": {
     "name": "#%% code\n"
    }
   }
  },
  {
   "cell_type": "markdown",
   "metadata": {},
   "source": [
    "## Yield Beispiel"
   ]
  },
  {
   "cell_type": "markdown",
   "metadata": {},
   "source": [
    "Eigene Map Methode:"
   ]
  },
  {
   "cell_type": "code",
   "execution_count": null,
   "outputs": [],
   "source": [
    "class Array \n",
    " def my_map \n",
    "  return self.dup unless block_given? # Überprüfung des Block\n",
    "  ary = []  # temporäres Array\n",
    "  \n",
    "  # Iteration über alle Elemente der Elternklasse\n",
    "  self.each do |elem| \n",
    "   ary << yield(elem) # Push Element in Array\n",
    "  end\n",
    "  \n",
    "  ary # return Array\n",
    " end\n",
    "end\n",
    "\n",
    "array.my_map { |n| n + 2 }"
   ],
   "metadata": {
    "collapsed": false,
    "pycharm": {
     "name": "#%% code\n"
    }
   }
  }
 ],
 "metadata": {
  "language_info": {
   "name": "python"
  },
  "orig_nbformat": 4
 },
 "nbformat": 4,
 "nbformat_minor": 2
}