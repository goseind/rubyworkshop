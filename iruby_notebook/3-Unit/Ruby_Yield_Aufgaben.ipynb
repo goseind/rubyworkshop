{
   "cells":[
      {
         "cell_type":"markdown",
         "metadata":{
            "id":"HW_UBJF9uwQ7"
         },
         "source":[
            "# Übungen: Lambda"
         ]
      },
      {
         "cell_type":"markdown",
         "metadata":{
            "id":"9r6YA9OTwWzv"
         },
         "source":[
            "1. Schreibe ein Funktion, die ein 2 mal einen yield Aufruf macht, dazwischen soll eine weiterer String ausgegeben werden."
         ]
      },
      {
         "cell_type":"code",
         "execution_count":null,
         "metadata":{
            "id":"lWn9tHm3xmIo"
         },
         "outputs":[
            
         ],
         "source":[
            "def call_twice\n",
            " puts \"In the call_twice method\"\n",
            " # using yield keyword\n",
            " yield\n",
            " puts \"Again from the call_twice method\"\n",
            " yield\n",
            "end\n",
            "call_twice {puts \"This is a block\"}"
         ]
      },
      {
         "cell_type":"markdown",
         "metadata":{
            "id":"9r6YA9OTwWzv"
         },
         "source":[
            "2. Schreibe eine Funktion die den Rückgabewert des yields ausgibt."
         ]
      },
      {
         "cell_type":"code",
         "execution_count":null,
         "metadata":{
            "id":"lWn9tHm3xmIo"
         },
         "outputs":[
            
         ],
         "source":[
            "def yield_with_return_value\n",
            "  hello_world = yield\n",
            "  puts hello_world\n",
            "end\n",
            "yield_with_return_value { \"Hello World!\" } # => Hello World!"
         ]
      },
      {
         "cell_type":"markdown",
         "metadata":{
            "id":"9r6YA9OTwWzv"
         },
         "source":[
            "3. Schreibe eine Funktion, die ein yield mit einem Parameter aufruft."
         ]
      },
      {
         "cell_type":"code",
         "execution_count":null,
         "metadata":{
            "id":"lWn9tHm3xmIo"
         },
         "outputs":[
            
         ],
         "source":[
            "def calc\n",
            " # yield Keyword mit Parameterübergabe\n",
            "   yield 2*3\n",
            "   puts \"In the method calc\"\n",
            "   yield 100\n",
            "end\n",
            "# Aufruf der Funktion mit yield block\n",
            "calc {|i| puts \"calc #{i}\"}"
         ]
      },
      {
         "cell_type":"markdown",
         "metadata":{
            "id":"9r6YA9OTwWzv"
         },
         "source":[
            "4. Beim Definieren einer Methode und innerhalb der Methode soll yield mit 2 Parametern aufgerufen werden."
         ]
      },
      {
         "cell_type":"code",
         "execution_count":null,
         "metadata":{
            "id":"lWn9tHm3xmIo"
         },
         "outputs":[
            
         ],
         "source":[
            "def arithmetic(a, b)\n",
            " # yield mit 2 Parametern\n",
            " yield(a, b)\n",
            "end\n",
            "# addition of two number\n",
            "puts \"The sum of the two numbers is #{arithmetic(8, 2) { |a, b| a + b }}\""
         ]
      },
      {
         "cell_type":"markdown",
         "metadata":{
            "id":"9r6YA9OTwWzv"
         },
         "source":[
            "5. Wenn yield aufgerufen wird, benötigt diese Methode einen block.\n",
            "Schreibe eine Funktion die sowohl mit, als auch ohne Parameter funktioniert."
         ]
      },
      {
         "cell_type":"code",
         "execution_count":null,
         "metadata":{
            "id":"lWn9tHm3xmIo"
         },
         "outputs":[
            
         ],
         "source":[
            "def optional_block\n",
            "  yield if block_given?\n",
            "end\n",
            "optional_block # => nil\n",
            "optional_block { puts 'optional block' }"
         ]
      }
   ],
   "metadata":{
      "colab":{
         "collapsed_sections":[
            
         ],
         "name":"Ruby Lambda.ipynb",
         "provenance":[
            
         ]
      },
      "kernelspec":{
         "display_name":"Python 3",
         "name":"python3"
      },
      "language_info":{
         "name":"python"
      }
   },
   "nbformat":4,
   "nbformat_minor":0
}