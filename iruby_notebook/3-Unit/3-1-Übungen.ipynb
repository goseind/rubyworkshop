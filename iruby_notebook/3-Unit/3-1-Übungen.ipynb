{
  "cells": [
    {
      "cell_type": "markdown",
      "metadata": {
        "id": "Q3oONLr6VQFu"
      },
      "source": [
        "# Themenblock 3 - Teil 1\n",
        "# Übung"
      ]
    },
    {
      "cell_type": "markdown",
      "metadata": {
        "id": "kzcoAvCOXxUc"
      },
      "source": [
        "1. Dateien erstellen und lesen\n",
        "\n",
        "> a) Erstelle ein Verzeichnis mit dem Namen \"Dateimanagement\".  \n",
        "\n",
        "> b) Erstelle darin ein Datei mit dem Namen \"First_File.txt\".  \n",
        "\n",
        "> c) Öffne die Datei und schaue, ob sie geöffnet ist.  \n",
        "\n",
        "> d) Beschreibe die Datei mit mindestens 3 Zeilen\n",
        "\n",
        "> e) Lese die Datei aus und achte darauf, dass...  \n",
        ">> e1) Jede Zeile einzeln.  \n",
        "e2) Die komplette Datei auf einmal ausgegeben wird.\n",
        "\n",
        "> f) Prüfe, ...\n",
        ">> f1) ob die Datei existiert.  \n",
        "f2) den Typ der Datei.  \n",
        "f3) den Typ des Ordners.  \n",
        "f4) die Größe der Datei"
      ]
    },
    {
      "cell_type": "code",
      "execution_count": null,
      "metadata": {
        "id": "yV0quggOW1wG"
      },
      "outputs": [],
      "source": [
        "# code"
      ]
    }
  ],
  "metadata": {
    "colab": {
      "collapsed_sections": [],
      "name": "Ruby Files Aufgaben.ipynb",
      "provenance": []
    },
    "kernelspec": {
      "display_name": "Python 3",
      "name": "python3"
    },
    "language_info": {
      "name": "python"
    }
  },
  "nbformat": 4,
  "nbformat_minor": 0
}
